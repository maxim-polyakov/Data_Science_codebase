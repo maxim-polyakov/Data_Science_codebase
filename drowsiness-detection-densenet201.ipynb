{
 "metadata": {
  "kernelspec": {
   "language": "python",
   "display_name": "Python 3",
   "name": "python3"
  },
  "language_info": {
   "name": "python",
   "version": "3.7.12",
   "mimetype": "text/x-python",
   "codemirror_mode": {
    "name": "ipython",
    "version": 3
   },
   "pygments_lexer": "ipython3",
   "nbconvert_exporter": "python",
   "file_extension": ".py"
  }
 },
 "nbformat_minor": 4,
 "nbformat": 4,
 "cells": [
  {
   "cell_type": "code",
   "source": [
    "import tensorflow as tf\n",
    "from tensorflow.keras.applications import DenseNet201\n",
    "from tensorflow.keras.layers import Dropout,Input,Flatten,Dense,MaxPooling2D\n",
    "from tensorflow.keras.preprocessing.image import ImageDataGenerator  # Data Augumentation"
   ],
   "metadata": {
    "execution": {
     "iopub.status.busy": "2022-12-09T04:59:10.440750Z",
     "iopub.execute_input": "2022-12-09T04:59:10.441254Z",
     "iopub.status.idle": "2022-12-09T04:59:10.448645Z",
     "shell.execute_reply.started": "2022-12-09T04:59:10.441218Z",
     "shell.execute_reply": "2022-12-09T04:59:10.447456Z"
    },
    "trusted": true
   },
   "execution_count": 15,
   "outputs": []
  },
  {
   "cell_type": "code",
   "source": [
    "bs = 128"
   ],
   "metadata": {
    "execution": {
     "iopub.status.busy": "2022-12-09T04:59:10.450913Z",
     "iopub.execute_input": "2022-12-09T04:59:10.451919Z",
     "iopub.status.idle": "2022-12-09T04:59:10.460668Z",
     "shell.execute_reply.started": "2022-12-09T04:59:10.451875Z",
     "shell.execute_reply": "2022-12-09T04:59:10.459267Z"
    },
    "trusted": true
   },
   "execution_count": 16,
   "outputs": []
  },
  {
   "cell_type": "code",
   "source": [
    "train_datagen= ImageDataGenerator(rescale=1/255, rotation_range=0.2,shear_range=0.2,\n",
    "    zoom_range=0.2,width_shift_range=0.2,\n",
    "    height_shift_range=0.2, validation_split=0.2)\n",
    "train= train_datagen.flow_from_directory(r'/kaggle/input/mrl-eye-dataset/data/train',\n",
    "                                target_size=(224,224),batch_size=bs,class_mode='categorical',\n",
    "                                              seed=42,subset='training',interpolation='nearest',shuffle=True)\n",
    "valid= train_datagen.flow_from_directory(r'/kaggle/input/mrl-eye-dataset/data/train',\n",
    "                                target_size=(224,224),batch_size=bs,class_mode='categorical',\n",
    "                                                   seed=42,subset='validation',interpolation='nearest',shuffle=True)"
   ],
   "metadata": {
    "execution": {
     "iopub.status.busy": "2022-12-09T04:59:10.462511Z",
     "iopub.execute_input": "2022-12-09T04:59:10.463239Z",
     "iopub.status.idle": "2022-12-09T05:00:18.138281Z",
     "shell.execute_reply.started": "2022-12-09T04:59:10.463189Z",
     "shell.execute_reply": "2022-12-09T05:00:18.137095Z"
    },
    "trusted": true
   },
   "execution_count": 17,
   "outputs": [
    {
     "name": "stdout",
     "text": "Found 65340 images belonging to 2 classes.\nFound 16335 images belonging to 2 classes.\n",
     "output_type": "stream"
    }
   ]
  },
  {
   "cell_type": "code",
   "source": [
    "test_datagen = ImageDataGenerator(rescale=1/255)\n",
    "\n",
    "test= test_datagen.flow_from_directory(r'/kaggle/input/mrl-eye-dataset/data/test',\n",
    "                                target_size=(224,224),batch_size=bs,class_mode='categorical',\n",
    "                                            seed=None,interpolation='nearest',shuffle=True)"
   ],
   "metadata": {
    "execution": {
     "iopub.status.busy": "2022-12-09T05:00:18.140965Z",
     "iopub.execute_input": "2022-12-09T05:00:18.141895Z",
     "iopub.status.idle": "2022-12-09T05:00:19.749894Z",
     "shell.execute_reply.started": "2022-12-09T05:00:18.141852Z",
     "shell.execute_reply": "2022-12-09T05:00:19.748713Z"
    },
    "trusted": true
   },
   "execution_count": 18,
   "outputs": [
    {
     "name": "stdout",
     "text": "Found 3223 images belonging to 2 classes.\n",
     "output_type": "stream"
    }
   ]
  },
  {
   "cell_type": "code",
   "source": [
    "# bmodel = DenseNet201(include_top=False,weights='imagenet',pooling=max,input_tensor=Input(shape=(224,224,3)))\n",
    "# hmodel = bmodel.output\n",
    "# hmodel = Flatten()(hmodel)\n",
    "# hmodel = Dense(128, activation='relu')(hmodel)\n",
    "# hmodel = Dropout(0.3)(hmodel)\n",
    "# hmodel = Dense(2,activation= 'softmax')(hmodel)\n",
    "\n",
    "# from tensorflow.keras.models import Model\n",
    "# model = Model(inputs=bmodel.input, outputs= hmodel)\n",
    "# for layer in bmodel.layers:\n",
    "#     layer.trainable = False"
   ],
   "metadata": {
    "execution": {
     "iopub.status.busy": "2022-12-09T05:00:19.752144Z",
     "iopub.execute_input": "2022-12-09T05:00:19.752599Z",
     "iopub.status.idle": "2022-12-09T05:00:19.757724Z",
     "shell.execute_reply.started": "2022-12-09T05:00:19.752556Z",
     "shell.execute_reply": "2022-12-09T05:00:19.756556Z"
    },
    "trusted": true
   },
   "execution_count": 19,
   "outputs": []
  },
  {
   "cell_type": "code",
   "source": [
    "from tensorflow.keras.models import Sequential"
   ],
   "metadata": {
    "execution": {
     "iopub.status.busy": "2022-12-09T05:00:19.759520Z",
     "iopub.execute_input": "2022-12-09T05:00:19.760235Z",
     "iopub.status.idle": "2022-12-09T05:00:19.769783Z",
     "shell.execute_reply.started": "2022-12-09T05:00:19.760191Z",
     "shell.execute_reply": "2022-12-09T05:00:19.768724Z"
    },
    "trusted": true
   },
   "execution_count": 20,
   "outputs": []
  },
  {
   "cell_type": "code",
   "source": [
    "model = Sequential()\n",
    "\n",
    "pretrained_model= DenseNet201(include_top=False,\n",
    "                   input_shape=(224,224,3),\n",
    "                   pooling='avg',classes=5,\n",
    "                   weights='imagenet')\n",
    "for layer in pretrained_model.layers:\n",
    "        layer.trainable=False\n",
    "\n",
    "model.add(pretrained_model)\n",
    "model.add(Flatten())\n",
    "model.add(Dense(512, activation='relu'))\n",
    "model.add(Dense(2, activation='softmax'))"
   ],
   "metadata": {
    "execution": {
     "iopub.status.busy": "2022-12-09T05:00:19.771762Z",
     "iopub.execute_input": "2022-12-09T05:00:19.772278Z",
     "iopub.status.idle": "2022-12-09T05:00:27.237574Z",
     "shell.execute_reply.started": "2022-12-09T05:00:19.772231Z",
     "shell.execute_reply": "2022-12-09T05:00:27.236431Z"
    },
    "trusted": true
   },
   "execution_count": 21,
   "outputs": []
  },
  {
   "cell_type": "code",
   "source": [
    "model.summary()"
   ],
   "metadata": {
    "execution": {
     "iopub.status.busy": "2022-12-09T05:00:27.239207Z",
     "iopub.execute_input": "2022-12-09T05:00:27.239861Z",
     "iopub.status.idle": "2022-12-09T05:00:27.283349Z",
     "shell.execute_reply.started": "2022-12-09T05:00:27.239819Z",
     "shell.execute_reply": "2022-12-09T05:00:27.282046Z"
    },
    "trusted": true
   },
   "execution_count": 22,
   "outputs": [
    {
     "name": "stdout",
     "text": "Model: \"sequential_2\"\n_________________________________________________________________\nLayer (type)                 Output Shape              Param #   \n=================================================================\ndensenet201 (Functional)     (None, 1920)              18321984  \n_________________________________________________________________\nflatten_2 (Flatten)          (None, 1920)              0         \n_________________________________________________________________\ndense_4 (Dense)              (None, 512)               983552    \n_________________________________________________________________\ndense_5 (Dense)              (None, 2)                 1026      \n=================================================================\nTotal params: 19,306,562\nTrainable params: 984,578\nNon-trainable params: 18,321,984\n_________________________________________________________________\n",
     "output_type": "stream"
    }
   ]
  },
  {
   "cell_type": "code",
   "source": [
    "from tensorflow.keras.callbacks import ModelCheckpoint,EarlyStopping,ReduceLROnPlateau"
   ],
   "metadata": {
    "execution": {
     "iopub.status.busy": "2022-12-09T05:00:27.287139Z",
     "iopub.execute_input": "2022-12-09T05:00:27.287605Z",
     "iopub.status.idle": "2022-12-09T05:00:27.292958Z",
     "shell.execute_reply.started": "2022-12-09T05:00:27.287562Z",
     "shell.execute_reply": "2022-12-09T05:00:27.291568Z"
    },
    "trusted": true
   },
   "execution_count": 23,
   "outputs": []
  },
  {
   "cell_type": "code",
   "source": [
    "#pip install livelossplot"
   ],
   "metadata": {
    "execution": {
     "iopub.status.busy": "2022-12-09T05:00:27.294780Z",
     "iopub.execute_input": "2022-12-09T05:00:27.295735Z",
     "iopub.status.idle": "2022-12-09T05:00:27.311522Z",
     "shell.execute_reply.started": "2022-12-09T05:00:27.295694Z",
     "shell.execute_reply": "2022-12-09T05:00:27.310294Z"
    },
    "trusted": true
   },
   "execution_count": 24,
   "outputs": []
  },
  {
   "cell_type": "code",
   "source": [
    "from livelossplot.inputs.keras import PlotLossesCallback\n",
    "\n",
    "plot_loss = PlotLossesCallback()\n",
    "\n",
    "check_pt = ModelCheckpoint(r'/kaggle/working/model.h5', \n",
    "                           monitor='val_loss', save_best_only=True, verbose=3)\n",
    "early_st = EarlyStopping(monitor='val_loss', patience=3, verbose=3, restore_best_weights=True)\n",
    "learn_rt =  ReduceLROnPlateau(monitor='val_loss', patience=2, verbose=3)\n",
    "callbacks =[check_pt,early_st,learn_rt,plot_loss]"
   ],
   "metadata": {
    "execution": {
     "iopub.status.busy": "2022-12-09T05:00:27.314808Z",
     "iopub.execute_input": "2022-12-09T05:00:27.315630Z",
     "iopub.status.idle": "2022-12-09T05:00:27.336422Z",
     "shell.execute_reply.started": "2022-12-09T05:00:27.315586Z",
     "shell.execute_reply": "2022-12-09T05:00:27.335148Z"
    },
    "trusted": true
   },
   "execution_count": 25,
   "outputs": []
  },
  {
   "cell_type": "code",
   "source": [
    "model.compile(optimizer='Adamax', loss='categorical_crossentropy',metrics=['accuracy'])\n",
    "\n",
    "model.fit(train,steps_per_epoch=train.samples//bs,\n",
    "                   validation_data=valid,\n",
    "                   validation_steps=valid.samples//bs,\n",
    "                    callbacks = callbacks, verbose=1,\n",
    "                    epochs=12)"
   ],
   "metadata": {
    "execution": {
     "iopub.status.busy": "2022-12-09T05:01:21.796552Z",
     "iopub.execute_input": "2022-12-09T05:01:21.796946Z",
     "iopub.status.idle": "2022-12-09T06:58:23.504042Z",
     "shell.execute_reply.started": "2022-12-09T05:01:21.796914Z",
     "shell.execute_reply": "2022-12-09T06:58:23.502958Z"
    },
    "trusted": true
   },
   "execution_count": 28,
   "outputs": [
    {
     "output_type": "display_data",
     "data": {
      "text/plain": "<Figure size 864x864 with 4 Axes>",
      "image/png": "[encoded data removed]"
     },
     "metadata": {
      "needs_background": "light"
     }
    },
    {
     "name": "stdout",
     "text": "accuracy\n\ttraining         \t (min:    0.942, max:    0.975, cur:    0.975)\n\tvalidation       \t (min:    0.926, max:    0.943, cur:    0.928)\nLoss\n\ttraining         \t (min:    0.070, max:    0.148, cur:    0.070)\n\tvalidation       \t (min:    0.162, max:    0.204, cur:    0.204)\nlr\n\tlr               \t (min:    0.000, max:    0.001, cur:    0.000)\nEpoch 00005: early stopping\n",
     "output_type": "stream"
    },
    {
     "execution_count": 28,
     "output_type": "execute_result",
     "data": {
      "text/plain": "<keras.callbacks.History at 0x7fc7cf8c7190>"
     },
     "metadata": {}
    }
   ]
  },
  {
   "cell_type": "code",
   "source": [
    "model.evaluate(test)"
   ],
   "metadata": {
    "execution": {
     "iopub.status.busy": "2022-12-09T06:59:15.840273Z",
     "iopub.execute_input": "2022-12-09T06:59:15.840806Z",
     "iopub.status.idle": "2022-12-09T06:59:44.393498Z",
     "shell.execute_reply.started": "2022-12-09T06:59:15.840772Z",
     "shell.execute_reply": "2022-12-09T06:59:44.392193Z"
    },
    "trusted": true
   },
   "execution_count": 29,
   "outputs": [
    {
     "name": "stdout",
     "text": "26/26 [==============================] - 28s 1s/step - loss: 0.2156 - accuracy: 0.9131\n",
     "output_type": "stream"
    },
    {
     "execution_count": 29,
     "output_type": "execute_result",
     "data": {
      "text/plain": "[0.21559517085552216, 0.9131244421005249]"
     },
     "metadata": {}
    }
   ]
  },
  {
   "cell_type": "code",
   "source": [
    "model.evaluate(valid)"
   ],
   "metadata": {
    "execution": {
     "iopub.status.busy": "2022-12-09T07:05:51.289949Z",
     "iopub.execute_input": "2022-12-09T07:05:51.290365Z",
     "iopub.status.idle": "2022-12-09T07:10:14.949725Z",
     "shell.execute_reply.started": "2022-12-09T07:05:51.290331Z",
     "shell.execute_reply": "2022-12-09T07:10:14.948418Z"
    },
    "trusted": true
   },
   "execution_count": 30,
   "outputs": [
    {
     "name": "stdout",
     "text": "128/128 [==============================] - 261s 2s/step - loss: 0.1588 - accuracy: 0.9442\n",
     "output_type": "stream"
    },
    {
     "execution_count": 30,
     "output_type": "execute_result",
     "data": {
      "text/plain": "[0.158829003572464, 0.9442301988601685]"
     },
     "metadata": {}
    }
   ]
  },
  {
   "cell_type": "code",
   "source": [
    "model.evaluate(train)"
   ],
   "metadata": {
    "execution": {
     "iopub.status.busy": "2022-12-09T07:10:23.228096Z",
     "iopub.execute_input": "2022-12-09T07:10:23.228650Z",
     "iopub.status.idle": "2022-12-09T07:28:11.822962Z",
     "shell.execute_reply.started": "2022-12-09T07:10:23.228602Z",
     "shell.execute_reply": "2022-12-09T07:28:11.821814Z"
    },
    "trusted": true
   },
   "execution_count": 31,
   "outputs": [
    {
     "name": "stdout",
     "text": "511/511 [==============================] - 1066s 2s/step - loss: 0.0885 - accuracy: 0.9692\n",
     "output_type": "stream"
    },
    {
     "execution_count": 31,
     "output_type": "execute_result",
     "data": {
      "text/plain": "[0.0885154977440834, 0.9692225456237793]"
     },
     "metadata": {}
    }
   ]
  },
  {
   "cell_type": "code",
   "source": [],
   "metadata": {},
   "execution_count": null,
   "outputs": []
  }
 ]
}

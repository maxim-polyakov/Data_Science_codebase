{
 "cells": [
  {
   "cell_type": "code",
   "execution_count": 13,
   "outputs": [],
   "source": [
    "import numpy as np # linear algebra\n",
    "import pandas as pd # data processing, CSV file I/O (e.g. pd.read_csv)\n",
    "import matplotlib.pyplot as plt\n",
    "import seaborn as sns"
   ],
   "metadata": {
    "collapsed": false,
    "ExecuteTime": {
     "end_time": "2023-05-21T02:08:58.178146500Z",
     "start_time": "2023-05-21T02:08:58.167118Z"
    }
   }
  },
  {
   "cell_type": "code",
   "execution_count": 14,
   "outputs": [
    {
     "data": {
      "text/plain": "     Unnamed: 0                                         Hotel_name  \\\n0             0               Capital O 80951 Hotel Radisson Suite   \n1             1                OYO SilverKey Hotel Manas Residency   \n2             2  OYO Hotel Airport Metro Near Chhatrapati Shiva...   \n3             3  Collection O Hotel Kiwi International Near Chh...   \n4             4  OYO Druv's Taj Palace Near Chhatrapati Shivaji...   \n..          ...                                                ...   \n455         455                            Flagship New Silver Inn   \n456         456           Flagship Tinker Bell Near Acropolis Mall   \n457         457  OYO Flagship Hotel Suleman Palace Near St. Tho...   \n458         458  Flagship Rakhakali Guest House Fooding And Loding   \n459         459      Flagship Kajali Guest House Near Birla Mandir   \n\n                                              Location   Price Discount  \\\n0                                        India, Mumbai  2819.0  65% off   \n1                                 Chembur East, Mumbai  2702.0  65% off   \n2                                 Andheri East, Mumbai  2289.0  64% off   \n3                                 Andheri East, Mumbai  2094.0  66% off   \n4    Near Asalpha Metro Station, Dhumai Estate, Mumbai  2656.0  65% off   \n..                                                 ...     ...      ...   \n455                  Near Tagore Park, Tijala, Kolkata     NaN      NaN   \n456                                Mukundapur, Kolkata     NaN      NaN   \n457                                  Bux Lane, Kolkata     NaN      NaN   \n458     near Shalimar station ticket counter , Kolkata     NaN      NaN   \n459                     Near Bosepukur, Kasba, Kolkata     NaN      NaN   \n\n     Rating  \n0     104.0  \n1     410.0  \n2     879.0  \n3      75.0  \n4     686.0  \n..      ...  \n455     NaN  \n456     NaN  \n457     NaN  \n458     NaN  \n459     NaN  \n\n[460 rows x 6 columns]",
      "text/html": "<div>\n<style scoped>\n    .dataframe tbody tr th:only-of-type {\n        vertical-align: middle;\n    }\n\n    .dataframe tbody tr th {\n        vertical-align: top;\n    }\n\n    .dataframe thead th {\n        text-align: right;\n    }\n</style>\n<table border=\"1\" class=\"dataframe\">\n  <thead>\n    <tr style=\"text-align: right;\">\n      <th></th>\n      <th>Unnamed: 0</th>\n      <th>Hotel_name</th>\n      <th>Location</th>\n      <th>Price</th>\n      <th>Discount</th>\n      <th>Rating</th>\n    </tr>\n  </thead>\n  <tbody>\n    <tr>\n      <th>0</th>\n      <td>0</td>\n      <td>Capital O 80951 Hotel Radisson Suite</td>\n      <td>India, Mumbai</td>\n      <td>2819.0</td>\n      <td>65% off</td>\n      <td>104.0</td>\n    </tr>\n    <tr>\n      <th>1</th>\n      <td>1</td>\n      <td>OYO SilverKey Hotel Manas Residency</td>\n      <td>Chembur East, Mumbai</td>\n      <td>2702.0</td>\n      <td>65% off</td>\n      <td>410.0</td>\n    </tr>\n    <tr>\n      <th>2</th>\n      <td>2</td>\n      <td>OYO Hotel Airport Metro Near Chhatrapati Shiva...</td>\n      <td>Andheri East, Mumbai</td>\n      <td>2289.0</td>\n      <td>64% off</td>\n      <td>879.0</td>\n    </tr>\n    <tr>\n      <th>3</th>\n      <td>3</td>\n      <td>Collection O Hotel Kiwi International Near Chh...</td>\n      <td>Andheri East, Mumbai</td>\n      <td>2094.0</td>\n      <td>66% off</td>\n      <td>75.0</td>\n    </tr>\n    <tr>\n      <th>4</th>\n      <td>4</td>\n      <td>OYO Druv's Taj Palace Near Chhatrapati Shivaji...</td>\n      <td>Near Asalpha Metro Station, Dhumai Estate, Mumbai</td>\n      <td>2656.0</td>\n      <td>65% off</td>\n      <td>686.0</td>\n    </tr>\n    <tr>\n      <th>...</th>\n      <td>...</td>\n      <td>...</td>\n      <td>...</td>\n      <td>...</td>\n      <td>...</td>\n      <td>...</td>\n    </tr>\n    <tr>\n      <th>455</th>\n      <td>455</td>\n      <td>Flagship New Silver Inn</td>\n      <td>Near Tagore Park, Tijala, Kolkata</td>\n      <td>NaN</td>\n      <td>NaN</td>\n      <td>NaN</td>\n    </tr>\n    <tr>\n      <th>456</th>\n      <td>456</td>\n      <td>Flagship Tinker Bell Near Acropolis Mall</td>\n      <td>Mukundapur, Kolkata</td>\n      <td>NaN</td>\n      <td>NaN</td>\n      <td>NaN</td>\n    </tr>\n    <tr>\n      <th>457</th>\n      <td>457</td>\n      <td>OYO Flagship Hotel Suleman Palace Near St. Tho...</td>\n      <td>Bux Lane, Kolkata</td>\n      <td>NaN</td>\n      <td>NaN</td>\n      <td>NaN</td>\n    </tr>\n    <tr>\n      <th>458</th>\n      <td>458</td>\n      <td>Flagship Rakhakali Guest House Fooding And Loding</td>\n      <td>near Shalimar station ticket counter , Kolkata</td>\n      <td>NaN</td>\n      <td>NaN</td>\n      <td>NaN</td>\n    </tr>\n    <tr>\n      <th>459</th>\n      <td>459</td>\n      <td>Flagship Kajali Guest House Near Birla Mandir</td>\n      <td>Near Bosepukur, Kasba, Kolkata</td>\n      <td>NaN</td>\n      <td>NaN</td>\n      <td>NaN</td>\n    </tr>\n  </tbody>\n</table>\n<p>460 rows × 6 columns</p>\n</div>"
     },
     "execution_count": 14,
     "metadata": {},
     "output_type": "execute_result"
    }
   ],
   "source": [
    "data = pd.read_csv('../DataSets/OYO/OYO_HOTEL_ROOMS.csv')\n",
    "data"
   ],
   "metadata": {
    "collapsed": false,
    "ExecuteTime": {
     "end_time": "2023-05-21T02:08:58.504284900Z",
     "start_time": "2023-05-21T02:08:58.471802500Z"
    }
   }
  },
  {
   "cell_type": "code",
   "execution_count": 15,
   "outputs": [
    {
     "name": "stdout",
     "output_type": "stream",
     "text": [
      "<class 'pandas.core.frame.DataFrame'>\n",
      "RangeIndex: 460 entries, 0 to 459\n",
      "Data columns (total 6 columns):\n",
      " #   Column      Non-Null Count  Dtype  \n",
      "---  ------      --------------  -----  \n",
      " 0   Unnamed: 0  460 non-null    int64  \n",
      " 1   Hotel_name  460 non-null    object \n",
      " 2   Location    460 non-null    object \n",
      " 3   Price       418 non-null    float64\n",
      " 4   Discount    418 non-null    object \n",
      " 5   Rating      438 non-null    float64\n",
      "dtypes: float64(2), int64(1), object(3)\n",
      "memory usage: 21.7+ KB\n"
     ]
    }
   ],
   "source": [
    "data.info()"
   ],
   "metadata": {
    "collapsed": false,
    "ExecuteTime": {
     "end_time": "2023-05-21T02:09:05.529654500Z",
     "start_time": "2023-05-21T02:09:05.515627100Z"
    }
   }
  },
  {
   "cell_type": "code",
   "execution_count": 16,
   "outputs": [],
   "source": [
    "def preprocess_inputs(df):\n",
    "    df = df.copy()\n",
    "    dropcols = ['Unnamed: 0']\n",
    "    df = df.drop(dropcols, axis = 1)\n",
    "    df['City'] = df.Location.str.split(',').str[-1]\n",
    "    df['Discount'] = df['Discount'].fillna(df['Discount'].mode()[0]).str.split('%').str[0].astype('int')\n",
    "    df['Price'] = df['Price'].fillna(df['Price'].mean()).astype('int32')\n",
    "    df['Rating'] = df['Rating'].fillna(df['Rating'].mean()).astype('int32')\n",
    "\n",
    "    return df"
   ],
   "metadata": {
    "collapsed": false,
    "ExecuteTime": {
     "end_time": "2023-05-21T02:09:11.576701900Z",
     "start_time": "2023-05-21T02:09:11.551258600Z"
    }
   }
  },
  {
   "cell_type": "code",
   "execution_count": 17,
   "outputs": [
    {
     "data": {
      "text/plain": "                                            Hotel_name  \\\n0                 Capital O 80951 Hotel Radisson Suite   \n1                  OYO SilverKey Hotel Manas Residency   \n2    OYO Hotel Airport Metro Near Chhatrapati Shiva...   \n3    Collection O Hotel Kiwi International Near Chh...   \n4    OYO Druv's Taj Palace Near Chhatrapati Shivaji...   \n..                                                 ...   \n455                            Flagship New Silver Inn   \n456           Flagship Tinker Bell Near Acropolis Mall   \n457  OYO Flagship Hotel Suleman Palace Near St. Tho...   \n458  Flagship Rakhakali Guest House Fooding And Loding   \n459      Flagship Kajali Guest House Near Birla Mandir   \n\n                                              Location  Price  Discount  \\\n0                                        India, Mumbai   2819        65   \n1                                 Chembur East, Mumbai   2702        65   \n2                                 Andheri East, Mumbai   2289        64   \n3                                 Andheri East, Mumbai   2094        66   \n4    Near Asalpha Metro Station, Dhumai Estate, Mumbai   2656        65   \n..                                                 ...    ...       ...   \n455                  Near Tagore Park, Tijala, Kolkata   1290        65   \n456                                Mukundapur, Kolkata   1290        65   \n457                                  Bux Lane, Kolkata   1290        65   \n458     near Shalimar station ticket counter , Kolkata   1290        65   \n459                     Near Bosepukur, Kasba, Kolkata   1290        65   \n\n     Rating      City  \n0       104    Mumbai  \n1       410    Mumbai  \n2       879    Mumbai  \n3        75    Mumbai  \n4       686    Mumbai  \n..      ...       ...  \n455     620   Kolkata  \n456     620   Kolkata  \n457     620   Kolkata  \n458     620   Kolkata  \n459     620   Kolkata  \n\n[460 rows x 6 columns]",
      "text/html": "<div>\n<style scoped>\n    .dataframe tbody tr th:only-of-type {\n        vertical-align: middle;\n    }\n\n    .dataframe tbody tr th {\n        vertical-align: top;\n    }\n\n    .dataframe thead th {\n        text-align: right;\n    }\n</style>\n<table border=\"1\" class=\"dataframe\">\n  <thead>\n    <tr style=\"text-align: right;\">\n      <th></th>\n      <th>Hotel_name</th>\n      <th>Location</th>\n      <th>Price</th>\n      <th>Discount</th>\n      <th>Rating</th>\n      <th>City</th>\n    </tr>\n  </thead>\n  <tbody>\n    <tr>\n      <th>0</th>\n      <td>Capital O 80951 Hotel Radisson Suite</td>\n      <td>India, Mumbai</td>\n      <td>2819</td>\n      <td>65</td>\n      <td>104</td>\n      <td>Mumbai</td>\n    </tr>\n    <tr>\n      <th>1</th>\n      <td>OYO SilverKey Hotel Manas Residency</td>\n      <td>Chembur East, Mumbai</td>\n      <td>2702</td>\n      <td>65</td>\n      <td>410</td>\n      <td>Mumbai</td>\n    </tr>\n    <tr>\n      <th>2</th>\n      <td>OYO Hotel Airport Metro Near Chhatrapati Shiva...</td>\n      <td>Andheri East, Mumbai</td>\n      <td>2289</td>\n      <td>64</td>\n      <td>879</td>\n      <td>Mumbai</td>\n    </tr>\n    <tr>\n      <th>3</th>\n      <td>Collection O Hotel Kiwi International Near Chh...</td>\n      <td>Andheri East, Mumbai</td>\n      <td>2094</td>\n      <td>66</td>\n      <td>75</td>\n      <td>Mumbai</td>\n    </tr>\n    <tr>\n      <th>4</th>\n      <td>OYO Druv's Taj Palace Near Chhatrapati Shivaji...</td>\n      <td>Near Asalpha Metro Station, Dhumai Estate, Mumbai</td>\n      <td>2656</td>\n      <td>65</td>\n      <td>686</td>\n      <td>Mumbai</td>\n    </tr>\n    <tr>\n      <th>...</th>\n      <td>...</td>\n      <td>...</td>\n      <td>...</td>\n      <td>...</td>\n      <td>...</td>\n      <td>...</td>\n    </tr>\n    <tr>\n      <th>455</th>\n      <td>Flagship New Silver Inn</td>\n      <td>Near Tagore Park, Tijala, Kolkata</td>\n      <td>1290</td>\n      <td>65</td>\n      <td>620</td>\n      <td>Kolkata</td>\n    </tr>\n    <tr>\n      <th>456</th>\n      <td>Flagship Tinker Bell Near Acropolis Mall</td>\n      <td>Mukundapur, Kolkata</td>\n      <td>1290</td>\n      <td>65</td>\n      <td>620</td>\n      <td>Kolkata</td>\n    </tr>\n    <tr>\n      <th>457</th>\n      <td>OYO Flagship Hotel Suleman Palace Near St. Tho...</td>\n      <td>Bux Lane, Kolkata</td>\n      <td>1290</td>\n      <td>65</td>\n      <td>620</td>\n      <td>Kolkata</td>\n    </tr>\n    <tr>\n      <th>458</th>\n      <td>Flagship Rakhakali Guest House Fooding And Loding</td>\n      <td>near Shalimar station ticket counter , Kolkata</td>\n      <td>1290</td>\n      <td>65</td>\n      <td>620</td>\n      <td>Kolkata</td>\n    </tr>\n    <tr>\n      <th>459</th>\n      <td>Flagship Kajali Guest House Near Birla Mandir</td>\n      <td>Near Bosepukur, Kasba, Kolkata</td>\n      <td>1290</td>\n      <td>65</td>\n      <td>620</td>\n      <td>Kolkata</td>\n    </tr>\n  </tbody>\n</table>\n<p>460 rows × 6 columns</p>\n</div>"
     },
     "execution_count": 17,
     "metadata": {},
     "output_type": "execute_result"
    }
   ],
   "source": [
    "X = preprocess_inputs(data)\n",
    "X"
   ],
   "metadata": {
    "collapsed": false,
    "ExecuteTime": {
     "end_time": "2023-05-21T02:09:15.829720700Z",
     "start_time": "2023-05-21T02:09:15.801687Z"
    }
   }
  },
  {
   "cell_type": "code",
   "execution_count": 18,
   "outputs": [
    {
     "data": {
      "text/plain": "array([], dtype=object)"
     },
     "execution_count": 18,
     "metadata": {},
     "output_type": "execute_result"
    }
   ],
   "source": [
    "X.loc[X.City.isna()]['Location'].values"
   ],
   "metadata": {
    "collapsed": false,
    "ExecuteTime": {
     "end_time": "2023-05-21T02:09:21.920112600Z",
     "start_time": "2023-05-21T02:09:21.903110300Z"
    }
   }
  },
  {
   "cell_type": "code",
   "execution_count": 19,
   "outputs": [
    {
     "data": {
      "text/plain": "array([65, 64, 66, 67, 75, 77, 68, 70, 69, 85, 72, 47, 73, 76, 71, 80, 74,\n       79, 82, 59, 86, 61, 57])"
     },
     "execution_count": 19,
     "metadata": {},
     "output_type": "execute_result"
    }
   ],
   "source": [
    "X.Discount.unique()"
   ],
   "metadata": {
    "collapsed": false,
    "ExecuteTime": {
     "end_time": "2023-05-21T02:09:26.935307300Z",
     "start_time": "2023-05-21T02:09:26.916308600Z"
    }
   }
  },
  {
   "cell_type": "code",
   "execution_count": 20,
   "outputs": [
    {
     "data": {
      "text/plain": "                                                    Hotel_name  Location  \\\nCity                                                                       \n 9 No Water Tank  Karunamayee Bus Stop                       1         1   \n Acropolis Mall                                              1         1   \n Bangalore                                                 147       147   \n Banglore                                                    2         2   \n Belghoria Express Way Noapara & Baranagar Metr...           1         1   \n Bengaluru                                                   2         2   \n Delhi                                                     129       129   \n Delhi - 110055                                              2         2   \n Delhi C-61 Above SBI Bank                                   1         1   \n Gopalpur Village                                            1         1   \n Hebbal                                                      1         1   \n India Bangalore.                                            2         2   \n KAROL BAGH                                                  1         1   \n KOLKATA                                                     1         1   \n KOLKATA - 700052                                            1         1   \n Karnataka                                                   1         1   \n Kolkata                                                   101       101   \n Kolkata 700156                                              2         2   \n Kolkata 700157                                              3         3   \n Kolkata International Airport                               1         1   \n Kolkata Kolkata West Bengal India 700055                    1         1   \n Mumbai                                                     19        19   \n Narayantala                                                 1         1   \n Near Bangur Swimming Pool Jessore Road Diamond...           2         2   \n Near Science City                                           1         1   \n New Delhi                                                   2         2   \n Opposite Charnock Hospital                                  1         1   \n Rajarhat                                                    1         1   \n Salt Lake                                                   1         1   \n West Bengal                                                 3         3   \n West Bengal  700059                                         1         1   \n953 Purbachal Road adapt House Prince Park Kali...           1         1   \nAL283 Al block salt lake sector 2 KOLKATA.                   1         1   \nAbove Vishal Mega mart                                       1         1   \nAminia Restaurant Back Side Chinar Park Crossin...           1         1   \nAvisar Spencer Kalikapur                                     1         1   \nBangalore                                                    2         2   \nChinar Park Kolkata International Airport Besid...           2         2   \nChinarpark Amenia; Arsalan                                   1         1   \nD-75 near dilshad garden metro station                       1         1   \nDL-34 Karunamoyee Near Anandalok Hospital Bidha...           1         1   \nElliot Road Park Street Near Assembly Of God Ch...           2         2   \nFD 390 SECTOR 3 SALT LAKE CENTRAL PARK MANI SQU...           1         1   \nKaikhali Above IndusInd Bank ATM Kolkata Intern...           1         1   \nKanakpura main road metro pillar number 45 near...           1         1   \nKarnataka                                                    1         1   \nKolkata                                                      1         1   \nKolkata Opposite Bangladesh High Commission) Ne...           1         1   \nMukundapur Main Road Seven Maddox Square Multi ...           1         1   \nMumbai                                                       1         1   \nNear Karol Bagh Metro Station                                1         1   \nNear Karol bagh metro station                                1         1   \nNear Pitampura metro station                                 1         1   \nSANJHA CHULHA RESTAURANT SCIENCE CITY EM BYE PASS            1         1   \n\n                                                    Price  Discount  Rating  \nCity                                                                         \n 9 No Water Tank  Karunamayee Bus Stop                  1         1       1  \n Acropolis Mall                                         1         1       1  \n Bangalore                                            147       147     147  \n Banglore                                               2         2       2  \n Belghoria Express Way Noapara & Baranagar Metr...      1         1       1  \n Bengaluru                                              2         2       2  \n Delhi                                                129       129     129  \n Delhi - 110055                                         2         2       2  \n Delhi C-61 Above SBI Bank                              1         1       1  \n Gopalpur Village                                       1         1       1  \n Hebbal                                                 1         1       1  \n India Bangalore.                                       2         2       2  \n KAROL BAGH                                             1         1       1  \n KOLKATA                                                1         1       1  \n KOLKATA - 700052                                       1         1       1  \n Karnataka                                              1         1       1  \n Kolkata                                              101       101     101  \n Kolkata 700156                                         2         2       2  \n Kolkata 700157                                         3         3       3  \n Kolkata International Airport                          1         1       1  \n Kolkata Kolkata West Bengal India 700055               1         1       1  \n Mumbai                                                19        19      19  \n Narayantala                                            1         1       1  \n Near Bangur Swimming Pool Jessore Road Diamond...      2         2       2  \n Near Science City                                      1         1       1  \n New Delhi                                              2         2       2  \n Opposite Charnock Hospital                             1         1       1  \n Rajarhat                                               1         1       1  \n Salt Lake                                              1         1       1  \n West Bengal                                            3         3       3  \n West Bengal  700059                                    1         1       1  \n953 Purbachal Road adapt House Prince Park Kali...      1         1       1  \nAL283 Al block salt lake sector 2 KOLKATA.              1         1       1  \nAbove Vishal Mega mart                                  1         1       1  \nAminia Restaurant Back Side Chinar Park Crossin...      1         1       1  \nAvisar Spencer Kalikapur                                1         1       1  \nBangalore                                               2         2       2  \nChinar Park Kolkata International Airport Besid...      2         2       2  \nChinarpark Amenia; Arsalan                              1         1       1  \nD-75 near dilshad garden metro station                  1         1       1  \nDL-34 Karunamoyee Near Anandalok Hospital Bidha...      1         1       1  \nElliot Road Park Street Near Assembly Of God Ch...      2         2       2  \nFD 390 SECTOR 3 SALT LAKE CENTRAL PARK MANI SQU...      1         1       1  \nKaikhali Above IndusInd Bank ATM Kolkata Intern...      1         1       1  \nKanakpura main road metro pillar number 45 near...      1         1       1  \nKarnataka                                               1         1       1  \nKolkata                                                 1         1       1  \nKolkata Opposite Bangladesh High Commission) Ne...      1         1       1  \nMukundapur Main Road Seven Maddox Square Multi ...      1         1       1  \nMumbai                                                  1         1       1  \nNear Karol Bagh Metro Station                           1         1       1  \nNear Karol bagh metro station                           1         1       1  \nNear Pitampura metro station                            1         1       1  \nSANJHA CHULHA RESTAURANT SCIENCE CITY EM BYE PASS       1         1       1  ",
      "text/html": "<div>\n<style scoped>\n    .dataframe tbody tr th:only-of-type {\n        vertical-align: middle;\n    }\n\n    .dataframe tbody tr th {\n        vertical-align: top;\n    }\n\n    .dataframe thead th {\n        text-align: right;\n    }\n</style>\n<table border=\"1\" class=\"dataframe\">\n  <thead>\n    <tr style=\"text-align: right;\">\n      <th></th>\n      <th>Hotel_name</th>\n      <th>Location</th>\n      <th>Price</th>\n      <th>Discount</th>\n      <th>Rating</th>\n    </tr>\n    <tr>\n      <th>City</th>\n      <th></th>\n      <th></th>\n      <th></th>\n      <th></th>\n      <th></th>\n    </tr>\n  </thead>\n  <tbody>\n    <tr>\n      <th>9 No Water Tank  Karunamayee Bus Stop</th>\n      <td>1</td>\n      <td>1</td>\n      <td>1</td>\n      <td>1</td>\n      <td>1</td>\n    </tr>\n    <tr>\n      <th>Acropolis Mall</th>\n      <td>1</td>\n      <td>1</td>\n      <td>1</td>\n      <td>1</td>\n      <td>1</td>\n    </tr>\n    <tr>\n      <th>Bangalore</th>\n      <td>147</td>\n      <td>147</td>\n      <td>147</td>\n      <td>147</td>\n      <td>147</td>\n    </tr>\n    <tr>\n      <th>Banglore</th>\n      <td>2</td>\n      <td>2</td>\n      <td>2</td>\n      <td>2</td>\n      <td>2</td>\n    </tr>\n    <tr>\n      <th>Belghoria Express Way Noapara &amp; Baranagar Metro Station</th>\n      <td>1</td>\n      <td>1</td>\n      <td>1</td>\n      <td>1</td>\n      <td>1</td>\n    </tr>\n    <tr>\n      <th>Bengaluru</th>\n      <td>2</td>\n      <td>2</td>\n      <td>2</td>\n      <td>2</td>\n      <td>2</td>\n    </tr>\n    <tr>\n      <th>Delhi</th>\n      <td>129</td>\n      <td>129</td>\n      <td>129</td>\n      <td>129</td>\n      <td>129</td>\n    </tr>\n    <tr>\n      <th>Delhi - 110055</th>\n      <td>2</td>\n      <td>2</td>\n      <td>2</td>\n      <td>2</td>\n      <td>2</td>\n    </tr>\n    <tr>\n      <th>Delhi C-61 Above SBI Bank</th>\n      <td>1</td>\n      <td>1</td>\n      <td>1</td>\n      <td>1</td>\n      <td>1</td>\n    </tr>\n    <tr>\n      <th>Gopalpur Village</th>\n      <td>1</td>\n      <td>1</td>\n      <td>1</td>\n      <td>1</td>\n      <td>1</td>\n    </tr>\n    <tr>\n      <th>Hebbal</th>\n      <td>1</td>\n      <td>1</td>\n      <td>1</td>\n      <td>1</td>\n      <td>1</td>\n    </tr>\n    <tr>\n      <th>India Bangalore.</th>\n      <td>2</td>\n      <td>2</td>\n      <td>2</td>\n      <td>2</td>\n      <td>2</td>\n    </tr>\n    <tr>\n      <th>KAROL BAGH</th>\n      <td>1</td>\n      <td>1</td>\n      <td>1</td>\n      <td>1</td>\n      <td>1</td>\n    </tr>\n    <tr>\n      <th>KOLKATA</th>\n      <td>1</td>\n      <td>1</td>\n      <td>1</td>\n      <td>1</td>\n      <td>1</td>\n    </tr>\n    <tr>\n      <th>KOLKATA - 700052</th>\n      <td>1</td>\n      <td>1</td>\n      <td>1</td>\n      <td>1</td>\n      <td>1</td>\n    </tr>\n    <tr>\n      <th>Karnataka</th>\n      <td>1</td>\n      <td>1</td>\n      <td>1</td>\n      <td>1</td>\n      <td>1</td>\n    </tr>\n    <tr>\n      <th>Kolkata</th>\n      <td>101</td>\n      <td>101</td>\n      <td>101</td>\n      <td>101</td>\n      <td>101</td>\n    </tr>\n    <tr>\n      <th>Kolkata 700156</th>\n      <td>2</td>\n      <td>2</td>\n      <td>2</td>\n      <td>2</td>\n      <td>2</td>\n    </tr>\n    <tr>\n      <th>Kolkata 700157</th>\n      <td>3</td>\n      <td>3</td>\n      <td>3</td>\n      <td>3</td>\n      <td>3</td>\n    </tr>\n    <tr>\n      <th>Kolkata International Airport</th>\n      <td>1</td>\n      <td>1</td>\n      <td>1</td>\n      <td>1</td>\n      <td>1</td>\n    </tr>\n    <tr>\n      <th>Kolkata Kolkata West Bengal India 700055</th>\n      <td>1</td>\n      <td>1</td>\n      <td>1</td>\n      <td>1</td>\n      <td>1</td>\n    </tr>\n    <tr>\n      <th>Mumbai</th>\n      <td>19</td>\n      <td>19</td>\n      <td>19</td>\n      <td>19</td>\n      <td>19</td>\n    </tr>\n    <tr>\n      <th>Narayantala</th>\n      <td>1</td>\n      <td>1</td>\n      <td>1</td>\n      <td>1</td>\n      <td>1</td>\n    </tr>\n    <tr>\n      <th>Near Bangur Swimming Pool Jessore Road Diamond Plaza Mall Nagerbazar</th>\n      <td>2</td>\n      <td>2</td>\n      <td>2</td>\n      <td>2</td>\n      <td>2</td>\n    </tr>\n    <tr>\n      <th>Near Science City</th>\n      <td>1</td>\n      <td>1</td>\n      <td>1</td>\n      <td>1</td>\n      <td>1</td>\n    </tr>\n    <tr>\n      <th>New Delhi</th>\n      <td>2</td>\n      <td>2</td>\n      <td>2</td>\n      <td>2</td>\n      <td>2</td>\n    </tr>\n    <tr>\n      <th>Opposite Charnock Hospital</th>\n      <td>1</td>\n      <td>1</td>\n      <td>1</td>\n      <td>1</td>\n      <td>1</td>\n    </tr>\n    <tr>\n      <th>Rajarhat</th>\n      <td>1</td>\n      <td>1</td>\n      <td>1</td>\n      <td>1</td>\n      <td>1</td>\n    </tr>\n    <tr>\n      <th>Salt Lake</th>\n      <td>1</td>\n      <td>1</td>\n      <td>1</td>\n      <td>1</td>\n      <td>1</td>\n    </tr>\n    <tr>\n      <th>West Bengal</th>\n      <td>3</td>\n      <td>3</td>\n      <td>3</td>\n      <td>3</td>\n      <td>3</td>\n    </tr>\n    <tr>\n      <th>West Bengal  700059</th>\n      <td>1</td>\n      <td>1</td>\n      <td>1</td>\n      <td>1</td>\n      <td>1</td>\n    </tr>\n    <tr>\n      <th>953 Purbachal Road adapt House Prince Park Kalikapur  in lane between Tata chroma showroom &amp; Yamaha Moters Showroom</th>\n      <td>1</td>\n      <td>1</td>\n      <td>1</td>\n      <td>1</td>\n      <td>1</td>\n    </tr>\n    <tr>\n      <th>AL283 Al block salt lake sector 2 KOLKATA.</th>\n      <td>1</td>\n      <td>1</td>\n      <td>1</td>\n      <td>1</td>\n      <td>1</td>\n    </tr>\n    <tr>\n      <th>Above Vishal Mega mart</th>\n      <td>1</td>\n      <td>1</td>\n      <td>1</td>\n      <td>1</td>\n      <td>1</td>\n    </tr>\n    <tr>\n      <th>Aminia Restaurant Back Side Chinar Park Crossing Great Eastern Kolkata Airport</th>\n      <td>1</td>\n      <td>1</td>\n      <td>1</td>\n      <td>1</td>\n      <td>1</td>\n    </tr>\n    <tr>\n      <th>Avisar Spencer Kalikapur</th>\n      <td>1</td>\n      <td>1</td>\n      <td>1</td>\n      <td>1</td>\n      <td>1</td>\n    </tr>\n    <tr>\n      <th>Bangalore</th>\n      <td>2</td>\n      <td>2</td>\n      <td>2</td>\n      <td>2</td>\n      <td>2</td>\n    </tr>\n    <tr>\n      <th>Chinar Park Kolkata International Airport Beside Spencers Rajarhat Main Road</th>\n      <td>2</td>\n      <td>2</td>\n      <td>2</td>\n      <td>2</td>\n      <td>2</td>\n    </tr>\n    <tr>\n      <th>Chinarpark Amenia; Arsalan</th>\n      <td>1</td>\n      <td>1</td>\n      <td>1</td>\n      <td>1</td>\n      <td>1</td>\n    </tr>\n    <tr>\n      <th>D-75 near dilshad garden metro station</th>\n      <td>1</td>\n      <td>1</td>\n      <td>1</td>\n      <td>1</td>\n      <td>1</td>\n    </tr>\n    <tr>\n      <th>DL-34 Karunamoyee Near Anandalok Hospital Bidhannagar Saltlake</th>\n      <td>1</td>\n      <td>1</td>\n      <td>1</td>\n      <td>1</td>\n      <td>1</td>\n    </tr>\n    <tr>\n      <th>Elliot Road Park Street Near Assembly Of God Church Adjacent 144668:1076985</th>\n      <td>2</td>\n      <td>2</td>\n      <td>2</td>\n      <td>2</td>\n      <td>2</td>\n    </tr>\n    <tr>\n      <th>FD 390 SECTOR 3 SALT LAKE CENTRAL PARK MANI SQUARE CITY CENTRE 1</th>\n      <td>1</td>\n      <td>1</td>\n      <td>1</td>\n      <td>1</td>\n      <td>1</td>\n    </tr>\n    <tr>\n      <th>Kaikhali Above IndusInd Bank ATM Kolkata International Airport 02 Hotel VIP Road</th>\n      <td>1</td>\n      <td>1</td>\n      <td>1</td>\n      <td>1</td>\n      <td>1</td>\n    </tr>\n    <tr>\n      <th>Kanakpura main road metro pillar number 45 nearby Banashankari metro station JP Nagar</th>\n      <td>1</td>\n      <td>1</td>\n      <td>1</td>\n      <td>1</td>\n      <td>1</td>\n    </tr>\n    <tr>\n      <th>Karnataka</th>\n      <td>1</td>\n      <td>1</td>\n      <td>1</td>\n      <td>1</td>\n      <td>1</td>\n    </tr>\n    <tr>\n      <th>Kolkata</th>\n      <td>1</td>\n      <td>1</td>\n      <td>1</td>\n      <td>1</td>\n      <td>1</td>\n    </tr>\n    <tr>\n      <th>Kolkata Opposite Bangladesh High Commission) Near A.J.C Bose Flyover</th>\n      <td>1</td>\n      <td>1</td>\n      <td>1</td>\n      <td>1</td>\n      <td>1</td>\n    </tr>\n    <tr>\n      <th>Mukundapur Main Road Seven Maddox Square Multi cuisine Restaurant Kolkata EM Bye Pass Opposite Dr. Devi Shetty Hospital</th>\n      <td>1</td>\n      <td>1</td>\n      <td>1</td>\n      <td>1</td>\n      <td>1</td>\n    </tr>\n    <tr>\n      <th>Mumbai</th>\n      <td>1</td>\n      <td>1</td>\n      <td>1</td>\n      <td>1</td>\n      <td>1</td>\n    </tr>\n    <tr>\n      <th>Near Karol Bagh Metro Station</th>\n      <td>1</td>\n      <td>1</td>\n      <td>1</td>\n      <td>1</td>\n      <td>1</td>\n    </tr>\n    <tr>\n      <th>Near Karol bagh metro station</th>\n      <td>1</td>\n      <td>1</td>\n      <td>1</td>\n      <td>1</td>\n      <td>1</td>\n    </tr>\n    <tr>\n      <th>Near Pitampura metro station</th>\n      <td>1</td>\n      <td>1</td>\n      <td>1</td>\n      <td>1</td>\n      <td>1</td>\n    </tr>\n    <tr>\n      <th>SANJHA CHULHA RESTAURANT SCIENCE CITY EM BYE PASS</th>\n      <td>1</td>\n      <td>1</td>\n      <td>1</td>\n      <td>1</td>\n      <td>1</td>\n    </tr>\n  </tbody>\n</table>\n</div>"
     },
     "execution_count": 20,
     "metadata": {},
     "output_type": "execute_result"
    }
   ],
   "source": [
    "X.groupby('City').count()"
   ],
   "metadata": {
    "collapsed": false,
    "ExecuteTime": {
     "end_time": "2023-05-21T02:09:31.502328800Z",
     "start_time": "2023-05-21T02:09:31.449720900Z"
    }
   }
  },
  {
   "cell_type": "code",
   "execution_count": 21,
   "outputs": [],
   "source": [
    "# X.groupby('City').sum()"
   ],
   "metadata": {
    "collapsed": false,
    "ExecuteTime": {
     "end_time": "2023-05-21T02:09:38.668703700Z",
     "start_time": "2023-05-21T02:09:38.662736700Z"
    }
   }
  },
  {
   "cell_type": "code",
   "execution_count": 22,
   "outputs": [
    {
     "data": {
      "text/plain": "array([' Mumbai', 'Mumbai', ' Bangalore', ' Bengaluru',\n       ' India Bangalore.', 'Above Vishal Mega mart', 'Bangalore',\n       ' Hebbal', ' Banglore', 'Karnataka',\n       'Kanakpura main road metro pillar number 45 nearby Banashankari metro station JP Nagar',\n       ' Karnataka', ' Delhi', 'Near Karol Bagh Metro Station',\n       ' New Delhi', 'D-75 near dilshad garden metro station',\n       ' KAROL BAGH', 'Near Pitampura metro station', ' Delhi - 110055',\n       'Near Karol bagh metro station', ' Delhi C-61 Above SBI Bank',\n       ' Gopalpur Village', ' Kolkata', ' Acropolis Mall',\n       '953 Purbachal Road adapt House Prince Park Kalikapur  in lane between Tata chroma showroom & Yamaha Moters Showroom',\n       'DL-34 Karunamoyee Near Anandalok Hospital Bidhannagar Saltlake',\n       ' Narayantala', ' West Bengal',\n       ' Belghoria Express Way Noapara & Baranagar Metro Station',\n       'Kolkata', ' KOLKATA',\n       'Chinar Park Kolkata International Airport Beside Spencers Rajarhat Main Road',\n       'Mukundapur Main Road Seven Maddox Square Multi cuisine Restaurant Kolkata EM Bye Pass Opposite Dr. Devi Shetty Hospital',\n       'Chinarpark Amenia; Arsalan',\n       'Kolkata Opposite Bangladesh High Commission) Near A.J.C Bose Flyover',\n       ' Kolkata 700156',\n       'Kaikhali Above IndusInd Bank ATM Kolkata International Airport 02 Hotel VIP Road',\n       'FD 390 SECTOR 3 SALT LAKE CENTRAL PARK MANI SQUARE CITY CENTRE 1',\n       ' Opposite Charnock Hospital',\n       ' Near Bangur Swimming Pool Jessore Road Diamond Plaza Mall Nagerbazar ',\n       ' Kolkata 700157',\n       'Elliot Road Park Street Near Assembly Of God Church Adjacent 144668:1076985',\n       ' Near Science City', ' Kolkata International Airport',\n       'Aminia Restaurant Back Side Chinar Park Crossing Great Eastern Kolkata Airport',\n       ' Rajarhat', 'SANJHA CHULHA RESTAURANT SCIENCE CITY EM BYE PASS',\n       'Avisar Spencer Kalikapur', ' West Bengal  700059',\n       ' Kolkata Kolkata West Bengal India 700055',\n       'AL283 Al block salt lake sector 2 KOLKATA.', ' KOLKATA - 700052',\n       ' Salt Lake', ' 9 No Water Tank  Karunamayee Bus Stop'],\n      dtype=object)"
     },
     "execution_count": 22,
     "metadata": {},
     "output_type": "execute_result"
    }
   ],
   "source": [
    "X.City.unique()"
   ],
   "metadata": {
    "collapsed": false,
    "ExecuteTime": {
     "end_time": "2023-05-21T02:09:44.341006700Z",
     "start_time": "2023-05-21T02:09:44.322201200Z"
    }
   }
  },
  {
   "cell_type": "code",
   "execution_count": null,
   "outputs": [],
   "source": [],
   "metadata": {
    "collapsed": false
   }
  }
 ],
 "metadata": {
  "kernelspec": {
   "display_name": "Python 3",
   "language": "python",
   "name": "python3"
  },
  "language_info": {
   "codemirror_mode": {
    "name": "ipython",
    "version": 2
   },
   "file_extension": ".py",
   "mimetype": "text/x-python",
   "name": "python",
   "nbconvert_exporter": "python",
   "pygments_lexer": "ipython2",
   "version": "2.7.6"
  }
 },
 "nbformat": 4,
 "nbformat_minor": 0
}

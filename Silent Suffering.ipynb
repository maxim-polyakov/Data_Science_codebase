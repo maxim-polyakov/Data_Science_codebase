{
 "cells": [
  {
   "cell_type": "code",
   "execution_count": 7,
   "metadata": {
    "ExecuteTime": {
     "end_time": "2023-05-24T10:59:05.502198400Z",
     "start_time": "2023-05-24T10:59:05.487852Z"
    },
    "collapsed": true
   },
   "outputs": [],
   "source": [
    "# This Python 3 environment comes with many helpful analytics libraries installed\n",
    "# It is defined by the kaggle/python Docker image: https://github.com/kaggle/docker-python\n",
    "# For example, here's several helpful packages to load\n",
    "\n",
    "import numpy as np # linear algebra\n",
    "import pandas as pd # data processing, CSV file I/O (e.g. pd.read_csv)\n",
    "\n",
    "# Input data files are available in the read-only \"../input/\" directory\n",
    "# For example, running this (by clicking run or pressing Shift+Enter) will list all files under the input directory\n",
    "\n",
    "import os\n",
    "for dirname, _, filenames in os.walk('../DataSets'):\n",
    "    for filename in filenames:\n",
    "        print(os.path.join(dirname, filename))\n",
    "\n",
    "# You can write up to 20GB to the current directory (/kaggle/working/) that gets preserved as output when you create a version using \"Save & Run All\"\n",
    "# You can also write temporary files to /kaggle/temp/, but they won't be saved outside of the current session"
   ]
  },
  {
   "cell_type": "markdown",
   "metadata": {},
   "source": [
    "### Understanding Cyberbullying: Perceptions, Experiences, and Implications¶"
   ]
  },
  {
   "cell_type": "code",
   "execution_count": 8,
   "metadata": {
    "ExecuteTime": {
     "end_time": "2023-05-24T10:59:06.394355900Z",
     "start_time": "2023-05-24T10:59:06.386356600Z"
    }
   },
   "outputs": [],
   "source": [
    "#Importing libraries\n",
    "import pandas as pd\n",
    "import matplotlib.pyplot as plt\n",
    "import numpy as nm\n",
    "import seaborn as sns"
   ]
  },
  {
   "cell_type": "code",
   "execution_count": 9,
   "metadata": {
    "ExecuteTime": {
     "end_time": "2023-05-24T10:59:06.954605300Z",
     "start_time": "2023-05-24T10:59:06.904609400Z"
    }
   },
   "outputs": [
    {
     "data": {
      "text/html": [
       "<div>\n",
       "<style scoped>\n",
       "    .dataframe tbody tr th:only-of-type {\n",
       "        vertical-align: middle;\n",
       "    }\n",
       "\n",
       "    .dataframe tbody tr th {\n",
       "        vertical-align: top;\n",
       "    }\n",
       "\n",
       "    .dataframe thead th {\n",
       "        text-align: right;\n",
       "    }\n",
       "</style>\n",
       "<table border=\"1\" class=\"dataframe\">\n",
       "  <thead>\n",
       "    <tr style=\"text-align: right;\">\n",
       "      <th></th>\n",
       "      <th>Timestamp</th>\n",
       "      <th>Email Address</th>\n",
       "      <th>What's Your Age?</th>\n",
       "      <th>What do you consider as Cyber bullying?</th>\n",
       "      <th>What Age group of people are most Vulnerable to Cyber bullying</th>\n",
       "      <th>Have you ever been cyber bullied?</th>\n",
       "      <th>If Yes , What was the way you dealt with the same</th>\n",
       "      <th>What do you think made you the victim of cyber bullying?</th>\n",
       "      <th>What Platform according to you leads in cyber bullying</th>\n",
       "      <th>What type of people are usually the bullies on the internet?</th>\n",
       "      <th>Have You ever knowingly / Unknowingly bullied someone on the internet?</th>\n",
       "      <th>What lead you to bully someone ? ( if yes )</th>\n",
       "      <th>What kind of people are usually the victims of cyber-bullying?</th>\n",
       "      <th>What are the causes of cyber bullying according to you</th>\n",
       "      <th>What has more impact on an individual , Cyber Bullying or Bullying in real life ?</th>\n",
       "      <th>Who are bullies usually?</th>\n",
       "      <th>Youtube Roasting is a form of bullying. Do you agree ?</th>\n",
       "      <th>Your opinion on the dank communities on  the internet , usually involved in bullying?</th>\n",
       "    </tr>\n",
       "  </thead>\n",
       "  <tbody>\n",
       "    <tr>\n",
       "      <th>0</th>\n",
       "      <td>1/22/2022 11:39:31</td>\n",
       "      <td>armadhav2007@gmail.com</td>\n",
       "      <td>15 - 18</td>\n",
       "      <td>Hacking / Phishing your private details, Spamm...</td>\n",
       "      <td>19-30</td>\n",
       "      <td>No</td>\n",
       "      <td>NaN</td>\n",
       "      <td>NaN</td>\n",
       "      <td>Whatsapp / Email</td>\n",
       "      <td>for money</td>\n",
       "      <td>No</td>\n",
       "      <td>NaN</td>\n",
       "      <td>All of above</td>\n",
       "      <td>Lack of awareness</td>\n",
       "      <td>Cyber Bullying</td>\n",
       "      <td>Can be both</td>\n",
       "      <td>No</td>\n",
       "      <td>-</td>\n",
       "    </tr>\n",
       "    <tr>\n",
       "      <th>1</th>\n",
       "      <td>1/22/2022 11:40:39</td>\n",
       "      <td>nikhilkumar38674@gmail.com</td>\n",
       "      <td>Above 18</td>\n",
       "      <td>Hacking / Phishing your private details, Spamm...</td>\n",
       "      <td>equally vulnerable</td>\n",
       "      <td>No</td>\n",
       "      <td>NaN</td>\n",
       "      <td>NaN</td>\n",
       "      <td>Discord</td>\n",
       "      <td>computer friendly</td>\n",
       "      <td>Yes</td>\n",
       "      <td>privacy leak</td>\n",
       "      <td>People with Distinctive Physical appearance</td>\n",
       "      <td>Lack of awareness</td>\n",
       "      <td>equal impact</td>\n",
       "      <td>Can be both</td>\n",
       "      <td>Yes</td>\n",
       "      <td>no</td>\n",
       "    </tr>\n",
       "    <tr>\n",
       "      <th>2</th>\n",
       "      <td>1/22/2022 11:41:15</td>\n",
       "      <td>guptasayyam7@gmail.com</td>\n",
       "      <td>15 - 18</td>\n",
       "      <td>Spamming , Unlawfully morphing your images, Me...</td>\n",
       "      <td>15 - 18</td>\n",
       "      <td>Yes</td>\n",
       "      <td>Blocked / Reported The Bully</td>\n",
       "      <td>idk\\n</td>\n",
       "      <td>Discord</td>\n",
       "      <td>anyone can get cyber bullied</td>\n",
       "      <td>No</td>\n",
       "      <td>NaN</td>\n",
       "      <td>All of above</td>\n",
       "      <td>Lack of awareness</td>\n",
       "      <td>equal impact</td>\n",
       "      <td>Can be both</td>\n",
       "      <td>No</td>\n",
       "      <td>goverment should take a action</td>\n",
       "    </tr>\n",
       "    <tr>\n",
       "      <th>3</th>\n",
       "      <td>1/22/2022 11:41:57</td>\n",
       "      <td>sonaissuhani@gmail.com</td>\n",
       "      <td>15 - 18</td>\n",
       "      <td>Mean/Inappropriate Comments, Pranks Calls by s...</td>\n",
       "      <td>15 - 18</td>\n",
       "      <td>Yes</td>\n",
       "      <td>I was scared to do anything, Blocked / Reporte...</td>\n",
       "      <td>my immatureness</td>\n",
       "      <td>Instagram</td>\n",
       "      <td>people who are just useless and dont have anyt...</td>\n",
       "      <td>Yes</td>\n",
       "      <td>revenge to my bully</td>\n",
       "      <td>All of above</td>\n",
       "      <td>Lack of awareness</td>\n",
       "      <td>Cyber Bullying</td>\n",
       "      <td>A stranger</td>\n",
       "      <td>Yes</td>\n",
       "      <td>According to my opinion, not everyone likes ge...</td>\n",
       "    </tr>\n",
       "    <tr>\n",
       "      <th>4</th>\n",
       "      <td>1/22/2022 11:42:02</td>\n",
       "      <td>madmaxhu69@gmail.com</td>\n",
       "      <td>15 - 18</td>\n",
       "      <td>Mean/Inappropriate Comments, Spamming , Unlawf...</td>\n",
       "      <td>Below 15</td>\n",
       "      <td>No</td>\n",
       "      <td>Aaj mere paas bangla 🏢 hai, gadi hai 🚗, bank-b...</td>\n",
       "      <td>Kanta 🪡 Laga 🤧 Ooi 🥴 Maa 😫\\nOoi 🥴Maa😫 Ooi 🥴Maa...</td>\n",
       "      <td>Hum💪🏻 tum mein😖 itne ched karenge 🙀👌🏻 ... ki c...</td>\n",
       "      <td>The one who ain't get attention irl and online</td>\n",
       "      <td>Yes</td>\n",
       "      <td>Are mozzer hu bhay</td>\n",
       "      <td>Influencers / Famous People</td>\n",
       "      <td>Sadism</td>\n",
       "      <td>Bullying in real life</td>\n",
       "      <td>Can be both</td>\n",
       "      <td>No</td>\n",
       "      <td>Ye gajar 🥕 hai 😮 lagta hai 🤔 abhi khanka 🍗 hai...</td>\n",
       "    </tr>\n",
       "  </tbody>\n",
       "</table>\n",
       "</div>"
      ],
      "text/plain": [
       "            Timestamp               Email Address What's Your Age?  \\\n",
       "0  1/22/2022 11:39:31      armadhav2007@gmail.com          15 - 18   \n",
       "1  1/22/2022 11:40:39  nikhilkumar38674@gmail.com         Above 18   \n",
       "2  1/22/2022 11:41:15      guptasayyam7@gmail.com          15 - 18   \n",
       "3  1/22/2022 11:41:57      sonaissuhani@gmail.com          15 - 18   \n",
       "4  1/22/2022 11:42:02        madmaxhu69@gmail.com          15 - 18   \n",
       "\n",
       "             What do you consider as Cyber bullying?  \\\n",
       "0  Hacking / Phishing your private details, Spamm...   \n",
       "1  Hacking / Phishing your private details, Spamm...   \n",
       "2  Spamming , Unlawfully morphing your images, Me...   \n",
       "3  Mean/Inappropriate Comments, Pranks Calls by s...   \n",
       "4  Mean/Inappropriate Comments, Spamming , Unlawf...   \n",
       "\n",
       "  What Age group of people are most Vulnerable to Cyber bullying  \\\n",
       "0                                              19-30               \n",
       "1                                 equally vulnerable               \n",
       "2                                            15 - 18               \n",
       "3                                            15 - 18               \n",
       "4                                           Below 15               \n",
       "\n",
       "  Have you ever been cyber bullied?  \\\n",
       "0                                No   \n",
       "1                                No   \n",
       "2                               Yes   \n",
       "3                               Yes   \n",
       "4                                No   \n",
       "\n",
       "   If Yes , What was the way you dealt with the same  \\\n",
       "0                                                NaN   \n",
       "1                                                NaN   \n",
       "2                       Blocked / Reported The Bully   \n",
       "3  I was scared to do anything, Blocked / Reporte...   \n",
       "4  Aaj mere paas bangla 🏢 hai, gadi hai 🚗, bank-b...   \n",
       "\n",
       "  What do you think made you the victim of cyber bullying?  \\\n",
       "0                                                NaN         \n",
       "1                                                NaN         \n",
       "2                                              idk\\n         \n",
       "3                                   my immatureness          \n",
       "4  Kanta 🪡 Laga 🤧 Ooi 🥴 Maa 😫\\nOoi 🥴Maa😫 Ooi 🥴Maa...         \n",
       "\n",
       "  What Platform according to you leads in cyber bullying  \\\n",
       "0                                   Whatsapp / Email       \n",
       "1                                            Discord       \n",
       "2                                            Discord       \n",
       "3                                          Instagram       \n",
       "4  Hum💪🏻 tum mein😖 itne ched karenge 🙀👌🏻 ... ki c...       \n",
       "\n",
       "  What type of people are usually the bullies on the internet?  \\\n",
       "0                                         for money              \n",
       "1                                  computer friendly             \n",
       "2                       anyone can get cyber bullied             \n",
       "3  people who are just useless and dont have anyt...             \n",
       "4     The one who ain't get attention irl and online             \n",
       "\n",
       "  Have You ever knowingly / Unknowingly bullied someone on the internet?  \\\n",
       "0                                                 No                       \n",
       "1                                                Yes                       \n",
       "2                                                 No                       \n",
       "3                                                Yes                       \n",
       "4                                                Yes                       \n",
       "\n",
       "  What lead you to bully someone ? ( if yes )  \\\n",
       "0                                         NaN   \n",
       "1                                privacy leak   \n",
       "2                                         NaN   \n",
       "3                         revenge to my bully   \n",
       "4                          Are mozzer hu bhay   \n",
       "\n",
       "  What kind of people are usually the victims of cyber-bullying?  \\\n",
       "0                                       All of above               \n",
       "1        People with Distinctive Physical appearance               \n",
       "2                                       All of above               \n",
       "3                                       All of above               \n",
       "4                        Influencers / Famous People               \n",
       "\n",
       "  What are the causes of cyber bullying according to you  \\\n",
       "0                                  Lack of awareness       \n",
       "1                                  Lack of awareness       \n",
       "2                                  Lack of awareness       \n",
       "3                                  Lack of awareness       \n",
       "4                                             Sadism       \n",
       "\n",
       "  What has more impact on an individual , Cyber Bullying or Bullying in real life ?  \\\n",
       "0                                     Cyber Bullying                                  \n",
       "1                                       equal impact                                  \n",
       "2                                       equal impact                                  \n",
       "3                                     Cyber Bullying                                  \n",
       "4                              Bullying in real life                                  \n",
       "\n",
       "  Who are bullies usually?  \\\n",
       "0              Can be both   \n",
       "1              Can be both   \n",
       "2              Can be both   \n",
       "3               A stranger   \n",
       "4              Can be both   \n",
       "\n",
       "  Youtube Roasting is a form of bullying. Do you agree ?  \\\n",
       "0                                                 No       \n",
       "1                                                Yes       \n",
       "2                                                 No       \n",
       "3                                                Yes       \n",
       "4                                                 No       \n",
       "\n",
       "  Your opinion on the dank communities on  the internet , usually involved in bullying?  \n",
       "0                                                  -                                     \n",
       "1                                                no                                      \n",
       "2                     goverment should take a action                                     \n",
       "3  According to my opinion, not everyone likes ge...                                     \n",
       "4  Ye gajar 🥕 hai 😮 lagta hai 🤔 abhi khanka 🍗 hai...                                     "
      ]
     },
     "execution_count": 9,
     "metadata": {},
     "output_type": "execute_result"
    }
   ],
   "source": [
    "# Importing Dataset\n",
    "df=pd.read_csv('../DataSets/Silent Suffering/data.csv')\n",
    "df.head()"
   ]
  },
  {
   "cell_type": "code",
   "execution_count": 10,
   "metadata": {
    "ExecuteTime": {
     "end_time": "2023-05-24T10:59:23.629862600Z",
     "start_time": "2023-05-24T10:59:23.622862500Z"
    }
   },
   "outputs": [
    {
     "data": {
      "text/plain": [
       "(68, 18)"
      ]
     },
     "execution_count": 10,
     "metadata": {},
     "output_type": "execute_result"
    }
   ],
   "source": [
    "df.shape"
   ]
  },
  {
   "cell_type": "code",
   "execution_count": 11,
   "metadata": {
    "ExecuteTime": {
     "end_time": "2023-05-24T10:59:27.761235500Z",
     "start_time": "2023-05-24T10:59:27.704206900Z"
    }
   },
   "outputs": [
    {
     "name": "stdout",
     "output_type": "stream",
     "text": [
      "<class 'pandas.core.frame.DataFrame'>\n",
      "RangeIndex: 68 entries, 0 to 67\n",
      "Data columns (total 18 columns):\n",
      " #   Column                                                                                 Non-Null Count  Dtype \n",
      "---  ------                                                                                 --------------  ----- \n",
      " 0   Timestamp                                                                              68 non-null     object\n",
      " 1   Email Address                                                                          68 non-null     object\n",
      " 2   What's Your Age?                                                                       68 non-null     object\n",
      " 3   What do you consider as Cyber bullying?                                                67 non-null     object\n",
      " 4   What Age group of people are most Vulnerable to Cyber bullying                         68 non-null     object\n",
      " 5   Have you ever been cyber bullied?                                                      68 non-null     object\n",
      " 6   If Yes , What was the way you dealt with the same                                      29 non-null     object\n",
      " 7   What do you think made you the victim of cyber bullying?                               25 non-null     object\n",
      " 8   What Platform according to you leads in cyber bullying                                 67 non-null     object\n",
      " 9   What type of people are usually the bullies on the internet?                           54 non-null     object\n",
      " 10  Have You ever knowingly / Unknowingly bullied someone on the internet?                 68 non-null     object\n",
      " 11  What lead you to bully someone ? ( if yes )                                            15 non-null     object\n",
      " 12  What kind of people are usually the victims of cyber-bullying?                         68 non-null     object\n",
      " 13  What are the causes of cyber bullying according to you                                 68 non-null     object\n",
      " 14  What has more impact on an individual , Cyber Bullying or Bullying in real life ?      68 non-null     object\n",
      " 15  Who are bullies usually?                                                               68 non-null     object\n",
      " 16  Youtube Roasting is a form of bullying. Do you agree ?                                 68 non-null     object\n",
      " 17  Your opinion on the dank communities on  the internet , usually involved in bullying?  68 non-null     object\n",
      "dtypes: object(18)\n",
      "memory usage: 9.7+ KB\n"
     ]
    }
   ],
   "source": [
    "df.info()"
   ]
  },
  {
   "cell_type": "code",
   "execution_count": 12,
   "metadata": {
    "ExecuteTime": {
     "end_time": "2023-05-24T10:59:33.566488400Z",
     "start_time": "2023-05-24T10:59:33.505487500Z"
    }
   },
   "outputs": [
    {
     "data": {
      "text/html": [
       "<div>\n",
       "<style scoped>\n",
       "    .dataframe tbody tr th:only-of-type {\n",
       "        vertical-align: middle;\n",
       "    }\n",
       "\n",
       "    .dataframe tbody tr th {\n",
       "        vertical-align: top;\n",
       "    }\n",
       "\n",
       "    .dataframe thead th {\n",
       "        text-align: right;\n",
       "    }\n",
       "</style>\n",
       "<table border=\"1\" class=\"dataframe\">\n",
       "  <thead>\n",
       "    <tr style=\"text-align: right;\">\n",
       "      <th></th>\n",
       "      <th>Timestamp</th>\n",
       "      <th>Email Address</th>\n",
       "      <th>What's Your Age?</th>\n",
       "      <th>What do you consider as Cyber bullying?</th>\n",
       "      <th>What Age group of people are most Vulnerable to Cyber bullying</th>\n",
       "      <th>Have you ever been cyber bullied?</th>\n",
       "      <th>If Yes , What was the way you dealt with the same</th>\n",
       "      <th>What do you think made you the victim of cyber bullying?</th>\n",
       "      <th>What Platform according to you leads in cyber bullying</th>\n",
       "      <th>What type of people are usually the bullies on the internet?</th>\n",
       "      <th>Have You ever knowingly / Unknowingly bullied someone on the internet?</th>\n",
       "      <th>What lead you to bully someone ? ( if yes )</th>\n",
       "      <th>What kind of people are usually the victims of cyber-bullying?</th>\n",
       "      <th>What are the causes of cyber bullying according to you</th>\n",
       "      <th>What has more impact on an individual , Cyber Bullying or Bullying in real life ?</th>\n",
       "      <th>Who are bullies usually?</th>\n",
       "      <th>Youtube Roasting is a form of bullying. Do you agree ?</th>\n",
       "      <th>Your opinion on the dank communities on  the internet , usually involved in bullying?</th>\n",
       "    </tr>\n",
       "  </thead>\n",
       "  <tbody>\n",
       "    <tr>\n",
       "      <th>count</th>\n",
       "      <td>68</td>\n",
       "      <td>68</td>\n",
       "      <td>68</td>\n",
       "      <td>67</td>\n",
       "      <td>68</td>\n",
       "      <td>68</td>\n",
       "      <td>29</td>\n",
       "      <td>25</td>\n",
       "      <td>67</td>\n",
       "      <td>54</td>\n",
       "      <td>68</td>\n",
       "      <td>15</td>\n",
       "      <td>68</td>\n",
       "      <td>68</td>\n",
       "      <td>68</td>\n",
       "      <td>68</td>\n",
       "      <td>68</td>\n",
       "      <td>68</td>\n",
       "    </tr>\n",
       "    <tr>\n",
       "      <th>unique</th>\n",
       "      <td>68</td>\n",
       "      <td>67</td>\n",
       "      <td>3</td>\n",
       "      <td>31</td>\n",
       "      <td>5</td>\n",
       "      <td>2</td>\n",
       "      <td>14</td>\n",
       "      <td>25</td>\n",
       "      <td>13</td>\n",
       "      <td>54</td>\n",
       "      <td>2</td>\n",
       "      <td>15</td>\n",
       "      <td>4</td>\n",
       "      <td>5</td>\n",
       "      <td>3</td>\n",
       "      <td>3</td>\n",
       "      <td>2</td>\n",
       "      <td>66</td>\n",
       "    </tr>\n",
       "    <tr>\n",
       "      <th>top</th>\n",
       "      <td>1/22/2022 11:39:31</td>\n",
       "      <td>aroramann50@gmail.com</td>\n",
       "      <td>15 - 18</td>\n",
       "      <td>Hacking / Phishing your private details, Mean/...</td>\n",
       "      <td>equally vulnerable</td>\n",
       "      <td>No</td>\n",
       "      <td>Blocked / Reported The Bully</td>\n",
       "      <td>idk\\n</td>\n",
       "      <td>All of the above</td>\n",
       "      <td>for money</td>\n",
       "      <td>No</td>\n",
       "      <td>privacy leak</td>\n",
       "      <td>All of above</td>\n",
       "      <td>Lack of awareness</td>\n",
       "      <td>equal impact</td>\n",
       "      <td>Can be both</td>\n",
       "      <td>No</td>\n",
       "      <td>-</td>\n",
       "    </tr>\n",
       "    <tr>\n",
       "      <th>freq</th>\n",
       "      <td>1</td>\n",
       "      <td>2</td>\n",
       "      <td>42</td>\n",
       "      <td>8</td>\n",
       "      <td>28</td>\n",
       "      <td>47</td>\n",
       "      <td>8</td>\n",
       "      <td>1</td>\n",
       "      <td>32</td>\n",
       "      <td>1</td>\n",
       "      <td>57</td>\n",
       "      <td>1</td>\n",
       "      <td>53</td>\n",
       "      <td>37</td>\n",
       "      <td>50</td>\n",
       "      <td>62</td>\n",
       "      <td>42</td>\n",
       "      <td>2</td>\n",
       "    </tr>\n",
       "  </tbody>\n",
       "</table>\n",
       "</div>"
      ],
      "text/plain": [
       "                 Timestamp          Email Address What's Your Age?  \\\n",
       "count                   68                     68               68   \n",
       "unique                  68                     67                3   \n",
       "top     1/22/2022 11:39:31  aroramann50@gmail.com          15 - 18   \n",
       "freq                     1                      2               42   \n",
       "\n",
       "                  What do you consider as Cyber bullying?  \\\n",
       "count                                                  67   \n",
       "unique                                                 31   \n",
       "top     Hacking / Phishing your private details, Mean/...   \n",
       "freq                                                    8   \n",
       "\n",
       "       What Age group of people are most Vulnerable to Cyber bullying  \\\n",
       "count                                                  68               \n",
       "unique                                                  5               \n",
       "top                                    equally vulnerable               \n",
       "freq                                                   28               \n",
       "\n",
       "       Have you ever been cyber bullied?  \\\n",
       "count                                 68   \n",
       "unique                                 2   \n",
       "top                                   No   \n",
       "freq                                  47   \n",
       "\n",
       "       If Yes , What was the way you dealt with the same  \\\n",
       "count                                                 29   \n",
       "unique                                                14   \n",
       "top                         Blocked / Reported The Bully   \n",
       "freq                                                   8   \n",
       "\n",
       "       What do you think made you the victim of cyber bullying?  \\\n",
       "count                                                  25         \n",
       "unique                                                 25         \n",
       "top                                                 idk\\n         \n",
       "freq                                                    1         \n",
       "\n",
       "       What Platform according to you leads in cyber bullying  \\\n",
       "count                                                  67       \n",
       "unique                                                 13       \n",
       "top                                      All of the above       \n",
       "freq                                                   32       \n",
       "\n",
       "       What type of people are usually the bullies on the internet?  \\\n",
       "count                                                  54             \n",
       "unique                                                 54             \n",
       "top                                            for money              \n",
       "freq                                                    1             \n",
       "\n",
       "       Have You ever knowingly / Unknowingly bullied someone on the internet?  \\\n",
       "count                                                  68                       \n",
       "unique                                                  2                       \n",
       "top                                                    No                       \n",
       "freq                                                   57                       \n",
       "\n",
       "       What lead you to bully someone ? ( if yes )  \\\n",
       "count                                           15   \n",
       "unique                                          15   \n",
       "top                                   privacy leak   \n",
       "freq                                             1   \n",
       "\n",
       "       What kind of people are usually the victims of cyber-bullying?  \\\n",
       "count                                                  68               \n",
       "unique                                                  4               \n",
       "top                                          All of above               \n",
       "freq                                                   53               \n",
       "\n",
       "       What are the causes of cyber bullying according to you  \\\n",
       "count                                                  68       \n",
       "unique                                                  5       \n",
       "top                                     Lack of awareness       \n",
       "freq                                                   37       \n",
       "\n",
       "       What has more impact on an individual , Cyber Bullying or Bullying in real life ?  \\\n",
       "count                                                  68                                  \n",
       "unique                                                  3                                  \n",
       "top                                          equal impact                                  \n",
       "freq                                                   50                                  \n",
       "\n",
       "       Who are bullies usually?  \\\n",
       "count                        68   \n",
       "unique                        3   \n",
       "top                 Can be both   \n",
       "freq                         62   \n",
       "\n",
       "       Youtube Roasting is a form of bullying. Do you agree ?  \\\n",
       "count                                                  68       \n",
       "unique                                                  2       \n",
       "top                                                    No       \n",
       "freq                                                   42       \n",
       "\n",
       "       Your opinion on the dank communities on  the internet , usually involved in bullying?  \n",
       "count                                                  68                                     \n",
       "unique                                                 66                                     \n",
       "top                                                     -                                     \n",
       "freq                                                    2                                     "
      ]
     },
     "execution_count": 12,
     "metadata": {},
     "output_type": "execute_result"
    }
   ],
   "source": [
    "df.describe()"
   ]
  },
  {
   "cell_type": "code",
   "execution_count": 13,
   "metadata": {
    "ExecuteTime": {
     "end_time": "2023-05-24T10:59:38.022520700Z",
     "start_time": "2023-05-24T10:59:37.993521700Z"
    }
   },
   "outputs": [
    {
     "data": {
      "text/plain": [
       "Timestamp                                                                                 0\n",
       "Email Address                                                                             0\n",
       "What's Your Age?                                                                          0\n",
       "What do you consider as Cyber bullying?                                                   1\n",
       "What Age group of people are most Vulnerable to Cyber bullying                            0\n",
       "Have you ever been cyber bullied?                                                         0\n",
       "If Yes , What was the way you dealt with the same                                        39\n",
       "What do you think made you the victim of cyber bullying?                                 43\n",
       "What Platform according to you leads in cyber bullying                                    1\n",
       "What type of people are usually the bullies on the internet?                             14\n",
       "Have You ever knowingly / Unknowingly bullied someone on the internet?                    0\n",
       "What lead you to bully someone ? ( if yes )                                              53\n",
       "What kind of people are usually the victims of cyber-bullying?                            0\n",
       "What are the causes of cyber bullying according to you                                    0\n",
       "What has more impact on an individual , Cyber Bullying or Bullying in real life ?         0\n",
       "Who are bullies usually?                                                                  0\n",
       "Youtube Roasting is a form of bullying. Do you agree ?                                    0\n",
       "Your opinion on the dank communities on  the internet , usually involved in bullying?     0\n",
       "dtype: int64"
      ]
     },
     "execution_count": 13,
     "metadata": {},
     "output_type": "execute_result"
    }
   ],
   "source": [
    "#cheking Null Values\n",
    "df.isnull().sum()"
   ]
  },
  {
   "cell_type": "code",
   "execution_count": 14,
   "metadata": {
    "ExecuteTime": {
     "end_time": "2023-05-24T10:59:42.867819400Z",
     "start_time": "2023-05-24T10:59:42.859846300Z"
    }
   },
   "outputs": [
    {
     "data": {
      "text/plain": [
       "Index(['Timestamp', 'Email Address', 'What's Your Age?',\n",
       "       'What do you consider as Cyber bullying?',\n",
       "       'What Age group of people are most Vulnerable to Cyber bullying',\n",
       "       'Have you ever been cyber bullied?',\n",
       "       'If Yes , What was the way you dealt with the same',\n",
       "       'What do you think made you the victim of cyber bullying?',\n",
       "       'What Platform according to you leads in cyber bullying',\n",
       "       'What type of people are usually the bullies on the internet?',\n",
       "       'Have You ever knowingly / Unknowingly bullied someone on the internet?',\n",
       "       'What lead you to bully someone ? ( if yes )',\n",
       "       'What kind of people are usually the victims of cyber-bullying?',\n",
       "       'What are the causes of cyber bullying according to you',\n",
       "       'What has more impact on an individual , Cyber Bullying or Bullying in real life ?',\n",
       "       'Who are bullies usually?',\n",
       "       'Youtube Roasting is a form of bullying. Do you agree ?',\n",
       "       'Your opinion on the dank communities on  the internet , usually involved in bullying?'],\n",
       "      dtype='object')"
      ]
     },
     "execution_count": 14,
     "metadata": {},
     "output_type": "execute_result"
    }
   ],
   "source": [
    "df.columns"
   ]
  },
  {
   "cell_type": "markdown",
   "metadata": {},
   "source": [
    "### Comprehensive Understanding Of Cyberbullying DataSet"
   ]
  },
  {
   "cell_type": "markdown",
   "metadata": {},
   "source": [
    "##### What is the prevalence of cyberbullying among different age groups?"
   ]
  },
  {
   "cell_type": "code",
   "execution_count": 15,
   "metadata": {
    "ExecuteTime": {
     "end_time": "2023-05-24T11:00:19.540363200Z",
     "start_time": "2023-05-24T11:00:19.390334500Z"
    }
   },
   "outputs": [
    {
     "data": {
      "image/png": "[encoded data removed]",
      "text/plain": [
       "<Figure size 1000x600 with 1 Axes>"
      ]
     },
     "metadata": {},
     "output_type": "display_data"
    }
   ],
   "source": [
    "# Count the occurrences of each age group\n",
    "age_group_counts = df['What Age group of people are most Vulnerable to Cyber bullying'].value_counts()\n",
    "\n",
    "# Plot the prevalence of cyberbullying among different age groups\n",
    "plt.figure(figsize=(10, 6))\n",
    "plt.bar(age_group_counts.index, age_group_counts.values, color='skyblue')\n",
    "\n",
    "# Customize the plot\n",
    "plt.xlabel('Age Groups')\n",
    "plt.ylabel('Count')\n",
    "plt.title('Prevalence of Cyberbullying Among Different Age Groups')\n",
    "\n",
    "# Rotate the x-axis labels for better readability\n",
    "plt.xticks(rotation=45)\n",
    "\n",
    "# Add data labels on top of each bar\n",
    "for i, count in enumerate(age_group_counts.values):\n",
    "    plt.text(i, count + 1, str(count), ha='center', va='bottom')\n",
    "\n",
    "# Display the plot\n",
    "plt.tight_layout()\n",
    "plt.show()"
   ]
  },
  {
   "cell_type": "markdown",
   "metadata": {},
   "source": [
    "### How do individuals typically deal with cyberbullying incidents?"
   ]
  },
  {
   "cell_type": "code",
   "execution_count": 16,
   "metadata": {
    "ExecuteTime": {
     "end_time": "2023-05-24T11:00:35.915340800Z",
     "start_time": "2023-05-24T11:00:35.853309700Z"
    }
   },
   "outputs": [
    {
     "name": "stdout",
     "output_type": "stream",
     "text": [
      "Blocked / Reported The Bully                                                                                8\n",
      "Fought Back the Bully                                                                                       4\n",
      "Blocked / Reported The Bully, Fought Back the Bully                                                         3\n",
      "Blocked / Reported The Bully, Talked to a Near one for emotional support, Fought Back the Bully             2\n",
      "Stopped using Social Media                                                                                  2\n",
      "I was scared to do anything                                                                                 2\n",
      "I was scared to do anything, Blocked / Reported The Bully, Filed an official complaint against the Bully    1\n",
      "Aaj mere paas bangla 🏢 hai, gadi hai 🚗, bank-balance hai 🤑💰 - tumhare paas kya hai?🤔😏😏”                     1\n",
      "I have never.But if I was bullied .I will fight back.                                                       1\n",
      "Blocked / Reported The Bully, Talked to a Near one for emotional support                                    1\n",
      "Filed an official complaint against the Bully                                                               1\n",
      "Never being cyber bullied                                                                                   1\n",
      "Filed an official complaint against the Bully, Fought Back the Bully                                        1\n",
      "Talked to a Near one for emotional support                                                                  1\n",
      "Name: If Yes , What was the way you dealt with the same, dtype: int64\n"
     ]
    }
   ],
   "source": [
    "# Count the ways individuals deal with cyberbullying incidents\n",
    "deal_methods = df['If Yes , What was the way you dealt with the same'].value_counts()\n",
    "\n",
    "# Print the count of each dealing method\n",
    "print(deal_methods)"
   ]
  },
  {
   "cell_type": "markdown",
   "metadata": {},
   "source": [
    "### What are the perceived reasons for becoming a victim of cyberbullying?"
   ]
  },
  {
   "cell_type": "code",
   "execution_count": 17,
   "metadata": {
    "ExecuteTime": {
     "end_time": "2023-05-24T11:00:56.824358500Z",
     "start_time": "2023-05-24T11:00:56.817330300Z"
    }
   },
   "outputs": [
    {
     "name": "stdout",
     "output_type": "stream",
     "text": [
      "idk\\n                                                                                                                                                                                                                        1\n",
      "Nothing                                                                                                                                                                                                                      1\n",
      "Well maybe short temper                                                                                                                                                                                                      1\n",
      "Never happened with me                                                                                                                                                                                                       1\n",
      "Me ignorin' what my frnds do...                                                                                                                                                                                              1\n",
      "Putting out too much personal info out there                                                                                                                                                                                 1\n",
      "I trusted wrong people                                                                                                                                                                                                       1\n",
      "Lack of awareness                                                                                                                                                                                                            1\n",
      "No idea. It is because those people think it is funny to bully others\\n                                                                                                                                                      1\n",
      "Someone took pictures of me without my permission and also a lot of times i have been stalked                                                                                                                                1\n",
      "Never have been                                                                                                                                                                                                              1\n",
      "my gender and age                                                                                                                                                                                                            1\n",
      "It was a generic marketing scam so I wasn't a specific target but yes it was tough                                                                                                                                           1\n",
      "my immatureness                                                                                                                                                                                                              1\n",
      "carelessness                                                                                                                                                                                                                 1\n",
      "na                                                                                                                                                                                                                           1\n",
      "Carelessness                                                                                                                                                                                                                 1\n",
      "Lack of knowledge                                                                                                                                                                                                            1\n",
      "My own mistakes                                                                                                                                                                                                              1\n",
      "I was not bullied                                                                                                                                                                                                            1\n",
      "Lack of awareness prolly                                                                                                                                                                                                     1\n",
      "being underage and lack of knowledge led me to be the victim                                                                                                                                                                 1\n",
      "No reason...or maybe they thought I'm underage and weak                                                                                                                                                                      1\n",
      "Kanta 🪡 Laga 🤧 Ooi 🥴 Maa 😫\\nOoi 🥴Maa😫 Ooi 🥴Maa😩 Ooi🥴 Maa😫\\nOoi🥴 Maa😫 Ooi 🥴Maa😫 Ooh 😮‍💨Ooh😮‍💨\\n\\nKaanta 🪡Laga ☠️Aaye🏃 Aaye🏃\\nAaye🏃 Aaye 🏃Aaye 🏃Aaye 🏃Ooh 😲Ooh😲                                                                1\n",
      "A person's hatred against me/my actions, and the convenient way in which a person can just form a fake profile on the internet and use it against someone, with a misconseption that their identity is completely hidden.    1\n",
      "Name: What do you think made you the victim of cyber bullying?, dtype: int64\n"
     ]
    }
   ],
   "source": [
    "# Count the perceived reasons for becoming a victim of cyberbullying\n",
    "victim_reasons = df['What do you think made you the victim of cyber bullying?'].value_counts()\n",
    "\n",
    "# Print the count of each reason\n",
    "print(victim_reasons)"
   ]
  },
  {
   "cell_type": "markdown",
   "metadata": {},
   "source": [
    "### Which platforms are considered to be the most common for cyberbullying?"
   ]
  },
  {
   "cell_type": "code",
   "execution_count": 18,
   "metadata": {
    "ExecuteTime": {
     "end_time": "2023-05-24T11:01:13.831564500Z",
     "start_time": "2023-05-24T11:01:13.823566600Z"
    }
   },
   "outputs": [
    {
     "name": "stdout",
     "output_type": "stream",
     "text": [
      "All of the above                                                                                                                 32\n",
      "Instagram                                                                                                                        13\n",
      "Discord                                                                                                                           7\n",
      "Facebook                                                                                                                          5\n",
      "Whatsapp / Email                                                                                                                  2\n",
      "Hum💪🏻 tum mein😖 itne ched karenge 🙀👌🏻 ... ki confuse ho🤨🤯 jaoge ki saans kahan😝🤭 se le ... aur paadein kahan se😰😾                 1\n",
      "It happens on all apps what u use,depends on activity.                                                                            1\n",
      "Cyber bullying Takes place in almost every Social media platform                                                                  1\n",
      "Every social platform may lead to cyber bullying                                                                                  1\n",
      "All platforms                                                                                                                     1\n",
      "Reddit                                                                                                                            1\n",
      "Can be any interest source including calling but on a personal opinion, Instagram leads the soucre of cyber bullying in teens     1\n",
      "Instagram and YouTube                                                                                                             1\n",
      "Name: What Platform according to you leads in cyber bullying, dtype: int64\n"
     ]
    }
   ],
   "source": [
    "# Count the occurrences of each platform associated with cyberbullying\n",
    "platform_counts = df['What Platform according to you leads in cyber bullying'].value_counts()\n",
    "\n",
    "# Print the count of each platform\n",
    "print(platform_counts)"
   ]
  },
  {
   "cell_type": "markdown",
   "metadata": {},
   "source": [
    "### What are the common characteristics attributed to cyberbullies?"
   ]
  },
  {
   "cell_type": "code",
   "execution_count": 19,
   "metadata": {
    "ExecuteTime": {
     "end_time": "2023-05-24T11:01:34.499296700Z",
     "start_time": "2023-05-24T11:01:34.483296700Z"
    }
   },
   "outputs": [
    {
     "name": "stdout",
     "output_type": "stream",
     "text": [
      "for money                                                                                                                                                                           1\n",
      "Ppl either intentionally tryin' to hurt someone when they fr hate the person...or ppl who r just trynaa hv fun...they unintentionally hurt ppl then                                 1\n",
      "Raiders Or Scammers                                                                                                                                                                 1\n",
      "It can be of any age group but usually teenagers                                                                                                                                    1\n",
      "Anyone could be the bully                                                                                                                                                           1\n",
      "hacker                                                                                                                                                                              1\n",
      "Who don't know about cyber bullying                                                                                                                                                 1\n",
      "People who hide their real face                                                                                                                                                     1\n",
      "Hackers                                                                                                                                                                             1\n",
      "Uneducated                                                                                                                                                                          1\n",
      "People of younger and quite older age                                                                                                                                               1\n",
      "Anyone can Be Bullied. Reason can be.perosnal grudges Etc.                                                                                                                          1\n",
      "Who don't have knowledge                                                                                                                                                            1\n",
      "The one who feels themselves above others or the victim , and treat them as shit                                                                                                    1\n",
      "computer friendly                                                                                                                                                                   1\n",
      "Anonymous people                                                                                                                                                                    1\n",
      "People who don't have someone to talk to about their problems and take out their anger on others. Also those who are jealous and want the attention they never get in real life     1\n",
      "who are insecure about themselves                                                                                                                                                   1\n",
      "Millenials                                                                                                                                                                          1\n",
      "Insecure people                                                                                                                                                                     1\n",
      "Illiterate, bossy, jobless people                                                                                                                                                   1\n",
      "Maybe the introverts who can't connect with people are usually attacked by bullies                                                                                                  1\n",
      "Over-confident people, Psyhologically under-developed people who are not able to grasp the seriousness of bullying someone in any way                                               1\n",
      "Gullible                                                                                                                                                                            1\n",
      "Social and popular people that engage in bullying to kill boredom                                                                                                                   1\n",
      "Hackers mostly who have never touched grass                                                                                                                                         1\n",
      " Psychological disturbed                                                                                                                                                            1\n",
      "Jobless                                                                                                                                                                             1\n",
      "people who are having a rough time irl and have hate built in within them.                                                                                                          1\n",
      "People who are insecure about themselves                                                                                                                                            1\n",
      "anyone can get cyber bullied                                                                                                                                                        1\n",
      "people who are just useless and dont have anything good to do in life                                                                                                               1\n",
      "The one who ain't get attention irl and online                                                                                                                                      1\n",
      "Toxic Kids, no lifers etc                                                                                                                                                           1\n",
      "Abusive, cruel, mean, and people with no manners ofc. They've never been taught to respect someone.                                                                                 1\n",
      "The people who have no time to spend or donot want the other person to be sucessful are the bullies                                                                                 1\n",
      "People who are more kind of extra introvert in real life                                                                                                                            1\n",
      "Threats And Warnings                                                                                                                                                                1\n",
      "People with dank/dark humor are mainly the bullies                                                                                                                                  1\n",
      "The people whose minds are corrupted and all                                                                                                                                        1\n",
      "pics pvt chats...                                                                                                                                                                   1\n",
      "Every                                                                                                                                                                               1\n",
      "Immature, Unoccupied, who are Insecure about themselves                                                                                                                             1\n",
      "They are either entertained by bullying or they carry the intensions to earn money / other gains.                                                                                   1\n",
      "Careless                                                                                                                                                                            1\n",
      "the people who are just pursuing an unusual career/work that is not accepted in the society even if it's ok to do                                                                   1\n",
      "The bad type                                                                                                                                                                        1\n",
      "Non Parental Control students and children                                                                                                                                          1\n",
      "Fake accounts one                                                                                                                                                                   1\n",
      "Insecure ones with anger issues/ones with problems at home with no place to vent/people that enjoy seeing others suffer                                                             1\n",
      "Who are not in good looks or black people                                                                                                                                           1\n",
      "idk                                                                                                                                                                                 1\n",
      "Hackers or insecure people who have technical skills                                                                                                                                1\n",
      "People that are insecure, have bad personal lives or just arent happy with themselves                                                                                               1\n",
      "Name: What type of people are usually the bullies on the internet?, dtype: int64\n"
     ]
    }
   ],
   "source": [
    "# Count the common characteristics attributed to cyberbullies\n",
    "cyberbully_characteristics = df['What type of people are usually the bullies on the internet?'].value_counts()\n",
    "\n",
    "# Print the count of each characteristic\n",
    "print(cyberbully_characteristics)"
   ]
  },
  {
   "cell_type": "markdown",
   "metadata": {},
   "source": [
    "### How prevalent is self-admitted cyberbullying behavior among respondents?"
   ]
  },
  {
   "cell_type": "code",
   "execution_count": 20,
   "metadata": {
    "ExecuteTime": {
     "end_time": "2023-05-24T11:01:58.558488400Z",
     "start_time": "2023-05-24T11:01:58.544491500Z"
    }
   },
   "outputs": [
    {
     "name": "stdout",
     "output_type": "stream",
     "text": [
      "No     57\n",
      "Yes    11\n",
      "Name: Have You ever knowingly / Unknowingly bullied someone on the internet?, dtype: int64\n"
     ]
    }
   ],
   "source": [
    "# Count the occurrence of self-admitted cyberbullying behavior\n",
    "self_admitted_bullying = df['Have You ever knowingly / Unknowingly bullied someone on the internet?'].value_counts()\n",
    "\n",
    "# Print the count of self-admitted bullying\n",
    "print(self_admitted_bullying)"
   ]
  },
  {
   "cell_type": "markdown",
   "metadata": {},
   "source": [
    "### What are the motivations or factors leading individuals to engage in cyberbullying?"
   ]
  },
  {
   "cell_type": "code",
   "execution_count": 21,
   "metadata": {
    "ExecuteTime": {
     "end_time": "2023-05-24T11:02:16.635957100Z",
     "start_time": "2023-05-24T11:02:16.605957400Z"
    }
   },
   "outputs": [
    {
     "name": "stdout",
     "output_type": "stream",
     "text": [
      "privacy leak                                                                                                                                 1\n",
      "revenge to my bully                                                                                                                          1\n",
      "Are mozzer hu bhay                                                                                                                           1\n",
      "If will bully me i will bully him back simple                                                                                                1\n",
      "Anger, frustration and immaturity                                                                                                            1\n",
      "Just 4 fun                                                                                                                                   1\n",
      "Nothing                                                                                                                                      1\n",
      "peer pressure                                                                                                                                1\n",
      "Have not                                                                                                                                     1\n",
      "I haven’t                                                                                                                                    1\n",
      "I haven’t bullied anyone                                                                                                                     1\n",
      "Generally disliking the person may lead me to send more negative messages. It may not be bullying per se though.                             1\n",
      "No. \\n                                                                                                                                       1\n",
      "Useless enmity                                                                                                                               1\n",
      "There are different dimensions to bullying, if i ever did, it was most probably unintentional and whether i ever did it or not is unclear    1\n",
      "Name: What lead you to bully someone ? ( if yes ), dtype: int64\n"
     ]
    }
   ],
   "source": [
    "# Count the motivations or factors leading to cyberbullying\n",
    "bullying_motivations = df['What lead you to bully someone ? ( if yes )'].value_counts()\n",
    "\n",
    "# Print the count of each motivation\n",
    "print(bullying_motivations)"
   ]
  },
  {
   "cell_type": "markdown",
   "metadata": {},
   "source": [
    "### Are there specific characteristics associated with individuals who are more likely to be victims of cyberbullying?"
   ]
  },
  {
   "cell_type": "code",
   "execution_count": 22,
   "metadata": {
    "ExecuteTime": {
     "end_time": "2023-05-24T11:02:35.767933300Z",
     "start_time": "2023-05-24T11:02:35.749915200Z"
    }
   },
   "outputs": [
    {
     "name": "stdout",
     "output_type": "stream",
     "text": [
      "All of above                                   53\n",
      "Influencers / Famous People                     8\n",
      "People with different sexual orientation        4\n",
      "People with Distinctive Physical appearance     3\n",
      "Name: What kind of people are usually the victims of cyber-bullying?, dtype: int64\n"
     ]
    }
   ],
   "source": [
    "# Count the characteristics associated with individuals who are more likely to be victims of cyberbullying\n",
    "victim_characteristics = df['What kind of people are usually the victims of cyber-bullying?'].value_counts()\n",
    "\n",
    "# Print the count of each characteristic\n",
    "print(victim_characteristics)"
   ]
  },
  {
   "cell_type": "code",
   "execution_count": 23,
   "metadata": {
    "ExecuteTime": {
     "end_time": "2023-05-24T11:02:45.550399400Z",
     "start_time": "2023-05-24T11:02:45.543401800Z"
    }
   },
   "outputs": [
    {
     "name": "stdout",
     "output_type": "stream",
     "text": [
      "Lack of awareness         37\n",
      "Mental Health Problems    12\n",
      "Casteism / Racism          9\n",
      "Sadism                     7\n",
      "Gender Bias                3\n",
      "Name: What are the causes of cyber bullying according to you, dtype: int64\n"
     ]
    }
   ],
   "source": [
    "# Count the perceived causes of cyberbullying\n",
    "causes_of_bullying = df['What are the causes of cyber bullying according to you'].value_counts()\n",
    "\n",
    "# Print the count of each cause\n",
    "print(causes_of_bullying)"
   ]
  },
  {
   "cell_type": "markdown",
   "metadata": {},
   "source": [
    "### How do individuals perceive the impact of cyberbullying compared to traditional bullying?"
   ]
  },
  {
   "cell_type": "code",
   "execution_count": 24,
   "metadata": {
    "ExecuteTime": {
     "end_time": "2023-05-24T11:03:02.126689100Z",
     "start_time": "2023-05-24T11:03:02.111694400Z"
    }
   },
   "outputs": [
    {
     "name": "stdout",
     "output_type": "stream",
     "text": [
      "equal impact             50\n",
      "Bullying in real life    14\n",
      "Cyber Bullying            4\n",
      "Name: What has more impact on an individual , Cyber Bullying or Bullying in real life ?, dtype: int64\n"
     ]
    }
   ],
   "source": [
    "# Count the perceptions of the impact of cyberbullying and traditional bullying\n",
    "impact_comparison = df['What has more impact on an individual , Cyber Bullying or Bullying in real life ?'].value_counts()\n",
    "\n",
    "# Print the count of each perception\n",
    "print(impact_comparison)"
   ]
  },
  {
   "cell_type": "markdown",
   "metadata": {},
   "source": [
    "### What are the characteristics typically associated with bullies in general?"
   ]
  },
  {
   "cell_type": "code",
   "execution_count": 25,
   "metadata": {
    "ExecuteTime": {
     "end_time": "2023-05-24T11:03:25.460422900Z",
     "start_time": "2023-05-24T11:03:25.453357800Z"
    }
   },
   "outputs": [
    {
     "name": "stdout",
     "output_type": "stream",
     "text": [
      "Can be both                             62\n",
      "A stranger                               3\n",
      "Someone you know/are acquainted with     3\n",
      "Name: Who are bullies usually?, dtype: int64\n"
     ]
    }
   ],
   "source": [
    "# Count the characteristics typically associated with bullies\n",
    "general_bully_characteristics = df['Who are bullies usually?'].value_counts()\n",
    "\n",
    "# Print the count of each characteristic\n",
    "print(general_bully_characteristics)"
   ]
  },
  {
   "cell_type": "markdown",
   "metadata": {},
   "source": [
    "### Do respondents consider YouTube roasting as a form of bullying?"
   ]
  },
  {
   "cell_type": "code",
   "execution_count": 26,
   "metadata": {
    "ExecuteTime": {
     "end_time": "2023-05-24T11:03:41.354873600Z",
     "start_time": "2023-05-24T11:03:41.325952Z"
    }
   },
   "outputs": [
    {
     "name": "stdout",
     "output_type": "stream",
     "text": [
      "No     42\n",
      "Yes    26\n",
      "Name: Youtube Roasting is a form of bullying. Do you agree ?, dtype: int64\n"
     ]
    }
   ],
   "source": [
    "# Count the responses regarding YouTube roasting as bullying\n",
    "youtube_roasting_opinion = df['Youtube Roasting is a form of bullying. Do you agree ?'].value_counts()\n",
    "\n",
    "# Print the count of each response\n",
    "print(youtube_roasting_opinion)"
   ]
  },
  {
   "cell_type": "markdown",
   "metadata": {},
   "source": [
    "### How do respondents perceive the involvement of \"dank communities\" in bullying?"
   ]
  },
  {
   "cell_type": "code",
   "execution_count": 27,
   "metadata": {
    "ExecuteTime": {
     "end_time": "2023-05-24T11:03:59.878278200Z",
     "start_time": "2023-05-24T11:03:59.871254800Z"
    }
   },
   "outputs": [
    {
     "name": "stdout",
     "output_type": "stream",
     "text": [
      "-                                                                                                                                                                                                                                                                                                                                                                                                                                                                                                                                                                                                                                                                                                                                                                                                                                                 2\n",
      ".                                                                                                                                                                                                                                                                                                                                                                                                                                                                                                                                                                                                                                                                                                                                                                                                                                                 2\n",
      "Report                                                                                                                                                                                                                                                                                                                                                                                                                                                                                                                                                                                                                                                                                                                                                                                                                                            1\n",
      "Yes                                                                                                                                                                                                                                                                                                                                                                                                                                                                                                                                                                                                                                                                                                                                                                                                                                               1\n",
      "Dank People Are Bad For Now If They Increase Then All Would Be Going To Be Bullied For Sure                                                                                                                                                                                                                                                                                                                                                                                                                                                                                                                                                                                                                                                                                                                                                       1\n",
      "                                                                                                                                                                                                                                                                                                                                                                                                                                                                                                                                                                                                                                                                                                                                                                                                                                                 ..\n",
      "No never.                                                                                                                                                                                                                                                                                                                                                                                                                                                                                                                                                                                                                                                                                                                                                                                                                                         1\n",
      "No no I love carry minati 😂                                                                                                                                                                                                                                                                                                                                                                                                                                                                                                                                                                                                                                                                                                                                                                                                                       1\n",
      "Am speechless                                                                                                                                                                                                                                                                                                                                                                                                                                                                                                                                                                                                                                                                                                                                                                                                                                     1\n",
      "people need to take proper actions against this as it can seriously affect one's health; be it mental or physical. the lack of awareness is one of the major causes and i think schools and colleges should teach us about cyber bullying (in an unbiased manner). \\nthe amount of hatred these 'bullies' have for someone whom they don't know much about concerns me. where does this hatred originate from? what causes them to go to the extends of sending d£@th and even r@pe threats to others?\\ni suppose they are going through something serious irl and internet is there escape where they can remain anonymous and take out their anger on others. while this might help them cope up with their anger, it isn't the right thing to do.\\nmental health should be taken seriously in order to avoid things such as cyber bullying.    1\n",
      "Am not too familiar with it                                                                                                                                                                                                                                                                                                                                                                                                                                                                                                                                                                                                                                                                                                                                                                                                                       1\n",
      "Name: Your opinion on the dank communities on  the internet , usually involved in bullying?, Length: 66, dtype: int64\n"
     ]
    }
   ],
   "source": [
    "# Count the perceptions of the involvement of \"dank communities\" in bullying\n",
    "dank_community_perception = df['Your opinion on the dank communities on  the internet , usually involved in bullying?'].value_counts()\n",
    "\n",
    "# Print the count of each perception\n",
    "print(dank_community_perception)"
   ]
  },
  {
   "cell_type": "code",
   "execution_count": 28,
   "metadata": {
    "ExecuteTime": {
     "end_time": "2023-05-24T11:05:47.988527Z",
     "start_time": "2023-05-24T11:05:47.956496900Z"
    }
   },
   "outputs": [
    {
     "name": "stdout",
     "output_type": "stream",
     "text": [
      "Percentage of respondents who have been cyberbullied:\n",
      "No     0.0\n",
      "Yes    0.0\n",
      "Name: Have you ever been cyber bullied?, dtype: float64\n"
     ]
    }
   ],
   "source": [
    "cyberbullied_percentage = (df['Have you ever been cyber bullied?'].value_counts(normalize=True) * 0).round(2)\n",
    "print(\"Percentage of respondents who have been cyberbullied:\")\n",
    "print(cyberbullied_percentage)"
   ]
  },
  {
   "cell_type": "code",
   "execution_count": 29,
   "metadata": {
    "ExecuteTime": {
     "end_time": "2023-05-24T11:05:53.754931600Z",
     "start_time": "2023-05-24T11:05:53.737898500Z"
    }
   },
   "outputs": [
    {
     "name": "stdout",
     "output_type": "stream",
     "text": [
      "\n",
      "Frequency of ways respondents dealt with cyberbullying:\n",
      "Blocked / Reported The Bully                                                                                8\n",
      "Fought Back the Bully                                                                                       4\n",
      "Blocked / Reported The Bully, Fought Back the Bully                                                         3\n",
      "Blocked / Reported The Bully, Talked to a Near one for emotional support, Fought Back the Bully             2\n",
      "Stopped using Social Media                                                                                  2\n",
      "I was scared to do anything                                                                                 2\n",
      "I was scared to do anything, Blocked / Reported The Bully, Filed an official complaint against the Bully    1\n",
      "Aaj mere paas bangla 🏢 hai, gadi hai 🚗, bank-balance hai 🤑💰 - tumhare paas kya hai?🤔😏😏”                     1\n",
      "I have never.But if I was bullied .I will fight back.                                                       1\n",
      "Blocked / Reported The Bully, Talked to a Near one for emotional support                                    1\n",
      "Filed an official complaint against the Bully                                                               1\n",
      "Never being cyber bullied                                                                                   1\n",
      "Filed an official complaint against the Bully, Fought Back the Bully                                        1\n",
      "Talked to a Near one for emotional support                                                                  1\n",
      "Name: If Yes , What was the way you dealt with the same, dtype: int64\n"
     ]
    }
   ],
   "source": [
    "# Calculate the frequency of different ways respondents dealt with cyberbullying\n",
    "dealing_methods_frequency = df['If Yes , What was the way you dealt with the same'].value_counts()\n",
    "print(\"\\nFrequency of ways respondents dealt with cyberbullying:\")\n",
    "print(dealing_methods_frequency)"
   ]
  },
  {
   "cell_type": "code",
   "execution_count": 30,
   "metadata": {
    "ExecuteTime": {
     "end_time": "2023-05-24T11:06:11.390646600Z",
     "start_time": "2023-05-24T11:06:11.374648700Z"
    }
   },
   "outputs": [
    {
     "name": "stdout",
     "output_type": "stream",
     "text": [
      "\n",
      "Percentage of respondents who have knowingly or unknowingly bullied someone:\n",
      "No     83.82\n",
      "Yes    16.18\n",
      "Name: Have You ever knowingly / Unknowingly bullied someone on the internet?, dtype: float64\n"
     ]
    }
   ],
   "source": [
    "# Calculate the percentage of respondents who have knowingly or unknowingly bullied someone\n",
    "bullying_percentage = (df['Have You ever knowingly / Unknowingly bullied someone on the internet?'].value_counts(normalize=True) * 100).round(2)\n",
    "print(\"\\nPercentage of respondents who have knowingly or unknowingly bullied someone:\")\n",
    "print(bullying_percentage)"
   ]
  },
  {
   "cell_type": "code",
   "execution_count": 31,
   "metadata": {
    "ExecuteTime": {
     "end_time": "2023-05-24T11:06:28.759635100Z",
     "start_time": "2023-05-24T11:06:28.742662400Z"
    }
   },
   "outputs": [
    {
     "name": "stdout",
     "output_type": "stream",
     "text": [
      "\n",
      "Frequency of causes of cyberbullying:\n",
      "Lack of awareness         37\n",
      "Mental Health Problems    12\n",
      "Casteism / Racism          9\n",
      "Sadism                     7\n",
      "Gender Bias                3\n",
      "Name: What are the causes of cyber bullying according to you, dtype: int64\n"
     ]
    }
   ],
   "source": [
    "# Calculate the frequency of different causes of cyberbullying\n",
    "causes_frequency = df['What are the causes of cyber bullying according to you'].value_counts()\n",
    "print(\"\\nFrequency of causes of cyberbullying:\")\n",
    "print(causes_frequency)"
   ]
  },
  {
   "cell_type": "code",
   "execution_count": 32,
   "metadata": {
    "ExecuteTime": {
     "end_time": "2023-05-24T11:07:02.926199100Z",
     "start_time": "2023-05-24T11:07:02.919210400Z"
    }
   },
   "outputs": [
    {
     "name": "stdout",
     "output_type": "stream",
     "text": [
      "\n",
      "Percentage of respondents' opinions on YouTube roasting as a form of bullying:\n",
      "No     61.76\n",
      "Yes    38.24\n",
      "Name: Youtube Roasting is a form of bullying. Do you agree ?, dtype: float64\n"
     ]
    }
   ],
   "source": [
    "# Calculate the percentage of respondents who agree or disagree with YouTube roasting as a form of bullying\n",
    "youtube_roasting_percentage = (df['Youtube Roasting is a form of bullying. Do you agree ?'].value_counts(normalize=True) * 100).round(2)\n",
    "print(\"\\nPercentage of respondents' opinions on YouTube roasting as a form of bullying:\")\n",
    "print(youtube_roasting_percentage)"
   ]
  },
  {
   "cell_type": "code",
   "execution_count": 33,
   "metadata": {
    "ExecuteTime": {
     "end_time": "2023-05-24T11:07:13.241975400Z",
     "start_time": "2023-05-24T11:07:13.225002200Z"
    }
   },
   "outputs": [
    {
     "name": "stdout",
     "output_type": "stream",
     "text": [
      "\n",
      "Frequency of opinions on dank communities' involvement in bullying:\n",
      "-                                                                                                                                                                                                                                                                                                                                                                                                                                                                                                                                                                                                                                                                                                                                                                                                                                                 2\n",
      ".                                                                                                                                                                                                                                                                                                                                                                                                                                                                                                                                                                                                                                                                                                                                                                                                                                                 2\n",
      "Report                                                                                                                                                                                                                                                                                                                                                                                                                                                                                                                                                                                                                                                                                                                                                                                                                                            1\n",
      "Yes                                                                                                                                                                                                                                                                                                                                                                                                                                                                                                                                                                                                                                                                                                                                                                                                                                               1\n",
      "Dank People Are Bad For Now If They Increase Then All Would Be Going To Be Bullied For Sure                                                                                                                                                                                                                                                                                                                                                                                                                                                                                                                                                                                                                                                                                                                                                       1\n",
      "                                                                                                                                                                                                                                                                                                                                                                                                                                                                                                                                                                                                                                                                                                                                                                                                                                                 ..\n",
      "No never.                                                                                                                                                                                                                                                                                                                                                                                                                                                                                                                                                                                                                                                                                                                                                                                                                                         1\n",
      "No no I love carry minati 😂                                                                                                                                                                                                                                                                                                                                                                                                                                                                                                                                                                                                                                                                                                                                                                                                                       1\n",
      "Am speechless                                                                                                                                                                                                                                                                                                                                                                                                                                                                                                                                                                                                                                                                                                                                                                                                                                     1\n",
      "people need to take proper actions against this as it can seriously affect one's health; be it mental or physical. the lack of awareness is one of the major causes and i think schools and colleges should teach us about cyber bullying (in an unbiased manner). \\nthe amount of hatred these 'bullies' have for someone whom they don't know much about concerns me. where does this hatred originate from? what causes them to go to the extends of sending d£@th and even r@pe threats to others?\\ni suppose they are going through something serious irl and internet is there escape where they can remain anonymous and take out their anger on others. while this might help them cope up with their anger, it isn't the right thing to do.\\nmental health should be taken seriously in order to avoid things such as cyber bullying.    1\n",
      "Am not too familiar with it                                                                                                                                                                                                                                                                                                                                                                                                                                                                                                                                                                                                                                                                                                                                                                                                                       1\n",
      "Name: Your opinion on the dank communities on  the internet , usually involved in bullying?, Length: 66, dtype: int64\n"
     ]
    }
   ],
   "source": [
    "# Calculate the frequency of different opinions on dank communities' involvement in bullying\n",
    "dank_community_opinions_frequency = df['Your opinion on the dank communities on  the internet , usually involved in bullying?'].value_counts()\n",
    "print(\"\\nFrequency of opinions on dank communities' involvement in bullying:\")\n",
    "print(dank_community_opinions_frequency)"
   ]
  },
  {
   "cell_type": "markdown",
   "metadata": {},
   "source": [
    "### VISUALIZATIONS¶"
   ]
  },
  {
   "cell_type": "markdown",
   "metadata": {},
   "source": [
    "### Prevalence of cyberbullying among different age groups."
   ]
  },
  {
   "cell_type": "code",
   "execution_count": 34,
   "metadata": {
    "ExecuteTime": {
     "end_time": "2023-05-24T11:07:57.360316700Z",
     "start_time": "2023-05-24T11:07:57.262318600Z"
    }
   },
   "outputs": [
    {
     "data": {
      "image/png": "[encoded data removed]",
      "text/plain": [
       "<Figure size 800x600 with 1 Axes>"
      ]
     },
     "metadata": {},
     "output_type": "display_data"
    }
   ],
   "source": [
    "# Count the occurrences of each age group\n",
    "age_group_counts = df[\"What Age group of people are most Vulnerable to Cyber bullying\"].value_counts()\n",
    "\n",
    "# Plot the prevalence of cyberbullying among different age groups\n",
    "plt.figure(figsize=(8, 6))\n",
    "sns.barplot(x=age_group_counts.index, y=age_group_counts.values)\n",
    "plt.xlabel('Age Groups')\n",
    "plt.ylabel('Count')\n",
    "plt.title('Prevalence of Cyberbullying Among Different Age Groups')\n",
    "plt.show()"
   ]
  },
  {
   "cell_type": "code",
   "execution_count": 35,
   "metadata": {
    "ExecuteTime": {
     "end_time": "2023-05-24T11:08:12.295662Z",
     "start_time": "2023-05-24T11:08:12.204645400Z"
    }
   },
   "outputs": [
    {
     "data": {
      "image/png": "[encoded data removed]",
      "text/plain": [
       "<Figure size 800x600 with 1 Axes>"
      ]
     },
     "metadata": {},
     "output_type": "display_data"
    }
   ],
   "source": [
    "# Count the characteristics typically associated with bullies in general\n",
    "general_bully_characteristics = df[\"Who are bullies usually?\"].value_counts()\n",
    "\n",
    "# Plot the characteristics typically associated with bullies in general\n",
    "plt.figure(figsize=(8, 6))\n",
    "plt.pie(general_bully_characteristics.values, labels=general_bully_characteristics.index, autopct='%1.1f%%')\n",
    "plt.title('Characteristics Typically Associated with Bullies in General')\n",
    "plt.show()"
   ]
  },
  {
   "cell_type": "code",
   "execution_count": 36,
   "metadata": {
    "ExecuteTime": {
     "end_time": "2023-05-24T11:08:27.447193Z",
     "start_time": "2023-05-24T11:08:27.346581600Z"
    }
   },
   "outputs": [
    {
     "data": {
      "image/png": "[encoded data removed]",
      "text/plain": [
       "<Figure size 800x600 with 1 Axes>"
      ]
     },
     "metadata": {},
     "output_type": "display_data"
    }
   ],
   "source": [
    "# Count the frequency of different causes of cyberbullying\n",
    "causes_frequency = df[\"What are the causes of cyber bullying according to you\"].value_counts()\n",
    "\n",
    "# Plot the frequency of different causes of cyberbullying\n",
    "plt.figure(figsize=(8, 6))\n",
    "sns.barplot(x=causes_frequency.index, y=causes_frequency.values)\n",
    "plt.xlabel('Causes of Cyberbullying')\n",
    "plt.ylabel('Frequency')\n",
    "plt.title('Frequency of Different Causes of Cyberbullying')\n",
    "plt.xticks(rotation=45)\n",
    "plt.show()"
   ]
  },
  {
   "cell_type": "markdown",
   "metadata": {},
   "source": [
    "### common characteristics attributed to cyberbullies"
   ]
  },
  {
   "cell_type": "code",
   "execution_count": 37,
   "metadata": {
    "ExecuteTime": {
     "end_time": "2023-05-24T11:08:55.274905Z",
     "start_time": "2023-05-24T11:08:55.128904800Z"
    }
   },
   "outputs": [
    {
     "data": {
      "image/png": "[encoded data removed]",
      "text/plain": [
       "<Figure size 800x600 with 1 Axes>"
      ]
     },
     "metadata": {},
     "output_type": "display_data"
    }
   ],
   "source": [
    "# Count the common characteristics attributed to cyberbullies\n",
    "cyberbully_characteristics = df[\"What type of people are usually the bullies on the internet?\"].value_counts().head(5)\n",
    "\n",
    "# Plot the top 5 common characteristics attributed to cyberbullies\n",
    "plt.figure(figsize=(8, 6))\n",
    "sns.barplot(x=cyberbully_characteristics.index, y=cyberbully_characteristics.values)\n",
    "plt.xlabel('Characteristics')\n",
    "plt.ylabel('Frequency')\n",
    "plt.title('Top 5 Common Characteristics Attributed to Cyberbullies')\n",
    "plt.xticks(rotation=90)\n",
    "plt.show()"
   ]
  },
  {
   "cell_type": "code",
   "execution_count": null,
   "metadata": {},
   "outputs": [],
   "source": []
  }
 ],
 "metadata": {
  "kernelspec": {
   "display_name": "Python 3 (ipykernel)",
   "language": "python",
   "name": "python3"
  },
  "language_info": {
   "codemirror_mode": {
    "name": "ipython",
    "version": 3
   },
   "file_extension": ".py",
   "mimetype": "text/x-python",
   "name": "python",
   "nbconvert_exporter": "python",
   "pygments_lexer": "ipython3",
   "version": "3.8.5"
  }
 },
 "nbformat": 4,
 "nbformat_minor": 1
}

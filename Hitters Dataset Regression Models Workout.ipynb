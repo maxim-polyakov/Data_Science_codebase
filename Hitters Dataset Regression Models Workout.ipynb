{
 "cells": [
  {
   "cell_type": "raw",
   "source": [
    "Aim\n",
    "The aim in this notebook is to create a regression model that predicts salaries of baseball players based on their statistics, and RMSE (Root Mean Square Error)."
   ],
   "metadata": {
    "collapsed": false
   }
  },
  {
   "cell_type": "markdown",
   "source": [
    "### Description"
   ],
   "metadata": {
    "collapsed": false
   }
  },
  {
   "cell_type": "markdown",
   "source": [
    "### Context"
   ],
   "metadata": {
    "collapsed": false
   }
  },
  {
   "cell_type": "markdown",
   "source": [
    "This dataset is part of the R-package ISLR and is used in the related book by G. James et al. (2013) \"An Introduction to Statistical Learning with applications in R\" to demonstrate how Ridge regression and the LASSO are performed using R."
   ],
   "metadata": {
    "collapsed": false
   }
  },
  {
   "cell_type": "markdown",
   "source": [
    "### Format"
   ],
   "metadata": {
    "collapsed": false
   }
  },
  {
   "cell_type": "markdown",
   "source": [
    "A data frame with 322 observations of major league players on the following 20 variables. AtBat Number of times at bat in 1986, Hits Number of hits in 1986, HmRun Number of home runs in 1986, Runs Number of runs in 1986, RBI Number of runs batted in in 1986, Walks Number of walks in 1986, Years Number of years in the major leagues, CAtBat Number of times at bat during his career, CHits Number of hits during his career, CHmRun Number of home runs during his career, CRuns Number of runs during his career, CRBI Number of runs batted in during his career, CWalks Number of walks during his career, League A factor with levels A and N indicating player’s league at the end of 1986, Division A factor with levels E and W indicating player’s division at the end of 1986, PutOuts Number of put outs in 1986, Assists Number of assists in 1986, Errors Number of errors in 1986, Salary 1987 annual salary on opening day in thousands of dollars, NewLeague A factor with levels A and N indicating player’s league at the beginning of 1987,"
   ],
   "metadata": {
    "collapsed": false
   }
  },
  {
   "cell_type": "markdown",
   "source": [
    "### Importing Libraries and Reading Data¶"
   ],
   "metadata": {
    "collapsed": false
   }
  },
  {
   "cell_type": "code",
   "execution_count": 2,
   "outputs": [],
   "source": [
    "import warnings\n",
    "warnings.simplefilter(action='ignore')\n",
    "import pandas as pd\n",
    "import numpy as np\n",
    "import seaborn as sns\n",
    "import matplotlib.pyplot as plt\n",
    "\n",
    "\n",
    "from sklearn.model_selection import train_test_split, cross_val_score, GridSearchCV\n",
    "from sklearn.linear_model import LinearRegression, Ridge, RidgeCV, ElasticNet, Lasso, LassoCV\n",
    "from sklearn.metrics import mean_squared_error\n",
    "from sklearn.neighbors import LocalOutlierFactor\n",
    "from sklearn.preprocessing import LabelEncoder\n",
    "from sklearn import preprocessing\n",
    "from sklearn.preprocessing import RobustScaler\n",
    "\n",
    "Hitters=pd.read_csv(\"../DataSets/Hitters/Hitters.csv\")"
   ],
   "metadata": {
    "collapsed": false,
    "ExecuteTime": {
     "end_time": "2023-05-25T11:58:19.792443600Z",
     "start_time": "2023-05-25T11:58:19.456893700Z"
    }
   }
  },
  {
   "cell_type": "markdown",
   "source": [
    "### Data Understanding"
   ],
   "metadata": {
    "collapsed": false
   }
  },
  {
   "cell_type": "code",
   "execution_count": 3,
   "outputs": [
    {
     "name": "stdout",
     "output_type": "stream",
     "text": [
      "<class 'pandas.core.frame.DataFrame'>\n",
      "RangeIndex: 322 entries, 0 to 321\n",
      "Data columns (total 20 columns):\n",
      " #   Column     Non-Null Count  Dtype  \n",
      "---  ------     --------------  -----  \n",
      " 0   AtBat      322 non-null    int64  \n",
      " 1   Hits       322 non-null    int64  \n",
      " 2   HmRun      322 non-null    int64  \n",
      " 3   Runs       322 non-null    int64  \n",
      " 4   RBI        322 non-null    int64  \n",
      " 5   Walks      322 non-null    int64  \n",
      " 6   Years      322 non-null    int64  \n",
      " 7   CAtBat     322 non-null    int64  \n",
      " 8   CHits      322 non-null    int64  \n",
      " 9   CHmRun     322 non-null    int64  \n",
      " 10  CRuns      322 non-null    int64  \n",
      " 11  CRBI       322 non-null    int64  \n",
      " 12  CWalks     322 non-null    int64  \n",
      " 13  League     322 non-null    object \n",
      " 14  Division   322 non-null    object \n",
      " 15  PutOuts    322 non-null    int64  \n",
      " 16  Assists    322 non-null    int64  \n",
      " 17  Errors     322 non-null    int64  \n",
      " 18  Salary     263 non-null    float64\n",
      " 19  NewLeague  322 non-null    object \n",
      "dtypes: float64(1), int64(16), object(3)\n",
      "memory usage: 50.4+ KB\n"
     ]
    }
   ],
   "source": [
    "df=Hitters.copy()\n",
    "df.info()"
   ],
   "metadata": {
    "collapsed": false,
    "ExecuteTime": {
     "end_time": "2023-05-25T11:58:20.212802Z",
     "start_time": "2023-05-25T11:58:20.163682500Z"
    }
   }
  },
  {
   "cell_type": "code",
   "execution_count": 4,
   "outputs": [
    {
     "data": {
      "text/plain": "         count         mean          std   min     25%     50%      75%  \\\nAtBat    322.0   380.928571   153.404981  16.0  255.25   379.5   512.00   \nHits     322.0   101.024845    46.454741   1.0   64.00    96.0   137.00   \nHmRun    322.0    10.770186     8.709037   0.0    4.00     8.0    16.00   \nRuns     322.0    50.909938    26.024095   0.0   30.25    48.0    69.00   \nRBI      322.0    48.027950    26.166895   0.0   28.00    44.0    64.75   \nWalks    322.0    38.742236    21.639327   0.0   22.00    35.0    53.00   \nYears    322.0     7.444099     4.926087   1.0    4.00     6.0    11.00   \nCAtBat   322.0  2648.683230  2324.205870  19.0  816.75  1928.0  3924.25   \nCHits    322.0   717.571429   654.472627   4.0  209.00   508.0  1059.25   \nCHmRun   322.0    69.490683    86.266061   0.0   14.00    37.5    90.00   \nCRuns    322.0   358.795031   334.105886   1.0  100.25   247.0   526.25   \nCRBI     322.0   330.118012   333.219617   0.0   88.75   220.5   426.25   \nCWalks   322.0   260.239130   267.058085   0.0   67.25   170.5   339.25   \nPutOuts  322.0   288.937888   280.704614   0.0  109.25   212.0   325.00   \nAssists  322.0   106.913043   136.854876   0.0    7.00    39.5   166.00   \nErrors   322.0     8.040373     6.368359   0.0    3.00     6.0    11.00   \nSalary   263.0   535.925882   451.118681  67.5  190.00   425.0   750.00   \n\n             max  \nAtBat      687.0  \nHits       238.0  \nHmRun       40.0  \nRuns       130.0  \nRBI        121.0  \nWalks      105.0  \nYears       24.0  \nCAtBat   14053.0  \nCHits     4256.0  \nCHmRun     548.0  \nCRuns     2165.0  \nCRBI      1659.0  \nCWalks    1566.0  \nPutOuts   1378.0  \nAssists    492.0  \nErrors      32.0  \nSalary    2460.0  ",
      "text/html": "<div>\n<style scoped>\n    .dataframe tbody tr th:only-of-type {\n        vertical-align: middle;\n    }\n\n    .dataframe tbody tr th {\n        vertical-align: top;\n    }\n\n    .dataframe thead th {\n        text-align: right;\n    }\n</style>\n<table border=\"1\" class=\"dataframe\">\n  <thead>\n    <tr style=\"text-align: right;\">\n      <th></th>\n      <th>count</th>\n      <th>mean</th>\n      <th>std</th>\n      <th>min</th>\n      <th>25%</th>\n      <th>50%</th>\n      <th>75%</th>\n      <th>max</th>\n    </tr>\n  </thead>\n  <tbody>\n    <tr>\n      <th>AtBat</th>\n      <td>322.0</td>\n      <td>380.928571</td>\n      <td>153.404981</td>\n      <td>16.0</td>\n      <td>255.25</td>\n      <td>379.5</td>\n      <td>512.00</td>\n      <td>687.0</td>\n    </tr>\n    <tr>\n      <th>Hits</th>\n      <td>322.0</td>\n      <td>101.024845</td>\n      <td>46.454741</td>\n      <td>1.0</td>\n      <td>64.00</td>\n      <td>96.0</td>\n      <td>137.00</td>\n      <td>238.0</td>\n    </tr>\n    <tr>\n      <th>HmRun</th>\n      <td>322.0</td>\n      <td>10.770186</td>\n      <td>8.709037</td>\n      <td>0.0</td>\n      <td>4.00</td>\n      <td>8.0</td>\n      <td>16.00</td>\n      <td>40.0</td>\n    </tr>\n    <tr>\n      <th>Runs</th>\n      <td>322.0</td>\n      <td>50.909938</td>\n      <td>26.024095</td>\n      <td>0.0</td>\n      <td>30.25</td>\n      <td>48.0</td>\n      <td>69.00</td>\n      <td>130.0</td>\n    </tr>\n    <tr>\n      <th>RBI</th>\n      <td>322.0</td>\n      <td>48.027950</td>\n      <td>26.166895</td>\n      <td>0.0</td>\n      <td>28.00</td>\n      <td>44.0</td>\n      <td>64.75</td>\n      <td>121.0</td>\n    </tr>\n    <tr>\n      <th>Walks</th>\n      <td>322.0</td>\n      <td>38.742236</td>\n      <td>21.639327</td>\n      <td>0.0</td>\n      <td>22.00</td>\n      <td>35.0</td>\n      <td>53.00</td>\n      <td>105.0</td>\n    </tr>\n    <tr>\n      <th>Years</th>\n      <td>322.0</td>\n      <td>7.444099</td>\n      <td>4.926087</td>\n      <td>1.0</td>\n      <td>4.00</td>\n      <td>6.0</td>\n      <td>11.00</td>\n      <td>24.0</td>\n    </tr>\n    <tr>\n      <th>CAtBat</th>\n      <td>322.0</td>\n      <td>2648.683230</td>\n      <td>2324.205870</td>\n      <td>19.0</td>\n      <td>816.75</td>\n      <td>1928.0</td>\n      <td>3924.25</td>\n      <td>14053.0</td>\n    </tr>\n    <tr>\n      <th>CHits</th>\n      <td>322.0</td>\n      <td>717.571429</td>\n      <td>654.472627</td>\n      <td>4.0</td>\n      <td>209.00</td>\n      <td>508.0</td>\n      <td>1059.25</td>\n      <td>4256.0</td>\n    </tr>\n    <tr>\n      <th>CHmRun</th>\n      <td>322.0</td>\n      <td>69.490683</td>\n      <td>86.266061</td>\n      <td>0.0</td>\n      <td>14.00</td>\n      <td>37.5</td>\n      <td>90.00</td>\n      <td>548.0</td>\n    </tr>\n    <tr>\n      <th>CRuns</th>\n      <td>322.0</td>\n      <td>358.795031</td>\n      <td>334.105886</td>\n      <td>1.0</td>\n      <td>100.25</td>\n      <td>247.0</td>\n      <td>526.25</td>\n      <td>2165.0</td>\n    </tr>\n    <tr>\n      <th>CRBI</th>\n      <td>322.0</td>\n      <td>330.118012</td>\n      <td>333.219617</td>\n      <td>0.0</td>\n      <td>88.75</td>\n      <td>220.5</td>\n      <td>426.25</td>\n      <td>1659.0</td>\n    </tr>\n    <tr>\n      <th>CWalks</th>\n      <td>322.0</td>\n      <td>260.239130</td>\n      <td>267.058085</td>\n      <td>0.0</td>\n      <td>67.25</td>\n      <td>170.5</td>\n      <td>339.25</td>\n      <td>1566.0</td>\n    </tr>\n    <tr>\n      <th>PutOuts</th>\n      <td>322.0</td>\n      <td>288.937888</td>\n      <td>280.704614</td>\n      <td>0.0</td>\n      <td>109.25</td>\n      <td>212.0</td>\n      <td>325.00</td>\n      <td>1378.0</td>\n    </tr>\n    <tr>\n      <th>Assists</th>\n      <td>322.0</td>\n      <td>106.913043</td>\n      <td>136.854876</td>\n      <td>0.0</td>\n      <td>7.00</td>\n      <td>39.5</td>\n      <td>166.00</td>\n      <td>492.0</td>\n    </tr>\n    <tr>\n      <th>Errors</th>\n      <td>322.0</td>\n      <td>8.040373</td>\n      <td>6.368359</td>\n      <td>0.0</td>\n      <td>3.00</td>\n      <td>6.0</td>\n      <td>11.00</td>\n      <td>32.0</td>\n    </tr>\n    <tr>\n      <th>Salary</th>\n      <td>263.0</td>\n      <td>535.925882</td>\n      <td>451.118681</td>\n      <td>67.5</td>\n      <td>190.00</td>\n      <td>425.0</td>\n      <td>750.00</td>\n      <td>2460.0</td>\n    </tr>\n  </tbody>\n</table>\n</div>"
     },
     "execution_count": 4,
     "metadata": {},
     "output_type": "execute_result"
    }
   ],
   "source": [
    "df.describe().T"
   ],
   "metadata": {
    "collapsed": false,
    "ExecuteTime": {
     "end_time": "2023-05-25T11:58:22.340907400Z",
     "start_time": "2023-05-25T11:58:22.294522Z"
    }
   }
  },
  {
   "cell_type": "code",
   "execution_count": 5,
   "outputs": [
    {
     "data": {
      "text/plain": "    AtBat  Hits  HmRun  Runs  RBI  Walks  Years  CAtBat  CHits  CHmRun  CRuns  \\\n0     293    66      1    30   29     14      1     293     66       1     30   \n15    183    39      3    20   15     11      3     201     42       3     20   \n18    407   104      6    57   43     65     12    5233   1478     100    643   \n\n    CRBI  CWalks League Division  PutOuts  Assists  Errors  Salary NewLeague  \n0     29      14      A        E      446       33      20     NaN         A  \n15    16      11      A        W      118        0       0     NaN         A  \n18   658     653      A        W      912       88       9     NaN         A  ",
      "text/html": "<div>\n<style scoped>\n    .dataframe tbody tr th:only-of-type {\n        vertical-align: middle;\n    }\n\n    .dataframe tbody tr th {\n        vertical-align: top;\n    }\n\n    .dataframe thead th {\n        text-align: right;\n    }\n</style>\n<table border=\"1\" class=\"dataframe\">\n  <thead>\n    <tr style=\"text-align: right;\">\n      <th></th>\n      <th>AtBat</th>\n      <th>Hits</th>\n      <th>HmRun</th>\n      <th>Runs</th>\n      <th>RBI</th>\n      <th>Walks</th>\n      <th>Years</th>\n      <th>CAtBat</th>\n      <th>CHits</th>\n      <th>CHmRun</th>\n      <th>CRuns</th>\n      <th>CRBI</th>\n      <th>CWalks</th>\n      <th>League</th>\n      <th>Division</th>\n      <th>PutOuts</th>\n      <th>Assists</th>\n      <th>Errors</th>\n      <th>Salary</th>\n      <th>NewLeague</th>\n    </tr>\n  </thead>\n  <tbody>\n    <tr>\n      <th>0</th>\n      <td>293</td>\n      <td>66</td>\n      <td>1</td>\n      <td>30</td>\n      <td>29</td>\n      <td>14</td>\n      <td>1</td>\n      <td>293</td>\n      <td>66</td>\n      <td>1</td>\n      <td>30</td>\n      <td>29</td>\n      <td>14</td>\n      <td>A</td>\n      <td>E</td>\n      <td>446</td>\n      <td>33</td>\n      <td>20</td>\n      <td>NaN</td>\n      <td>A</td>\n    </tr>\n    <tr>\n      <th>15</th>\n      <td>183</td>\n      <td>39</td>\n      <td>3</td>\n      <td>20</td>\n      <td>15</td>\n      <td>11</td>\n      <td>3</td>\n      <td>201</td>\n      <td>42</td>\n      <td>3</td>\n      <td>20</td>\n      <td>16</td>\n      <td>11</td>\n      <td>A</td>\n      <td>W</td>\n      <td>118</td>\n      <td>0</td>\n      <td>0</td>\n      <td>NaN</td>\n      <td>A</td>\n    </tr>\n    <tr>\n      <th>18</th>\n      <td>407</td>\n      <td>104</td>\n      <td>6</td>\n      <td>57</td>\n      <td>43</td>\n      <td>65</td>\n      <td>12</td>\n      <td>5233</td>\n      <td>1478</td>\n      <td>100</td>\n      <td>643</td>\n      <td>658</td>\n      <td>653</td>\n      <td>A</td>\n      <td>W</td>\n      <td>912</td>\n      <td>88</td>\n      <td>9</td>\n      <td>NaN</td>\n      <td>A</td>\n    </tr>\n  </tbody>\n</table>\n</div>"
     },
     "execution_count": 5,
     "metadata": {},
     "output_type": "execute_result"
    }
   ],
   "source": [
    "df[df.isnull().any(axis=1)].head(3)"
   ],
   "metadata": {
    "collapsed": false,
    "ExecuteTime": {
     "end_time": "2023-05-25T11:58:42.560340800Z",
     "start_time": "2023-05-25T11:58:42.526341100Z"
    }
   }
  },
  {
   "cell_type": "code",
   "execution_count": 6,
   "outputs": [
    {
     "data": {
      "text/plain": "59"
     },
     "execution_count": 6,
     "metadata": {},
     "output_type": "execute_result"
    }
   ],
   "source": [
    "df.isnull().sum().sum()"
   ],
   "metadata": {
    "collapsed": false,
    "ExecuteTime": {
     "end_time": "2023-05-25T11:58:47.139704100Z",
     "start_time": "2023-05-25T11:58:47.101886200Z"
    }
   }
  },
  {
   "cell_type": "markdown",
   "source": [
    "### Data Pre-Processing"
   ],
   "metadata": {
    "collapsed": false
   }
  },
  {
   "cell_type": "code",
   "execution_count": 7,
   "outputs": [],
   "source": [
    "df=df.copy()"
   ],
   "metadata": {
    "collapsed": false,
    "ExecuteTime": {
     "end_time": "2023-05-25T11:59:05.938059500Z",
     "start_time": "2023-05-25T11:59:05.933061300Z"
    }
   }
  },
  {
   "cell_type": "code",
   "execution_count": 8,
   "outputs": [
    {
     "data": {
      "text/plain": "            AtBat      Hits     HmRun      Runs       RBI     Walks     Years  \\\nAtBat    1.000000  0.967939  0.592198  0.913060  0.820539  0.669845  0.047372   \nHits     0.967939  1.000000  0.562158  0.922187  0.811073  0.641211  0.044767   \nHmRun    0.592198  0.562158  1.000000  0.650988  0.855122  0.481014  0.116318   \nRuns     0.913060  0.922187  0.650988  1.000000  0.798206  0.732213  0.004541   \nRBI      0.820539  0.811073  0.855122  0.798206  1.000000  0.615997  0.146168   \nWalks    0.669845  0.641211  0.481014  0.732213  0.615997  1.000000  0.136475   \nYears    0.047372  0.044767  0.116318  0.004541  0.146168  0.136475  1.000000   \nCAtBat   0.235526  0.227565  0.221882  0.186497  0.294688  0.277175  0.920289   \nCHits    0.252717  0.255815  0.220627  0.204830  0.308201  0.280671  0.903631   \nCHmRun   0.236659  0.202712  0.493227  0.227913  0.441771  0.332473  0.726872   \nCRuns    0.266534  0.261787  0.262361  0.250556  0.323285  0.338478  0.882877   \nCRBI     0.244053  0.232005  0.351979  0.205976  0.393184  0.308631  0.868812   \nCWalks   0.166123  0.151818  0.233154  0.182168  0.250914  0.424507  0.838533   \nPutOuts  0.317550  0.310673  0.282923  0.279347  0.343186  0.299515 -0.004684   \nAssists  0.353824  0.320455 -0.106329  0.220567  0.106591  0.149656 -0.080638   \nErrors   0.352117  0.310038  0.039318  0.240475  0.193370  0.129382 -0.162140   \nSalary   0.394771  0.438675  0.343028  0.419859  0.449457  0.443867  0.400657   \n\n           CAtBat     CHits    CHmRun     CRuns      CRBI    CWalks   PutOuts  \\\nAtBat    0.235526  0.252717  0.236659  0.266534  0.244053  0.166123  0.317550   \nHits     0.227565  0.255815  0.202712  0.261787  0.232005  0.151818  0.310673   \nHmRun    0.221882  0.220627  0.493227  0.262361  0.351979  0.233154  0.282923   \nRuns     0.186497  0.204830  0.227913  0.250556  0.205976  0.182168  0.279347   \nRBI      0.294688  0.308201  0.441771  0.323285  0.393184  0.250914  0.343186   \nWalks    0.277175  0.280671  0.332473  0.338478  0.308631  0.424507  0.299515   \nYears    0.920289  0.903631  0.726872  0.882877  0.868812  0.838533 -0.004684   \nCAtBat   1.000000  0.995063  0.798836  0.983345  0.949219  0.906501  0.062283   \nCHits    0.995063  1.000000  0.783306  0.984609  0.945141  0.890954  0.076547   \nCHmRun   0.798836  0.783306  1.000000  0.820243  0.929484  0.799983  0.112724   \nCRuns    0.983345  0.984609  0.820243  1.000000  0.943769  0.927807  0.064180   \nCRBI     0.949219  0.945141  0.929484  0.943769  1.000000  0.884726  0.110098   \nCWalks   0.906501  0.890954  0.799983  0.927807  0.884726  1.000000  0.058638   \nPutOuts  0.062283  0.076547  0.112724  0.064180  0.110098  0.058638  1.000000   \nAssists  0.002038 -0.002523 -0.158511 -0.022978 -0.079387 -0.039130 -0.025024   \nErrors  -0.066922 -0.062756 -0.138115 -0.084395 -0.100990 -0.118475  0.109972   \nSalary   0.526135  0.548910  0.524931  0.562678  0.566966  0.489822  0.300480   \n\n          Assists    Errors    Salary  \nAtBat    0.353824  0.352117  0.394771  \nHits     0.320455  0.310038  0.438675  \nHmRun   -0.106329  0.039318  0.343028  \nRuns     0.220567  0.240475  0.419859  \nRBI      0.106591  0.193370  0.449457  \nWalks    0.149656  0.129382  0.443867  \nYears   -0.080638 -0.162140  0.400657  \nCAtBat   0.002038 -0.066922  0.526135  \nCHits   -0.002523 -0.062756  0.548910  \nCHmRun  -0.158511 -0.138115  0.524931  \nCRuns   -0.022978 -0.084395  0.562678  \nCRBI    -0.079387 -0.100990  0.566966  \nCWalks  -0.039130 -0.118475  0.489822  \nPutOuts -0.025024  0.109972  0.300480  \nAssists  1.000000  0.706362  0.025436  \nErrors   0.706362  1.000000 -0.005401  \nSalary   0.025436 -0.005401  1.000000  ",
      "text/html": "<div>\n<style scoped>\n    .dataframe tbody tr th:only-of-type {\n        vertical-align: middle;\n    }\n\n    .dataframe tbody tr th {\n        vertical-align: top;\n    }\n\n    .dataframe thead th {\n        text-align: right;\n    }\n</style>\n<table border=\"1\" class=\"dataframe\">\n  <thead>\n    <tr style=\"text-align: right;\">\n      <th></th>\n      <th>AtBat</th>\n      <th>Hits</th>\n      <th>HmRun</th>\n      <th>Runs</th>\n      <th>RBI</th>\n      <th>Walks</th>\n      <th>Years</th>\n      <th>CAtBat</th>\n      <th>CHits</th>\n      <th>CHmRun</th>\n      <th>CRuns</th>\n      <th>CRBI</th>\n      <th>CWalks</th>\n      <th>PutOuts</th>\n      <th>Assists</th>\n      <th>Errors</th>\n      <th>Salary</th>\n    </tr>\n  </thead>\n  <tbody>\n    <tr>\n      <th>AtBat</th>\n      <td>1.000000</td>\n      <td>0.967939</td>\n      <td>0.592198</td>\n      <td>0.913060</td>\n      <td>0.820539</td>\n      <td>0.669845</td>\n      <td>0.047372</td>\n      <td>0.235526</td>\n      <td>0.252717</td>\n      <td>0.236659</td>\n      <td>0.266534</td>\n      <td>0.244053</td>\n      <td>0.166123</td>\n      <td>0.317550</td>\n      <td>0.353824</td>\n      <td>0.352117</td>\n      <td>0.394771</td>\n    </tr>\n    <tr>\n      <th>Hits</th>\n      <td>0.967939</td>\n      <td>1.000000</td>\n      <td>0.562158</td>\n      <td>0.922187</td>\n      <td>0.811073</td>\n      <td>0.641211</td>\n      <td>0.044767</td>\n      <td>0.227565</td>\n      <td>0.255815</td>\n      <td>0.202712</td>\n      <td>0.261787</td>\n      <td>0.232005</td>\n      <td>0.151818</td>\n      <td>0.310673</td>\n      <td>0.320455</td>\n      <td>0.310038</td>\n      <td>0.438675</td>\n    </tr>\n    <tr>\n      <th>HmRun</th>\n      <td>0.592198</td>\n      <td>0.562158</td>\n      <td>1.000000</td>\n      <td>0.650988</td>\n      <td>0.855122</td>\n      <td>0.481014</td>\n      <td>0.116318</td>\n      <td>0.221882</td>\n      <td>0.220627</td>\n      <td>0.493227</td>\n      <td>0.262361</td>\n      <td>0.351979</td>\n      <td>0.233154</td>\n      <td>0.282923</td>\n      <td>-0.106329</td>\n      <td>0.039318</td>\n      <td>0.343028</td>\n    </tr>\n    <tr>\n      <th>Runs</th>\n      <td>0.913060</td>\n      <td>0.922187</td>\n      <td>0.650988</td>\n      <td>1.000000</td>\n      <td>0.798206</td>\n      <td>0.732213</td>\n      <td>0.004541</td>\n      <td>0.186497</td>\n      <td>0.204830</td>\n      <td>0.227913</td>\n      <td>0.250556</td>\n      <td>0.205976</td>\n      <td>0.182168</td>\n      <td>0.279347</td>\n      <td>0.220567</td>\n      <td>0.240475</td>\n      <td>0.419859</td>\n    </tr>\n    <tr>\n      <th>RBI</th>\n      <td>0.820539</td>\n      <td>0.811073</td>\n      <td>0.855122</td>\n      <td>0.798206</td>\n      <td>1.000000</td>\n      <td>0.615997</td>\n      <td>0.146168</td>\n      <td>0.294688</td>\n      <td>0.308201</td>\n      <td>0.441771</td>\n      <td>0.323285</td>\n      <td>0.393184</td>\n      <td>0.250914</td>\n      <td>0.343186</td>\n      <td>0.106591</td>\n      <td>0.193370</td>\n      <td>0.449457</td>\n    </tr>\n    <tr>\n      <th>Walks</th>\n      <td>0.669845</td>\n      <td>0.641211</td>\n      <td>0.481014</td>\n      <td>0.732213</td>\n      <td>0.615997</td>\n      <td>1.000000</td>\n      <td>0.136475</td>\n      <td>0.277175</td>\n      <td>0.280671</td>\n      <td>0.332473</td>\n      <td>0.338478</td>\n      <td>0.308631</td>\n      <td>0.424507</td>\n      <td>0.299515</td>\n      <td>0.149656</td>\n      <td>0.129382</td>\n      <td>0.443867</td>\n    </tr>\n    <tr>\n      <th>Years</th>\n      <td>0.047372</td>\n      <td>0.044767</td>\n      <td>0.116318</td>\n      <td>0.004541</td>\n      <td>0.146168</td>\n      <td>0.136475</td>\n      <td>1.000000</td>\n      <td>0.920289</td>\n      <td>0.903631</td>\n      <td>0.726872</td>\n      <td>0.882877</td>\n      <td>0.868812</td>\n      <td>0.838533</td>\n      <td>-0.004684</td>\n      <td>-0.080638</td>\n      <td>-0.162140</td>\n      <td>0.400657</td>\n    </tr>\n    <tr>\n      <th>CAtBat</th>\n      <td>0.235526</td>\n      <td>0.227565</td>\n      <td>0.221882</td>\n      <td>0.186497</td>\n      <td>0.294688</td>\n      <td>0.277175</td>\n      <td>0.920289</td>\n      <td>1.000000</td>\n      <td>0.995063</td>\n      <td>0.798836</td>\n      <td>0.983345</td>\n      <td>0.949219</td>\n      <td>0.906501</td>\n      <td>0.062283</td>\n      <td>0.002038</td>\n      <td>-0.066922</td>\n      <td>0.526135</td>\n    </tr>\n    <tr>\n      <th>CHits</th>\n      <td>0.252717</td>\n      <td>0.255815</td>\n      <td>0.220627</td>\n      <td>0.204830</td>\n      <td>0.308201</td>\n      <td>0.280671</td>\n      <td>0.903631</td>\n      <td>0.995063</td>\n      <td>1.000000</td>\n      <td>0.783306</td>\n      <td>0.984609</td>\n      <td>0.945141</td>\n      <td>0.890954</td>\n      <td>0.076547</td>\n      <td>-0.002523</td>\n      <td>-0.062756</td>\n      <td>0.548910</td>\n    </tr>\n    <tr>\n      <th>CHmRun</th>\n      <td>0.236659</td>\n      <td>0.202712</td>\n      <td>0.493227</td>\n      <td>0.227913</td>\n      <td>0.441771</td>\n      <td>0.332473</td>\n      <td>0.726872</td>\n      <td>0.798836</td>\n      <td>0.783306</td>\n      <td>1.000000</td>\n      <td>0.820243</td>\n      <td>0.929484</td>\n      <td>0.799983</td>\n      <td>0.112724</td>\n      <td>-0.158511</td>\n      <td>-0.138115</td>\n      <td>0.524931</td>\n    </tr>\n    <tr>\n      <th>CRuns</th>\n      <td>0.266534</td>\n      <td>0.261787</td>\n      <td>0.262361</td>\n      <td>0.250556</td>\n      <td>0.323285</td>\n      <td>0.338478</td>\n      <td>0.882877</td>\n      <td>0.983345</td>\n      <td>0.984609</td>\n      <td>0.820243</td>\n      <td>1.000000</td>\n      <td>0.943769</td>\n      <td>0.927807</td>\n      <td>0.064180</td>\n      <td>-0.022978</td>\n      <td>-0.084395</td>\n      <td>0.562678</td>\n    </tr>\n    <tr>\n      <th>CRBI</th>\n      <td>0.244053</td>\n      <td>0.232005</td>\n      <td>0.351979</td>\n      <td>0.205976</td>\n      <td>0.393184</td>\n      <td>0.308631</td>\n      <td>0.868812</td>\n      <td>0.949219</td>\n      <td>0.945141</td>\n      <td>0.929484</td>\n      <td>0.943769</td>\n      <td>1.000000</td>\n      <td>0.884726</td>\n      <td>0.110098</td>\n      <td>-0.079387</td>\n      <td>-0.100990</td>\n      <td>0.566966</td>\n    </tr>\n    <tr>\n      <th>CWalks</th>\n      <td>0.166123</td>\n      <td>0.151818</td>\n      <td>0.233154</td>\n      <td>0.182168</td>\n      <td>0.250914</td>\n      <td>0.424507</td>\n      <td>0.838533</td>\n      <td>0.906501</td>\n      <td>0.890954</td>\n      <td>0.799983</td>\n      <td>0.927807</td>\n      <td>0.884726</td>\n      <td>1.000000</td>\n      <td>0.058638</td>\n      <td>-0.039130</td>\n      <td>-0.118475</td>\n      <td>0.489822</td>\n    </tr>\n    <tr>\n      <th>PutOuts</th>\n      <td>0.317550</td>\n      <td>0.310673</td>\n      <td>0.282923</td>\n      <td>0.279347</td>\n      <td>0.343186</td>\n      <td>0.299515</td>\n      <td>-0.004684</td>\n      <td>0.062283</td>\n      <td>0.076547</td>\n      <td>0.112724</td>\n      <td>0.064180</td>\n      <td>0.110098</td>\n      <td>0.058638</td>\n      <td>1.000000</td>\n      <td>-0.025024</td>\n      <td>0.109972</td>\n      <td>0.300480</td>\n    </tr>\n    <tr>\n      <th>Assists</th>\n      <td>0.353824</td>\n      <td>0.320455</td>\n      <td>-0.106329</td>\n      <td>0.220567</td>\n      <td>0.106591</td>\n      <td>0.149656</td>\n      <td>-0.080638</td>\n      <td>0.002038</td>\n      <td>-0.002523</td>\n      <td>-0.158511</td>\n      <td>-0.022978</td>\n      <td>-0.079387</td>\n      <td>-0.039130</td>\n      <td>-0.025024</td>\n      <td>1.000000</td>\n      <td>0.706362</td>\n      <td>0.025436</td>\n    </tr>\n    <tr>\n      <th>Errors</th>\n      <td>0.352117</td>\n      <td>0.310038</td>\n      <td>0.039318</td>\n      <td>0.240475</td>\n      <td>0.193370</td>\n      <td>0.129382</td>\n      <td>-0.162140</td>\n      <td>-0.066922</td>\n      <td>-0.062756</td>\n      <td>-0.138115</td>\n      <td>-0.084395</td>\n      <td>-0.100990</td>\n      <td>-0.118475</td>\n      <td>0.109972</td>\n      <td>0.706362</td>\n      <td>1.000000</td>\n      <td>-0.005401</td>\n    </tr>\n    <tr>\n      <th>Salary</th>\n      <td>0.394771</td>\n      <td>0.438675</td>\n      <td>0.343028</td>\n      <td>0.419859</td>\n      <td>0.449457</td>\n      <td>0.443867</td>\n      <td>0.400657</td>\n      <td>0.526135</td>\n      <td>0.548910</td>\n      <td>0.524931</td>\n      <td>0.562678</td>\n      <td>0.566966</td>\n      <td>0.489822</td>\n      <td>0.300480</td>\n      <td>0.025436</td>\n      <td>-0.005401</td>\n      <td>1.000000</td>\n    </tr>\n  </tbody>\n</table>\n</div>"
     },
     "execution_count": 8,
     "metadata": {},
     "output_type": "execute_result"
    }
   ],
   "source": [
    "df.corr()"
   ],
   "metadata": {
    "collapsed": false,
    "ExecuteTime": {
     "end_time": "2023-05-25T11:59:11.488050600Z",
     "start_time": "2023-05-25T11:59:11.455920300Z"
    }
   }
  },
  {
   "cell_type": "code",
   "execution_count": 9,
   "outputs": [
    {
     "data": {
      "text/plain": "                              Salary\nLeague Division Year_lab            \nA      E        (0, 3]    112.500000\n                (3, 6]    655.568182\n                (6, 10]   852.738125\n                (10, 15]  816.311353\n                (15, 19]  665.416750\n                (19, 24]         NaN\n       W        (0, 3]    153.613636\n                (3, 6]    401.360000\n                (6, 10]   633.958375\n                (10, 15]  835.250000\n                (15, 19]  479.000000\n                (19, 24]  487.500000\nN      E        (0, 3]    248.520813\n                (3, 6]    501.191650\n                (6, 10]   824.226143\n                (10, 15]  894.322667\n                (15, 19]  662.500000\n                (19, 24]         NaN\n       W        (0, 3]    191.766667\n                (3, 6]    458.333333\n                (6, 10]   563.229187\n                (10, 15]  721.894000\n                (15, 19]  760.833250\n                (19, 24]  475.000000",
      "text/html": "<div>\n<style scoped>\n    .dataframe tbody tr th:only-of-type {\n        vertical-align: middle;\n    }\n\n    .dataframe tbody tr th {\n        vertical-align: top;\n    }\n\n    .dataframe thead th {\n        text-align: right;\n    }\n</style>\n<table border=\"1\" class=\"dataframe\">\n  <thead>\n    <tr style=\"text-align: right;\">\n      <th></th>\n      <th></th>\n      <th></th>\n      <th>Salary</th>\n    </tr>\n    <tr>\n      <th>League</th>\n      <th>Division</th>\n      <th>Year_lab</th>\n      <th></th>\n    </tr>\n  </thead>\n  <tbody>\n    <tr>\n      <th rowspan=\"12\" valign=\"top\">A</th>\n      <th rowspan=\"6\" valign=\"top\">E</th>\n      <th>(0, 3]</th>\n      <td>112.500000</td>\n    </tr>\n    <tr>\n      <th>(3, 6]</th>\n      <td>655.568182</td>\n    </tr>\n    <tr>\n      <th>(6, 10]</th>\n      <td>852.738125</td>\n    </tr>\n    <tr>\n      <th>(10, 15]</th>\n      <td>816.311353</td>\n    </tr>\n    <tr>\n      <th>(15, 19]</th>\n      <td>665.416750</td>\n    </tr>\n    <tr>\n      <th>(19, 24]</th>\n      <td>NaN</td>\n    </tr>\n    <tr>\n      <th rowspan=\"6\" valign=\"top\">W</th>\n      <th>(0, 3]</th>\n      <td>153.613636</td>\n    </tr>\n    <tr>\n      <th>(3, 6]</th>\n      <td>401.360000</td>\n    </tr>\n    <tr>\n      <th>(6, 10]</th>\n      <td>633.958375</td>\n    </tr>\n    <tr>\n      <th>(10, 15]</th>\n      <td>835.250000</td>\n    </tr>\n    <tr>\n      <th>(15, 19]</th>\n      <td>479.000000</td>\n    </tr>\n    <tr>\n      <th>(19, 24]</th>\n      <td>487.500000</td>\n    </tr>\n    <tr>\n      <th rowspan=\"12\" valign=\"top\">N</th>\n      <th rowspan=\"6\" valign=\"top\">E</th>\n      <th>(0, 3]</th>\n      <td>248.520813</td>\n    </tr>\n    <tr>\n      <th>(3, 6]</th>\n      <td>501.191650</td>\n    </tr>\n    <tr>\n      <th>(6, 10]</th>\n      <td>824.226143</td>\n    </tr>\n    <tr>\n      <th>(10, 15]</th>\n      <td>894.322667</td>\n    </tr>\n    <tr>\n      <th>(15, 19]</th>\n      <td>662.500000</td>\n    </tr>\n    <tr>\n      <th>(19, 24]</th>\n      <td>NaN</td>\n    </tr>\n    <tr>\n      <th rowspan=\"6\" valign=\"top\">W</th>\n      <th>(0, 3]</th>\n      <td>191.766667</td>\n    </tr>\n    <tr>\n      <th>(3, 6]</th>\n      <td>458.333333</td>\n    </tr>\n    <tr>\n      <th>(6, 10]</th>\n      <td>563.229187</td>\n    </tr>\n    <tr>\n      <th>(10, 15]</th>\n      <td>721.894000</td>\n    </tr>\n    <tr>\n      <th>(15, 19]</th>\n      <td>760.833250</td>\n    </tr>\n    <tr>\n      <th>(19, 24]</th>\n      <td>475.000000</td>\n    </tr>\n  </tbody>\n</table>\n</div>"
     },
     "execution_count": 9,
     "metadata": {},
     "output_type": "execute_result"
    }
   ],
   "source": [
    "df['Year_lab'] = pd.cut(x=df['Years'], bins=[0, 3, 6, 10, 15, 19, 24])\n",
    "df.groupby(['League','Division', 'Year_lab']).agg({'Salary':'mean'})"
   ],
   "metadata": {
    "collapsed": false,
    "ExecuteTime": {
     "end_time": "2023-05-25T11:59:17.026564900Z",
     "start_time": "2023-05-25T11:59:16.963747200Z"
    }
   }
  },
  {
   "cell_type": "code",
   "execution_count": 10,
   "outputs": [],
   "source": [
    "df['Salary'] = df.groupby(['League', 'Division', 'Year_lab'])['Salary'].transform(lambda x: x.fillna(x.mean()))"
   ],
   "metadata": {
    "collapsed": false,
    "ExecuteTime": {
     "end_time": "2023-05-25T11:59:21.922483900Z",
     "start_time": "2023-05-25T11:59:21.874288500Z"
    }
   }
  },
  {
   "cell_type": "code",
   "execution_count": 11,
   "outputs": [
    {
     "data": {
      "text/plain": "   AtBat  Hits  HmRun  Runs  RBI  Walks  Years  CAtBat  CHits  CHmRun  ...  \\\n0    293    66      1    30   29     14      1     293     66       1  ...   \n1    315    81      7    24   38     39     14    3449    835      69  ...   \n2    479   130     18    66   72     76      3    1624    457      63  ...   \n3    496   141     20    65   78     37     11    5628   1575     225  ...   \n4    321    87     10    39   42     30      2     396    101      12  ...   \n\n   CRBI  CWalks  League Division PutOuts  Assists  Errors  Salary  NewLeague  \\\n0    29      14       A        E     446       33      20   112.5          A   \n1   414     375       N        W     632       43      10   475.0          N   \n2   266     263       A        W     880       82      14   480.0          A   \n3   838     354       N        E     200       11       3   500.0          N   \n4    46      33       N        E     805       40       4    91.5          N   \n\n   Year_lab  \n0    (0, 3]  \n1  (10, 15]  \n2    (0, 3]  \n3  (10, 15]  \n4    (0, 3]  \n\n[5 rows x 21 columns]",
      "text/html": "<div>\n<style scoped>\n    .dataframe tbody tr th:only-of-type {\n        vertical-align: middle;\n    }\n\n    .dataframe tbody tr th {\n        vertical-align: top;\n    }\n\n    .dataframe thead th {\n        text-align: right;\n    }\n</style>\n<table border=\"1\" class=\"dataframe\">\n  <thead>\n    <tr style=\"text-align: right;\">\n      <th></th>\n      <th>AtBat</th>\n      <th>Hits</th>\n      <th>HmRun</th>\n      <th>Runs</th>\n      <th>RBI</th>\n      <th>Walks</th>\n      <th>Years</th>\n      <th>CAtBat</th>\n      <th>CHits</th>\n      <th>CHmRun</th>\n      <th>...</th>\n      <th>CRBI</th>\n      <th>CWalks</th>\n      <th>League</th>\n      <th>Division</th>\n      <th>PutOuts</th>\n      <th>Assists</th>\n      <th>Errors</th>\n      <th>Salary</th>\n      <th>NewLeague</th>\n      <th>Year_lab</th>\n    </tr>\n  </thead>\n  <tbody>\n    <tr>\n      <th>0</th>\n      <td>293</td>\n      <td>66</td>\n      <td>1</td>\n      <td>30</td>\n      <td>29</td>\n      <td>14</td>\n      <td>1</td>\n      <td>293</td>\n      <td>66</td>\n      <td>1</td>\n      <td>...</td>\n      <td>29</td>\n      <td>14</td>\n      <td>A</td>\n      <td>E</td>\n      <td>446</td>\n      <td>33</td>\n      <td>20</td>\n      <td>112.5</td>\n      <td>A</td>\n      <td>(0, 3]</td>\n    </tr>\n    <tr>\n      <th>1</th>\n      <td>315</td>\n      <td>81</td>\n      <td>7</td>\n      <td>24</td>\n      <td>38</td>\n      <td>39</td>\n      <td>14</td>\n      <td>3449</td>\n      <td>835</td>\n      <td>69</td>\n      <td>...</td>\n      <td>414</td>\n      <td>375</td>\n      <td>N</td>\n      <td>W</td>\n      <td>632</td>\n      <td>43</td>\n      <td>10</td>\n      <td>475.0</td>\n      <td>N</td>\n      <td>(10, 15]</td>\n    </tr>\n    <tr>\n      <th>2</th>\n      <td>479</td>\n      <td>130</td>\n      <td>18</td>\n      <td>66</td>\n      <td>72</td>\n      <td>76</td>\n      <td>3</td>\n      <td>1624</td>\n      <td>457</td>\n      <td>63</td>\n      <td>...</td>\n      <td>266</td>\n      <td>263</td>\n      <td>A</td>\n      <td>W</td>\n      <td>880</td>\n      <td>82</td>\n      <td>14</td>\n      <td>480.0</td>\n      <td>A</td>\n      <td>(0, 3]</td>\n    </tr>\n    <tr>\n      <th>3</th>\n      <td>496</td>\n      <td>141</td>\n      <td>20</td>\n      <td>65</td>\n      <td>78</td>\n      <td>37</td>\n      <td>11</td>\n      <td>5628</td>\n      <td>1575</td>\n      <td>225</td>\n      <td>...</td>\n      <td>838</td>\n      <td>354</td>\n      <td>N</td>\n      <td>E</td>\n      <td>200</td>\n      <td>11</td>\n      <td>3</td>\n      <td>500.0</td>\n      <td>N</td>\n      <td>(10, 15]</td>\n    </tr>\n    <tr>\n      <th>4</th>\n      <td>321</td>\n      <td>87</td>\n      <td>10</td>\n      <td>39</td>\n      <td>42</td>\n      <td>30</td>\n      <td>2</td>\n      <td>396</td>\n      <td>101</td>\n      <td>12</td>\n      <td>...</td>\n      <td>46</td>\n      <td>33</td>\n      <td>N</td>\n      <td>E</td>\n      <td>805</td>\n      <td>40</td>\n      <td>4</td>\n      <td>91.5</td>\n      <td>N</td>\n      <td>(0, 3]</td>\n    </tr>\n  </tbody>\n</table>\n<p>5 rows × 21 columns</p>\n</div>"
     },
     "execution_count": 11,
     "metadata": {},
     "output_type": "execute_result"
    }
   ],
   "source": [
    "df.head()"
   ],
   "metadata": {
    "collapsed": false,
    "ExecuteTime": {
     "end_time": "2023-05-25T11:59:25.833526100Z",
     "start_time": "2023-05-25T11:59:25.820943100Z"
    }
   }
  },
  {
   "cell_type": "code",
   "execution_count": 12,
   "outputs": [
    {
     "data": {
      "text/plain": "AtBat        0\nHits         0\nHmRun        0\nRuns         0\nRBI          0\nWalks        0\nYears        0\nCAtBat       0\nCHits        0\nCHmRun       0\nCRuns        0\nCRBI         0\nCWalks       0\nLeague       0\nDivision     0\nPutOuts      0\nAssists      0\nErrors       0\nSalary       0\nNewLeague    0\nYear_lab     0\ndtype: int64"
     },
     "execution_count": 12,
     "metadata": {},
     "output_type": "execute_result"
    }
   ],
   "source": [
    "df.isnull().sum()"
   ],
   "metadata": {
    "collapsed": false,
    "ExecuteTime": {
     "end_time": "2023-05-25T11:59:30.522947700Z",
     "start_time": "2023-05-25T11:59:30.486583500Z"
    }
   }
  },
  {
   "cell_type": "code",
   "execution_count": 13,
   "outputs": [
    {
     "data": {
      "text/plain": "(322, 21)"
     },
     "execution_count": 13,
     "metadata": {},
     "output_type": "execute_result"
    }
   ],
   "source": [
    "df.shape"
   ],
   "metadata": {
    "collapsed": false,
    "ExecuteTime": {
     "end_time": "2023-05-25T11:59:35.508218600Z",
     "start_time": "2023-05-25T11:59:35.470807200Z"
    }
   }
  },
  {
   "cell_type": "code",
   "execution_count": 14,
   "outputs": [],
   "source": [
    "le = LabelEncoder()\n",
    "df['League'] = le.fit_transform(df['League'])\n",
    "df['Division'] = le.fit_transform(df['Division'])\n",
    "df['NewLeague'] = le.fit_transform(df['NewLeague'])"
   ],
   "metadata": {
    "collapsed": false,
    "ExecuteTime": {
     "end_time": "2023-05-25T11:59:41.536552700Z",
     "start_time": "2023-05-25T11:59:41.530544500Z"
    }
   }
  },
  {
   "cell_type": "code",
   "execution_count": 15,
   "outputs": [
    {
     "data": {
      "text/plain": "   AtBat  Hits  HmRun  Runs  RBI  Walks  Years  CAtBat  CHits  CHmRun  ...  \\\n0    293    66      1    30   29     14      1     293     66       1  ...   \n1    315    81      7    24   38     39     14    3449    835      69  ...   \n2    479   130     18    66   72     76      3    1624    457      63  ...   \n3    496   141     20    65   78     37     11    5628   1575     225  ...   \n4    321    87     10    39   42     30      2     396    101      12  ...   \n\n   CRBI  CWalks  League  Division  PutOuts  Assists  Errors  Salary  \\\n0    29      14       0         0      446       33      20   112.5   \n1   414     375       1         1      632       43      10   475.0   \n2   266     263       0         1      880       82      14   480.0   \n3   838     354       1         0      200       11       3   500.0   \n4    46      33       1         0      805       40       4    91.5   \n\n   NewLeague  Year_lab  \n0          0    (0, 3]  \n1          1  (10, 15]  \n2          0    (0, 3]  \n3          1  (10, 15]  \n4          1    (0, 3]  \n\n[5 rows x 21 columns]",
      "text/html": "<div>\n<style scoped>\n    .dataframe tbody tr th:only-of-type {\n        vertical-align: middle;\n    }\n\n    .dataframe tbody tr th {\n        vertical-align: top;\n    }\n\n    .dataframe thead th {\n        text-align: right;\n    }\n</style>\n<table border=\"1\" class=\"dataframe\">\n  <thead>\n    <tr style=\"text-align: right;\">\n      <th></th>\n      <th>AtBat</th>\n      <th>Hits</th>\n      <th>HmRun</th>\n      <th>Runs</th>\n      <th>RBI</th>\n      <th>Walks</th>\n      <th>Years</th>\n      <th>CAtBat</th>\n      <th>CHits</th>\n      <th>CHmRun</th>\n      <th>...</th>\n      <th>CRBI</th>\n      <th>CWalks</th>\n      <th>League</th>\n      <th>Division</th>\n      <th>PutOuts</th>\n      <th>Assists</th>\n      <th>Errors</th>\n      <th>Salary</th>\n      <th>NewLeague</th>\n      <th>Year_lab</th>\n    </tr>\n  </thead>\n  <tbody>\n    <tr>\n      <th>0</th>\n      <td>293</td>\n      <td>66</td>\n      <td>1</td>\n      <td>30</td>\n      <td>29</td>\n      <td>14</td>\n      <td>1</td>\n      <td>293</td>\n      <td>66</td>\n      <td>1</td>\n      <td>...</td>\n      <td>29</td>\n      <td>14</td>\n      <td>0</td>\n      <td>0</td>\n      <td>446</td>\n      <td>33</td>\n      <td>20</td>\n      <td>112.5</td>\n      <td>0</td>\n      <td>(0, 3]</td>\n    </tr>\n    <tr>\n      <th>1</th>\n      <td>315</td>\n      <td>81</td>\n      <td>7</td>\n      <td>24</td>\n      <td>38</td>\n      <td>39</td>\n      <td>14</td>\n      <td>3449</td>\n      <td>835</td>\n      <td>69</td>\n      <td>...</td>\n      <td>414</td>\n      <td>375</td>\n      <td>1</td>\n      <td>1</td>\n      <td>632</td>\n      <td>43</td>\n      <td>10</td>\n      <td>475.0</td>\n      <td>1</td>\n      <td>(10, 15]</td>\n    </tr>\n    <tr>\n      <th>2</th>\n      <td>479</td>\n      <td>130</td>\n      <td>18</td>\n      <td>66</td>\n      <td>72</td>\n      <td>76</td>\n      <td>3</td>\n      <td>1624</td>\n      <td>457</td>\n      <td>63</td>\n      <td>...</td>\n      <td>266</td>\n      <td>263</td>\n      <td>0</td>\n      <td>1</td>\n      <td>880</td>\n      <td>82</td>\n      <td>14</td>\n      <td>480.0</td>\n      <td>0</td>\n      <td>(0, 3]</td>\n    </tr>\n    <tr>\n      <th>3</th>\n      <td>496</td>\n      <td>141</td>\n      <td>20</td>\n      <td>65</td>\n      <td>78</td>\n      <td>37</td>\n      <td>11</td>\n      <td>5628</td>\n      <td>1575</td>\n      <td>225</td>\n      <td>...</td>\n      <td>838</td>\n      <td>354</td>\n      <td>1</td>\n      <td>0</td>\n      <td>200</td>\n      <td>11</td>\n      <td>3</td>\n      <td>500.0</td>\n      <td>1</td>\n      <td>(10, 15]</td>\n    </tr>\n    <tr>\n      <th>4</th>\n      <td>321</td>\n      <td>87</td>\n      <td>10</td>\n      <td>39</td>\n      <td>42</td>\n      <td>30</td>\n      <td>2</td>\n      <td>396</td>\n      <td>101</td>\n      <td>12</td>\n      <td>...</td>\n      <td>46</td>\n      <td>33</td>\n      <td>1</td>\n      <td>0</td>\n      <td>805</td>\n      <td>40</td>\n      <td>4</td>\n      <td>91.5</td>\n      <td>1</td>\n      <td>(0, 3]</td>\n    </tr>\n  </tbody>\n</table>\n<p>5 rows × 21 columns</p>\n</div>"
     },
     "execution_count": 15,
     "metadata": {},
     "output_type": "execute_result"
    }
   ],
   "source": [
    "df.head()"
   ],
   "metadata": {
    "collapsed": false,
    "ExecuteTime": {
     "end_time": "2023-05-25T11:59:45.567237100Z",
     "start_time": "2023-05-25T11:59:45.540442900Z"
    }
   }
  },
  {
   "cell_type": "code",
   "execution_count": 16,
   "outputs": [],
   "source": [
    "df['Year_lab'] = le.fit_transform(df['Year_lab'])"
   ],
   "metadata": {
    "collapsed": false,
    "ExecuteTime": {
     "end_time": "2023-05-25T11:59:50.545832700Z",
     "start_time": "2023-05-25T11:59:50.539832600Z"
    }
   }
  },
  {
   "cell_type": "code",
   "execution_count": 17,
   "outputs": [
    {
     "data": {
      "text/plain": "   AtBat  Hits  HmRun  Runs  RBI  Walks  Years  CAtBat  CHits  CHmRun  ...  \\\n0    293    66      1    30   29     14      1     293     66       1  ...   \n1    315    81      7    24   38     39     14    3449    835      69  ...   \n2    479   130     18    66   72     76      3    1624    457      63  ...   \n3    496   141     20    65   78     37     11    5628   1575     225  ...   \n4    321    87     10    39   42     30      2     396    101      12  ...   \n\n   CRBI  CWalks  League  Division  PutOuts  Assists  Errors  Salary  \\\n0    29      14       0         0      446       33      20   112.5   \n1   414     375       1         1      632       43      10   475.0   \n2   266     263       0         1      880       82      14   480.0   \n3   838     354       1         0      200       11       3   500.0   \n4    46      33       1         0      805       40       4    91.5   \n\n   NewLeague  Year_lab  \n0          0         0  \n1          1         3  \n2          0         0  \n3          1         3  \n4          1         0  \n\n[5 rows x 21 columns]",
      "text/html": "<div>\n<style scoped>\n    .dataframe tbody tr th:only-of-type {\n        vertical-align: middle;\n    }\n\n    .dataframe tbody tr th {\n        vertical-align: top;\n    }\n\n    .dataframe thead th {\n        text-align: right;\n    }\n</style>\n<table border=\"1\" class=\"dataframe\">\n  <thead>\n    <tr style=\"text-align: right;\">\n      <th></th>\n      <th>AtBat</th>\n      <th>Hits</th>\n      <th>HmRun</th>\n      <th>Runs</th>\n      <th>RBI</th>\n      <th>Walks</th>\n      <th>Years</th>\n      <th>CAtBat</th>\n      <th>CHits</th>\n      <th>CHmRun</th>\n      <th>...</th>\n      <th>CRBI</th>\n      <th>CWalks</th>\n      <th>League</th>\n      <th>Division</th>\n      <th>PutOuts</th>\n      <th>Assists</th>\n      <th>Errors</th>\n      <th>Salary</th>\n      <th>NewLeague</th>\n      <th>Year_lab</th>\n    </tr>\n  </thead>\n  <tbody>\n    <tr>\n      <th>0</th>\n      <td>293</td>\n      <td>66</td>\n      <td>1</td>\n      <td>30</td>\n      <td>29</td>\n      <td>14</td>\n      <td>1</td>\n      <td>293</td>\n      <td>66</td>\n      <td>1</td>\n      <td>...</td>\n      <td>29</td>\n      <td>14</td>\n      <td>0</td>\n      <td>0</td>\n      <td>446</td>\n      <td>33</td>\n      <td>20</td>\n      <td>112.5</td>\n      <td>0</td>\n      <td>0</td>\n    </tr>\n    <tr>\n      <th>1</th>\n      <td>315</td>\n      <td>81</td>\n      <td>7</td>\n      <td>24</td>\n      <td>38</td>\n      <td>39</td>\n      <td>14</td>\n      <td>3449</td>\n      <td>835</td>\n      <td>69</td>\n      <td>...</td>\n      <td>414</td>\n      <td>375</td>\n      <td>1</td>\n      <td>1</td>\n      <td>632</td>\n      <td>43</td>\n      <td>10</td>\n      <td>475.0</td>\n      <td>1</td>\n      <td>3</td>\n    </tr>\n    <tr>\n      <th>2</th>\n      <td>479</td>\n      <td>130</td>\n      <td>18</td>\n      <td>66</td>\n      <td>72</td>\n      <td>76</td>\n      <td>3</td>\n      <td>1624</td>\n      <td>457</td>\n      <td>63</td>\n      <td>...</td>\n      <td>266</td>\n      <td>263</td>\n      <td>0</td>\n      <td>1</td>\n      <td>880</td>\n      <td>82</td>\n      <td>14</td>\n      <td>480.0</td>\n      <td>0</td>\n      <td>0</td>\n    </tr>\n    <tr>\n      <th>3</th>\n      <td>496</td>\n      <td>141</td>\n      <td>20</td>\n      <td>65</td>\n      <td>78</td>\n      <td>37</td>\n      <td>11</td>\n      <td>5628</td>\n      <td>1575</td>\n      <td>225</td>\n      <td>...</td>\n      <td>838</td>\n      <td>354</td>\n      <td>1</td>\n      <td>0</td>\n      <td>200</td>\n      <td>11</td>\n      <td>3</td>\n      <td>500.0</td>\n      <td>1</td>\n      <td>3</td>\n    </tr>\n    <tr>\n      <th>4</th>\n      <td>321</td>\n      <td>87</td>\n      <td>10</td>\n      <td>39</td>\n      <td>42</td>\n      <td>30</td>\n      <td>2</td>\n      <td>396</td>\n      <td>101</td>\n      <td>12</td>\n      <td>...</td>\n      <td>46</td>\n      <td>33</td>\n      <td>1</td>\n      <td>0</td>\n      <td>805</td>\n      <td>40</td>\n      <td>4</td>\n      <td>91.5</td>\n      <td>1</td>\n      <td>0</td>\n    </tr>\n  </tbody>\n</table>\n<p>5 rows × 21 columns</p>\n</div>"
     },
     "execution_count": 17,
     "metadata": {},
     "output_type": "execute_result"
    }
   ],
   "source": [
    "df.head()"
   ],
   "metadata": {
    "collapsed": false,
    "ExecuteTime": {
     "end_time": "2023-05-25T11:59:55.504696200Z",
     "start_time": "2023-05-25T11:59:55.496523600Z"
    }
   }
  },
  {
   "cell_type": "code",
   "execution_count": 18,
   "outputs": [
    {
     "name": "stdout",
     "output_type": "stream",
     "text": [
      "<class 'pandas.core.frame.DataFrame'>\n",
      "RangeIndex: 322 entries, 0 to 321\n",
      "Data columns (total 21 columns):\n",
      " #   Column     Non-Null Count  Dtype  \n",
      "---  ------     --------------  -----  \n",
      " 0   AtBat      322 non-null    int64  \n",
      " 1   Hits       322 non-null    int64  \n",
      " 2   HmRun      322 non-null    int64  \n",
      " 3   Runs       322 non-null    int64  \n",
      " 4   RBI        322 non-null    int64  \n",
      " 5   Walks      322 non-null    int64  \n",
      " 6   Years      322 non-null    int64  \n",
      " 7   CAtBat     322 non-null    int64  \n",
      " 8   CHits      322 non-null    int64  \n",
      " 9   CHmRun     322 non-null    int64  \n",
      " 10  CRuns      322 non-null    int64  \n",
      " 11  CRBI       322 non-null    int64  \n",
      " 12  CWalks     322 non-null    int64  \n",
      " 13  League     322 non-null    int32  \n",
      " 14  Division   322 non-null    int32  \n",
      " 15  PutOuts    322 non-null    int64  \n",
      " 16  Assists    322 non-null    int64  \n",
      " 17  Errors     322 non-null    int64  \n",
      " 18  Salary     322 non-null    float64\n",
      " 19  NewLeague  322 non-null    int32  \n",
      " 20  Year_lab   322 non-null    int32  \n",
      "dtypes: float64(1), int32(4), int64(16)\n",
      "memory usage: 47.9 KB\n"
     ]
    }
   ],
   "source": [
    "df.info()"
   ],
   "metadata": {
    "collapsed": false,
    "ExecuteTime": {
     "end_time": "2023-05-25T12:00:00.341835Z",
     "start_time": "2023-05-25T12:00:00.268094600Z"
    }
   }
  },
  {
   "cell_type": "code",
   "execution_count": 19,
   "outputs": [
    {
     "data": {
      "text/plain": "      AtBat      Hits     HmRun      Runs       RBI     Walks     Years  \\\n0  0.472401  0.106411  0.001612  0.048369  0.046756  0.022572  0.001612   \n1  0.085657  0.022026  0.001903  0.006526  0.010333  0.010605  0.003807   \n2  0.237036  0.064331  0.008907  0.032660  0.035630  0.037609  0.001485   \n3  0.082624  0.023488  0.003332  0.010828  0.012993  0.006163  0.001832   \n4  0.331579  0.089867  0.010330  0.040285  0.043384  0.030989  0.002066   \n\n     CAtBat     CHits    CHmRun     CRuns      CRBI    CWalks   PutOuts  \\\n0  0.472401  0.106411  0.001612  0.048369  0.046756  0.022572  0.719082   \n1  0.937879  0.227060  0.018763  0.087289  0.112578  0.101973  0.171858   \n2  0.803645  0.226149  0.031176  0.110848  0.131631  0.130147  0.435473   \n3  0.937518  0.262365  0.037481  0.137929  0.139595  0.058970  0.033316   \n4  0.409050  0.104328  0.012395  0.049582  0.047516  0.034088  0.831529   \n\n    Assists    Errors  Year_lab  \n0  0.053206  0.032246  0.000000  \n1  0.011693  0.002719  0.000816  \n2  0.040578  0.006928  0.000000  \n3  0.001832  0.000500  0.000500  \n4  0.041318  0.004132  0.000000  ",
      "text/html": "<div>\n<style scoped>\n    .dataframe tbody tr th:only-of-type {\n        vertical-align: middle;\n    }\n\n    .dataframe tbody tr th {\n        vertical-align: top;\n    }\n\n    .dataframe thead th {\n        text-align: right;\n    }\n</style>\n<table border=\"1\" class=\"dataframe\">\n  <thead>\n    <tr style=\"text-align: right;\">\n      <th></th>\n      <th>AtBat</th>\n      <th>Hits</th>\n      <th>HmRun</th>\n      <th>Runs</th>\n      <th>RBI</th>\n      <th>Walks</th>\n      <th>Years</th>\n      <th>CAtBat</th>\n      <th>CHits</th>\n      <th>CHmRun</th>\n      <th>CRuns</th>\n      <th>CRBI</th>\n      <th>CWalks</th>\n      <th>PutOuts</th>\n      <th>Assists</th>\n      <th>Errors</th>\n      <th>Year_lab</th>\n    </tr>\n  </thead>\n  <tbody>\n    <tr>\n      <th>0</th>\n      <td>0.472401</td>\n      <td>0.106411</td>\n      <td>0.001612</td>\n      <td>0.048369</td>\n      <td>0.046756</td>\n      <td>0.022572</td>\n      <td>0.001612</td>\n      <td>0.472401</td>\n      <td>0.106411</td>\n      <td>0.001612</td>\n      <td>0.048369</td>\n      <td>0.046756</td>\n      <td>0.022572</td>\n      <td>0.719082</td>\n      <td>0.053206</td>\n      <td>0.032246</td>\n      <td>0.000000</td>\n    </tr>\n    <tr>\n      <th>1</th>\n      <td>0.085657</td>\n      <td>0.022026</td>\n      <td>0.001903</td>\n      <td>0.006526</td>\n      <td>0.010333</td>\n      <td>0.010605</td>\n      <td>0.003807</td>\n      <td>0.937879</td>\n      <td>0.227060</td>\n      <td>0.018763</td>\n      <td>0.087289</td>\n      <td>0.112578</td>\n      <td>0.101973</td>\n      <td>0.171858</td>\n      <td>0.011693</td>\n      <td>0.002719</td>\n      <td>0.000816</td>\n    </tr>\n    <tr>\n      <th>2</th>\n      <td>0.237036</td>\n      <td>0.064331</td>\n      <td>0.008907</td>\n      <td>0.032660</td>\n      <td>0.035630</td>\n      <td>0.037609</td>\n      <td>0.001485</td>\n      <td>0.803645</td>\n      <td>0.226149</td>\n      <td>0.031176</td>\n      <td>0.110848</td>\n      <td>0.131631</td>\n      <td>0.130147</td>\n      <td>0.435473</td>\n      <td>0.040578</td>\n      <td>0.006928</td>\n      <td>0.000000</td>\n    </tr>\n    <tr>\n      <th>3</th>\n      <td>0.082624</td>\n      <td>0.023488</td>\n      <td>0.003332</td>\n      <td>0.010828</td>\n      <td>0.012993</td>\n      <td>0.006163</td>\n      <td>0.001832</td>\n      <td>0.937518</td>\n      <td>0.262365</td>\n      <td>0.037481</td>\n      <td>0.137929</td>\n      <td>0.139595</td>\n      <td>0.058970</td>\n      <td>0.033316</td>\n      <td>0.001832</td>\n      <td>0.000500</td>\n      <td>0.000500</td>\n    </tr>\n    <tr>\n      <th>4</th>\n      <td>0.331579</td>\n      <td>0.089867</td>\n      <td>0.010330</td>\n      <td>0.040285</td>\n      <td>0.043384</td>\n      <td>0.030989</td>\n      <td>0.002066</td>\n      <td>0.409050</td>\n      <td>0.104328</td>\n      <td>0.012395</td>\n      <td>0.049582</td>\n      <td>0.047516</td>\n      <td>0.034088</td>\n      <td>0.831529</td>\n      <td>0.041318</td>\n      <td>0.004132</td>\n      <td>0.000000</td>\n    </tr>\n  </tbody>\n</table>\n</div>"
     },
     "execution_count": 19,
     "metadata": {},
     "output_type": "execute_result"
    }
   ],
   "source": [
    "df_X= df.drop([\"Salary\",\"League\",\"Division\",\"NewLeague\"], axis=1)\n",
    "\n",
    "scaled_cols5=preprocessing.normalize(df_X)\n",
    "\n",
    "scaled_cols=pd.DataFrame(scaled_cols5, columns=df_X.columns)\n",
    "scaled_cols.head()"
   ],
   "metadata": {
    "collapsed": false,
    "ExecuteTime": {
     "end_time": "2023-05-25T12:00:09.116115500Z",
     "start_time": "2023-05-25T12:00:09.075970500Z"
    }
   }
  },
  {
   "cell_type": "code",
   "execution_count": 20,
   "outputs": [
    {
     "data": {
      "text/plain": "   League  Division  NewLeague  Year_lab\n0       0         0          0         0\n1       1         1          1         3\n2       0         1          0         0\n3       1         0          1         3\n4       1         0          1         0",
      "text/html": "<div>\n<style scoped>\n    .dataframe tbody tr th:only-of-type {\n        vertical-align: middle;\n    }\n\n    .dataframe tbody tr th {\n        vertical-align: top;\n    }\n\n    .dataframe thead th {\n        text-align: right;\n    }\n</style>\n<table border=\"1\" class=\"dataframe\">\n  <thead>\n    <tr style=\"text-align: right;\">\n      <th></th>\n      <th>League</th>\n      <th>Division</th>\n      <th>NewLeague</th>\n      <th>Year_lab</th>\n    </tr>\n  </thead>\n  <tbody>\n    <tr>\n      <th>0</th>\n      <td>0</td>\n      <td>0</td>\n      <td>0</td>\n      <td>0</td>\n    </tr>\n    <tr>\n      <th>1</th>\n      <td>1</td>\n      <td>1</td>\n      <td>1</td>\n      <td>3</td>\n    </tr>\n    <tr>\n      <th>2</th>\n      <td>0</td>\n      <td>1</td>\n      <td>0</td>\n      <td>0</td>\n    </tr>\n    <tr>\n      <th>3</th>\n      <td>1</td>\n      <td>0</td>\n      <td>1</td>\n      <td>3</td>\n    </tr>\n    <tr>\n      <th>4</th>\n      <td>1</td>\n      <td>0</td>\n      <td>1</td>\n      <td>0</td>\n    </tr>\n  </tbody>\n</table>\n</div>"
     },
     "execution_count": 20,
     "metadata": {},
     "output_type": "execute_result"
    }
   ],
   "source": [
    "cat_df=pd.concat([df.loc[:,\"League\":\"Division\"],df.loc[:,\"NewLeague\":\"Year_lab\"]], axis=1)\n",
    "cat_df.head()"
   ],
   "metadata": {
    "collapsed": false,
    "ExecuteTime": {
     "end_time": "2023-05-25T12:00:15.346280700Z",
     "start_time": "2023-05-25T12:00:15.308461900Z"
    }
   }
  },
  {
   "cell_type": "code",
   "execution_count": 21,
   "outputs": [
    {
     "data": {
      "text/plain": "        AtBat      Hits     HmRun      Runs       RBI     Walks     Years  \\\n0    0.472401  0.106411  0.001612  0.048369  0.046756  0.022572  0.001612   \n1    0.085657  0.022026  0.001903  0.006526  0.010333  0.010605  0.003807   \n2    0.237036  0.064331  0.008907  0.032660  0.035630  0.037609  0.001485   \n3    0.082624  0.023488  0.003332  0.010828  0.012993  0.006163  0.001832   \n4    0.331579  0.089867  0.010330  0.040285  0.043384  0.030989  0.002066   \n..        ...       ...       ...       ...       ...       ...       ...   \n317  0.169544  0.043324  0.002388  0.022174  0.016374  0.012622  0.001706   \n318  0.083222  0.023004  0.000846  0.012855  0.008457  0.015900  0.002030   \n319  0.256903  0.068147  0.001623  0.032992  0.023256  0.028124  0.003245   \n320  0.155442  0.039064  0.002441  0.023059  0.016277  0.021160  0.002170   \n321  0.120098  0.032356  0.001713  0.014655  0.008375  0.005900  0.002094   \n\n       CAtBat     CHits    CHmRun  ...    CWalks   PutOuts   Assists  \\\n0    0.472401  0.106411  0.001612  ...  0.022572  0.719082  0.053206   \n1    0.937879  0.227060  0.018763  ...  0.101973  0.171858  0.011693   \n2    0.803645  0.226149  0.031176  ...  0.130147  0.435473  0.040578   \n3    0.937518  0.262365  0.037481  ...  0.058970  0.033316  0.001832   \n4    0.409050  0.104328  0.012395  ...  0.034088  0.831529  0.041318   \n..        ...       ...       ...  ...       ...       ...       ...   \n317  0.922085  0.274954  0.010916  ...  0.047076  0.110869  0.003070   \n318  0.932185  0.255585  0.006597  ...  0.148006  0.052944  0.064446   \n319  0.919443  0.234188  0.003786  ...  0.078964  0.020011  0.061116   \n320  0.867543  0.232484  0.026314  ...  0.090064  0.356458  0.035537   \n321  0.934139  0.277311  0.005710  ...  0.047392  0.077655  0.000761   \n\n       Errors  Year_lab  League  Division  NewLeague  Year_lab  Salary  \n0    0.032246  0.000000       0         0          0         0   112.5  \n1    0.002719  0.000816       1         1          1         3   475.0  \n2    0.006928  0.000000       0         1          0         0   480.0  \n3    0.000500  0.000500       1         0          1         3   500.0  \n4    0.004132  0.000000       1         0          1         0    91.5  \n..        ...       ...     ...       ...        ...       ...     ...  \n317  0.001023  0.000341       1         0          1         1   700.0  \n318  0.003383  0.000507       0         0          0         3   875.0  \n319  0.003786  0.000541       0         1          0         1   385.0  \n320  0.003255  0.000543       0         0          0         2   960.0  \n321  0.000571  0.000571       0         1          0         3  1000.0  \n\n[322 rows x 22 columns]",
      "text/html": "<div>\n<style scoped>\n    .dataframe tbody tr th:only-of-type {\n        vertical-align: middle;\n    }\n\n    .dataframe tbody tr th {\n        vertical-align: top;\n    }\n\n    .dataframe thead th {\n        text-align: right;\n    }\n</style>\n<table border=\"1\" class=\"dataframe\">\n  <thead>\n    <tr style=\"text-align: right;\">\n      <th></th>\n      <th>AtBat</th>\n      <th>Hits</th>\n      <th>HmRun</th>\n      <th>Runs</th>\n      <th>RBI</th>\n      <th>Walks</th>\n      <th>Years</th>\n      <th>CAtBat</th>\n      <th>CHits</th>\n      <th>CHmRun</th>\n      <th>...</th>\n      <th>CWalks</th>\n      <th>PutOuts</th>\n      <th>Assists</th>\n      <th>Errors</th>\n      <th>Year_lab</th>\n      <th>League</th>\n      <th>Division</th>\n      <th>NewLeague</th>\n      <th>Year_lab</th>\n      <th>Salary</th>\n    </tr>\n  </thead>\n  <tbody>\n    <tr>\n      <th>0</th>\n      <td>0.472401</td>\n      <td>0.106411</td>\n      <td>0.001612</td>\n      <td>0.048369</td>\n      <td>0.046756</td>\n      <td>0.022572</td>\n      <td>0.001612</td>\n      <td>0.472401</td>\n      <td>0.106411</td>\n      <td>0.001612</td>\n      <td>...</td>\n      <td>0.022572</td>\n      <td>0.719082</td>\n      <td>0.053206</td>\n      <td>0.032246</td>\n      <td>0.000000</td>\n      <td>0</td>\n      <td>0</td>\n      <td>0</td>\n      <td>0</td>\n      <td>112.5</td>\n    </tr>\n    <tr>\n      <th>1</th>\n      <td>0.085657</td>\n      <td>0.022026</td>\n      <td>0.001903</td>\n      <td>0.006526</td>\n      <td>0.010333</td>\n      <td>0.010605</td>\n      <td>0.003807</td>\n      <td>0.937879</td>\n      <td>0.227060</td>\n      <td>0.018763</td>\n      <td>...</td>\n      <td>0.101973</td>\n      <td>0.171858</td>\n      <td>0.011693</td>\n      <td>0.002719</td>\n      <td>0.000816</td>\n      <td>1</td>\n      <td>1</td>\n      <td>1</td>\n      <td>3</td>\n      <td>475.0</td>\n    </tr>\n    <tr>\n      <th>2</th>\n      <td>0.237036</td>\n      <td>0.064331</td>\n      <td>0.008907</td>\n      <td>0.032660</td>\n      <td>0.035630</td>\n      <td>0.037609</td>\n      <td>0.001485</td>\n      <td>0.803645</td>\n      <td>0.226149</td>\n      <td>0.031176</td>\n      <td>...</td>\n      <td>0.130147</td>\n      <td>0.435473</td>\n      <td>0.040578</td>\n      <td>0.006928</td>\n      <td>0.000000</td>\n      <td>0</td>\n      <td>1</td>\n      <td>0</td>\n      <td>0</td>\n      <td>480.0</td>\n    </tr>\n    <tr>\n      <th>3</th>\n      <td>0.082624</td>\n      <td>0.023488</td>\n      <td>0.003332</td>\n      <td>0.010828</td>\n      <td>0.012993</td>\n      <td>0.006163</td>\n      <td>0.001832</td>\n      <td>0.937518</td>\n      <td>0.262365</td>\n      <td>0.037481</td>\n      <td>...</td>\n      <td>0.058970</td>\n      <td>0.033316</td>\n      <td>0.001832</td>\n      <td>0.000500</td>\n      <td>0.000500</td>\n      <td>1</td>\n      <td>0</td>\n      <td>1</td>\n      <td>3</td>\n      <td>500.0</td>\n    </tr>\n    <tr>\n      <th>4</th>\n      <td>0.331579</td>\n      <td>0.089867</td>\n      <td>0.010330</td>\n      <td>0.040285</td>\n      <td>0.043384</td>\n      <td>0.030989</td>\n      <td>0.002066</td>\n      <td>0.409050</td>\n      <td>0.104328</td>\n      <td>0.012395</td>\n      <td>...</td>\n      <td>0.034088</td>\n      <td>0.831529</td>\n      <td>0.041318</td>\n      <td>0.004132</td>\n      <td>0.000000</td>\n      <td>1</td>\n      <td>0</td>\n      <td>1</td>\n      <td>0</td>\n      <td>91.5</td>\n    </tr>\n    <tr>\n      <th>...</th>\n      <td>...</td>\n      <td>...</td>\n      <td>...</td>\n      <td>...</td>\n      <td>...</td>\n      <td>...</td>\n      <td>...</td>\n      <td>...</td>\n      <td>...</td>\n      <td>...</td>\n      <td>...</td>\n      <td>...</td>\n      <td>...</td>\n      <td>...</td>\n      <td>...</td>\n      <td>...</td>\n      <td>...</td>\n      <td>...</td>\n      <td>...</td>\n      <td>...</td>\n      <td>...</td>\n    </tr>\n    <tr>\n      <th>317</th>\n      <td>0.169544</td>\n      <td>0.043324</td>\n      <td>0.002388</td>\n      <td>0.022174</td>\n      <td>0.016374</td>\n      <td>0.012622</td>\n      <td>0.001706</td>\n      <td>0.922085</td>\n      <td>0.274954</td>\n      <td>0.010916</td>\n      <td>...</td>\n      <td>0.047076</td>\n      <td>0.110869</td>\n      <td>0.003070</td>\n      <td>0.001023</td>\n      <td>0.000341</td>\n      <td>1</td>\n      <td>0</td>\n      <td>1</td>\n      <td>1</td>\n      <td>700.0</td>\n    </tr>\n    <tr>\n      <th>318</th>\n      <td>0.083222</td>\n      <td>0.023004</td>\n      <td>0.000846</td>\n      <td>0.012855</td>\n      <td>0.008457</td>\n      <td>0.015900</td>\n      <td>0.002030</td>\n      <td>0.932185</td>\n      <td>0.255585</td>\n      <td>0.006597</td>\n      <td>...</td>\n      <td>0.148006</td>\n      <td>0.052944</td>\n      <td>0.064446</td>\n      <td>0.003383</td>\n      <td>0.000507</td>\n      <td>0</td>\n      <td>0</td>\n      <td>0</td>\n      <td>3</td>\n      <td>875.0</td>\n    </tr>\n    <tr>\n      <th>319</th>\n      <td>0.256903</td>\n      <td>0.068147</td>\n      <td>0.001623</td>\n      <td>0.032992</td>\n      <td>0.023256</td>\n      <td>0.028124</td>\n      <td>0.003245</td>\n      <td>0.919443</td>\n      <td>0.234188</td>\n      <td>0.003786</td>\n      <td>...</td>\n      <td>0.078964</td>\n      <td>0.020011</td>\n      <td>0.061116</td>\n      <td>0.003786</td>\n      <td>0.000541</td>\n      <td>0</td>\n      <td>1</td>\n      <td>0</td>\n      <td>1</td>\n      <td>385.0</td>\n    </tr>\n    <tr>\n      <th>320</th>\n      <td>0.155442</td>\n      <td>0.039064</td>\n      <td>0.002441</td>\n      <td>0.023059</td>\n      <td>0.016277</td>\n      <td>0.021160</td>\n      <td>0.002170</td>\n      <td>0.867543</td>\n      <td>0.232484</td>\n      <td>0.026314</td>\n      <td>...</td>\n      <td>0.090064</td>\n      <td>0.356458</td>\n      <td>0.035537</td>\n      <td>0.003255</td>\n      <td>0.000543</td>\n      <td>0</td>\n      <td>0</td>\n      <td>0</td>\n      <td>2</td>\n      <td>960.0</td>\n    </tr>\n    <tr>\n      <th>321</th>\n      <td>0.120098</td>\n      <td>0.032356</td>\n      <td>0.001713</td>\n      <td>0.014655</td>\n      <td>0.008375</td>\n      <td>0.005900</td>\n      <td>0.002094</td>\n      <td>0.934139</td>\n      <td>0.277311</td>\n      <td>0.005710</td>\n      <td>...</td>\n      <td>0.047392</td>\n      <td>0.077655</td>\n      <td>0.000761</td>\n      <td>0.000571</td>\n      <td>0.000571</td>\n      <td>0</td>\n      <td>1</td>\n      <td>0</td>\n      <td>3</td>\n      <td>1000.0</td>\n    </tr>\n  </tbody>\n</table>\n<p>322 rows × 22 columns</p>\n</div>"
     },
     "execution_count": 21,
     "metadata": {},
     "output_type": "execute_result"
    }
   ],
   "source": [
    "df= pd.concat([scaled_cols,cat_df,df[\"Salary\"]], axis=1)\n",
    "df"
   ],
   "metadata": {
    "collapsed": false,
    "ExecuteTime": {
     "end_time": "2023-05-25T12:00:31.359622600Z",
     "start_time": "2023-05-25T12:00:31.318654400Z"
    }
   }
  },
  {
   "cell_type": "code",
   "execution_count": 22,
   "outputs": [
    {
     "data": {
      "text/plain": "(322, 22)"
     },
     "execution_count": 22,
     "metadata": {},
     "output_type": "execute_result"
    }
   ],
   "source": [
    "df.shape"
   ],
   "metadata": {
    "collapsed": false,
    "ExecuteTime": {
     "end_time": "2023-05-25T12:00:37.853927Z",
     "start_time": "2023-05-25T12:00:37.829892400Z"
    }
   }
  },
  {
   "cell_type": "markdown",
   "source": [
    "### Modeling"
   ],
   "metadata": {
    "collapsed": false
   }
  },
  {
   "cell_type": "code",
   "execution_count": 23,
   "outputs": [
    {
     "data": {
      "text/plain": "295.09409321656557"
     },
     "execution_count": 23,
     "metadata": {},
     "output_type": "execute_result"
    }
   ],
   "source": [
    "y=df[\"Salary\"]\n",
    "X=df.drop(\"Salary\", axis=1)\n",
    "\n",
    "X_train, X_test, y_train, y_test = train_test_split(X, y,\n",
    "                                                    test_size=0.20,\n",
    "                                                    random_state=46)\n",
    "\n",
    "linreg = LinearRegression()\n",
    "model = linreg.fit(X_train,y_train)\n",
    "y_pred = model.predict(X_test)\n",
    "df_linreg_rmse = np.sqrt(mean_squared_error(y_test,y_pred))\n",
    "df_linreg_rmse"
   ],
   "metadata": {
    "collapsed": false,
    "ExecuteTime": {
     "end_time": "2023-05-25T12:00:58.468564700Z",
     "start_time": "2023-05-25T12:00:57.950021400Z"
    }
   }
  },
  {
   "cell_type": "code",
   "execution_count": 24,
   "outputs": [
    {
     "data": {
      "text/plain": "313.57725335744357"
     },
     "execution_count": 24,
     "metadata": {},
     "output_type": "execute_result"
    }
   ],
   "source": [
    "y=df[\"Salary\"]\n",
    "X=df.drop(\"Salary\", axis=1)\n",
    "\n",
    "X_train, X_test, y_train, y_test = train_test_split(X, y,\n",
    "                                                    test_size=0.20,\n",
    "                                                    random_state=46)\n",
    "\n",
    "\n",
    "ridreg = Ridge()\n",
    "model = ridreg.fit(X_train, y_train)\n",
    "y_pred = model.predict(X_test)\n",
    "df_ridreg_rmse = np.sqrt(mean_squared_error(y_test,y_pred))\n",
    "df_ridreg_rmse"
   ],
   "metadata": {
    "collapsed": false,
    "ExecuteTime": {
     "end_time": "2023-05-25T12:01:04.270129300Z",
     "start_time": "2023-05-25T12:01:04.230197400Z"
    }
   }
  },
  {
   "cell_type": "code",
   "execution_count": 25,
   "outputs": [
    {
     "data": {
      "text/plain": "287.03573553221474"
     },
     "execution_count": 25,
     "metadata": {},
     "output_type": "execute_result"
    }
   ],
   "source": [
    "y=df[\"Salary\"]\n",
    "X=df.drop(\"Salary\", axis=1)\n",
    "\n",
    "X_train, X_test, y_train, y_test = train_test_split(X, y,\n",
    "                                                    test_size=0.20,\n",
    "                                                    random_state=46)\n",
    "\n",
    "\n",
    "lasreg = Lasso()\n",
    "model = lasreg.fit(X_train,y_train)\n",
    "y_pred = model.predict(X_test)\n",
    "df_lasreg_rmse = np.sqrt(mean_squared_error(y_test,y_pred))\n",
    "df_lasreg_rmse"
   ],
   "metadata": {
    "collapsed": false,
    "ExecuteTime": {
     "end_time": "2023-05-25T12:01:09.194245100Z",
     "start_time": "2023-05-25T12:01:09.154582200Z"
    }
   }
  },
  {
   "cell_type": "code",
   "execution_count": 26,
   "outputs": [
    {
     "data": {
      "text/plain": "331.1528731117293"
     },
     "execution_count": 26,
     "metadata": {},
     "output_type": "execute_result"
    }
   ],
   "source": [
    "y=df[\"Salary\"]\n",
    "X=df.drop(\"Salary\", axis=1)\n",
    "\n",
    "X_train, X_test, y_train, y_test = train_test_split(X, y,\n",
    "                                                    test_size=0.20,\n",
    "                                                    random_state=46)\n",
    "\n",
    "\n",
    "enet = ElasticNet()\n",
    "model = enet.fit(X_train,y_train)\n",
    "y_pred = model.predict(X_test)\n",
    "df_enet_rmse = np.sqrt(mean_squared_error(y_test,y_pred))\n",
    "df_enet_rmse"
   ],
   "metadata": {
    "collapsed": false,
    "ExecuteTime": {
     "end_time": "2023-05-25T12:01:13.938523800Z",
     "start_time": "2023-05-25T12:01:13.897598200Z"
    }
   }
  },
  {
   "cell_type": "code",
   "execution_count": 27,
   "outputs": [
    {
     "data": {
      "text/plain": "294.5139057976809"
     },
     "execution_count": 27,
     "metadata": {},
     "output_type": "execute_result"
    }
   ],
   "source": [
    "y=df[\"Salary\"]\n",
    "X=df.drop(\"Salary\", axis=1)\n",
    "\n",
    "X_train, X_test, y_train, y_test = train_test_split(X, y,\n",
    "                                                    test_size=0.20,\n",
    "                                                    random_state=46)\n",
    "\n",
    "\n",
    "alpha = [0.1,0.01,0.001,0.2,0.3,0.5,0.8,0.9,1]\n",
    "ridreg_cv = RidgeCV(alphas = alpha, scoring = \"neg_mean_squared_error\", cv = 10, normalize = True)\n",
    "ridreg_cv.fit(X_train, y_train)\n",
    "ridreg_cv.alpha_\n",
    "\n",
    "#Final Model\n",
    "\n",
    "ridreg_tuned = Ridge(alpha = ridreg_cv.alpha_).fit(X_train,y_train)\n",
    "y_pred = ridreg_tuned.predict(X_test)\n",
    "df_ridge_tuned_rmse = np.sqrt(mean_squared_error(y_test,y_pred))\n",
    "df_ridge_tuned_rmse"
   ],
   "metadata": {
    "collapsed": false,
    "ExecuteTime": {
     "end_time": "2023-05-25T12:01:20.473313200Z",
     "start_time": "2023-05-25T12:01:20.193198100Z"
    }
   }
  },
  {
   "cell_type": "code",
   "execution_count": 28,
   "outputs": [
    {
     "data": {
      "text/plain": "295.47603675458856"
     },
     "execution_count": 28,
     "metadata": {},
     "output_type": "execute_result"
    }
   ],
   "source": [
    "y=df[\"Salary\"]\n",
    "X=df.drop(\"Salary\", axis=1)\n",
    "\n",
    "X_train, X_test, y_train, y_test = train_test_split(X, y,\n",
    "                                                    test_size=0.20,\n",
    "                                                    random_state=46)\n",
    "\n",
    "alpha = [0.1,0.01,0.001,0.2,0.3,0.5,0.8,0.9,1]\n",
    "lasso_cv = LassoCV(alphas = alpha, cv = 10, normalize = True)\n",
    "lasso_cv.fit(X_train, y_train)\n",
    "lasso_cv.alpha_\n",
    "\n",
    "#Final Model\n",
    "\n",
    "lasso_tuned = Lasso(alpha = lasso_cv.alpha_).fit(X_train,y_train)\n",
    "y_pred = lasso_tuned.predict(X_test)\n",
    "df_lasso_tuned_rmse = np.sqrt(mean_squared_error(y_test, y_pred))\n",
    "df_lasso_tuned_rmse"
   ],
   "metadata": {
    "collapsed": false,
    "ExecuteTime": {
     "end_time": "2023-05-25T12:01:24.468599Z",
     "start_time": "2023-05-25T12:01:24.424544100Z"
    }
   }
  },
  {
   "cell_type": "code",
   "execution_count": 30,
   "outputs": [
    {
     "data": {
      "text/plain": "283.49265451112063"
     },
     "execution_count": 30,
     "metadata": {},
     "output_type": "execute_result"
    }
   ],
   "source": [
    "y=df[\"Salary\"]\n",
    "X=df.drop(\"Salary\", axis=1)\n",
    "\n",
    "X_train, X_test, y_train, y_test = train_test_split(X, y,\n",
    "                                                    test_size=0.20,\n",
    "                                                    random_state=46)\n",
    "\n",
    "enet_params = {\"l1_ratio\": [0.1,0.2,0.3,0.4,0.5,0.6,0.7,0.8,0.9,1],\n",
    "               \"alpha\":[0.1,0.01,0.001,0.2,0.3,0.5,0.8,0.9,1]}\n",
    "\n",
    "enet_model = ElasticNet().fit(X_train,y_train)\n",
    "enet_cv = GridSearchCV(enet_model, enet_params, cv = 10).fit(X, y)\n",
    "enet_cv.best_params_\n",
    "\n",
    "#Final Model\n",
    "\n",
    "enet_tuned = ElasticNet(**enet_cv.best_params_).fit(X_train,y_train)\n",
    "y_pred = enet_tuned.predict(X_test)\n",
    "df_enet_tuned_rmse = np.sqrt(mean_squared_error(y_test,y_pred))\n",
    "df_enet_tuned_rmse"
   ],
   "metadata": {
    "collapsed": false,
    "ExecuteTime": {
     "end_time": "2023-05-25T12:01:37.990120400Z",
     "start_time": "2023-05-25T12:01:35.209408500Z"
    }
   }
  },
  {
   "cell_type": "code",
   "execution_count": 31,
   "outputs": [
    {
     "data": {
      "text/plain": "                         CONDITIONS      LINEAR       RIDGE  RIDGE TUNED  \\\n0  df: filled with mean, normalized  295.094093  313.577253   294.513906   \n\n        LASSO  LASSO TUNED  ELASTIC NET  ELASTIC NET TUNED  \n0  287.035736   295.476037   331.152873         283.492655  ",
      "text/html": "<div>\n<style scoped>\n    .dataframe tbody tr th:only-of-type {\n        vertical-align: middle;\n    }\n\n    .dataframe tbody tr th {\n        vertical-align: top;\n    }\n\n    .dataframe thead th {\n        text-align: right;\n    }\n</style>\n<table border=\"1\" class=\"dataframe\">\n  <thead>\n    <tr style=\"text-align: right;\">\n      <th></th>\n      <th>CONDITIONS</th>\n      <th>LINEAR</th>\n      <th>RIDGE</th>\n      <th>RIDGE TUNED</th>\n      <th>LASSO</th>\n      <th>LASSO TUNED</th>\n      <th>ELASTIC NET</th>\n      <th>ELASTIC NET TUNED</th>\n    </tr>\n  </thead>\n  <tbody>\n    <tr>\n      <th>0</th>\n      <td>df: filled with mean, normalized</td>\n      <td>295.094093</td>\n      <td>313.577253</td>\n      <td>294.513906</td>\n      <td>287.035736</td>\n      <td>295.476037</td>\n      <td>331.152873</td>\n      <td>283.492655</td>\n    </tr>\n  </tbody>\n</table>\n</div>"
     },
     "execution_count": 31,
     "metadata": {},
     "output_type": "execute_result"
    }
   ],
   "source": [
    "basicresult_df = pd.DataFrame({\"CONDITIONS\":[\"df: filled with mean, normalized\",],\n",
    "                               \"LINEAR\":[df_linreg_rmse],\n",
    "                               \"RIDGE\":[df_ridreg_rmse],\n",
    "                               \"RIDGE TUNED\":[df_ridge_tuned_rmse],\n",
    "                               \"LASSO\":[df_lasreg_rmse],\n",
    "                               \"LASSO TUNED\":[df_lasso_tuned_rmse],\n",
    "                               \"ELASTIC NET\":[df_enet_rmse],\n",
    "                               \"ELASTIC NET TUNED\":[df_enet_tuned_rmse]\n",
    "                               })\n",
    "\n",
    "basicresult_df"
   ],
   "metadata": {
    "collapsed": false,
    "ExecuteTime": {
     "end_time": "2023-05-25T12:01:38.036994700Z",
     "start_time": "2023-05-25T12:01:37.993120500Z"
    }
   }
  },
  {
   "cell_type": "code",
   "execution_count": null,
   "outputs": [],
   "source": [],
   "metadata": {
    "collapsed": false
   }
  }
 ],
 "metadata": {
  "kernelspec": {
   "display_name": "Python 3",
   "language": "python",
   "name": "python3"
  },
  "language_info": {
   "codemirror_mode": {
    "name": "ipython",
    "version": 2
   },
   "file_extension": ".py",
   "mimetype": "text/x-python",
   "name": "python",
   "nbconvert_exporter": "python",
   "pygments_lexer": "ipython2",
   "version": "2.7.6"
  }
 },
 "nbformat": 4,
 "nbformat_minor": 0
}

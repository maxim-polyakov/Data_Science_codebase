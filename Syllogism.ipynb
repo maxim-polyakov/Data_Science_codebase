{
 "cells": [
  {
   "cell_type": "markdown",
   "source": [
    "### Syllogism"
   ],
   "metadata": {
    "collapsed": false
   }
  },
  {
   "cell_type": "markdown",
   "source": [
    "\"A syllogism (conclusion, inference') is a kind of logical argument that applies deductive reasoning to arrive at a conclusion based on two propositions that are asserted or assumed to be true.\""
   ],
   "metadata": {
    "collapsed": false
   }
  },
  {
   "cell_type": "markdown",
   "source": [
    "\"In its earliest form (defined by Aristotle in his 350 BC book Prior Analytics), a syllogism arises when two true premises (propositions or statements) validly imply a conclusion, or the main point that the argument aims to get across. For example, knowing that all men are mortal (major premise) and that Socrates is a man (minor premise), we may validly conclude that Socrates is mortal. Syllogistic arguments are usually represented in a three-line form:\""
   ],
   "metadata": {
    "collapsed": false
   }
  },
  {
   "cell_type": "markdown",
   "source": [
    "\"All men are mortal. Socrates is a man. Therefore, Socrates is mortal.\""
   ],
   "metadata": {
    "collapsed": false
   }
  },
  {
   "cell_type": "markdown",
   "source": [
    "\"In antiquity, two rival syllogistic theories existed: Aristotelian syllogism and Stoic syllogism. From the Middle Ages onwards, categorical syllogism and syllogism were usually used interchangeably."
   ],
   "metadata": {
    "collapsed": false
   }
  },
  {
   "cell_type": "markdown",
   "source": [
    "https://en.wikipedia.org/wiki/Syllogism"
   ],
   "metadata": {
    "collapsed": false
   }
  },
  {
   "cell_type": "markdown",
   "source": [
    "\"A syllogism, also known as a rule of inference, is a formal logical scheme used to draw a conclusion from a set of premises. An example of a syllogism is modus ponens.\""
   ],
   "metadata": {
    "collapsed": false
   }
  },
  {
   "cell_type": "markdown",
   "source": [
    "https://mathworld.wolfram.com/Syllogism.html#:~:text=A%20syllogism%2C%20also%20known%20as,from%20a%20set%20of%20premises."
   ],
   "metadata": {
    "collapsed": false
   }
  },
  {
   "cell_type": "code",
   "execution_count": 1,
   "outputs": [
    {
     "data": {
      "text/plain": "                                         ďťżStatement  \\\n60  Some pastries are toffees. All toffees are cho...   \n61             All boys are honest. Sachin is honest.   \n62          All pens are roads. All roads are houses.   \n63  All artists are smokers. Some smokers are drun...   \n64              All cars are cats. All fans are cats.   \n\n                    Conclusion 1                     Conclusion 2 Result class  \n60  Some chocolates are toffees.   Some toffees are not pastries.            A  \n61              Sachin is a boy.     All honest persons are boys.            D  \n62          All houses are pens.            Some houses are pens.            B  \n63      All smokers are artists.  Some drunkards are not smokers.            D  \n64             All cars are fans              Some fans are cars.            D  ",
      "text/html": "<div>\n<style scoped>\n    .dataframe tbody tr th:only-of-type {\n        vertical-align: middle;\n    }\n\n    .dataframe tbody tr th {\n        vertical-align: top;\n    }\n\n    .dataframe thead th {\n        text-align: right;\n    }\n</style>\n<table border=\"1\" class=\"dataframe\">\n  <thead>\n    <tr style=\"text-align: right;\">\n      <th></th>\n      <th>ďťżStatement</th>\n      <th>Conclusion 1</th>\n      <th>Conclusion 2</th>\n      <th>Result class</th>\n    </tr>\n  </thead>\n  <tbody>\n    <tr>\n      <th>60</th>\n      <td>Some pastries are toffees. All toffees are cho...</td>\n      <td>Some chocolates are toffees.</td>\n      <td>Some toffees are not pastries.</td>\n      <td>A</td>\n    </tr>\n    <tr>\n      <th>61</th>\n      <td>All boys are honest. Sachin is honest.</td>\n      <td>Sachin is a boy.</td>\n      <td>All honest persons are boys.</td>\n      <td>D</td>\n    </tr>\n    <tr>\n      <th>62</th>\n      <td>All pens are roads. All roads are houses.</td>\n      <td>All houses are pens.</td>\n      <td>Some houses are pens.</td>\n      <td>B</td>\n    </tr>\n    <tr>\n      <th>63</th>\n      <td>All artists are smokers. Some smokers are drun...</td>\n      <td>All smokers are artists.</td>\n      <td>Some drunkards are not smokers.</td>\n      <td>D</td>\n    </tr>\n    <tr>\n      <th>64</th>\n      <td>All cars are cats. All fans are cats.</td>\n      <td>All cars are fans</td>\n      <td>Some fans are cars.</td>\n      <td>D</td>\n    </tr>\n  </tbody>\n</table>\n</div>"
     },
     "execution_count": 1,
     "metadata": {},
     "output_type": "execute_result"
    }
   ],
   "source": [
    "import pandas as pd\n",
    "import stylecloud\n",
    "from IPython.display import Image\n",
    "\n",
    "df = pd.read_csv('../DataSets/Syllogism/syllogism.csv', delimiter=',', encoding='ISO-8859-2')\n",
    "df.tail()"
   ],
   "metadata": {
    "collapsed": false,
    "ExecuteTime": {
     "end_time": "2023-05-20T18:05:13.452646300Z",
     "start_time": "2023-05-20T18:05:13.244608500Z"
    }
   }
  },
  {
   "cell_type": "code",
   "execution_count": 2,
   "outputs": [
    {
     "data": {
      "text/plain": "ďťżStatement    0\nConclusion 1    0\nConclusion 2    0\nResult class    0\ndtype: int64"
     },
     "execution_count": 2,
     "metadata": {},
     "output_type": "execute_result"
    }
   ],
   "source": [
    "df.isnull().sum()"
   ],
   "metadata": {
    "collapsed": false,
    "ExecuteTime": {
     "end_time": "2023-05-20T18:05:13.464646900Z",
     "start_time": "2023-05-20T18:05:13.450644900Z"
    }
   }
  },
  {
   "cell_type": "code",
   "execution_count": 3,
   "outputs": [
    {
     "data": {
      "text/plain": "D    22\nA    13\nE    12\nB    11\nC     6\nc     1\nName: Result class, dtype: int64"
     },
     "execution_count": 3,
     "metadata": {},
     "output_type": "execute_result"
    }
   ],
   "source": [
    "df[\"Result class\"].value_counts()"
   ],
   "metadata": {
    "collapsed": false,
    "ExecuteTime": {
     "end_time": "2023-05-20T18:05:13.530645800Z",
     "start_time": "2023-05-20T18:05:13.465648300Z"
    }
   }
  },
  {
   "cell_type": "code",
   "execution_count": 5,
   "outputs": [],
   "source": [
    "df = df.drop_duplicates().reset_index()"
   ],
   "metadata": {
    "collapsed": false,
    "ExecuteTime": {
     "end_time": "2023-05-20T18:05:16.956644800Z",
     "start_time": "2023-05-20T18:05:16.898645700Z"
    }
   }
  },
  {
   "cell_type": "markdown",
   "source": [
    "### Install Dataprep to make columns pythonish"
   ],
   "metadata": {
    "collapsed": false
   }
  },
  {
   "cell_type": "code",
   "execution_count": 6,
   "outputs": [
    {
     "name": "stdout",
     "output_type": "stream",
     "text": [
      "Column Headers Cleaning Report:\n",
      "\t4 values cleaned (80.0%)\n"
     ]
    },
    {
     "data": {
      "text/plain": "    index                                      dtz_statement  \\\n0       0  Some actors are singers. All the singers are d...   \n1       1  All the harmoniums are instruments. All the in...   \n2       2    Some mangoes are yellow. Some tixo are mangoes.   \n3       3  Some ants are parrots. All the parrots are app...   \n4       4    Some papers are pens. All the pencils are pens.   \n..    ...                                                ...   \n60     60  Some pastries are toffees. All toffees are cho...   \n61     61             All boys are honest. Sachin is honest.   \n62     62          All pens are roads. All roads are houses.   \n63     63  All artists are smokers. Some smokers are drun...   \n64     64              All cars are cats. All fans are cats.   \n\n                       conclusion_1                     conclusion_2  \\\n0          Some actors are dancers.              No singer is actor.   \n1   All the flutes are instruments.   All the harmoniums are flutes.   \n2           Some mangoes are green.                Tixo is a yellow.   \n3       All the apples are parrots.            Some ants are apples.   \n4            Some pens are pencils.            Some pens are papers.   \n..                              ...                              ...   \n60     Some chocolates are toffees.   Some toffees are not pastries.   \n61                 Sachin is a boy.     All honest persons are boys.   \n62             All houses are pens.            Some houses are pens.   \n63         All smokers are artists.  Some drunkards are not smokers.   \n64                All cars are fans              Some fans are cars.   \n\n   result_class  \n0             A  \n1             B  \n2             D  \n3             B  \n4             E  \n..          ...  \n60            A  \n61            D  \n62            B  \n63            D  \n64            D  \n\n[65 rows x 5 columns]",
      "text/html": "<div>\n<style scoped>\n    .dataframe tbody tr th:only-of-type {\n        vertical-align: middle;\n    }\n\n    .dataframe tbody tr th {\n        vertical-align: top;\n    }\n\n    .dataframe thead th {\n        text-align: right;\n    }\n</style>\n<table border=\"1\" class=\"dataframe\">\n  <thead>\n    <tr style=\"text-align: right;\">\n      <th></th>\n      <th>index</th>\n      <th>dtz_statement</th>\n      <th>conclusion_1</th>\n      <th>conclusion_2</th>\n      <th>result_class</th>\n    </tr>\n  </thead>\n  <tbody>\n    <tr>\n      <th>0</th>\n      <td>0</td>\n      <td>Some actors are singers. All the singers are d...</td>\n      <td>Some actors are dancers.</td>\n      <td>No singer is actor.</td>\n      <td>A</td>\n    </tr>\n    <tr>\n      <th>1</th>\n      <td>1</td>\n      <td>All the harmoniums are instruments. All the in...</td>\n      <td>All the flutes are instruments.</td>\n      <td>All the harmoniums are flutes.</td>\n      <td>B</td>\n    </tr>\n    <tr>\n      <th>2</th>\n      <td>2</td>\n      <td>Some mangoes are yellow. Some tixo are mangoes.</td>\n      <td>Some mangoes are green.</td>\n      <td>Tixo is a yellow.</td>\n      <td>D</td>\n    </tr>\n    <tr>\n      <th>3</th>\n      <td>3</td>\n      <td>Some ants are parrots. All the parrots are app...</td>\n      <td>All the apples are parrots.</td>\n      <td>Some ants are apples.</td>\n      <td>B</td>\n    </tr>\n    <tr>\n      <th>4</th>\n      <td>4</td>\n      <td>Some papers are pens. All the pencils are pens.</td>\n      <td>Some pens are pencils.</td>\n      <td>Some pens are papers.</td>\n      <td>E</td>\n    </tr>\n    <tr>\n      <th>...</th>\n      <td>...</td>\n      <td>...</td>\n      <td>...</td>\n      <td>...</td>\n      <td>...</td>\n    </tr>\n    <tr>\n      <th>60</th>\n      <td>60</td>\n      <td>Some pastries are toffees. All toffees are cho...</td>\n      <td>Some chocolates are toffees.</td>\n      <td>Some toffees are not pastries.</td>\n      <td>A</td>\n    </tr>\n    <tr>\n      <th>61</th>\n      <td>61</td>\n      <td>All boys are honest. Sachin is honest.</td>\n      <td>Sachin is a boy.</td>\n      <td>All honest persons are boys.</td>\n      <td>D</td>\n    </tr>\n    <tr>\n      <th>62</th>\n      <td>62</td>\n      <td>All pens are roads. All roads are houses.</td>\n      <td>All houses are pens.</td>\n      <td>Some houses are pens.</td>\n      <td>B</td>\n    </tr>\n    <tr>\n      <th>63</th>\n      <td>63</td>\n      <td>All artists are smokers. Some smokers are drun...</td>\n      <td>All smokers are artists.</td>\n      <td>Some drunkards are not smokers.</td>\n      <td>D</td>\n    </tr>\n    <tr>\n      <th>64</th>\n      <td>64</td>\n      <td>All cars are cats. All fans are cats.</td>\n      <td>All cars are fans</td>\n      <td>Some fans are cars.</td>\n      <td>D</td>\n    </tr>\n  </tbody>\n</table>\n<p>65 rows × 5 columns</p>\n</div>"
     },
     "execution_count": 6,
     "metadata": {},
     "output_type": "execute_result"
    }
   ],
   "source": [
    "from dataprep.clean import clean_headers\n",
    "\n",
    "clean_headers(df)"
   ],
   "metadata": {
    "collapsed": false,
    "ExecuteTime": {
     "end_time": "2023-05-20T18:05:18.059819900Z",
     "start_time": "2023-05-20T18:05:16.914645600Z"
    }
   }
  },
  {
   "cell_type": "markdown",
   "source": [
    "### Now we can work with the proper Headers"
   ],
   "metadata": {
    "collapsed": false
   }
  },
  {
   "cell_type": "code",
   "execution_count": 7,
   "outputs": [
    {
     "name": "stdout",
     "output_type": "stream",
     "text": [
      "Column Headers Cleaning Report:\n",
      "\t4 values cleaned (80.0%)\n"
     ]
    }
   ],
   "source": [
    "df=clean_headers(df)"
   ],
   "metadata": {
    "collapsed": false,
    "ExecuteTime": {
     "end_time": "2023-05-20T18:05:18.138795600Z",
     "start_time": "2023-05-20T18:05:18.063802600Z"
    }
   }
  },
  {
   "cell_type": "code",
   "execution_count": 8,
   "outputs": [
    {
     "name": "stdout",
     "output_type": "stream",
     "text": [
      "Some actors are singers. All the singers are dancers. All the harmoniums are instruments. All the instruments are flutes. Some mangoes are yellow. Some tixo are mangoes. Some ants are parrots. All the parrots are apples. Some papers are pens. All the pencils are pens. All the actors are girls. All the girls are beautiful. All the windows are doors. No door is a wall. All cups are books. All books are shirts. Some cows are crows. Some crows are elephants. All the pencils are pens. All the pens are inks. Some dogs are bats. Some bats are cats. All the trucks are flies. Some scooters are flies. All buildings are chalks. No chalk is toffee. All cars are cats. All fans are cats. No women teacher can play. Some women teachers are athletes.\n",
      " All bags are cakes. All lamps are cakes. All mangoes are golden in colour. No golden-coloured things are cheap. Some kings are queens. All queens are beautiful. Some doctors are fools. Some fools are rich. All roads are waters. Some waters are boats. No bat is ball. No ball is wicket. All flowers are trees. No fruit is tree. Every minister is a student. Every student is inexperienced. All roads are poles. No pole is a house. All fish are tortoise. No tortoise is a crocodile. Some dedicated souls are angels. All social workers are angels. No gentleman is poor. All gentlemen are rich. Some swords are sharp. All swords are rusty All fishes are grey in colour. Some fishes are heavy. All good athletes win. All good athletes eat well. All film stars are playback singers. All film directors are film stars. All hill stations have a sun-set point. X is a hill station. Some dreams are nights. Some nights are days. All jungles are tigers. Some tigers are horses. All poles are guns. Some boats are not poles. Many scooters are trucks. All trucks are trains. Some papers are pens. Angle is a paper. All birds are tall. Some tall are hens. Some papers are pens. Some pencils are pens. Some men are educated. Educated persons prefer small families. All ed\n"
     ]
    }
   ],
   "source": [
    "#Code by Kapa Kudaibergenov https://www.kaggle.com/kapakudaibergenov/stylecloud/notebook\n",
    "\n",
    "concat_dtz_statement = ' '.join([i for i in df.dtz_statement.astype(str)])\n",
    "print(concat_dtz_statement[:2000])"
   ],
   "metadata": {
    "collapsed": false,
    "ExecuteTime": {
     "end_time": "2023-05-20T18:05:18.170825500Z",
     "start_time": "2023-05-20T18:05:18.077796800Z"
    }
   }
  },
  {
   "cell_type": "code",
   "execution_count": 9,
   "outputs": [],
   "source": [
    "#Code by Kapa Kudaibergenov https://www.kaggle.com/kapakudaibergenov/stylecloud/notebook\n",
    "\n",
    "stylecloud.gen_stylecloud(text=concat_dtz_statement,\n",
    "                          icon_name='fas fa-biking',\n",
    "                          palette='colorbrewer.diverging.Spectral_11',\n",
    "                          background_color='black',\n",
    "                          gradient='horizontal',\n",
    "                          size=1024)"
   ],
   "metadata": {
    "collapsed": false,
    "ExecuteTime": {
     "end_time": "2023-05-20T18:05:20.386795900Z",
     "start_time": "2023-05-20T18:05:18.094797200Z"
    }
   }
  },
  {
   "cell_type": "code",
   "execution_count": 10,
   "outputs": [
    {
     "ename": "OSError",
     "evalue": "[E050] Can't find model 'en_core_web_sm'. It doesn't seem to be a Python package or a valid path to a data directory.",
     "output_type": "error",
     "traceback": [
      "\u001B[1;31m---------------------------------------------------------------------------\u001B[0m",
      "\u001B[1;31mOSError\u001B[0m                                   Traceback (most recent call last)",
      "\u001B[1;32m~\\AppData\\Local\\Temp\\ipykernel_6548\\4118377425.py\u001B[0m in \u001B[0;36m<module>\u001B[1;34m\u001B[0m\n\u001B[0;32m      1\u001B[0m \u001B[1;32mimport\u001B[0m \u001B[0mspacy\u001B[0m\u001B[1;33m\u001B[0m\u001B[1;33m\u001B[0m\u001B[0m\n\u001B[1;32m----> 2\u001B[1;33m \u001B[0mnlp\u001B[0m \u001B[1;33m=\u001B[0m \u001B[0mspacy\u001B[0m\u001B[1;33m.\u001B[0m\u001B[0mload\u001B[0m\u001B[1;33m(\u001B[0m\u001B[1;34m'en_core_web_sm'\u001B[0m\u001B[1;33m)\u001B[0m\u001B[1;33m\u001B[0m\u001B[1;33m\u001B[0m\u001B[0m\n\u001B[0m",
      "\u001B[1;32mD:\\Anaconda\\lib\\site-packages\\spacy\\__init__.py\u001B[0m in \u001B[0;36mload\u001B[1;34m(name, vocab, disable, enable, exclude, config)\u001B[0m\n\u001B[0;32m     52\u001B[0m     \u001B[0mRETURNS\u001B[0m \u001B[1;33m(\u001B[0m\u001B[0mLanguage\u001B[0m\u001B[1;33m)\u001B[0m\u001B[1;33m:\u001B[0m \u001B[0mThe\u001B[0m \u001B[0mloaded\u001B[0m \u001B[0mnlp\u001B[0m \u001B[0mobject\u001B[0m\u001B[1;33m.\u001B[0m\u001B[1;33m\u001B[0m\u001B[1;33m\u001B[0m\u001B[0m\n\u001B[0;32m     53\u001B[0m     \"\"\"\n\u001B[1;32m---> 54\u001B[1;33m     return util.load_model(\n\u001B[0m\u001B[0;32m     55\u001B[0m         \u001B[0mname\u001B[0m\u001B[1;33m,\u001B[0m\u001B[1;33m\u001B[0m\u001B[1;33m\u001B[0m\u001B[0m\n\u001B[0;32m     56\u001B[0m         \u001B[0mvocab\u001B[0m\u001B[1;33m=\u001B[0m\u001B[0mvocab\u001B[0m\u001B[1;33m,\u001B[0m\u001B[1;33m\u001B[0m\u001B[1;33m\u001B[0m\u001B[0m\n",
      "\u001B[1;32mD:\\Anaconda\\lib\\site-packages\\spacy\\util.py\u001B[0m in \u001B[0;36mload_model\u001B[1;34m(name, vocab, disable, enable, exclude, config)\u001B[0m\n\u001B[0;32m    447\u001B[0m     \u001B[1;32mif\u001B[0m \u001B[0mname\u001B[0m \u001B[1;32min\u001B[0m \u001B[0mOLD_MODEL_SHORTCUTS\u001B[0m\u001B[1;33m:\u001B[0m\u001B[1;33m\u001B[0m\u001B[1;33m\u001B[0m\u001B[0m\n\u001B[0;32m    448\u001B[0m         \u001B[1;32mraise\u001B[0m \u001B[0mIOError\u001B[0m\u001B[1;33m(\u001B[0m\u001B[0mErrors\u001B[0m\u001B[1;33m.\u001B[0m\u001B[0mE941\u001B[0m\u001B[1;33m.\u001B[0m\u001B[0mformat\u001B[0m\u001B[1;33m(\u001B[0m\u001B[0mname\u001B[0m\u001B[1;33m=\u001B[0m\u001B[0mname\u001B[0m\u001B[1;33m,\u001B[0m \u001B[0mfull\u001B[0m\u001B[1;33m=\u001B[0m\u001B[0mOLD_MODEL_SHORTCUTS\u001B[0m\u001B[1;33m[\u001B[0m\u001B[0mname\u001B[0m\u001B[1;33m]\u001B[0m\u001B[1;33m)\u001B[0m\u001B[1;33m)\u001B[0m  \u001B[1;31m# type: ignore[index]\u001B[0m\u001B[1;33m\u001B[0m\u001B[1;33m\u001B[0m\u001B[0m\n\u001B[1;32m--> 449\u001B[1;33m     \u001B[1;32mraise\u001B[0m \u001B[0mIOError\u001B[0m\u001B[1;33m(\u001B[0m\u001B[0mErrors\u001B[0m\u001B[1;33m.\u001B[0m\u001B[0mE050\u001B[0m\u001B[1;33m.\u001B[0m\u001B[0mformat\u001B[0m\u001B[1;33m(\u001B[0m\u001B[0mname\u001B[0m\u001B[1;33m=\u001B[0m\u001B[0mname\u001B[0m\u001B[1;33m)\u001B[0m\u001B[1;33m)\u001B[0m\u001B[1;33m\u001B[0m\u001B[1;33m\u001B[0m\u001B[0m\n\u001B[0m\u001B[0;32m    450\u001B[0m \u001B[1;33m\u001B[0m\u001B[0m\n\u001B[0;32m    451\u001B[0m \u001B[1;33m\u001B[0m\u001B[0m\n",
      "\u001B[1;31mOSError\u001B[0m: [E050] Can't find model 'en_core_web_sm'. It doesn't seem to be a Python package or a valid path to a data directory."
     ]
    }
   ],
   "source": [
    "import spacy\n",
    "nlp = spacy.load('en_core_web_sm')"
   ],
   "metadata": {
    "collapsed": false,
    "ExecuteTime": {
     "end_time": "2023-05-20T18:05:32.678432500Z",
     "start_time": "2023-05-20T18:05:20.381796Z"
    }
   }
  },
  {
   "cell_type": "code",
   "execution_count": null,
   "outputs": [],
   "source": [
    "!python3 -m spacy download en_core_web_sm"
   ],
   "metadata": {
    "collapsed": false
   }
  },
  {
   "cell_type": "code",
   "execution_count": null,
   "outputs": [],
   "source": [
    "from spacy import displacy\n",
    "nlp = spacy.load(\"en_core_web_sm\")\n",
    "doc= nlp(u\"\"\"Some actors are singers. All the singers are dancers. All the harmoniums are instruments. All the instruments are flutes. Some mangoes are yellow. Some tixo are mangoes. Some ants are parrots. All the parrots are apples. Some papers are pens. All the pencils are pens. All the actors are girls. All the girls are beautiful. All the windows are doors. No door is a wall. All cups are books. All books are shirts. Some cows are crows. Some crows are elephants. All the pencils are pens. All the pens are inks. Some dogs are bats. Some bats are cats. All the trucks are flies. Some scooters are flies. All buildings are chalks. No chalk is toffee. All cars are cats. All fans are cats. No women teacher can play. Some women teachers are athletes.\n",
    " All bags are cakes. All lamps are cakes. All mangoes are golden in colour. No golden-coloured things are cheap. Some kings are queens. All queens are beautiful. Some doctors are fools. Some fools are rich. All roads are waters. Some waters are boats. No bat is ball. No ball is wicket. All flowers are trees. No fruit is tree. Every minister is a student. Every student is inexperienced. All roads are poles. No pole is a house. All fish are tortoise. No tortoise is a crocodile. Some dedicated souls are angels. All social workers are angels. No gentleman is poor. All gentlemen are rich. Some swords are sharp. All swords are rusty All fishes are grey in colour. Some fishes are heavy. All good athletes win. All good athletes eat well. All film stars are playback singers. All film directors are film stars. All hill stations have a sun-set point. X is a hill station. Some dreams are nights. Some nights are days. All jungles are tigers. Some tigers are horses. All poles are guns. Some boats are not poles. Many scooters are trucks. All trucks are trains. Some papers are pens. Angle is a paper. All birds are tall. Some tall are hens. Some papers are pens. Some pencils are pens. Some men are educated. Educated persons prefer small families.\"\"\")\n",
    "\n",
    "entities=[(i, i.label_, i.label) for i in doc.ents]\n",
    "entities"
   ],
   "metadata": {
    "collapsed": false
   }
  },
  {
   "cell_type": "markdown",
   "source": [
    "Some actors are singers. All the singers are dancers. All the harmoniums are instruments. All the instruments are flutes. Some mangoes are yellow. Some tixo are mangoes. Some ants are parrots. All the parrots are apples. Some papers are pens. All the pencils are pens. All the actors are girls. All the girls are beautiful. All the windows are doors. No door is a wall. All cups are books. All books are shirts. Some cows are crows. Some crows are elephants. All the pencils are pens. All the pens are inks. Some dogs are bats. Some bats are cats. All the trucks are flies. Some scooters are flies. All buildings are chalks. No chalk is toffee. All cars are cats. All fans are cats. No women teacher can play. Some women teachers are athletes.\n",
    "All bags are cakes. All lamps are cakes. All mangoes are golden in colour. No golden-coloured things are cheap. Some kings are queens. All queens are beautiful. Some doctors are fools. Some fools are rich. All roads are waters. Some waters are boats. No bat is ball. No ball is wicket. All flowers are trees. No fruit is tree. Every minister is a student. Every student is inexperienced. All roads are poles. No pole is a house. All fish are tortoise. No tortoise is a crocodile. Some dedicated souls are angels. All social workers are angels. No gentleman is poor. All gentlemen are rich. Some swords are sharp. All swords are rusty All fishes are grey in colour. Some fishes are heavy. All good athletes win. All good athletes eat well. All film stars are playback singers. All film directors are film stars. All hill stations have a sun-set point. X is a hill station. Some dreams are nights. Some nights are days DATE . All jungles are tigers. Some tigers are horses. All poles are guns. Some boats are not poles. Many scooters are trucks. All trucks are trains. Some papers are pens. Angle ORG is a paper. All birds are tall. Some tall are hens. Some papers are pens. Some pencils are pens. Some men are educated. Educated persons prefer small families."
   ],
   "metadata": {
    "collapsed": false
   }
  },
  {
   "cell_type": "code",
   "execution_count": null,
   "outputs": [],
   "source": [
    "from sklearn.feature_extraction.text import CountVectorizer\n",
    "from sklearn.model_selection import train_test_split\n",
    "\n",
    "import torch\n",
    "import torch.nn as nn\n",
    "import torch.nn.functional as F\n",
    "from torch.autograd import Variable\n",
    "import torchvision\n",
    "import re"
   ],
   "metadata": {
    "collapsed": false
   }
  },
  {
   "cell_type": "markdown",
   "source": [
    "### An attempt with Cosine Similarity.¶"
   ],
   "metadata": {
    "collapsed": false
   }
  },
  {
   "cell_type": "code",
   "execution_count": null,
   "outputs": [],
   "source": [
    "#Code by Dexter https://www.kaggle.com/soul9862/the-movies-recommend-analysis-cosine-similarity/notebook\n",
    "\n",
    "#https://stackoverflow.com/questions/48600627/memory-error-in-library-linear-kernel-to-make-cosine-similarities\n",
    "\n",
    "from sklearn.feature_extraction.text import TfidfVectorizer\n",
    "\n",
    "tfidf = TfidfVectorizer(stop_words='english')\n",
    "tfidf_matrix = tfidf.fit_transform(df['dtz_statement'])\n",
    "print(tfidf_matrix.shape)"
   ],
   "metadata": {
    "collapsed": false
   }
  },
  {
   "cell_type": "code",
   "execution_count": null,
   "outputs": [],
   "source": [
    "#Code by Dexter https://www.kaggle.com/soul9862/the-movies-recommend-analysis-cosine-similarity/notebook\n",
    "\n",
    "#https://stackoverflow.com/questions/48600627/memory-error-in-library-linear-kernel-to-make-cosine-similarities\n",
    "\n",
    "\n",
    "\n",
    "from sklearn.metrics.pairwise import linear_kernel\n",
    "\n",
    "cosine_sim = linear_kernel(tfidf_matrix, tfidf_matrix)"
   ],
   "metadata": {
    "collapsed": false
   }
  },
  {
   "cell_type": "code",
   "execution_count": null,
   "outputs": [],
   "source": [
    "indices = pd.Series(df.index, index=df['conclusion_1']).drop_duplicates()\n",
    "print(indices)"
   ],
   "metadata": {
    "collapsed": false
   }
  },
  {
   "cell_type": "code",
   "execution_count": null,
   "outputs": [],
   "source": [
    "indices1 = pd.Series(df.index, index=df['result_class']).drop_duplicates()\n",
    "print(indices1)"
   ],
   "metadata": {
    "collapsed": false
   }
  },
  {
   "cell_type": "code",
   "execution_count": null,
   "outputs": [],
   "source": [
    "idx = indices1['A']\n",
    "print(idx)"
   ],
   "metadata": {
    "collapsed": false
   }
  },
  {
   "cell_type": "code",
   "execution_count": null,
   "outputs": [],
   "source": [
    "#Code by Dexter https://www.kaggle.com/soul9862/the-movies-recommend-analysis-cosine-similarity/notebook\n",
    "\n",
    "def get_recommendations(title, cosine_sim=cosine_sim):\n",
    "    idx = indices[title]\n",
    "    sim_scores = list(enumerate(cosine_sim[idx]))\n",
    "    sim_scores = sorted(sim_scores, key=lambda x: x[1], reverse=True)\n",
    "    sim_scores = sim_scores[1:11]\n",
    "    movie_indices = [i[0] for i in sim_scores]\n",
    "\n",
    "    return df['conclusion_1'].iloc[movie_indices]"
   ],
   "metadata": {
    "collapsed": false
   }
  },
  {
   "cell_type": "code",
   "execution_count": null,
   "outputs": [],
   "source": [
    "get_recommendations('Sachin is a boy.')"
   ],
   "metadata": {
    "collapsed": false
   }
  },
  {
   "cell_type": "markdown",
   "source": [
    "### Conclusion"
   ],
   "metadata": {
    "collapsed": false
   }
  },
  {
   "cell_type": "markdown",
   "source": [
    "What Sachin is a boy has to do with actors, mangoes, parrots, cups, cows...?"
   ],
   "metadata": {
    "collapsed": false
   }
  },
  {
   "cell_type": "code",
   "execution_count": null,
   "outputs": [],
   "source": [],
   "metadata": {
    "collapsed": false
   }
  }
 ],
 "metadata": {
  "kernelspec": {
   "display_name": "Python 3",
   "language": "python",
   "name": "python3"
  },
  "language_info": {
   "codemirror_mode": {
    "name": "ipython",
    "version": 2
   },
   "file_extension": ".py",
   "mimetype": "text/x-python",
   "name": "python",
   "nbconvert_exporter": "python",
   "pygments_lexer": "ipython2",
   "version": "2.7.6"
  }
 },
 "nbformat": 4,
 "nbformat_minor": 0
}

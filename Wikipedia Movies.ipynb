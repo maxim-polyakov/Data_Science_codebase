{
 "cells": [
  {
   "cell_type": "markdown",
   "source": [
    "### Wikipedia Movies: Recommendations Using TF-IDF"
   ],
   "metadata": {
    "collapsed": false
   }
  },
  {
   "cell_type": "markdown",
   "source": [
    "Welcome to this Kaggle notebook where we explore how to create the sort of movie recommendations that you get on Netflix. In this notebook, we'll use a concept called **Term Frequency-Inverse Document Frequency (TF-IDF)** to generate insightful movie recommendations based on the plots of movies."
   ],
   "metadata": {
    "collapsed": false
   }
  },
  {
   "cell_type": "markdown",
   "source": [
    "TF-IDF is a widely used technique in information retrieval and natural language processing (NLP). It quantifies the importance of a word in a given document by considering its frequency in the document (Term Frequency) and its rarity across the entire dataset (Inverse Document Frequency)."
   ],
   "metadata": {
    "collapsed": false
   }
  },
  {
   "cell_type": "markdown",
   "source": [
    "By applying TF-IDF on the plot column of our movie dataset, we can extract key features and characteristics from each movie's plot, allowing us to make informed recommendations based on textual similarities."
   ],
   "metadata": {
    "collapsed": false
   }
  },
  {
   "cell_type": "markdown",
   "source": [
    "Through this notebook, we'll walk through the steps of building a recommendation system using TF-IDF. We'll preprocess the movie plot data, compute TF-IDF scores, and implement a similarity metric to identify movies with similar plots. The resulting recommendations will provide users with a curated list of movies that share thematic elements or storylines, enabling them to discover new films that resonate with their interests."
   ],
   "metadata": {
    "collapsed": false
   }
  },
  {
   "cell_type": "markdown",
   "source": [
    "### Load the Wikipedia Movies dataset"
   ],
   "metadata": {
    "collapsed": false
   }
  },
  {
   "cell_type": "code",
   "execution_count": 1,
   "outputs": [],
   "source": [
    "import os\n",
    "import numpy as np\n",
    "import pandas as pd"
   ],
   "metadata": {
    "collapsed": false
   }
  },
  {
   "cell_type": "code",
   "execution_count": 2,
   "outputs": [],
   "source": [
    "df = pd.DataFrame(columns=['title', 'image', 'plot'])"
   ],
   "metadata": {
    "collapsed": false
   }
  },
  {
   "cell_type": "code",
   "execution_count": 3,
   "outputs": [
    {
     "name": "stdout",
     "output_type": "stream",
     "text": [
      "Loaded 1980s-movies.csv\n",
      "Done!\n"
     ]
    }
   ],
   "source": [
    "for dirname, _, filenames in os.walk('../DataSets/Movies'):\n",
    "    for filename in filenames:\n",
    "        if filename.endswith(\".csv\"):\n",
    "            df_new = pd.read_csv(os.path.join(dirname, filename))\n",
    "            df = pd.concat([df, df_new], ignore_index=True)\n",
    "            print(f\"Loaded {filename}\")\n",
    "\n",
    "print(\"Done!\")"
   ],
   "metadata": {
    "collapsed": false
   }
  },
  {
   "cell_type": "code",
   "execution_count": 4,
   "outputs": [
    {
     "data": {
      "text/plain": "title    2325\nimage    2325\nplot     2325\ndtype: int64"
     },
     "execution_count": 4,
     "metadata": {},
     "output_type": "execute_result"
    }
   ],
   "source": [
    "# Reset the index to create a new column with a sequential index\n",
    "df = df.reset_index(drop=True)\n",
    "\n",
    "# Truncate the plot\n",
    "df['plot'] = df['plot'].str[:2000]\n",
    "\n",
    "# Show record counts\n",
    "df.count()"
   ],
   "metadata": {
    "collapsed": false
   }
  },
  {
   "cell_type": "markdown",
   "source": [
    "### View a sample of movies"
   ],
   "metadata": {
    "collapsed": false
   }
  },
  {
   "cell_type": "code",
   "execution_count": 5,
   "outputs": [
    {
     "data": {
      "text/plain": "                            title  \\\n1923                   Spaceballs   \n1013          Reform School Girls   \n1249                  Death Nurse   \n528       Big Trouble (1986 film)   \n175   The Lost Empire (1984 film)   \n\n                                                  image  \\\n1923  https://upload.wikimedia.org/wikipedia/en/4/45...   \n1013  https://upload.wikimedia.org/wikipedia/en/d/df...   \n1249  https://upload.wikimedia.org/wikipedia/en/3/30...   \n528   https://upload.wikimedia.org/wikipedia/en/e/e2...   \n175   https://upload.wikimedia.org/wikipedia/en/5/5f...   \n\n                                                   plot  \n1923  Planet Spaceball, led by the incompetent Presi...  \n1013  The film is a satire of the women in prison fi...  \n1249  From their suburban home, Doctor Gordon Mortle...  \n528   Leonard Hoffman is a Los Angeles insurance age...  \n175   The film opens at a jewelry shop in Chinatown,...  ",
      "text/html": "<div>\n<style scoped>\n    .dataframe tbody tr th:only-of-type {\n        vertical-align: middle;\n    }\n\n    .dataframe tbody tr th {\n        vertical-align: top;\n    }\n\n    .dataframe thead th {\n        text-align: right;\n    }\n</style>\n<table border=\"1\" class=\"dataframe\">\n  <thead>\n    <tr style=\"text-align: right;\">\n      <th></th>\n      <th>title</th>\n      <th>image</th>\n      <th>plot</th>\n    </tr>\n  </thead>\n  <tbody>\n    <tr>\n      <th>1923</th>\n      <td>Spaceballs</td>\n      <td>https://upload.wikimedia.org/wikipedia/en/4/45...</td>\n      <td>Planet Spaceball, led by the incompetent Presi...</td>\n    </tr>\n    <tr>\n      <th>1013</th>\n      <td>Reform School Girls</td>\n      <td>https://upload.wikimedia.org/wikipedia/en/d/df...</td>\n      <td>The film is a satire of the women in prison fi...</td>\n    </tr>\n    <tr>\n      <th>1249</th>\n      <td>Death Nurse</td>\n      <td>https://upload.wikimedia.org/wikipedia/en/3/30...</td>\n      <td>From their suburban home, Doctor Gordon Mortle...</td>\n    </tr>\n    <tr>\n      <th>528</th>\n      <td>Big Trouble (1986 film)</td>\n      <td>https://upload.wikimedia.org/wikipedia/en/e/e2...</td>\n      <td>Leonard Hoffman is a Los Angeles insurance age...</td>\n    </tr>\n    <tr>\n      <th>175</th>\n      <td>The Lost Empire (1984 film)</td>\n      <td>https://upload.wikimedia.org/wikipedia/en/5/5f...</td>\n      <td>The film opens at a jewelry shop in Chinatown,...</td>\n    </tr>\n  </tbody>\n</table>\n</div>"
     },
     "execution_count": 5,
     "metadata": {},
     "output_type": "execute_result"
    }
   ],
   "source": [
    "df.sample(5)"
   ],
   "metadata": {
    "collapsed": false
   }
  },
  {
   "cell_type": "markdown",
   "source": [
    "### Compute TF-IDF scores and create similarity matrix¶"
   ],
   "metadata": {
    "collapsed": false
   }
  },
  {
   "cell_type": "code",
   "execution_count": 6,
   "outputs": [],
   "source": [
    "from sklearn.feature_extraction.text import TfidfVectorizer\n",
    "from sklearn.metrics.pairwise import cosine_similarity\n",
    "\n",
    "# Create a TF-IDF vectorizer\n",
    "tfidf = TfidfVectorizer(stop_words='english')\n",
    "\n",
    "# Fit and transform the plot column to TF-IDF vectors\n",
    "tfidf_matrix = tfidf.fit_transform(df['title'] + ' ' + df['plot'])\n",
    "\n",
    "# Compute cosine similarity matrix\n",
    "cosine_sim = cosine_similarity(tfidf_matrix, tfidf_matrix)"
   ],
   "metadata": {
    "collapsed": false
   }
  },
  {
   "cell_type": "markdown",
   "source": [
    "### Define helper functions"
   ],
   "metadata": {
    "collapsed": false
   }
  },
  {
   "cell_type": "code",
   "execution_count": 1,
   "outputs": [],
   "source": [
    "def get_index_from_title(title):\n",
    "    try:\n",
    "        return df[df[\"title\"].str.lower().str.startswith(title.lower())].index[0]\n",
    "    except:\n",
    "        return -1\n",
    "\n",
    "def get_title_from_index(index):\n",
    "    return df.iloc[index][\"title\"]"
   ],
   "metadata": {
    "collapsed": false,
    "ExecuteTime": {
     "end_time": "2023-05-26T05:56:16.769251100Z",
     "start_time": "2023-05-26T05:56:16.757004800Z"
    }
   }
  },
  {
   "cell_type": "markdown",
   "source": [
    "### Recommend similar movies"
   ],
   "metadata": {
    "collapsed": false
   }
  },
  {
   "cell_type": "code",
   "execution_count": 8,
   "outputs": [
    {
     "name": "stdout",
     "output_type": "stream",
     "text": [
      "Similar movies:\n",
      "Top Gun\n",
      "Deadbeat at Dawn\n",
      "The Final Countdown (film)\n",
      "Bird (1988 film)\n",
      "Slaughter High\n",
      "An Officer and a Gentleman\n",
      "Always (1989 film)\n",
      "Black Rain (1989 American film)\n",
      "Mike's Murder\n",
      "Iceman (1984 film)\n",
      "Bring Me the Head of Charlie Brown\n",
      "The Pope of Greenwich Village\n",
      "Skyward (film)\n",
      "Rain Man\n",
      "Feds\n",
      "Judgement Day (1988 film)\n",
      "The Principal\n",
      "Private Benjamin (1980 film)\n",
      "The Big Picture (1989 film)\n",
      "Something Wild (1986 film)\n"
     ]
    }
   ],
   "source": [
    "# Find similar movies to this one\n",
    "title = \"top gun\"\n",
    "\n",
    "# Get the index of the movie\n",
    "movie_index = get_index_from_title(title)\n",
    "\n",
    "if movie_index > -1:\n",
    "\n",
    "    # Create a list of cosine similiarities for the specified film\n",
    "    similar_movies = list(enumerate(cosine_sim[movie_index]))\n",
    "\n",
    "    # Sort the list, highest values to lowest\n",
    "    sorted_similar_movies = sorted(similar_movies, key=lambda x:x[1], reverse=True)\n",
    "\n",
    "    # Display the data\n",
    "    # Note the best match (and first in the list) will be the specified film itself\n",
    "    print(\"Similar movies:\")\n",
    "    for movies in sorted_similar_movies[:20]:\n",
    "        print(get_title_from_index(movies[0]))\n",
    "\n",
    "else:\n",
    "    print(\"Movie not found.\")"
   ],
   "metadata": {
    "collapsed": false
   }
  },
  {
   "cell_type": "code",
   "execution_count": 8,
   "outputs": [],
   "source": [],
   "metadata": {
    "collapsed": false
   }
  }
 ],
 "metadata": {
  "kernelspec": {
   "display_name": "Python 3",
   "language": "python",
   "name": "python3"
  },
  "language_info": {
   "codemirror_mode": {
    "name": "ipython",
    "version": 2
   },
   "file_extension": ".py",
   "mimetype": "text/x-python",
   "name": "python",
   "nbconvert_exporter": "python",
   "pygments_lexer": "ipython2",
   "version": "2.7.6"
  }
 },
 "nbformat": 4,
 "nbformat_minor": 0
}

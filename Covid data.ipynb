{
 "cells": [
  {
   "cell_type": "code",
   "execution_count": 1,
   "metadata": {
    "collapsed": true
   },
   "outputs": [],
   "source": [
    "# This Python 3 environment comes with many helpful analytics libraries installed\n",
    "# It is defined by the kaggle/python Docker image: https://github.com/kaggle/docker-python\n",
    "# For example, here's several helpful packages to load\n",
    "\n",
    "import numpy as np # linear algebra\n",
    "import pandas as pd # data processing, CSV file I/O (e.g. pd.read_csv)\n",
    "\n",
    "# Input data files are available in the read-only \"../input/\" directory\n",
    "# For example, running this (by clicking run or pressing Shift+Enter) will list all files under the input directory\n",
    "\n",
    "import os\n",
    "for dirname, _, filenames in os.walk('DataSets/Covid'):\n",
    "    for filename in filenames:\n",
    "        print(os.path.join(dirname, filename))\n",
    "\n",
    "# You can write up to 20GB to the current directory (/kaggle/working/) that gets preserved as output when you create a version using \"Save & Run All\"\n",
    "# You can also write temporary files to /kaggle/temp/, but they won't be saved outside of the current session"
   ]
  },
  {
   "cell_type": "markdown",
   "source": [
    "### To read a dataset"
   ],
   "metadata": {
    "collapsed": false
   }
  },
  {
   "cell_type": "code",
   "execution_count": 2,
   "outputs": [],
   "source": [
    "df=pd.read_csv('../DataSets/Corona/corona_virus.csv', encoding=\"ISO-8859-1\")"
   ],
   "metadata": {
    "collapsed": false
   }
  },
  {
   "cell_type": "markdown",
   "source": [
    "### To check a shape (number of rows & columns)of the dataset"
   ],
   "metadata": {
    "collapsed": false
   }
  },
  {
   "cell_type": "code",
   "execution_count": 3,
   "outputs": [
    {
     "name": "stdout",
     "output_type": "stream",
     "text": [
      "Shape of the dataset: (232, 14)\n"
     ]
    }
   ],
   "source": [
    "print(\"Shape of the dataset:\",df.shape)"
   ],
   "metadata": {
    "collapsed": false
   }
  },
  {
   "cell_type": "markdown",
   "source": [
    "### To check the head(first 5 row) of the dataset"
   ],
   "metadata": {
    "collapsed": false
   }
  },
  {
   "cell_type": "code",
   "execution_count": 4,
   "outputs": [
    {
     "name": "stdout",
     "output_type": "stream",
     "text": [
      "Head of the dataset:\n"
     ]
    },
    {
     "data": {
      "text/plain": "  Country,Other   Total Cases New Cases Total Deaths  New Deaths  \\\n0           USA  10,66,27,427       NaN    11,59,824         NaN   \n1         India   4,49,39,515       NaN     5,31,508         NaN   \n2        France   3,99,80,570       NaN     1,66,556         NaN   \n3       Germany   3,84,03,667       NaN     1,73,044         NaN   \n4        Brazil   3,74,49,418       NaN     7,01,494         NaN   \n\n  Total Recovered New Recovered Active Cases Serious,Critical  \\\n0    10,45,49,551           NaN     9,18,052            1,368   \n1     4,43,56,693           NaN       51,314              NaN   \n2     3,96,77,000           NaN     1,37,014              869   \n3     3,81,92,900           600       37,723              NaN   \n4     3,62,49,161           NaN     4,98,763              NaN   \n\n  Tot Cases/1M pop Deaths/1M pop     Total Tests Tests/1M pop      Population  \n0         3,18,476         3,464  1,17,68,34,935    35,14,983    33,48,05,269  \n1           31,948           378    92,64,96,579     6,58,663  1,40,66,31,776  \n2         6,09,604         2,540    27,14,90,188    41,39,547     6,55,84,518  \n3         4,57,821         2,063    12,23,32,384    14,58,359     8,38,83,596  \n4         1,73,897         3,257     6,37,76,166     2,96,146    21,53,53,593  ",
      "text/html": "<div>\n<style scoped>\n    .dataframe tbody tr th:only-of-type {\n        vertical-align: middle;\n    }\n\n    .dataframe tbody tr th {\n        vertical-align: top;\n    }\n\n    .dataframe thead th {\n        text-align: right;\n    }\n</style>\n<table border=\"1\" class=\"dataframe\">\n  <thead>\n    <tr style=\"text-align: right;\">\n      <th></th>\n      <th>Country,Other</th>\n      <th>Total Cases</th>\n      <th>New Cases</th>\n      <th>Total Deaths</th>\n      <th>New Deaths</th>\n      <th>Total Recovered</th>\n      <th>New Recovered</th>\n      <th>Active Cases</th>\n      <th>Serious,Critical</th>\n      <th>Tot Cases/1M pop</th>\n      <th>Deaths/1M pop</th>\n      <th>Total Tests</th>\n      <th>Tests/1M pop</th>\n      <th>Population</th>\n    </tr>\n  </thead>\n  <tbody>\n    <tr>\n      <th>0</th>\n      <td>USA</td>\n      <td>10,66,27,427</td>\n      <td>NaN</td>\n      <td>11,59,824</td>\n      <td>NaN</td>\n      <td>10,45,49,551</td>\n      <td>NaN</td>\n      <td>9,18,052</td>\n      <td>1,368</td>\n      <td>3,18,476</td>\n      <td>3,464</td>\n      <td>1,17,68,34,935</td>\n      <td>35,14,983</td>\n      <td>33,48,05,269</td>\n    </tr>\n    <tr>\n      <th>1</th>\n      <td>India</td>\n      <td>4,49,39,515</td>\n      <td>NaN</td>\n      <td>5,31,508</td>\n      <td>NaN</td>\n      <td>4,43,56,693</td>\n      <td>NaN</td>\n      <td>51,314</td>\n      <td>NaN</td>\n      <td>31,948</td>\n      <td>378</td>\n      <td>92,64,96,579</td>\n      <td>6,58,663</td>\n      <td>1,40,66,31,776</td>\n    </tr>\n    <tr>\n      <th>2</th>\n      <td>France</td>\n      <td>3,99,80,570</td>\n      <td>NaN</td>\n      <td>1,66,556</td>\n      <td>NaN</td>\n      <td>3,96,77,000</td>\n      <td>NaN</td>\n      <td>1,37,014</td>\n      <td>869</td>\n      <td>6,09,604</td>\n      <td>2,540</td>\n      <td>27,14,90,188</td>\n      <td>41,39,547</td>\n      <td>6,55,84,518</td>\n    </tr>\n    <tr>\n      <th>3</th>\n      <td>Germany</td>\n      <td>3,84,03,667</td>\n      <td>NaN</td>\n      <td>1,73,044</td>\n      <td>NaN</td>\n      <td>3,81,92,900</td>\n      <td>600</td>\n      <td>37,723</td>\n      <td>NaN</td>\n      <td>4,57,821</td>\n      <td>2,063</td>\n      <td>12,23,32,384</td>\n      <td>14,58,359</td>\n      <td>8,38,83,596</td>\n    </tr>\n    <tr>\n      <th>4</th>\n      <td>Brazil</td>\n      <td>3,74,49,418</td>\n      <td>NaN</td>\n      <td>7,01,494</td>\n      <td>NaN</td>\n      <td>3,62,49,161</td>\n      <td>NaN</td>\n      <td>4,98,763</td>\n      <td>NaN</td>\n      <td>1,73,897</td>\n      <td>3,257</td>\n      <td>6,37,76,166</td>\n      <td>2,96,146</td>\n      <td>21,53,53,593</td>\n    </tr>\n  </tbody>\n</table>\n</div>"
     },
     "execution_count": 4,
     "metadata": {},
     "output_type": "execute_result"
    }
   ],
   "source": [
    "print(\"Head of the dataset:\")\n",
    "df.head()"
   ],
   "metadata": {
    "collapsed": false
   }
  },
  {
   "cell_type": "markdown",
   "source": [
    "### Information(columnname & datatype) of datase"
   ],
   "metadata": {
    "collapsed": false
   }
  },
  {
   "cell_type": "code",
   "execution_count": 5,
   "outputs": [
    {
     "name": "stdout",
     "output_type": "stream",
     "text": [
      "<class 'pandas.core.frame.DataFrame'>\n",
      "RangeIndex: 232 entries, 0 to 231\n",
      "Data columns (total 14 columns):\n",
      " #   Column            Non-Null Count  Dtype  \n",
      "---  ------            --------------  -----  \n",
      " 0   Country,Other     232 non-null    object \n",
      " 1   Total Cases       232 non-null    object \n",
      " 2   New Cases         5 non-null      object \n",
      " 3   Total Deaths      226 non-null    object \n",
      " 4   New Deaths        2 non-null      float64\n",
      " 5   Total Recovered   211 non-null    object \n",
      " 6   New Recovered     12 non-null     object \n",
      " 7   Active Cases      213 non-null    object \n",
      " 8   Serious,Critical  127 non-null    object \n",
      " 9   Tot Cases/1M pop  230 non-null    object \n",
      " 10  Deaths/1M pop     224 non-null    object \n",
      " 11  Total Tests       213 non-null    object \n",
      " 12  Tests/1M pop      213 non-null    object \n",
      " 13  Population        229 non-null    object \n",
      "dtypes: float64(1), object(13)\n",
      "memory usage: 25.5+ KB\n"
     ]
    }
   ],
   "source": [
    "df.info()"
   ],
   "metadata": {
    "collapsed": false
   }
  },
  {
   "cell_type": "markdown",
   "source": [
    "### Describe(statistical) detail of data"
   ],
   "metadata": {
    "collapsed": false
   }
  },
  {
   "cell_type": "code",
   "execution_count": 6,
   "outputs": [
    {
     "data": {
      "text/plain": "       New Deaths\ncount         2.0\nmean          3.0\nstd           0.0\nmin           3.0\n25%           3.0\n50%           3.0\n75%           3.0\nmax           3.0",
      "text/html": "<div>\n<style scoped>\n    .dataframe tbody tr th:only-of-type {\n        vertical-align: middle;\n    }\n\n    .dataframe tbody tr th {\n        vertical-align: top;\n    }\n\n    .dataframe thead th {\n        text-align: right;\n    }\n</style>\n<table border=\"1\" class=\"dataframe\">\n  <thead>\n    <tr style=\"text-align: right;\">\n      <th></th>\n      <th>New Deaths</th>\n    </tr>\n  </thead>\n  <tbody>\n    <tr>\n      <th>count</th>\n      <td>2.0</td>\n    </tr>\n    <tr>\n      <th>mean</th>\n      <td>3.0</td>\n    </tr>\n    <tr>\n      <th>std</th>\n      <td>0.0</td>\n    </tr>\n    <tr>\n      <th>min</th>\n      <td>3.0</td>\n    </tr>\n    <tr>\n      <th>25%</th>\n      <td>3.0</td>\n    </tr>\n    <tr>\n      <th>50%</th>\n      <td>3.0</td>\n    </tr>\n    <tr>\n      <th>75%</th>\n      <td>3.0</td>\n    </tr>\n    <tr>\n      <th>max</th>\n      <td>3.0</td>\n    </tr>\n  </tbody>\n</table>\n</div>"
     },
     "execution_count": 6,
     "metadata": {},
     "output_type": "execute_result"
    }
   ],
   "source": [
    "df.describe()"
   ],
   "metadata": {
    "collapsed": false
   }
  },
  {
   "cell_type": "markdown",
   "source": [
    "### How to check a missing/null value in the dataset"
   ],
   "metadata": {
    "collapsed": false
   }
  },
  {
   "cell_type": "code",
   "execution_count": 7,
   "outputs": [
    {
     "name": "stdout",
     "output_type": "stream",
     "text": [
      "Missing/null value in the our set:\n"
     ]
    },
    {
     "data": {
      "text/plain": "Country,Other         0\nTotal Cases           0\nNew Cases           227\nTotal Deaths          6\nNew Deaths          230\nTotal Recovered      21\nNew Recovered       220\nActive Cases         19\nSerious,Critical    105\nTot Cases/1M pop      2\nDeaths/1M pop         8\nTotal Tests          19\nTests/1M pop         19\nPopulation            3\ndtype: int64"
     },
     "execution_count": 7,
     "metadata": {},
     "output_type": "execute_result"
    }
   ],
   "source": [
    "print(\"Missing/null value in the our set:\")\n",
    "df.isnull().sum()"
   ],
   "metadata": {
    "collapsed": false
   }
  }
 ],
 "metadata": {
  "kernelspec": {
   "display_name": "Python 3",
   "language": "python",
   "name": "python3"
  },
  "language_info": {
   "codemirror_mode": {
    "name": "ipython",
    "version": 2
   },
   "file_extension": ".py",
   "mimetype": "text/x-python",
   "name": "python",
   "nbconvert_exporter": "python",
   "pygments_lexer": "ipython2",
   "version": "2.7.6"
  }
 },
 "nbformat": 4,
 "nbformat_minor": 0
}

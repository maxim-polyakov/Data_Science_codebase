{
 "cells": [
  {
   "cell_type": "markdown",
   "source": [
    "### Анализ экономических показателей регионов России"
   ],
   "metadata": {
    "collapsed": false
   }
  },
  {
   "cell_type": "markdown",
   "source": [
    "### На основании открытых данных, представленных ПАО Сбербанк, попробуем проанализировать представленные показатели о всех регионах России и как с годами меняются показатели на примере конкретного региона - Приморского края."
   ],
   "metadata": {
    "collapsed": false
   }
  },
  {
   "cell_type": "code",
   "execution_count": 26,
   "outputs": [
    {
     "data": {
      "text/html": "        <script type=\"text/javascript\">\n        window.PlotlyConfig = {MathJaxConfig: 'local'};\n        if (window.MathJax && window.MathJax.Hub && window.MathJax.Hub.Config) {window.MathJax.Hub.Config({SVG: {font: \"STIX-Web\"}});}\n        if (typeof require !== 'undefined') {\n        require.undef(\"plotly\");\n        requirejs.config({\n            paths: {\n                'plotly': ['https://cdn.plot.ly/plotly-2.12.1.min']\n            }\n        });\n        require(['plotly'], function(Plotly) {\n            window._Plotly = Plotly;\n        });\n        }\n        </script>\n        "
     },
     "metadata": {},
     "output_type": "display_data"
    }
   ],
   "source": [
    "import pandas as pd\n",
    "import seaborn as sns\n",
    "import matplotlib.pyplot as plt\n",
    "import squarify\n",
    "plt.style.use('fivethirtyeight')\n",
    "import warnings\n",
    "warnings.filterwarnings('ignore')\n",
    "import numpy as np\n",
    "import plotly.offline as py\n",
    "py.init_notebook_mode(connected=True)\n",
    "import plotly.graph_objs as go\n",
    "import plotly.tools as tls\n",
    "import base64\n",
    "import io\n",
    "import scipy.misc\n",
    "import codecs\n",
    "from IPython.display import HTML\n",
    "from matplotlib_venn import venn2\n",
    "from subprocess import check_output\n",
    "\n",
    "from matplotlib.ticker import ScalarFormatter\n",
    "import itertools\n",
    "#import Translator\n",
    "import time"
   ],
   "metadata": {
    "collapsed": false,
    "ExecuteTime": {
     "end_time": "2023-05-24T11:31:27.792354Z",
     "start_time": "2023-05-24T11:31:27.778354500Z"
    }
   }
  },
  {
   "cell_type": "code",
   "execution_count": 27,
   "outputs": [],
   "source": [
    "data = pd.read_csv(\"DataSets/Economic parameters of Russian regions/df.csv\", index_col=\"region\", parse_dates=True)"
   ],
   "metadata": {
    "collapsed": false,
    "ExecuteTime": {
     "end_time": "2023-05-24T11:31:28.761113400Z",
     "start_time": "2023-05-24T11:31:28.685930300Z"
    }
   }
  },
  {
   "cell_type": "code",
   "execution_count": 28,
   "outputs": [
    {
     "data": {
      "text/plain": "                                                 name        date   value\nregion                                                                   \nRussia  The number of applications for consumer loans  2013-01-15  571147\nRussia  The number of applications for consumer loans  2013-02-15  504508\nRussia  The number of applications for consumer loans  2013-03-15  628803\nRussia  The number of applications for consumer loans  2013-04-15  836054\nRussia  The number of applications for consumer loans  2013-05-15  867235",
      "text/html": "<div>\n<style scoped>\n    .dataframe tbody tr th:only-of-type {\n        vertical-align: middle;\n    }\n\n    .dataframe tbody tr th {\n        vertical-align: top;\n    }\n\n    .dataframe thead th {\n        text-align: right;\n    }\n</style>\n<table border=\"1\" class=\"dataframe\">\n  <thead>\n    <tr style=\"text-align: right;\">\n      <th></th>\n      <th>name</th>\n      <th>date</th>\n      <th>value</th>\n    </tr>\n    <tr>\n      <th>region</th>\n      <th></th>\n      <th></th>\n      <th></th>\n    </tr>\n  </thead>\n  <tbody>\n    <tr>\n      <th>Russia</th>\n      <td>The number of applications for consumer loans</td>\n      <td>2013-01-15</td>\n      <td>571147</td>\n    </tr>\n    <tr>\n      <th>Russia</th>\n      <td>The number of applications for consumer loans</td>\n      <td>2013-02-15</td>\n      <td>504508</td>\n    </tr>\n    <tr>\n      <th>Russia</th>\n      <td>The number of applications for consumer loans</td>\n      <td>2013-03-15</td>\n      <td>628803</td>\n    </tr>\n    <tr>\n      <th>Russia</th>\n      <td>The number of applications for consumer loans</td>\n      <td>2013-04-15</td>\n      <td>836054</td>\n    </tr>\n    <tr>\n      <th>Russia</th>\n      <td>The number of applications for consumer loans</td>\n      <td>2013-05-15</td>\n      <td>867235</td>\n    </tr>\n  </tbody>\n</table>\n</div>"
     },
     "execution_count": 28,
     "metadata": {},
     "output_type": "execute_result"
    }
   ],
   "source": [
    "data.head()"
   ],
   "metadata": {
    "collapsed": false,
    "ExecuteTime": {
     "end_time": "2023-05-24T11:31:29.322958800Z",
     "start_time": "2023-05-24T11:31:29.297865Z"
    }
   }
  },
  {
   "cell_type": "code",
   "execution_count": 29,
   "outputs": [
    {
     "data": {
      "text/plain": "array(['The number of applications for consumer loans',\n       'Average consumer loan application',\n       'The number of applications for mortgages',\n       'The average amount of a mortgage application',\n       'Number of new deposits', 'Average amount of new deposit',\n       'Average salary', 'Average pension',\n       'On average rubles on current account per person',\n       'On average, deposits in rubles per person',\n       'Average spending on cards', 'Average Fast Food format Check',\n       'Average check in Restaurant format',\n       'Average spending in a fast food restaurant',\n       'Average spending in a restaurant'], dtype=object)"
     },
     "execution_count": 29,
     "metadata": {},
     "output_type": "execute_result"
    }
   ],
   "source": [
    "pd.unique(data['name'])"
   ],
   "metadata": {
    "collapsed": false,
    "ExecuteTime": {
     "end_time": "2023-05-24T11:31:33.117943700Z",
     "start_time": "2023-05-24T11:31:33.100944900Z"
    }
   }
  },
  {
   "cell_type": "code",
   "execution_count": 30,
   "outputs": [],
   "source": [
    "data = data.pivot_table(index=[\"region\", \"date\"], columns=\"name\", values=\"value\", aggfunc=\"mean\", fill_value=0).reset_index()"
   ],
   "metadata": {
    "collapsed": false,
    "ExecuteTime": {
     "end_time": "2023-05-24T11:31:33.789852Z",
     "start_time": "2023-05-24T11:31:33.735052200Z"
    }
   }
  },
  {
   "cell_type": "markdown",
   "source": [
    "### 1.2 Описание параметров\n",
    "\n",
    "В получившейся таблице имеются следующие столбцы:\n",
    "\n",
    "- Расходы\n",
    "    - Average spending in a fast food restaurant', 'Average spending in a restaurant' - Средние расходы в фаст фуде/в ресторане\n",
    "    - Average Fast Food format Check', 'Average check in Restaurant format' - Средний чек в фаст фуде/в ресторане\n",
    "    - Average spending on cards' - Средние расходы по карте\n",
    "- Доходы и сбережения\n",
    "    - Average salary' - Средняя заработная плата\n",
    "    - Average pension' - Средняя пенсия\n",
    "    - On average rubles on current account per person' - В среднем рублей на расчетном счете на человека\n",
    "    - On average, deposits in rubles per person' - В среднем размер вклада на человека\n",
    "- Банковские операции\n",
    "    - Потребительский кредит\n",
    "        - The number of applications for consumer loans' - Количество заявок на потребительские кредиты\n",
    "        - Average consumer loan application' - Средний размер потребительского кредита\n",
    "    - Ипотека\n",
    "        - The number of applications for mortgages' - Количество заявок на ипотеку\n",
    "        - The average amount of a mortgage application' - Средний размер ипотеки\n",
    "    - Депозиты\n",
    "        - Number of new deposits' - Количество новых депозитов\n",
    "        - Average amount of new deposit' - Средний размер депозита"
   ],
   "metadata": {
    "collapsed": false
   }
  },
  {
   "cell_type": "code",
   "execution_count": 44,
   "outputs": [
    {
     "data": {
      "text/plain": "name        region        date  Average Fast Food format Check  \\\n0     Altai region  2013-01-15                               0   \n1     Altai region  2013-02-15                               0   \n2     Altai region  2013-03-15                               0   \n3     Altai region  2013-04-15                               0   \n4     Altai region  2013-05-15                               0   \n\nname  Average amount of new deposit  Average check in Restaurant format  \\\n0                                 0                                   0   \n1                                 0                                   0   \n2                                 0                                   0   \n3                                 0                                   0   \n4                                 0                                   0   \n\nname  Average consumer loan application  Average pension  Average salary  \\\n0                                133509                0               0   \n1                                150030                0               0   \n2                                151795                0               0   \n3                                148752                0               0   \n4                                150903                0               0   \n\nname  Average spending in a fast food restaurant  \\\n0                                              0   \n1                                              0   \n2                                              0   \n3                                              0   \n4                                              0   \n\nname  Average spending in a restaurant  Average spending on cards  \\\n0                                    0                          0   \n1                                    0                          0   \n2                                    0                          0   \n3                                    0                          0   \n4                                    0                          0   \n\nname  Number of new deposits  On average rubles on current account per person  \\\n0                          0                                                0   \n1                          0                                                0   \n2                          0                                                0   \n3                          0                                                0   \n4                          0                                                0   \n\nname  On average, deposits in rubles per person  \\\n0                                             0   \n1                                             0   \n2                                             0   \n3                                             0   \n4                                             0   \n\nname  The average amount of a mortgage application  \\\n0                                           968154   \n1                                           957201   \n2                                           974481   \n3                                           985195   \n4                                           955750   \n\nname  The number of applications for consumer loans  \\\n0                                             13423   \n1                                             12440   \n2                                             15906   \n3                                             22172   \n4                                             22642   \n\nname  The number of applications for mortgages  year  \n0                                          508  2013  \n1                                          641  2013  \n2                                          853  2013  \n3                                         1072  2013  \n4                                          807  2013  ",
      "text/html": "<div>\n<style scoped>\n    .dataframe tbody tr th:only-of-type {\n        vertical-align: middle;\n    }\n\n    .dataframe tbody tr th {\n        vertical-align: top;\n    }\n\n    .dataframe thead th {\n        text-align: right;\n    }\n</style>\n<table border=\"1\" class=\"dataframe\">\n  <thead>\n    <tr style=\"text-align: right;\">\n      <th>name</th>\n      <th>region</th>\n      <th>date</th>\n      <th>Average Fast Food format Check</th>\n      <th>Average amount of new deposit</th>\n      <th>Average check in Restaurant format</th>\n      <th>Average consumer loan application</th>\n      <th>Average pension</th>\n      <th>Average salary</th>\n      <th>Average spending in a fast food restaurant</th>\n      <th>Average spending in a restaurant</th>\n      <th>Average spending on cards</th>\n      <th>Number of new deposits</th>\n      <th>On average rubles on current account per person</th>\n      <th>On average, deposits in rubles per person</th>\n      <th>The average amount of a mortgage application</th>\n      <th>The number of applications for consumer loans</th>\n      <th>The number of applications for mortgages</th>\n      <th>year</th>\n    </tr>\n  </thead>\n  <tbody>\n    <tr>\n      <th>0</th>\n      <td>Altai region</td>\n      <td>2013-01-15</td>\n      <td>0</td>\n      <td>0</td>\n      <td>0</td>\n      <td>133509</td>\n      <td>0</td>\n      <td>0</td>\n      <td>0</td>\n      <td>0</td>\n      <td>0</td>\n      <td>0</td>\n      <td>0</td>\n      <td>0</td>\n      <td>968154</td>\n      <td>13423</td>\n      <td>508</td>\n      <td>2013</td>\n    </tr>\n    <tr>\n      <th>1</th>\n      <td>Altai region</td>\n      <td>2013-02-15</td>\n      <td>0</td>\n      <td>0</td>\n      <td>0</td>\n      <td>150030</td>\n      <td>0</td>\n      <td>0</td>\n      <td>0</td>\n      <td>0</td>\n      <td>0</td>\n      <td>0</td>\n      <td>0</td>\n      <td>0</td>\n      <td>957201</td>\n      <td>12440</td>\n      <td>641</td>\n      <td>2013</td>\n    </tr>\n    <tr>\n      <th>2</th>\n      <td>Altai region</td>\n      <td>2013-03-15</td>\n      <td>0</td>\n      <td>0</td>\n      <td>0</td>\n      <td>151795</td>\n      <td>0</td>\n      <td>0</td>\n      <td>0</td>\n      <td>0</td>\n      <td>0</td>\n      <td>0</td>\n      <td>0</td>\n      <td>0</td>\n      <td>974481</td>\n      <td>15906</td>\n      <td>853</td>\n      <td>2013</td>\n    </tr>\n    <tr>\n      <th>3</th>\n      <td>Altai region</td>\n      <td>2013-04-15</td>\n      <td>0</td>\n      <td>0</td>\n      <td>0</td>\n      <td>148752</td>\n      <td>0</td>\n      <td>0</td>\n      <td>0</td>\n      <td>0</td>\n      <td>0</td>\n      <td>0</td>\n      <td>0</td>\n      <td>0</td>\n      <td>985195</td>\n      <td>22172</td>\n      <td>1072</td>\n      <td>2013</td>\n    </tr>\n    <tr>\n      <th>4</th>\n      <td>Altai region</td>\n      <td>2013-05-15</td>\n      <td>0</td>\n      <td>0</td>\n      <td>0</td>\n      <td>150903</td>\n      <td>0</td>\n      <td>0</td>\n      <td>0</td>\n      <td>0</td>\n      <td>0</td>\n      <td>0</td>\n      <td>0</td>\n      <td>0</td>\n      <td>955750</td>\n      <td>22642</td>\n      <td>807</td>\n      <td>2013</td>\n    </tr>\n  </tbody>\n</table>\n</div>"
     },
     "execution_count": 44,
     "metadata": {},
     "output_type": "execute_result"
    }
   ],
   "source": [
    "data.head()"
   ],
   "metadata": {
    "collapsed": false,
    "ExecuteTime": {
     "end_time": "2023-05-24T11:38:15.550593800Z",
     "start_time": "2023-05-24T11:38:15.540588400Z"
    }
   }
  },
  {
   "cell_type": "code",
   "execution_count": 40,
   "outputs": [],
   "source": [
    "data = data[data[\"region\"] != \"Russia\"]"
   ],
   "metadata": {
    "collapsed": false,
    "ExecuteTime": {
     "end_time": "2023-05-24T11:38:01.007974200Z",
     "start_time": "2023-05-24T11:38:00.987935800Z"
    }
   }
  },
  {
   "cell_type": "code",
   "execution_count": 41,
   "outputs": [],
   "source": [
    "data['year'] = data[\"date\"].apply(lambda t: time.strptime(t, '%Y-%m-%d').tm_year)"
   ],
   "metadata": {
    "collapsed": false,
    "ExecuteTime": {
     "end_time": "2023-05-24T11:38:02.105369200Z",
     "start_time": "2023-05-24T11:38:02.059685400Z"
    }
   }
  },
  {
   "cell_type": "code",
   "execution_count": 42,
   "outputs": [],
   "source": [
    "new_data = data[data[\"region\"] == \"Primorsky Krai\"]\n",
    "new_data = new_data.rename(columns={'Average check in Restaurant format' : 'Average check in Restaurant',\n",
    "                                    'Average Fast Food format Check' : 'Average check in Fast Food'})"
   ],
   "metadata": {
    "collapsed": false,
    "ExecuteTime": {
     "end_time": "2023-05-24T11:38:02.576686900Z",
     "start_time": "2023-05-24T11:38:02.563985800Z"
    }
   }
  },
  {
   "cell_type": "code",
   "execution_count": 43,
   "outputs": [],
   "source": [
    "new_data.loc[new_data[\"year\"]==2019, \"year\"] = 2018"
   ],
   "metadata": {
    "collapsed": false,
    "ExecuteTime": {
     "end_time": "2023-05-24T11:38:03.050144200Z",
     "start_time": "2023-05-24T11:38:03.036142200Z"
    }
   }
  },
  {
   "cell_type": "markdown",
   "source": [
    "### 1.3 Предобработка данных"
   ],
   "metadata": {
    "collapsed": false
   }
  },
  {
   "cell_type": "markdown",
   "source": [
    "### Удалим все строки с регионом \"Russia\", чтобы обобщённые по всей стране данные не создавали большие выбросы при сравнении с данными по отдельным регионам"
   ],
   "metadata": {
    "collapsed": false
   }
  },
  {
   "cell_type": "code",
   "execution_count": 58,
   "outputs": [],
   "source": [
    "data = data[data[\"region\"] != \"Russia\"]"
   ],
   "metadata": {
    "collapsed": false,
    "ExecuteTime": {
     "end_time": "2023-05-24T11:56:17.475500300Z",
     "start_time": "2023-05-24T11:56:17.465475300Z"
    }
   }
  },
  {
   "cell_type": "markdown",
   "source": [
    "Добавим столбец год, чтобы было удобнее анализировать изменения признаков по годам."
   ],
   "metadata": {
    "collapsed": false
   }
  },
  {
   "cell_type": "code",
   "execution_count": 59,
   "outputs": [],
   "source": [
    "data['year'] = data[\"date\"].apply(lambda t: time.strptime(t, '%Y-%m-%d').tm_year)"
   ],
   "metadata": {
    "collapsed": false,
    "ExecuteTime": {
     "end_time": "2023-05-24T11:56:18.858452800Z",
     "start_time": "2023-05-24T11:56:18.749455100Z"
    }
   }
  },
  {
   "cell_type": "markdown",
   "source": [
    "Посмотрим, сколько записей представлено за каждый год. Из графика ниже видно, что вряд ли будет возможно делать выводы о показателях за 2019 год, так как за этот год слишком мало записей."
   ],
   "metadata": {
    "collapsed": false
   }
  },
  {
   "cell_type": "markdown",
   "source": [
    "### 2. Анализ данных"
   ],
   "metadata": {
    "collapsed": false
   }
  },
  {
   "cell_type": "markdown",
   "source": [
    "### 2.1 Топ 20 регионов по различным показателям"
   ],
   "metadata": {
    "collapsed": false
   }
  },
  {
   "cell_type": "markdown",
   "source": [
    "Рассмотрим какие из регионов имеют самые высокие показатели по таким параметрам, как:"
   ],
   "metadata": {
    "collapsed": false
   }
  },
  {
   "cell_type": "markdown",
   "source": [
    "- Заработная плата\n",
    "- Количество заявок на потребительские кредиты,\n",
    "- Средний размер потребительских кредитов,\n",
    "- Средние расходы по карте\n",
    "\n",
    "и посмотрим есть ли между этими параметрами взаимосвязь."
   ],
   "metadata": {
    "collapsed": false
   }
  },
  {
   "cell_type": "markdown",
   "source": [
    "### Средняя заработная плата"
   ],
   "metadata": {
    "collapsed": false
   }
  },
  {
   "cell_type": "markdown",
   "source": [
    "Самые высокие заработные платы в удалённых регионах Дальневосточного федерального округа таких, как Чукотский автономный округ, Магаданская область, Камчатский край и в Северных регионах таких, как Ямало-Ненецкий автономный округ, Ненецкий автономный округ, Ханты-Мансийский автономный округ, что имеет под собой такие основания, как удалённость регионов, тяжёлые климатические условия, дороговизна продуктов потребления. Помимо удалённых регионов вверху списка находятся Москва и Питер, что обусловлено статусами столиц у этих двух городов."
   ],
   "metadata": {
    "collapsed": false
   }
  },
  {
   "cell_type": "markdown",
   "source": [
    "### Среднее количество заявок на потребительские кредиты¶"
   ],
   "metadata": {
    "collapsed": false
   }
  },
  {
   "cell_type": "markdown",
   "source": [
    "Явным лидером по количеству заявок на потребительские кредиты является Москва, после неё идут Краснодарский край и Московская область. Возможно, данный отрыв обусловлен более благоприятным уровнем жизни в данных регионах и поэтому население не боится брать кредиты."
   ],
   "metadata": {
    "collapsed": false
   }
  },
  {
   "cell_type": "markdown",
   "source": [
    "### Размер потребительского кредита"
   ],
   "metadata": {
    "collapsed": false
   }
  },
  {
   "cell_type": "markdown",
   "source": [
    "Самые высокие размеры кредитов, как и заработные платы, в отдалённых Северных и Дальневосточных регионах, что обусловлено дороговизной жизни в этих регионах."
   ],
   "metadata": {
    "collapsed": false
   }
  },
  {
   "cell_type": "markdown",
   "source": [
    "### Расходы по карте"
   ],
   "metadata": {
    "collapsed": false
   }
  },
  {
   "cell_type": "markdown",
   "source": [
    "В отдалённых регионах России уровень затрат у населения выше, чем в других регионах."
   ],
   "metadata": {
    "collapsed": false
   }
  },
  {
   "cell_type": "code",
   "execution_count": 56,
   "outputs": [],
   "source": [
    "new_data = data[data[\"region\"] == \"Primorsky Krai\"]\n",
    "new_data = new_data.rename(columns={'Average check in Restaurant format' : 'Average check in Restaurant',\n",
    "                                    'Average Fast Food format Check' : 'Average check in Fast Food'})"
   ],
   "metadata": {
    "collapsed": false,
    "ExecuteTime": {
     "end_time": "2023-05-24T11:56:03.099193600Z",
     "start_time": "2023-05-24T11:56:03.080163400Z"
    }
   }
  },
  {
   "cell_type": "code",
   "execution_count": 57,
   "outputs": [],
   "source": [
    "new_data.loc[new_data[\"year\"]==2019, \"year\"] = 2018"
   ],
   "metadata": {
    "collapsed": false,
    "ExecuteTime": {
     "end_time": "2023-05-24T11:56:05.465093900Z",
     "start_time": "2023-05-24T11:56:05.449093800Z"
    }
   }
  },
  {
   "cell_type": "code",
   "execution_count": null,
   "outputs": [],
   "source": [],
   "metadata": {
    "collapsed": false
   }
  }
 ],
 "metadata": {
  "kernelspec": {
   "display_name": "Python 3",
   "language": "python",
   "name": "python3"
  },
  "language_info": {
   "codemirror_mode": {
    "name": "ipython",
    "version": 2
   },
   "file_extension": ".py",
   "mimetype": "text/x-python",
   "name": "python",
   "nbconvert_exporter": "python",
   "pygments_lexer": "ipython2",
   "version": "2.7.6"
  }
 },
 "nbformat": 4,
 "nbformat_minor": 0
}

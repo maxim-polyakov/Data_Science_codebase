{
 "cells": [
  {
   "cell_type": "code",
   "execution_count": 1,
   "metadata": {
    "collapsed": true
   },
   "outputs": [
    {
     "name": "stdout",
     "output_type": "stream",
     "text": [
      "DataSets/cyber-bullying-EDA\\data.csv\n"
     ]
    }
   ],
   "source": [
    "# This Python 3 environment comes with many helpful analytics libraries installed\n",
    "# It is defined by the kaggle/python Docker image: https://github.com/kaggle/docker-python\n",
    "# For example, here's several helpful packages to load\n",
    "\n",
    "import numpy as np # linear algebra\n",
    "import pandas as pd # data processing, CSV file I/O (e.g. pd.read_csv)\n",
    "\n",
    "# Input data files are available in the read-only \"../input/\" directory\n",
    "# For example, running this (by clicking run or pressing Shift+Enter) will list all files under the input directory\n",
    "\n",
    "import os\n",
    "for dirname, _, filenames in os.walk('DataSets/cyber-bullying-EDA'):\n",
    "    for filename in filenames:\n",
    "        print(os.path.join(dirname, filename))\n",
    "\n",
    "# You can write up to 20GB to the current directory (/kaggle/working/) that gets preserved as output when you create a version using \"Save & Run All\"\n",
    "# You can also write temporary files to /kaggle/temp/, but they won't be saved outside of the current session"
   ]
  },
  {
   "cell_type": "code",
   "execution_count": 2,
   "outputs": [],
   "source": [
    "import seaborn as sns\n",
    "import matplotlib.pyplot as plt"
   ],
   "metadata": {
    "collapsed": false
   }
  },
  {
   "cell_type": "code",
   "execution_count": 3,
   "outputs": [],
   "source": [
    "df = pd.read_csv(\"../DataSets/cyber-bullying-EDA/data.csv\")"
   ],
   "metadata": {
    "collapsed": false
   }
  },
  {
   "cell_type": "code",
   "execution_count": 4,
   "outputs": [
    {
     "name": "stdout",
     "output_type": "stream",
     "text": [
      "<class 'pandas.core.frame.DataFrame'>\n",
      "RangeIndex: 68 entries, 0 to 67\n",
      "Data columns (total 18 columns):\n",
      " #   Column                                                                                 Non-Null Count  Dtype \n",
      "---  ------                                                                                 --------------  ----- \n",
      " 0   Timestamp                                                                              68 non-null     object\n",
      " 1   Email Address                                                                          68 non-null     object\n",
      " 2   What's Your Age?                                                                       68 non-null     object\n",
      " 3   What do you consider as Cyber bullying?                                                67 non-null     object\n",
      " 4   What Age group of people are most Vulnerable to Cyber bullying                         68 non-null     object\n",
      " 5   Have you ever been cyber bullied?                                                      68 non-null     object\n",
      " 6   If Yes , What was the way you dealt with the same                                      29 non-null     object\n",
      " 7   What do you think made you the victim of cyber bullying?                               25 non-null     object\n",
      " 8   What Platform according to you leads in cyber bullying                                 67 non-null     object\n",
      " 9   What type of people are usually the bullies on the internet?                           54 non-null     object\n",
      " 10  Have You ever knowingly / Unknowingly bullied someone on the internet?                 68 non-null     object\n",
      " 11  What lead you to bully someone ? ( if yes )                                            15 non-null     object\n",
      " 12  What kind of people are usually the victims of cyber-bullying?                         68 non-null     object\n",
      " 13  What are the causes of cyber bullying according to you                                 68 non-null     object\n",
      " 14  What has more impact on an individual , Cyber Bullying or Bullying in real life ?      68 non-null     object\n",
      " 15  Who are bullies usually?                                                               68 non-null     object\n",
      " 16  Youtube Roasting is a form of bullying. Do you agree ?                                 68 non-null     object\n",
      " 17  Your opinion on the dank communities on  the internet , usually involved in bullying?  68 non-null     object\n",
      "dtypes: object(18)\n",
      "memory usage: 9.7+ KB\n"
     ]
    }
   ],
   "source": [
    "df.info()"
   ],
   "metadata": {
    "collapsed": false
   }
  },
  {
   "cell_type": "code",
   "execution_count": 5,
   "outputs": [
    {
     "data": {
      "text/plain": "                 Timestamp          Email Address What's Your Age?  \\\ncount                   68                     68               68   \nunique                  68                     67                3   \ntop     1/22/2022 11:39:31  aroramann50@gmail.com          15 - 18   \nfreq                     1                      2               42   \n\n                  What do you consider as Cyber bullying?  \\\ncount                                                  67   \nunique                                                 31   \ntop     Hacking / Phishing your private details, Mean/...   \nfreq                                                    8   \n\n       What Age group of people are most Vulnerable to Cyber bullying  \\\ncount                                                  68               \nunique                                                  5               \ntop                                    equally vulnerable               \nfreq                                                   28               \n\n       Have you ever been cyber bullied?  \\\ncount                                 68   \nunique                                 2   \ntop                                   No   \nfreq                                  47   \n\n       If Yes , What was the way you dealt with the same  \\\ncount                                                 29   \nunique                                                14   \ntop                         Blocked / Reported The Bully   \nfreq                                                   8   \n\n       What do you think made you the victim of cyber bullying?  \\\ncount                                                  25         \nunique                                                 25         \ntop                                                 idk\\n         \nfreq                                                    1         \n\n       What Platform according to you leads in cyber bullying  \\\ncount                                                  67       \nunique                                                 13       \ntop                                      All of the above       \nfreq                                                   32       \n\n       What type of people are usually the bullies on the internet?  \\\ncount                                                  54             \nunique                                                 54             \ntop                                            for money              \nfreq                                                    1             \n\n       Have You ever knowingly / Unknowingly bullied someone on the internet?  \\\ncount                                                  68                       \nunique                                                  2                       \ntop                                                    No                       \nfreq                                                   57                       \n\n       What lead you to bully someone ? ( if yes )  \\\ncount                                           15   \nunique                                          15   \ntop                                   privacy leak   \nfreq                                             1   \n\n       What kind of people are usually the victims of cyber-bullying?  \\\ncount                                                  68               \nunique                                                  4               \ntop                                          All of above               \nfreq                                                   53               \n\n       What are the causes of cyber bullying according to you  \\\ncount                                                  68       \nunique                                                  5       \ntop                                     Lack of awareness       \nfreq                                                   37       \n\n       What has more impact on an individual , Cyber Bullying or Bullying in real life ?  \\\ncount                                                  68                                  \nunique                                                  3                                  \ntop                                          equal impact                                  \nfreq                                                   50                                  \n\n       Who are bullies usually?  \\\ncount                        68   \nunique                        3   \ntop                 Can be both   \nfreq                         62   \n\n       Youtube Roasting is a form of bullying. Do you agree ?  \\\ncount                                                  68       \nunique                                                  2       \ntop                                                    No       \nfreq                                                   42       \n\n       Your opinion on the dank communities on  the internet , usually involved in bullying?  \ncount                                                  68                                     \nunique                                                 66                                     \ntop                                                     -                                     \nfreq                                                    2                                     ",
      "text/html": "<div>\n<style scoped>\n    .dataframe tbody tr th:only-of-type {\n        vertical-align: middle;\n    }\n\n    .dataframe tbody tr th {\n        vertical-align: top;\n    }\n\n    .dataframe thead th {\n        text-align: right;\n    }\n</style>\n<table border=\"1\" class=\"dataframe\">\n  <thead>\n    <tr style=\"text-align: right;\">\n      <th></th>\n      <th>Timestamp</th>\n      <th>Email Address</th>\n      <th>What's Your Age?</th>\n      <th>What do you consider as Cyber bullying?</th>\n      <th>What Age group of people are most Vulnerable to Cyber bullying</th>\n      <th>Have you ever been cyber bullied?</th>\n      <th>If Yes , What was the way you dealt with the same</th>\n      <th>What do you think made you the victim of cyber bullying?</th>\n      <th>What Platform according to you leads in cyber bullying</th>\n      <th>What type of people are usually the bullies on the internet?</th>\n      <th>Have You ever knowingly / Unknowingly bullied someone on the internet?</th>\n      <th>What lead you to bully someone ? ( if yes )</th>\n      <th>What kind of people are usually the victims of cyber-bullying?</th>\n      <th>What are the causes of cyber bullying according to you</th>\n      <th>What has more impact on an individual , Cyber Bullying or Bullying in real life ?</th>\n      <th>Who are bullies usually?</th>\n      <th>Youtube Roasting is a form of bullying. Do you agree ?</th>\n      <th>Your opinion on the dank communities on  the internet , usually involved in bullying?</th>\n    </tr>\n  </thead>\n  <tbody>\n    <tr>\n      <th>count</th>\n      <td>68</td>\n      <td>68</td>\n      <td>68</td>\n      <td>67</td>\n      <td>68</td>\n      <td>68</td>\n      <td>29</td>\n      <td>25</td>\n      <td>67</td>\n      <td>54</td>\n      <td>68</td>\n      <td>15</td>\n      <td>68</td>\n      <td>68</td>\n      <td>68</td>\n      <td>68</td>\n      <td>68</td>\n      <td>68</td>\n    </tr>\n    <tr>\n      <th>unique</th>\n      <td>68</td>\n      <td>67</td>\n      <td>3</td>\n      <td>31</td>\n      <td>5</td>\n      <td>2</td>\n      <td>14</td>\n      <td>25</td>\n      <td>13</td>\n      <td>54</td>\n      <td>2</td>\n      <td>15</td>\n      <td>4</td>\n      <td>5</td>\n      <td>3</td>\n      <td>3</td>\n      <td>2</td>\n      <td>66</td>\n    </tr>\n    <tr>\n      <th>top</th>\n      <td>1/22/2022 11:39:31</td>\n      <td>aroramann50@gmail.com</td>\n      <td>15 - 18</td>\n      <td>Hacking / Phishing your private details, Mean/...</td>\n      <td>equally vulnerable</td>\n      <td>No</td>\n      <td>Blocked / Reported The Bully</td>\n      <td>idk\\n</td>\n      <td>All of the above</td>\n      <td>for money</td>\n      <td>No</td>\n      <td>privacy leak</td>\n      <td>All of above</td>\n      <td>Lack of awareness</td>\n      <td>equal impact</td>\n      <td>Can be both</td>\n      <td>No</td>\n      <td>-</td>\n    </tr>\n    <tr>\n      <th>freq</th>\n      <td>1</td>\n      <td>2</td>\n      <td>42</td>\n      <td>8</td>\n      <td>28</td>\n      <td>47</td>\n      <td>8</td>\n      <td>1</td>\n      <td>32</td>\n      <td>1</td>\n      <td>57</td>\n      <td>1</td>\n      <td>53</td>\n      <td>37</td>\n      <td>50</td>\n      <td>62</td>\n      <td>42</td>\n      <td>2</td>\n    </tr>\n  </tbody>\n</table>\n</div>"
     },
     "execution_count": 5,
     "metadata": {},
     "output_type": "execute_result"
    }
   ],
   "source": [
    "df.describe()"
   ],
   "metadata": {
    "collapsed": false
   }
  },
  {
   "cell_type": "code",
   "execution_count": 6,
   "outputs": [
    {
     "data": {
      "text/plain": "<seaborn.axisgrid.FacetGrid at 0x288900e7b50>"
     },
     "execution_count": 6,
     "metadata": {},
     "output_type": "execute_result"
    },
    {
     "data": {
      "text/plain": "<Figure size 500x500 with 1 Axes>",
      "image/png": "[encoded data removed]"
     },
     "metadata": {},
     "output_type": "display_data"
    }
   ],
   "source": [
    "sns.catplot(x=\"What's Your Age?\" , kind='count',data=df)"
   ],
   "metadata": {
    "collapsed": false
   }
  },
  {
   "cell_type": "code",
   "execution_count": 7,
   "outputs": [
    {
     "data": {
      "text/plain": "<seaborn.axisgrid.FacetGrid at 0x288922112e0>"
     },
     "execution_count": 7,
     "metadata": {},
     "output_type": "execute_result"
    }
   ],
   "source": [
    "sns.catplot(x='What Age group of people are most Vulnerable to Cyber bullying' , kind='count',data=df , hue=\"What's Your Age?\")"
   ],
   "metadata": {
    "collapsed": false
   }
  },
  {
   "cell_type": "code",
   "execution_count": 8,
   "outputs": [
    {
     "data": {
      "text/plain": "<seaborn.axisgrid.FacetGrid at 0x28892283250>"
     },
     "execution_count": 8,
     "metadata": {},
     "output_type": "execute_result"
    }
   ],
   "source": [
    "sns.catplot(x='Have you ever been cyber bullied?' , kind='count',data=df)"
   ],
   "metadata": {
    "collapsed": false
   }
  },
  {
   "cell_type": "code",
   "execution_count": 9,
   "outputs": [
    {
     "data": {
      "text/plain": "<seaborn.axisgrid.FacetGrid at 0x288921bb910>"
     },
     "execution_count": 9,
     "metadata": {},
     "output_type": "execute_result"
    }
   ],
   "source": [
    "sns.catplot(x='Have you ever been cyber bullied?' , kind='count',data=df , hue=\"What's Your Age?\")"
   ],
   "metadata": {
    "collapsed": false
   }
  },
  {
   "cell_type": "code",
   "execution_count": 10,
   "outputs": [
    {
     "data": {
      "text/plain": "Timestamp                                                                                68\nEmail Address                                                                            68\nWhat's Your Age?                                                                         68\nWhat do you consider as Cyber bullying?                                                  67\nWhat Age group of people are most Vulnerable to Cyber bullying                           68\nHave you ever been cyber bullied?                                                        68\nIf Yes , What was the way you dealt with the same                                        29\nWhat do you think made you the victim of cyber bullying?                                 25\nWhat Platform according to you leads in cyber bullying                                   67\nWhat type of people are usually the bullies on the internet?                             54\nHave You ever knowingly / Unknowingly bullied someone on the internet?                   68\nWhat lead you to bully someone ? ( if yes )                                              15\nWhat kind of people are usually the victims of cyber-bullying?                           68\nWhat are the causes of cyber bullying according to you                                   68\nWhat has more impact on an individual , Cyber Bullying or Bullying in real life ?        68\nWho are bullies usually?                                                                 68\nYoutube Roasting is a form of bullying. Do you agree ?                                   68\nYour opinion on the dank communities on  the internet , usually involved in bullying?    68\ndtype: int64"
     },
     "execution_count": 10,
     "metadata": {},
     "output_type": "execute_result"
    }
   ],
   "source": [
    "df.notnull().sum()"
   ],
   "metadata": {
    "collapsed": false
   }
  },
  {
   "cell_type": "code",
   "execution_count": 11,
   "outputs": [
    {
     "data": {
      "text/plain": "<AxesSubplot:xlabel='Have you ever been cyber bullied?', ylabel='None'>"
     },
     "execution_count": 11,
     "metadata": {},
     "output_type": "execute_result"
    }
   ],
   "source": [
    "df.groupby('What Platform according to you leads in cyber bullying').size().plot(kind='pie', autopct='%.2f')"
   ],
   "metadata": {
    "collapsed": false
   }
  },
  {
   "cell_type": "code",
   "execution_count": 12,
   "outputs": [
    {
     "data": {
      "text/plain": "<AxesSubplot:xlabel='Have you ever been cyber bullied?', ylabel='None'>"
     },
     "execution_count": 12,
     "metadata": {},
     "output_type": "execute_result"
    }
   ],
   "source": [
    "df.groupby('Have You ever knowingly / Unknowingly bullied someone on the internet?').size().plot(kind='pie', autopct='%.2f')"
   ],
   "metadata": {
    "collapsed": false
   }
  },
  {
   "cell_type": "code",
   "execution_count": 13,
   "outputs": [
    {
     "data": {
      "text/plain": "<seaborn.axisgrid.FacetGrid at 0x28892733040>"
     },
     "execution_count": 13,
     "metadata": {},
     "output_type": "execute_result"
    }
   ],
   "source": [
    "sns.catplot(x='Have You ever knowingly / Unknowingly bullied someone on the internet?' , kind='count',data=df , hue=\"What's Your Age?\")"
   ],
   "metadata": {
    "collapsed": false
   }
  },
  {
   "cell_type": "code",
   "execution_count": 14,
   "outputs": [
    {
     "data": {
      "text/plain": "<AxesSubplot:xlabel='Have You ever knowingly / Unknowingly bullied someone on the internet?', ylabel='None'>"
     },
     "execution_count": 14,
     "metadata": {},
     "output_type": "execute_result"
    }
   ],
   "source": [
    "df.groupby('What kind of people are usually the victims of cyber-bullying?').size().plot(kind='pie', autopct='%.2f')"
   ],
   "metadata": {
    "collapsed": false
   }
  },
  {
   "cell_type": "code",
   "execution_count": 15,
   "outputs": [
    {
     "data": {
      "text/plain": "<AxesSubplot:xlabel='Have You ever knowingly / Unknowingly bullied someone on the internet?', ylabel='None'>"
     },
     "execution_count": 15,
     "metadata": {},
     "output_type": "execute_result"
    }
   ],
   "source": [
    "df.groupby('What are the causes of cyber bullying according to you').size().plot(kind='pie', autopct='%.2f')"
   ],
   "metadata": {
    "collapsed": false
   }
  },
  {
   "cell_type": "code",
   "execution_count": 16,
   "outputs": [
    {
     "data": {
      "text/plain": "<seaborn.axisgrid.FacetGrid at 0x288927335e0>"
     },
     "execution_count": 16,
     "metadata": {},
     "output_type": "execute_result"
    }
   ],
   "source": [
    "sns.catplot(x='What are the causes of cyber bullying according to you' , kind='count',data=df , hue=\"What's Your Age?\")"
   ],
   "metadata": {
    "collapsed": false
   }
  },
  {
   "cell_type": "code",
   "execution_count": 17,
   "outputs": [
    {
     "data": {
      "text/plain": "<seaborn.axisgrid.FacetGrid at 0x288937b19a0>"
     },
     "execution_count": 17,
     "metadata": {},
     "output_type": "execute_result"
    }
   ],
   "source": [
    "sns.catplot(x='What has more impact on an individual , Cyber Bullying or Bullying in real life ?' , kind='count',data=df)"
   ],
   "metadata": {
    "collapsed": false
   }
  },
  {
   "cell_type": "code",
   "execution_count": 18,
   "outputs": [
    {
     "data": {
      "text/plain": "<AxesSubplot:xlabel='What has more impact on an individual , Cyber Bullying or Bullying in real life ?', ylabel='None'>"
     },
     "execution_count": 18,
     "metadata": {},
     "output_type": "execute_result"
    }
   ],
   "source": [
    "df.groupby('Who are bullies usually?').size().plot(kind='pie', autopct='%.2f')"
   ],
   "metadata": {
    "collapsed": false
   }
  },
  {
   "cell_type": "code",
   "execution_count": 19,
   "outputs": [
    {
     "data": {
      "text/plain": "<AxesSubplot:xlabel='What has more impact on an individual , Cyber Bullying or Bullying in real life ?', ylabel='None'>"
     },
     "execution_count": 19,
     "metadata": {},
     "output_type": "execute_result"
    }
   ],
   "source": [
    "df.groupby('Youtube Roasting is a form of bullying. Do you agree ?').size().plot(kind='pie', autopct='%.2f')"
   ],
   "metadata": {
    "collapsed": false
   }
  },
  {
   "cell_type": "code",
   "execution_count": 19,
   "outputs": [],
   "source": [],
   "metadata": {
    "collapsed": false
   }
  }
 ],
 "metadata": {
  "kernelspec": {
   "display_name": "Python 3",
   "language": "python",
   "name": "python3"
  },
  "language_info": {
   "codemirror_mode": {
    "name": "ipython",
    "version": 2
   },
   "file_extension": ".py",
   "mimetype": "text/x-python",
   "name": "python",
   "nbconvert_exporter": "python",
   "pygments_lexer": "ipython2",
   "version": "2.7.6"
  }
 },
 "nbformat": 4,
 "nbformat_minor": 0
}

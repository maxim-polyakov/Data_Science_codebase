{
 "cells": [
  {
   "cell_type": "markdown",
   "source": [
    "### Hi all 🙃\n",
    "\n",
    "Today we are implementing an auto encoder with Tensorflow and its Keras wrapper. You will see that it is not really difficult"
   ],
   "metadata": {
    "collapsed": false
   }
  },
  {
   "cell_type": "markdown",
   "source": [
    "### What is an autoencoder?"
   ],
   "metadata": {
    "collapsed": false
   }
  },
  {
   "cell_type": "markdown",
   "source": [
    "Autoencoders are direct propagation neural networks that reconstruct the input signal at the output. Inside they have a hidden layer, which is a code describing the model. Autoencoders are designed in such a way as not to be able to accurately copy the input at the output. Usually they are limited in the dimension of the code (it is smaller than the dimension of the signal) or penalized for activations in the code. The input signal is restored with errors due to encoding losses, but in order to minimize them, the network has to learn to select the most important features."
   ],
   "metadata": {
    "collapsed": false
   }
  },
  {
   "cell_type": "markdown",
   "source": [
    "![texte](https://habrastorage.org/web/cf6/228/613/cf6228613fdc4f8fb819cbd41bb677eb.png)"
   ],
   "metadata": {
    "collapsed": false
   }
  },
  {
   "cell_type": "markdown",
   "source": [
    "### About application"
   ],
   "metadata": {
    "collapsed": false
   }
  },
  {
   "cell_type": "markdown",
   "source": [
    "By itself, the ability of autoencoders to compress data is rarely used, since they usually work worse than manually written algorithms for specific data types like sounds or images. And it is also critically important for them that the data belong to the general population on which the network was trained. Having trained the autoencoder on numbers, it cannot be used to encode something else (for example, human faces)."
   ],
   "metadata": {
    "collapsed": false
   }
  },
  {
   "cell_type": "markdown",
   "source": [
    "However, autoencoders can be used for pre-training, for example, when there is a classification task, and there are too few marked pairs. Or to lower the dimension in the data for subsequent visualization. Or when you just need to learn to distinguish the useful properties of the input signal."
   ],
   "metadata": {
    "collapsed": false
   }
  },
  {
   "cell_type": "markdown",
   "source": [
    "Moreover, some of their developments (which will also be discussed later), such as the variational autoencoder (VAE), as well as its combination with competing generative networks (GAN), give very interesting results and are now at the forefront of the science of generative models."
   ],
   "metadata": {
    "collapsed": false
   }
  },
  {
   "cell_type": "markdown",
   "source": [
    "### Libraries"
   ],
   "metadata": {
    "collapsed": false
   }
  },
  {
   "cell_type": "code",
   "execution_count": 8,
   "outputs": [],
   "source": [
    "import numpy as np\n",
    "import matplotlib.pyplot as plt\n",
    "from tensorflow.keras.datasets import mnist\n",
    "# мнист это стандартный датасет для распознавания цифр я его решал в универе :) просто потерял и там было на шарпе...\n",
    "from tensorflow import keras\n",
    "from tensorflow.keras.layers import Dense, Flatten, Reshape, Input"
   ],
   "metadata": {
    "collapsed": false,
    "ExecuteTime": {
     "end_time": "2023-05-22T10:54:32.184927700Z",
     "start_time": "2023-05-22T10:54:32.175927800Z"
    }
   }
  },
  {
   "cell_type": "markdown",
   "source": [
    "### Data preparation"
   ],
   "metadata": {
    "collapsed": false
   }
  },
  {
   "cell_type": "code",
   "execution_count": 6,
   "outputs": [],
   "source": [
    "(x_train, y_train), (x_test, y_test) = mnist.load_data()\n",
    "\n",
    "x_train = x_train / 255\n",
    "x_test = x_test / 255\n",
    "\n",
    "x_train = np.reshape(x_train, (len(x_train), 28, 28, 1))\n",
    "x_test = np.reshape(x_test, (len(x_test), 28, 28, 1))"
   ],
   "metadata": {
    "collapsed": false,
    "ExecuteTime": {
     "end_time": "2023-05-22T10:53:53.496324400Z",
     "start_time": "2023-05-22T10:53:53.150744200Z"
    }
   }
  },
  {
   "cell_type": "markdown",
   "source": [
    "### Build our model"
   ],
   "metadata": {
    "collapsed": false
   }
  },
  {
   "cell_type": "code",
   "execution_count": 7,
   "outputs": [],
   "source": [
    "input_image = Input((28, 28, 1))\n",
    "x = Flatten()(input_image)\n",
    "x = Dense(128, activation=\"relu\")(x)\n",
    "x = Dense(64, activation=\"relu\")(x)\n",
    "encoded = Dense(49, activation=\"relu\")(x)\n",
    "\n",
    "d = Dense(64, activation=\"relu\")(encoded)\n",
    "d = Dense(28*28, activation=\"sigmoid\")(d)\n",
    "decoded = Reshape((28, 28, 1))(d)\n",
    "\n",
    "autoencoder = keras.Model(input_image, decoded, name=\"autoencoder\")\n",
    "autoencoder.compile(optimizer=\"adam\", loss=\"mean_squared_error\")"
   ],
   "metadata": {
    "collapsed": false,
    "ExecuteTime": {
     "end_time": "2023-05-22T10:53:54.661986600Z",
     "start_time": "2023-05-22T10:53:54.606000800Z"
    }
   }
  },
  {
   "cell_type": "markdown",
   "source": [
    "### Fiting"
   ],
   "metadata": {
    "collapsed": false
   }
  },
  {
   "cell_type": "code",
   "execution_count": 4,
   "outputs": [
    {
     "name": "stdout",
     "output_type": "stream",
     "text": [
      "Epoch 1/20\n",
      "600/600 [==============================] - 2s 3ms/step - loss: 0.0441\n",
      "Epoch 2/20\n",
      "600/600 [==============================] - 2s 3ms/step - loss: 0.0206\n",
      "Epoch 3/20\n",
      "600/600 [==============================] - 2s 3ms/step - loss: 0.0164\n",
      "Epoch 4/20\n",
      "600/600 [==============================] - 2s 3ms/step - loss: 0.0145\n",
      "Epoch 5/20\n",
      "600/600 [==============================] - 2s 3ms/step - loss: 0.0129\n",
      "Epoch 6/20\n",
      "600/600 [==============================] - 2s 3ms/step - loss: 0.0119\n",
      "Epoch 7/20\n",
      "600/600 [==============================] - 2s 3ms/step - loss: 0.0112\n",
      "Epoch 8/20\n",
      "600/600 [==============================] - 2s 3ms/step - loss: 0.0107\n",
      "Epoch 9/20\n",
      "600/600 [==============================] - 2s 3ms/step - loss: 0.0102\n",
      "Epoch 10/20\n",
      "600/600 [==============================] - 1s 2ms/step - loss: 0.0098\n",
      "Epoch 11/20\n",
      "600/600 [==============================] - 1s 2ms/step - loss: 0.0095\n",
      "Epoch 12/20\n",
      "600/600 [==============================] - 1s 2ms/step - loss: 0.0092\n",
      "Epoch 13/20\n",
      "600/600 [==============================] - 1s 2ms/step - loss: 0.0089\n",
      "Epoch 14/20\n",
      "600/600 [==============================] - 1s 2ms/step - loss: 0.0086\n",
      "Epoch 15/20\n",
      "600/600 [==============================] - 1s 2ms/step - loss: 0.0084\n",
      "Epoch 16/20\n",
      "600/600 [==============================] - 2s 3ms/step - loss: 0.0082\n",
      "Epoch 17/20\n",
      "600/600 [==============================] - 1s 2ms/step - loss: 0.0081\n",
      "Epoch 18/20\n",
      "600/600 [==============================] - 1s 2ms/step - loss: 0.0079\n",
      "Epoch 19/20\n",
      "600/600 [==============================] - 1s 2ms/step - loss: 0.0078\n",
      "Epoch 20/20\n",
      "600/600 [==============================] - 1s 2ms/step - loss: 0.0077\n"
     ]
    },
    {
     "data": {
      "text/plain": "<keras.callbacks.History at 0x2977aec1dc0>"
     },
     "execution_count": 4,
     "metadata": {},
     "output_type": "execute_result"
    }
   ],
   "source": [
    "batch_size = 100\n",
    "\n",
    "autoencoder.fit(x_train, x_train,\n",
    "                epochs=20,\n",
    "                batch_size=batch_size,\n",
    "                shuffle=True)"
   ],
   "metadata": {
    "collapsed": false,
    "ExecuteTime": {
     "end_time": "2023-05-22T10:35:12.405568500Z",
     "start_time": "2023-05-22T10:34:41.454193900Z"
    }
   }
  },
  {
   "cell_type": "markdown",
   "source": [
    "### Let's visualize the result"
   ],
   "metadata": {
    "collapsed": false
   }
  },
  {
   "cell_type": "code",
   "execution_count": 5,
   "outputs": [
    {
     "name": "stdout",
     "output_type": "stream",
     "text": [
      "1/1 [==============================] - 0s 85ms/step\n"
     ]
    },
    {
     "data": {
      "text/plain": "<Figure size 1000x200 with 20 Axes>",
      "image/png": "[encoded data removed]"
     },
     "metadata": {},
     "output_type": "display_data"
    }
   ],
   "source": [
    "num =  10\n",
    "\n",
    "images = x_test[:num]\n",
    "decoded_images = autoencoder.predict(x_test[:num], batch_size=num)\n",
    "\n",
    "plt.figure(figsize=(num, 2))\n",
    "for i in range(num):\n",
    "    ax = plt.subplot(2, num, i+1)\n",
    "    plt.imshow(images[i].squeeze(), cmap=\"gray\")\n",
    "    ax.get_xaxis().set_visible(False)\n",
    "    ax.get_yaxis().set_visible(False)\n",
    "\n",
    "    ax2 = plt.subplot(2, num, i+num+1)\n",
    "    plt.imshow(decoded_images[i].squeeze(), cmap=\"gray\")\n",
    "    ax2.get_xaxis().set_visible(False)\n",
    "    ax2.get_yaxis().set_visible(False)"
   ],
   "metadata": {
    "collapsed": false,
    "ExecuteTime": {
     "end_time": "2023-05-22T10:35:13.034594Z",
     "start_time": "2023-05-22T10:35:12.408558100Z"
    }
   }
  },
  {
   "cell_type": "code",
   "execution_count": 5,
   "outputs": [],
   "source": [],
   "metadata": {
    "collapsed": false,
    "ExecuteTime": {
     "end_time": "2023-05-22T10:35:13.051592900Z",
     "start_time": "2023-05-22T10:35:13.036593500Z"
    }
   }
  }
 ],
 "metadata": {
  "kernelspec": {
   "display_name": "Python 3",
   "language": "python",
   "name": "python3"
  },
  "language_info": {
   "codemirror_mode": {
    "name": "ipython",
    "version": 2
   },
   "file_extension": ".py",
   "mimetype": "text/x-python",
   "name": "python",
   "nbconvert_exporter": "python",
   "pygments_lexer": "ipython2",
   "version": "2.7.6"
  }
 },
 "nbformat": 4,
 "nbformat_minor": 0
}

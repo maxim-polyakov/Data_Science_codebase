{
 "cells": [
  {
   "cell_type": "code",
   "execution_count": 3,
   "outputs": [],
   "source": [
    "import pandas as pd"
   ],
   "metadata": {
    "collapsed": false,
    "ExecuteTime": {
     "end_time": "2023-05-21T12:57:58.542098200Z",
     "start_time": "2023-05-21T12:57:58.526550900Z"
    }
   }
  },
  {
   "cell_type": "code",
   "execution_count": 4,
   "outputs": [],
   "source": [
    "a = pd.read_csv(\"DataSets/Gradient/Expanded_data_with_more_features.csv\")"
   ],
   "metadata": {
    "collapsed": false,
    "ExecuteTime": {
     "end_time": "2023-05-21T12:57:59.057199300Z",
     "start_time": "2023-05-21T12:57:58.950168400Z"
    }
   }
  },
  {
   "cell_type": "code",
   "execution_count": 5,
   "outputs": [
    {
     "data": {
      "text/plain": "   Unnamed: 0  Gender EthnicGroup          ParentEduc     LunchType TestPrep  \\\n0           0  female         NaN   bachelor's degree      standard     none   \n1           1  female     group C        some college      standard      NaN   \n2           2  female     group B     master's degree      standard     none   \n3           3    male     group A  associate's degree  free/reduced     none   \n4           4    male     group C        some college      standard     none   \n\n  ParentMaritalStatus PracticeSport IsFirstChild  NrSiblings TransportMeans  \\\n0             married     regularly          yes         3.0     school_bus   \n1             married     sometimes          yes         0.0            NaN   \n2              single     sometimes          yes         4.0     school_bus   \n3             married         never           no         1.0            NaN   \n4             married     sometimes          yes         0.0     school_bus   \n\n  WklyStudyHours  MathScore  ReadingScore  WritingScore  \n0            < 5         71            71            74  \n1         5 - 10         69            90            88  \n2            < 5         87            93            91  \n3         5 - 10         45            56            42  \n4         5 - 10         76            78            75  ",
      "text/html": "<div>\n<style scoped>\n    .dataframe tbody tr th:only-of-type {\n        vertical-align: middle;\n    }\n\n    .dataframe tbody tr th {\n        vertical-align: top;\n    }\n\n    .dataframe thead th {\n        text-align: right;\n    }\n</style>\n<table border=\"1\" class=\"dataframe\">\n  <thead>\n    <tr style=\"text-align: right;\">\n      <th></th>\n      <th>Unnamed: 0</th>\n      <th>Gender</th>\n      <th>EthnicGroup</th>\n      <th>ParentEduc</th>\n      <th>LunchType</th>\n      <th>TestPrep</th>\n      <th>ParentMaritalStatus</th>\n      <th>PracticeSport</th>\n      <th>IsFirstChild</th>\n      <th>NrSiblings</th>\n      <th>TransportMeans</th>\n      <th>WklyStudyHours</th>\n      <th>MathScore</th>\n      <th>ReadingScore</th>\n      <th>WritingScore</th>\n    </tr>\n  </thead>\n  <tbody>\n    <tr>\n      <th>0</th>\n      <td>0</td>\n      <td>female</td>\n      <td>NaN</td>\n      <td>bachelor's degree</td>\n      <td>standard</td>\n      <td>none</td>\n      <td>married</td>\n      <td>regularly</td>\n      <td>yes</td>\n      <td>3.0</td>\n      <td>school_bus</td>\n      <td>&lt; 5</td>\n      <td>71</td>\n      <td>71</td>\n      <td>74</td>\n    </tr>\n    <tr>\n      <th>1</th>\n      <td>1</td>\n      <td>female</td>\n      <td>group C</td>\n      <td>some college</td>\n      <td>standard</td>\n      <td>NaN</td>\n      <td>married</td>\n      <td>sometimes</td>\n      <td>yes</td>\n      <td>0.0</td>\n      <td>NaN</td>\n      <td>5 - 10</td>\n      <td>69</td>\n      <td>90</td>\n      <td>88</td>\n    </tr>\n    <tr>\n      <th>2</th>\n      <td>2</td>\n      <td>female</td>\n      <td>group B</td>\n      <td>master's degree</td>\n      <td>standard</td>\n      <td>none</td>\n      <td>single</td>\n      <td>sometimes</td>\n      <td>yes</td>\n      <td>4.0</td>\n      <td>school_bus</td>\n      <td>&lt; 5</td>\n      <td>87</td>\n      <td>93</td>\n      <td>91</td>\n    </tr>\n    <tr>\n      <th>3</th>\n      <td>3</td>\n      <td>male</td>\n      <td>group A</td>\n      <td>associate's degree</td>\n      <td>free/reduced</td>\n      <td>none</td>\n      <td>married</td>\n      <td>never</td>\n      <td>no</td>\n      <td>1.0</td>\n      <td>NaN</td>\n      <td>5 - 10</td>\n      <td>45</td>\n      <td>56</td>\n      <td>42</td>\n    </tr>\n    <tr>\n      <th>4</th>\n      <td>4</td>\n      <td>male</td>\n      <td>group C</td>\n      <td>some college</td>\n      <td>standard</td>\n      <td>none</td>\n      <td>married</td>\n      <td>sometimes</td>\n      <td>yes</td>\n      <td>0.0</td>\n      <td>school_bus</td>\n      <td>5 - 10</td>\n      <td>76</td>\n      <td>78</td>\n      <td>75</td>\n    </tr>\n  </tbody>\n</table>\n</div>"
     },
     "execution_count": 5,
     "metadata": {},
     "output_type": "execute_result"
    }
   ],
   "source": [
    "a.head()"
   ],
   "metadata": {
    "collapsed": false,
    "ExecuteTime": {
     "end_time": "2023-05-21T12:58:06.406661900Z",
     "start_time": "2023-05-21T12:58:06.372633400Z"
    }
   }
  },
  {
   "cell_type": "code",
   "execution_count": 6,
   "outputs": [],
   "source": [
    "a[\"Gender\"] = a[\"Gender\"].astype(\"category\")"
   ],
   "metadata": {
    "collapsed": false,
    "ExecuteTime": {
     "end_time": "2023-05-21T12:58:06.954907100Z",
     "start_time": "2023-05-21T12:58:06.931906900Z"
    }
   }
  },
  {
   "cell_type": "code",
   "execution_count": 7,
   "outputs": [
    {
     "name": "stdout",
     "output_type": "stream",
     "text": [
      "<class 'pandas.core.frame.DataFrame'>\n",
      "RangeIndex: 30641 entries, 0 to 30640\n",
      "Data columns (total 15 columns):\n",
      " #   Column               Non-Null Count  Dtype   \n",
      "---  ------               --------------  -----   \n",
      " 0   Unnamed: 0           30641 non-null  int64   \n",
      " 1   Gender               30641 non-null  category\n",
      " 2   EthnicGroup          28801 non-null  object  \n",
      " 3   ParentEduc           28796 non-null  object  \n",
      " 4   LunchType            30641 non-null  object  \n",
      " 5   TestPrep             28811 non-null  object  \n",
      " 6   ParentMaritalStatus  29451 non-null  object  \n",
      " 7   PracticeSport        30010 non-null  object  \n",
      " 8   IsFirstChild         29737 non-null  object  \n",
      " 9   NrSiblings           29069 non-null  float64 \n",
      " 10  TransportMeans       27507 non-null  object  \n",
      " 11  WklyStudyHours       29686 non-null  object  \n",
      " 12  MathScore            30641 non-null  int64   \n",
      " 13  ReadingScore         30641 non-null  int64   \n",
      " 14  WritingScore         30641 non-null  int64   \n",
      "dtypes: category(1), float64(1), int64(4), object(9)\n",
      "memory usage: 3.3+ MB\n"
     ]
    }
   ],
   "source": [
    "a.info()"
   ],
   "metadata": {
    "collapsed": false,
    "ExecuteTime": {
     "end_time": "2023-05-21T12:58:07.544415900Z",
     "start_time": "2023-05-21T12:58:07.495386100Z"
    }
   }
  },
  {
   "cell_type": "code",
   "execution_count": 8,
   "outputs": [
    {
     "data": {
      "text/plain": "Unnamed: 0                             0\nGender                            female\nEthnicGroup                          NaN\nParentEduc             bachelor's degree\nLunchType                       standard\nTestPrep                            none\nParentMaritalStatus              married\nPracticeSport                  regularly\nIsFirstChild                         yes\nNrSiblings                           3.0\nTransportMeans                school_bus\nWklyStudyHours                       < 5\nMathScore                             71\nReadingScore                          71\nWritingScore                          74\nName: 0, dtype: object"
     },
     "execution_count": 8,
     "metadata": {},
     "output_type": "execute_result"
    }
   ],
   "source": [
    "a.loc[0]"
   ],
   "metadata": {
    "collapsed": false,
    "ExecuteTime": {
     "end_time": "2023-05-21T12:58:08.092781300Z",
     "start_time": "2023-05-21T12:58:08.060777600Z"
    }
   }
  },
  {
   "cell_type": "code",
   "execution_count": 9,
   "outputs": [],
   "source": [
    "b = pd.read_csv(\"DataSets/Restaurants/restaurants.csv\")"
   ],
   "metadata": {
    "collapsed": false,
    "ExecuteTime": {
     "end_time": "2023-05-21T12:58:08.732520600Z",
     "start_time": "2023-05-21T12:58:08.691519900Z"
    }
   }
  },
  {
   "cell_type": "code",
   "execution_count": 10,
   "outputs": [
    {
     "data": {
      "text/plain": "                                Name  \\\n0                              Local   \n1                      The G.T. ROAD   \n2                            Tamasha   \n3                  The Junkyard Cafe   \n4     Chili's American Grill and Bar   \n...                              ...   \n6588                   Shree Rathnam   \n6589                     Cafe Delish   \n6590                     3 K Resorts   \n6591                       Dovka Bar   \n6592                     Urban Vibes   \n\n                                               Location           Locality  \\\n0          Scindia House,Connaught Place, Central Delhi      Central Delhi   \n1                M-Block,Connaught Place, Central Delhi      Central Delhi   \n2                        Connaught Place, Central Delhi      Central Delhi   \n3                        Connaught Place, Central Delhi      Central Delhi   \n4                M-Block,Connaught Place, Central Delhi      Central Delhi   \n...                                                 ...                ...   \n6588                 Wave Mall,BRS Nagar, West Ludhiana      West Ludhiana   \n6589          Radisson Blu,Rajguru Nagar, West Ludhiana      West Ludhiana   \n6590                           BRS Nagar, West Ludhiana      West Ludhiana   \n6591  Nirvana Hotel Banquets Club,PAU, Central Ludhiana   Central Ludhiana   \n6592                         Aggar Nagar, West Ludhiana      West Ludhiana   \n\n          City                                            Cuisine  Rating  \\\n0        Delhi           North Indian,  Finger Food,  Continental     4.1   \n1        Delhi                                       North Indian     4.3   \n2        Delhi  Finger Food,  North Indian,  Italian,  Contine...     4.2   \n3        Delhi  North Indian,  Mediterranean,  Asian,  Italian...     4.2   \n4        Delhi                       Mexican,  American,  Italian     4.4   \n...        ...                                                ...     ...   \n6588  Ludhiana                                       South Indian     4.1   \n6589  Ludhiana  Multi-Cuisine,  North Indian,  Continental,  A...     4.4   \n6590  Ludhiana                                       North Indian     1.0   \n6591  Ludhiana               North Indian,  Chinese,  Finger Food     4.3   \n6592  Ludhiana  Multi-Cuisine,  North Indian,  Italian,  Chine...     3.8   \n\n      Votes  Cost  \n0      2415  2000  \n1      2363  1500  \n2      5016  2000  \n3      2821  1800  \n4      1094  2000  \n...     ...   ...  \n6588     20   600  \n6589     48  3100  \n6590      1  1100  \n6591      3  1500  \n6592     12  2000  \n\n[6593 rows x 8 columns]",
      "text/html": "<div>\n<style scoped>\n    .dataframe tbody tr th:only-of-type {\n        vertical-align: middle;\n    }\n\n    .dataframe tbody tr th {\n        vertical-align: top;\n    }\n\n    .dataframe thead th {\n        text-align: right;\n    }\n</style>\n<table border=\"1\" class=\"dataframe\">\n  <thead>\n    <tr style=\"text-align: right;\">\n      <th></th>\n      <th>Name</th>\n      <th>Location</th>\n      <th>Locality</th>\n      <th>City</th>\n      <th>Cuisine</th>\n      <th>Rating</th>\n      <th>Votes</th>\n      <th>Cost</th>\n    </tr>\n  </thead>\n  <tbody>\n    <tr>\n      <th>0</th>\n      <td>Local</td>\n      <td>Scindia House,Connaught Place, Central Delhi</td>\n      <td>Central Delhi</td>\n      <td>Delhi</td>\n      <td>North Indian,  Finger Food,  Continental</td>\n      <td>4.1</td>\n      <td>2415</td>\n      <td>2000</td>\n    </tr>\n    <tr>\n      <th>1</th>\n      <td>The G.T. ROAD</td>\n      <td>M-Block,Connaught Place, Central Delhi</td>\n      <td>Central Delhi</td>\n      <td>Delhi</td>\n      <td>North Indian</td>\n      <td>4.3</td>\n      <td>2363</td>\n      <td>1500</td>\n    </tr>\n    <tr>\n      <th>2</th>\n      <td>Tamasha</td>\n      <td>Connaught Place, Central Delhi</td>\n      <td>Central Delhi</td>\n      <td>Delhi</td>\n      <td>Finger Food,  North Indian,  Italian,  Contine...</td>\n      <td>4.2</td>\n      <td>5016</td>\n      <td>2000</td>\n    </tr>\n    <tr>\n      <th>3</th>\n      <td>The Junkyard Cafe</td>\n      <td>Connaught Place, Central Delhi</td>\n      <td>Central Delhi</td>\n      <td>Delhi</td>\n      <td>North Indian,  Mediterranean,  Asian,  Italian...</td>\n      <td>4.2</td>\n      <td>2821</td>\n      <td>1800</td>\n    </tr>\n    <tr>\n      <th>4</th>\n      <td>Chili's American Grill and Bar</td>\n      <td>M-Block,Connaught Place, Central Delhi</td>\n      <td>Central Delhi</td>\n      <td>Delhi</td>\n      <td>Mexican,  American,  Italian</td>\n      <td>4.4</td>\n      <td>1094</td>\n      <td>2000</td>\n    </tr>\n    <tr>\n      <th>...</th>\n      <td>...</td>\n      <td>...</td>\n      <td>...</td>\n      <td>...</td>\n      <td>...</td>\n      <td>...</td>\n      <td>...</td>\n      <td>...</td>\n    </tr>\n    <tr>\n      <th>6588</th>\n      <td>Shree Rathnam</td>\n      <td>Wave Mall,BRS Nagar, West Ludhiana</td>\n      <td>West Ludhiana</td>\n      <td>Ludhiana</td>\n      <td>South Indian</td>\n      <td>4.1</td>\n      <td>20</td>\n      <td>600</td>\n    </tr>\n    <tr>\n      <th>6589</th>\n      <td>Cafe Delish</td>\n      <td>Radisson Blu,Rajguru Nagar, West Ludhiana</td>\n      <td>West Ludhiana</td>\n      <td>Ludhiana</td>\n      <td>Multi-Cuisine,  North Indian,  Continental,  A...</td>\n      <td>4.4</td>\n      <td>48</td>\n      <td>3100</td>\n    </tr>\n    <tr>\n      <th>6590</th>\n      <td>3 K Resorts</td>\n      <td>BRS Nagar, West Ludhiana</td>\n      <td>West Ludhiana</td>\n      <td>Ludhiana</td>\n      <td>North Indian</td>\n      <td>1.0</td>\n      <td>1</td>\n      <td>1100</td>\n    </tr>\n    <tr>\n      <th>6591</th>\n      <td>Dovka Bar</td>\n      <td>Nirvana Hotel Banquets Club,PAU, Central Ludhiana</td>\n      <td>Central Ludhiana</td>\n      <td>Ludhiana</td>\n      <td>North Indian,  Chinese,  Finger Food</td>\n      <td>4.3</td>\n      <td>3</td>\n      <td>1500</td>\n    </tr>\n    <tr>\n      <th>6592</th>\n      <td>Urban Vibes</td>\n      <td>Aggar Nagar, West Ludhiana</td>\n      <td>West Ludhiana</td>\n      <td>Ludhiana</td>\n      <td>Multi-Cuisine,  North Indian,  Italian,  Chine...</td>\n      <td>3.8</td>\n      <td>12</td>\n      <td>2000</td>\n    </tr>\n  </tbody>\n</table>\n<p>6593 rows × 8 columns</p>\n</div>"
     },
     "execution_count": 10,
     "metadata": {},
     "output_type": "execute_result"
    }
   ],
   "source": [
    "b"
   ],
   "metadata": {
    "collapsed": false,
    "ExecuteTime": {
     "end_time": "2023-05-21T12:58:09.209791100Z",
     "start_time": "2023-05-21T12:58:09.185749200Z"
    }
   }
  },
  {
   "cell_type": "code",
   "execution_count": 11,
   "outputs": [],
   "source": [
    "mask = b.duplicated(subset = [\"Name\", \"Location\", \"Locality\", \"City\", \"Cuisine\"])"
   ],
   "metadata": {
    "collapsed": false,
    "ExecuteTime": {
     "end_time": "2023-05-21T12:58:09.759758400Z",
     "start_time": "2023-05-21T12:58:09.733089500Z"
    }
   }
  },
  {
   "cell_type": "code",
   "execution_count": 12,
   "outputs": [
    {
     "data": {
      "text/plain": "                          Name  \\\n1510  Chaayos - Meri Wali Chai   \n1677             Tibbs Frankie   \n1831          Urban Juice Cafe   \n2093              Kanti Sweets   \n2205            Sandwichwallas   \n2227              Kanti Sweets   \n2505                    Jeff's   \n2635        California Burrito   \n2650              Kanti Sweets   \n2651              Kanti Sweets   \n2656        California Burrito   \n2657              Chef Baker's   \n2678              Kanti Sweets   \n2708              Kanti Sweets   \n2767                Cake Dilim   \n2771        California Burrito   \n2794                Cake Dilim   \n2805              Kanti Sweets   \n2832              Kanti Sweets   \n2839                Cake Dilim   \n2877         Murugan Idli Shop   \n2879         Murugan Idli Shop   \n3047    Dindigul Thalappakatti   \n3363               Cream Stone   \n4310      The Sugarr and Spice   \n4436                 Wow! Momo   \n4459                 Wow! Momo   \n4474                 Wow! Momo   \n4591                 Wow! Momo   \n4795                 Wow! Momo   \n4820      The Sugarr and Spice   \n4841                 Wow! Momo   \n4854                 Wow! Momo   \n4856      The Sugarr and Spice   \n4861                 Wow! Momo   \n4864         The Chennai Dhaba   \n4870                   Chowman   \n4876                 Wow! Momo   \n4883                 Wow! Momo   \n4897                  Monginis   \n5263                   Kabhi B   \n5300        Shree Marutinandan   \n5628                   Navtara   \n5629                   Navtara   \n6168                Chai Kaapi   \n6186                Chai Kaapi   \n\n                                               Location  \\\n1510            Near Andheri West Station, Andheri West   \n1677  High Street Phoenix Mall,Lower Parel, South Mu...   \n1831                          Vasai West, North Western   \n2093                         Jayanagar, South Bangalore   \n2205                         Jayanagar, South Bangalore   \n2227                          RT Nagar, North Bangalore   \n2505  Hotel Royal Orchid,Old Airport Road, East Bang...   \n2635                       Marathahalli, East Bangalore   \n2650                         Jalahalli, North Bangalore   \n2651               Rajarajeshwari Nagar, West Bangalore   \n2656                       Marathahalli, East Bangalore   \n2657                       Marathahalli, East Bangalore   \n2678                           KR Puram, East Bangalore   \n2708                   Electronic City, South Bangalore   \n2767                       Doddanekundi, East Bangalore   \n2771                     Sarjapur Road, South Bangalore   \n2794                         Whitefield, East Bangalore   \n2805                         Yelahanka, North Bangalore   \n2832                 Bannerghatta Road, South Bangalore   \n2839                     Sarjapur Road, South Bangalore   \n2877                  Thyagaraya Nagar, Central Chennai   \n2879                  Thyagaraya Nagar, Central Chennai   \n3047                          Anna Nagar, North Chennai   \n3363              Banjara Hills, Central East Hyderabad   \n4310                            Salt Lake, East Kolkata   \n4436                            Lake Town, East Kolkata   \n4459                      Camac Street, Central Kolkata   \n4474                            Salt Lake, East Kolkata   \n4591                          Ballygunge, South Kolkata   \n4795                          Tollygunge, South Kolkata   \n4820                              Behala, South Kolkata   \n4841                              Behala, South Kolkata   \n4854                               Garia, South Kolkata   \n4856                             Naktala, South Kolkata   \n4861                               Garia, South Kolkata   \n4864                          Baghajatin, South Kolkata   \n4870                               Garia, South Kolkata   \n4876                         Sodepur, 24 Parganas North   \n4883                             Hooghly, North Kolkata   \n4897                             Hooghly, North Kolkata   \n5263                        Chandkheda, North Ahmedabad   \n5300                            Naroda, North Ahmedabad   \n5628                               Calangute, North Goa   \n5629                                  Mapusa, North Goa   \n6168                           Vijay Nagar, East Indore   \n6186                   Indore By Pass Road, East Indore   \n\n                     Locality       City  \\\n1510             Andheri West     Mumbai   \n1677             South Mumbai     Mumbai   \n1831            North Western     Mumbai   \n2093          South Bangalore  Bangalore   \n2205          South Bangalore  Bangalore   \n2227          North Bangalore  Bangalore   \n2505           East Bangalore  Bangalore   \n2635           East Bangalore  Bangalore   \n2650          North Bangalore  Bangalore   \n2651           West Bangalore  Bangalore   \n2656           East Bangalore  Bangalore   \n2657           East Bangalore  Bangalore   \n2678           East Bangalore  Bangalore   \n2708          South Bangalore  Bangalore   \n2767           East Bangalore  Bangalore   \n2771          South Bangalore  Bangalore   \n2794           East Bangalore  Bangalore   \n2805          North Bangalore  Bangalore   \n2832          South Bangalore  Bangalore   \n2839          South Bangalore  Bangalore   \n2877          Central Chennai    Chennai   \n2879          Central Chennai    Chennai   \n3047            North Chennai    Chennai   \n3363   Central East Hyderabad  Hyderabad   \n4310             East Kolkata    Kolkata   \n4436             East Kolkata    Kolkata   \n4459          Central Kolkata    Kolkata   \n4474             East Kolkata    Kolkata   \n4591            South Kolkata    Kolkata   \n4795            South Kolkata    Kolkata   \n4820            South Kolkata    Kolkata   \n4841            South Kolkata    Kolkata   \n4854            South Kolkata    Kolkata   \n4856            South Kolkata    Kolkata   \n4861            South Kolkata    Kolkata   \n4864            South Kolkata    Kolkata   \n4870            South Kolkata    Kolkata   \n4876        24 Parganas North    Kolkata   \n4883            North Kolkata    Kolkata   \n4897            North Kolkata    Kolkata   \n5263          North Ahmedabad  Ahmedabad   \n5300          North Ahmedabad  Ahmedabad   \n5628                North Goa        Goa   \n5629                North Goa        Goa   \n6168              East Indore     Indore   \n6186              East Indore     Indore   \n\n                                                Cuisine  Rating  Votes  Cost  \n1510                                                Tea     4.5      8   500  \n1677                                          Fast Food     3.7      3   200  \n1831                                          Fast Food     3.6     13   600  \n2093                                  Mithai,  Desserts     4.0      6   500  \n2205                         Fast Food,  Pizza,  Shakes     5.0      2   300  \n2227                                  Mithai,  Desserts     4.0      3   500  \n2505                                        Continental     4.2     27  2500  \n2635                                Mexican,  Fast Food     4.0      9   500  \n2650                                  Mithai,  Desserts     5.0      1   500  \n2651                                  Mithai,  Desserts     4.0      1   500  \n2656                                Mexican,  Fast Food     4.5     13   500  \n2657    Bakery and Confectionary,  Desserts,  Fast Food     4.8      4   600  \n2678                                  Mithai,  Desserts     3.0      1   500  \n2708                                  Mithai,  Desserts     5.0      4   500  \n2767                Bakery and Confectionary,  Desserts     3.5      2   400  \n2771                                Mexican,  Fast Food     3.2      4   500  \n2794                Bakery and Confectionary,  Desserts     4.0      2   400  \n2805                                  Mithai,  Desserts     4.5      2   500  \n2832                                  Mithai,  Desserts     5.0      2   500  \n2839                Bakery and Confectionary,  Desserts     5.0      1   400  \n2877                                       South Indian     2.9      2   300  \n2879                                       South Indian     3.0      1   300  \n3047  Multi-Cuisine,  North Indian,  Chinese,  South...     4.2     27   700  \n3363                      Desserts,  Ice Cream,  Shakes     4.2     17   400  \n4310    Desserts,  Bakery and Confectionary,  Fast Food     4.0      1   300  \n4436                                Fast Food,  Tibetan     4.3      9   400  \n4459                                Fast Food,  Tibetan     3.4     19   400  \n4474                                Fast Food,  Tibetan     3.1      2   400  \n4591                                Fast Food,  Tibetan     3.0      3   400  \n4795                                Fast Food,  Tibetan     4.1     32   400  \n4820    Desserts,  Bakery and Confectionary,  Fast Food     4.0      2   300  \n4841                                Fast Food,  Tibetan     4.6     13   400  \n4854                                Fast Food,  Tibetan     3.8      5   400  \n4856                Desserts,  Bakery and Confectionary     4.0      1   300  \n4861                                Fast Food,  Tibetan     3.0      2   400  \n4864                                       South Indian     1.0      1   300  \n4870       Asian,  Chinese,  Thai,  Seafood,  Oriental      4.4     16   900  \n4876                                Fast Food,  Tibetan     3.6     28   400  \n4883                                Fast Food,  Tibetan     1.0      1   400  \n4897    Desserts,  Bakery and Confectionary,  Fast Food     4.1      7   200  \n5263    Desserts,  Bakery and Confectionary,  Fast Food     3.0      2   200  \n5300  Multi-Cuisine,  North Indian,  Chinese,  Gujarati     3.8      6   700  \n5628  Multi-Cuisine,  North Indian,  South Indian,  ...     4.2     62   500  \n5629  Multi-Cuisine,  North Indian,  South Indian,  ...     3.8     18   500  \n6168                                    Fast Food,  Tea     4.5      9   400  \n6186                                    Fast Food,  Tea     3.0      2   400  ",
      "text/html": "<div>\n<style scoped>\n    .dataframe tbody tr th:only-of-type {\n        vertical-align: middle;\n    }\n\n    .dataframe tbody tr th {\n        vertical-align: top;\n    }\n\n    .dataframe thead th {\n        text-align: right;\n    }\n</style>\n<table border=\"1\" class=\"dataframe\">\n  <thead>\n    <tr style=\"text-align: right;\">\n      <th></th>\n      <th>Name</th>\n      <th>Location</th>\n      <th>Locality</th>\n      <th>City</th>\n      <th>Cuisine</th>\n      <th>Rating</th>\n      <th>Votes</th>\n      <th>Cost</th>\n    </tr>\n  </thead>\n  <tbody>\n    <tr>\n      <th>1510</th>\n      <td>Chaayos - Meri Wali Chai</td>\n      <td>Near Andheri West Station, Andheri West</td>\n      <td>Andheri West</td>\n      <td>Mumbai</td>\n      <td>Tea</td>\n      <td>4.5</td>\n      <td>8</td>\n      <td>500</td>\n    </tr>\n    <tr>\n      <th>1677</th>\n      <td>Tibbs Frankie</td>\n      <td>High Street Phoenix Mall,Lower Parel, South Mu...</td>\n      <td>South Mumbai</td>\n      <td>Mumbai</td>\n      <td>Fast Food</td>\n      <td>3.7</td>\n      <td>3</td>\n      <td>200</td>\n    </tr>\n    <tr>\n      <th>1831</th>\n      <td>Urban Juice Cafe</td>\n      <td>Vasai West, North Western</td>\n      <td>North Western</td>\n      <td>Mumbai</td>\n      <td>Fast Food</td>\n      <td>3.6</td>\n      <td>13</td>\n      <td>600</td>\n    </tr>\n    <tr>\n      <th>2093</th>\n      <td>Kanti Sweets</td>\n      <td>Jayanagar, South Bangalore</td>\n      <td>South Bangalore</td>\n      <td>Bangalore</td>\n      <td>Mithai,  Desserts</td>\n      <td>4.0</td>\n      <td>6</td>\n      <td>500</td>\n    </tr>\n    <tr>\n      <th>2205</th>\n      <td>Sandwichwallas</td>\n      <td>Jayanagar, South Bangalore</td>\n      <td>South Bangalore</td>\n      <td>Bangalore</td>\n      <td>Fast Food,  Pizza,  Shakes</td>\n      <td>5.0</td>\n      <td>2</td>\n      <td>300</td>\n    </tr>\n    <tr>\n      <th>2227</th>\n      <td>Kanti Sweets</td>\n      <td>RT Nagar, North Bangalore</td>\n      <td>North Bangalore</td>\n      <td>Bangalore</td>\n      <td>Mithai,  Desserts</td>\n      <td>4.0</td>\n      <td>3</td>\n      <td>500</td>\n    </tr>\n    <tr>\n      <th>2505</th>\n      <td>Jeff's</td>\n      <td>Hotel Royal Orchid,Old Airport Road, East Bang...</td>\n      <td>East Bangalore</td>\n      <td>Bangalore</td>\n      <td>Continental</td>\n      <td>4.2</td>\n      <td>27</td>\n      <td>2500</td>\n    </tr>\n    <tr>\n      <th>2635</th>\n      <td>California Burrito</td>\n      <td>Marathahalli, East Bangalore</td>\n      <td>East Bangalore</td>\n      <td>Bangalore</td>\n      <td>Mexican,  Fast Food</td>\n      <td>4.0</td>\n      <td>9</td>\n      <td>500</td>\n    </tr>\n    <tr>\n      <th>2650</th>\n      <td>Kanti Sweets</td>\n      <td>Jalahalli, North Bangalore</td>\n      <td>North Bangalore</td>\n      <td>Bangalore</td>\n      <td>Mithai,  Desserts</td>\n      <td>5.0</td>\n      <td>1</td>\n      <td>500</td>\n    </tr>\n    <tr>\n      <th>2651</th>\n      <td>Kanti Sweets</td>\n      <td>Rajarajeshwari Nagar, West Bangalore</td>\n      <td>West Bangalore</td>\n      <td>Bangalore</td>\n      <td>Mithai,  Desserts</td>\n      <td>4.0</td>\n      <td>1</td>\n      <td>500</td>\n    </tr>\n    <tr>\n      <th>2656</th>\n      <td>California Burrito</td>\n      <td>Marathahalli, East Bangalore</td>\n      <td>East Bangalore</td>\n      <td>Bangalore</td>\n      <td>Mexican,  Fast Food</td>\n      <td>4.5</td>\n      <td>13</td>\n      <td>500</td>\n    </tr>\n    <tr>\n      <th>2657</th>\n      <td>Chef Baker's</td>\n      <td>Marathahalli, East Bangalore</td>\n      <td>East Bangalore</td>\n      <td>Bangalore</td>\n      <td>Bakery and Confectionary,  Desserts,  Fast Food</td>\n      <td>4.8</td>\n      <td>4</td>\n      <td>600</td>\n    </tr>\n    <tr>\n      <th>2678</th>\n      <td>Kanti Sweets</td>\n      <td>KR Puram, East Bangalore</td>\n      <td>East Bangalore</td>\n      <td>Bangalore</td>\n      <td>Mithai,  Desserts</td>\n      <td>3.0</td>\n      <td>1</td>\n      <td>500</td>\n    </tr>\n    <tr>\n      <th>2708</th>\n      <td>Kanti Sweets</td>\n      <td>Electronic City, South Bangalore</td>\n      <td>South Bangalore</td>\n      <td>Bangalore</td>\n      <td>Mithai,  Desserts</td>\n      <td>5.0</td>\n      <td>4</td>\n      <td>500</td>\n    </tr>\n    <tr>\n      <th>2767</th>\n      <td>Cake Dilim</td>\n      <td>Doddanekundi, East Bangalore</td>\n      <td>East Bangalore</td>\n      <td>Bangalore</td>\n      <td>Bakery and Confectionary,  Desserts</td>\n      <td>3.5</td>\n      <td>2</td>\n      <td>400</td>\n    </tr>\n    <tr>\n      <th>2771</th>\n      <td>California Burrito</td>\n      <td>Sarjapur Road, South Bangalore</td>\n      <td>South Bangalore</td>\n      <td>Bangalore</td>\n      <td>Mexican,  Fast Food</td>\n      <td>3.2</td>\n      <td>4</td>\n      <td>500</td>\n    </tr>\n    <tr>\n      <th>2794</th>\n      <td>Cake Dilim</td>\n      <td>Whitefield, East Bangalore</td>\n      <td>East Bangalore</td>\n      <td>Bangalore</td>\n      <td>Bakery and Confectionary,  Desserts</td>\n      <td>4.0</td>\n      <td>2</td>\n      <td>400</td>\n    </tr>\n    <tr>\n      <th>2805</th>\n      <td>Kanti Sweets</td>\n      <td>Yelahanka, North Bangalore</td>\n      <td>North Bangalore</td>\n      <td>Bangalore</td>\n      <td>Mithai,  Desserts</td>\n      <td>4.5</td>\n      <td>2</td>\n      <td>500</td>\n    </tr>\n    <tr>\n      <th>2832</th>\n      <td>Kanti Sweets</td>\n      <td>Bannerghatta Road, South Bangalore</td>\n      <td>South Bangalore</td>\n      <td>Bangalore</td>\n      <td>Mithai,  Desserts</td>\n      <td>5.0</td>\n      <td>2</td>\n      <td>500</td>\n    </tr>\n    <tr>\n      <th>2839</th>\n      <td>Cake Dilim</td>\n      <td>Sarjapur Road, South Bangalore</td>\n      <td>South Bangalore</td>\n      <td>Bangalore</td>\n      <td>Bakery and Confectionary,  Desserts</td>\n      <td>5.0</td>\n      <td>1</td>\n      <td>400</td>\n    </tr>\n    <tr>\n      <th>2877</th>\n      <td>Murugan Idli Shop</td>\n      <td>Thyagaraya Nagar, Central Chennai</td>\n      <td>Central Chennai</td>\n      <td>Chennai</td>\n      <td>South Indian</td>\n      <td>2.9</td>\n      <td>2</td>\n      <td>300</td>\n    </tr>\n    <tr>\n      <th>2879</th>\n      <td>Murugan Idli Shop</td>\n      <td>Thyagaraya Nagar, Central Chennai</td>\n      <td>Central Chennai</td>\n      <td>Chennai</td>\n      <td>South Indian</td>\n      <td>3.0</td>\n      <td>1</td>\n      <td>300</td>\n    </tr>\n    <tr>\n      <th>3047</th>\n      <td>Dindigul Thalappakatti</td>\n      <td>Anna Nagar, North Chennai</td>\n      <td>North Chennai</td>\n      <td>Chennai</td>\n      <td>Multi-Cuisine,  North Indian,  Chinese,  South...</td>\n      <td>4.2</td>\n      <td>27</td>\n      <td>700</td>\n    </tr>\n    <tr>\n      <th>3363</th>\n      <td>Cream Stone</td>\n      <td>Banjara Hills, Central East Hyderabad</td>\n      <td>Central East Hyderabad</td>\n      <td>Hyderabad</td>\n      <td>Desserts,  Ice Cream,  Shakes</td>\n      <td>4.2</td>\n      <td>17</td>\n      <td>400</td>\n    </tr>\n    <tr>\n      <th>4310</th>\n      <td>The Sugarr and Spice</td>\n      <td>Salt Lake, East Kolkata</td>\n      <td>East Kolkata</td>\n      <td>Kolkata</td>\n      <td>Desserts,  Bakery and Confectionary,  Fast Food</td>\n      <td>4.0</td>\n      <td>1</td>\n      <td>300</td>\n    </tr>\n    <tr>\n      <th>4436</th>\n      <td>Wow! Momo</td>\n      <td>Lake Town, East Kolkata</td>\n      <td>East Kolkata</td>\n      <td>Kolkata</td>\n      <td>Fast Food,  Tibetan</td>\n      <td>4.3</td>\n      <td>9</td>\n      <td>400</td>\n    </tr>\n    <tr>\n      <th>4459</th>\n      <td>Wow! Momo</td>\n      <td>Camac Street, Central Kolkata</td>\n      <td>Central Kolkata</td>\n      <td>Kolkata</td>\n      <td>Fast Food,  Tibetan</td>\n      <td>3.4</td>\n      <td>19</td>\n      <td>400</td>\n    </tr>\n    <tr>\n      <th>4474</th>\n      <td>Wow! Momo</td>\n      <td>Salt Lake, East Kolkata</td>\n      <td>East Kolkata</td>\n      <td>Kolkata</td>\n      <td>Fast Food,  Tibetan</td>\n      <td>3.1</td>\n      <td>2</td>\n      <td>400</td>\n    </tr>\n    <tr>\n      <th>4591</th>\n      <td>Wow! Momo</td>\n      <td>Ballygunge, South Kolkata</td>\n      <td>South Kolkata</td>\n      <td>Kolkata</td>\n      <td>Fast Food,  Tibetan</td>\n      <td>3.0</td>\n      <td>3</td>\n      <td>400</td>\n    </tr>\n    <tr>\n      <th>4795</th>\n      <td>Wow! Momo</td>\n      <td>Tollygunge, South Kolkata</td>\n      <td>South Kolkata</td>\n      <td>Kolkata</td>\n      <td>Fast Food,  Tibetan</td>\n      <td>4.1</td>\n      <td>32</td>\n      <td>400</td>\n    </tr>\n    <tr>\n      <th>4820</th>\n      <td>The Sugarr and Spice</td>\n      <td>Behala, South Kolkata</td>\n      <td>South Kolkata</td>\n      <td>Kolkata</td>\n      <td>Desserts,  Bakery and Confectionary,  Fast Food</td>\n      <td>4.0</td>\n      <td>2</td>\n      <td>300</td>\n    </tr>\n    <tr>\n      <th>4841</th>\n      <td>Wow! Momo</td>\n      <td>Behala, South Kolkata</td>\n      <td>South Kolkata</td>\n      <td>Kolkata</td>\n      <td>Fast Food,  Tibetan</td>\n      <td>4.6</td>\n      <td>13</td>\n      <td>400</td>\n    </tr>\n    <tr>\n      <th>4854</th>\n      <td>Wow! Momo</td>\n      <td>Garia, South Kolkata</td>\n      <td>South Kolkata</td>\n      <td>Kolkata</td>\n      <td>Fast Food,  Tibetan</td>\n      <td>3.8</td>\n      <td>5</td>\n      <td>400</td>\n    </tr>\n    <tr>\n      <th>4856</th>\n      <td>The Sugarr and Spice</td>\n      <td>Naktala, South Kolkata</td>\n      <td>South Kolkata</td>\n      <td>Kolkata</td>\n      <td>Desserts,  Bakery and Confectionary</td>\n      <td>4.0</td>\n      <td>1</td>\n      <td>300</td>\n    </tr>\n    <tr>\n      <th>4861</th>\n      <td>Wow! Momo</td>\n      <td>Garia, South Kolkata</td>\n      <td>South Kolkata</td>\n      <td>Kolkata</td>\n      <td>Fast Food,  Tibetan</td>\n      <td>3.0</td>\n      <td>2</td>\n      <td>400</td>\n    </tr>\n    <tr>\n      <th>4864</th>\n      <td>The Chennai Dhaba</td>\n      <td>Baghajatin, South Kolkata</td>\n      <td>South Kolkata</td>\n      <td>Kolkata</td>\n      <td>South Indian</td>\n      <td>1.0</td>\n      <td>1</td>\n      <td>300</td>\n    </tr>\n    <tr>\n      <th>4870</th>\n      <td>Chowman</td>\n      <td>Garia, South Kolkata</td>\n      <td>South Kolkata</td>\n      <td>Kolkata</td>\n      <td>Asian,  Chinese,  Thai,  Seafood,  Oriental</td>\n      <td>4.4</td>\n      <td>16</td>\n      <td>900</td>\n    </tr>\n    <tr>\n      <th>4876</th>\n      <td>Wow! Momo</td>\n      <td>Sodepur, 24 Parganas North</td>\n      <td>24 Parganas North</td>\n      <td>Kolkata</td>\n      <td>Fast Food,  Tibetan</td>\n      <td>3.6</td>\n      <td>28</td>\n      <td>400</td>\n    </tr>\n    <tr>\n      <th>4883</th>\n      <td>Wow! Momo</td>\n      <td>Hooghly, North Kolkata</td>\n      <td>North Kolkata</td>\n      <td>Kolkata</td>\n      <td>Fast Food,  Tibetan</td>\n      <td>1.0</td>\n      <td>1</td>\n      <td>400</td>\n    </tr>\n    <tr>\n      <th>4897</th>\n      <td>Monginis</td>\n      <td>Hooghly, North Kolkata</td>\n      <td>North Kolkata</td>\n      <td>Kolkata</td>\n      <td>Desserts,  Bakery and Confectionary,  Fast Food</td>\n      <td>4.1</td>\n      <td>7</td>\n      <td>200</td>\n    </tr>\n    <tr>\n      <th>5263</th>\n      <td>Kabhi B</td>\n      <td>Chandkheda, North Ahmedabad</td>\n      <td>North Ahmedabad</td>\n      <td>Ahmedabad</td>\n      <td>Desserts,  Bakery and Confectionary,  Fast Food</td>\n      <td>3.0</td>\n      <td>2</td>\n      <td>200</td>\n    </tr>\n    <tr>\n      <th>5300</th>\n      <td>Shree Marutinandan</td>\n      <td>Naroda, North Ahmedabad</td>\n      <td>North Ahmedabad</td>\n      <td>Ahmedabad</td>\n      <td>Multi-Cuisine,  North Indian,  Chinese,  Gujarati</td>\n      <td>3.8</td>\n      <td>6</td>\n      <td>700</td>\n    </tr>\n    <tr>\n      <th>5628</th>\n      <td>Navtara</td>\n      <td>Calangute, North Goa</td>\n      <td>North Goa</td>\n      <td>Goa</td>\n      <td>Multi-Cuisine,  North Indian,  South Indian,  ...</td>\n      <td>4.2</td>\n      <td>62</td>\n      <td>500</td>\n    </tr>\n    <tr>\n      <th>5629</th>\n      <td>Navtara</td>\n      <td>Mapusa, North Goa</td>\n      <td>North Goa</td>\n      <td>Goa</td>\n      <td>Multi-Cuisine,  North Indian,  South Indian,  ...</td>\n      <td>3.8</td>\n      <td>18</td>\n      <td>500</td>\n    </tr>\n    <tr>\n      <th>6168</th>\n      <td>Chai Kaapi</td>\n      <td>Vijay Nagar, East Indore</td>\n      <td>East Indore</td>\n      <td>Indore</td>\n      <td>Fast Food,  Tea</td>\n      <td>4.5</td>\n      <td>9</td>\n      <td>400</td>\n    </tr>\n    <tr>\n      <th>6186</th>\n      <td>Chai Kaapi</td>\n      <td>Indore By Pass Road, East Indore</td>\n      <td>East Indore</td>\n      <td>Indore</td>\n      <td>Fast Food,  Tea</td>\n      <td>3.0</td>\n      <td>2</td>\n      <td>400</td>\n    </tr>\n  </tbody>\n</table>\n</div>"
     },
     "execution_count": 12,
     "metadata": {},
     "output_type": "execute_result"
    }
   ],
   "source": [
    "b[mask]"
   ],
   "metadata": {
    "collapsed": false,
    "ExecuteTime": {
     "end_time": "2023-05-21T12:58:10.261211600Z",
     "start_time": "2023-05-21T12:58:10.213937700Z"
    }
   }
  },
  {
   "cell_type": "code",
   "execution_count": 13,
   "outputs": [
    {
     "data": {
      "text/plain": "7270749"
     },
     "execution_count": 13,
     "metadata": {},
     "output_type": "execute_result"
    }
   ],
   "source": [
    "b[\"Cost\"].sum()"
   ],
   "metadata": {
    "collapsed": false,
    "ExecuteTime": {
     "end_time": "2023-05-21T12:58:10.742683Z",
     "start_time": "2023-05-21T12:58:10.725910400Z"
    }
   }
  },
  {
   "cell_type": "code",
   "execution_count": 14,
   "outputs": [
    {
     "data": {
      "text/plain": "1102.7982708933719"
     },
     "execution_count": 14,
     "metadata": {},
     "output_type": "execute_result"
    }
   ],
   "source": [
    "b[\"Cost\"].mean()"
   ],
   "metadata": {
    "collapsed": false,
    "ExecuteTime": {
     "end_time": "2023-05-21T12:58:11.226089500Z",
     "start_time": "2023-05-21T12:58:11.201090500Z"
    }
   }
  },
  {
   "cell_type": "code",
   "execution_count": 15,
   "outputs": [
    {
     "data": {
      "text/plain": "                             Name  \\\n0                           Local   \n1                   The G.T. ROAD   \n2                         Tamasha   \n3               The Junkyard Cafe   \n4  Chili's American Grill and Bar   \n\n                                       Location        Locality   City  \\\n0  Scindia House,Connaught Place, Central Delhi   Central Delhi  Delhi   \n1        M-Block,Connaught Place, Central Delhi   Central Delhi  Delhi   \n2                Connaught Place, Central Delhi   Central Delhi  Delhi   \n3                Connaught Place, Central Delhi   Central Delhi  Delhi   \n4        M-Block,Connaught Place, Central Delhi   Central Delhi  Delhi   \n\n                                             Cuisine  Rating  Votes  Cost  \n0           North Indian,  Finger Food,  Continental     4.1   2415  2000  \n1                                       North Indian     4.3   2363  1500  \n2  Finger Food,  North Indian,  Italian,  Contine...     4.2   5016  2000  \n3  North Indian,  Mediterranean,  Asian,  Italian...     4.2   2821  1800  \n4                       Mexican,  American,  Italian     4.4   1094  2000  ",
      "text/html": "<div>\n<style scoped>\n    .dataframe tbody tr th:only-of-type {\n        vertical-align: middle;\n    }\n\n    .dataframe tbody tr th {\n        vertical-align: top;\n    }\n\n    .dataframe thead th {\n        text-align: right;\n    }\n</style>\n<table border=\"1\" class=\"dataframe\">\n  <thead>\n    <tr style=\"text-align: right;\">\n      <th></th>\n      <th>Name</th>\n      <th>Location</th>\n      <th>Locality</th>\n      <th>City</th>\n      <th>Cuisine</th>\n      <th>Rating</th>\n      <th>Votes</th>\n      <th>Cost</th>\n    </tr>\n  </thead>\n  <tbody>\n    <tr>\n      <th>0</th>\n      <td>Local</td>\n      <td>Scindia House,Connaught Place, Central Delhi</td>\n      <td>Central Delhi</td>\n      <td>Delhi</td>\n      <td>North Indian,  Finger Food,  Continental</td>\n      <td>4.1</td>\n      <td>2415</td>\n      <td>2000</td>\n    </tr>\n    <tr>\n      <th>1</th>\n      <td>The G.T. ROAD</td>\n      <td>M-Block,Connaught Place, Central Delhi</td>\n      <td>Central Delhi</td>\n      <td>Delhi</td>\n      <td>North Indian</td>\n      <td>4.3</td>\n      <td>2363</td>\n      <td>1500</td>\n    </tr>\n    <tr>\n      <th>2</th>\n      <td>Tamasha</td>\n      <td>Connaught Place, Central Delhi</td>\n      <td>Central Delhi</td>\n      <td>Delhi</td>\n      <td>Finger Food,  North Indian,  Italian,  Contine...</td>\n      <td>4.2</td>\n      <td>5016</td>\n      <td>2000</td>\n    </tr>\n    <tr>\n      <th>3</th>\n      <td>The Junkyard Cafe</td>\n      <td>Connaught Place, Central Delhi</td>\n      <td>Central Delhi</td>\n      <td>Delhi</td>\n      <td>North Indian,  Mediterranean,  Asian,  Italian...</td>\n      <td>4.2</td>\n      <td>2821</td>\n      <td>1800</td>\n    </tr>\n    <tr>\n      <th>4</th>\n      <td>Chili's American Grill and Bar</td>\n      <td>M-Block,Connaught Place, Central Delhi</td>\n      <td>Central Delhi</td>\n      <td>Delhi</td>\n      <td>Mexican,  American,  Italian</td>\n      <td>4.4</td>\n      <td>1094</td>\n      <td>2000</td>\n    </tr>\n  </tbody>\n</table>\n</div>"
     },
     "execution_count": 15,
     "metadata": {},
     "output_type": "execute_result"
    }
   ],
   "source": [
    "b.head()"
   ],
   "metadata": {
    "collapsed": false,
    "ExecuteTime": {
     "end_time": "2023-05-21T12:58:11.695274600Z",
     "start_time": "2023-05-21T12:58:11.678271900Z"
    }
   }
  },
  {
   "cell_type": "code",
   "execution_count": 16,
   "outputs": [],
   "source": [
    "b.reset_index(inplace = True)"
   ],
   "metadata": {
    "collapsed": false,
    "ExecuteTime": {
     "end_time": "2023-05-21T12:58:12.228554500Z",
     "start_time": "2023-05-21T12:58:12.206554700Z"
    }
   }
  },
  {
   "cell_type": "code",
   "execution_count": 17,
   "outputs": [],
   "source": [
    "m = b.duplicated(subset = [\"Name\", \"Location\", \"City\", \"Cuisine\"])"
   ],
   "metadata": {
    "collapsed": false,
    "ExecuteTime": {
     "end_time": "2023-05-21T12:58:12.675480400Z",
     "start_time": "2023-05-21T12:58:12.644761100Z"
    }
   }
  },
  {
   "cell_type": "code",
   "execution_count": 18,
   "outputs": [
    {
     "data": {
      "text/plain": "      index                            Name  \\\n0         0                           Local   \n1         1                   The G.T. ROAD   \n2         2                         Tamasha   \n3         3               The Junkyard Cafe   \n4         4  Chili's American Grill and Bar   \n...     ...                             ...   \n6588   6588                   Shree Rathnam   \n6589   6589                     Cafe Delish   \n6590   6590                     3 K Resorts   \n6591   6591                       Dovka Bar   \n6592   6592                     Urban Vibes   \n\n                                               Location           Locality  \\\n0          Scindia House,Connaught Place, Central Delhi      Central Delhi   \n1                M-Block,Connaught Place, Central Delhi      Central Delhi   \n2                        Connaught Place, Central Delhi      Central Delhi   \n3                        Connaught Place, Central Delhi      Central Delhi   \n4                M-Block,Connaught Place, Central Delhi      Central Delhi   \n...                                                 ...                ...   \n6588                 Wave Mall,BRS Nagar, West Ludhiana      West Ludhiana   \n6589          Radisson Blu,Rajguru Nagar, West Ludhiana      West Ludhiana   \n6590                           BRS Nagar, West Ludhiana      West Ludhiana   \n6591  Nirvana Hotel Banquets Club,PAU, Central Ludhiana   Central Ludhiana   \n6592                         Aggar Nagar, West Ludhiana      West Ludhiana   \n\n          City                                            Cuisine  Rating  \\\n0        Delhi           North Indian,  Finger Food,  Continental     4.1   \n1        Delhi                                       North Indian     4.3   \n2        Delhi  Finger Food,  North Indian,  Italian,  Contine...     4.2   \n3        Delhi  North Indian,  Mediterranean,  Asian,  Italian...     4.2   \n4        Delhi                       Mexican,  American,  Italian     4.4   \n...        ...                                                ...     ...   \n6588  Ludhiana                                       South Indian     4.1   \n6589  Ludhiana  Multi-Cuisine,  North Indian,  Continental,  A...     4.4   \n6590  Ludhiana                                       North Indian     1.0   \n6591  Ludhiana               North Indian,  Chinese,  Finger Food     4.3   \n6592  Ludhiana  Multi-Cuisine,  North Indian,  Italian,  Chine...     3.8   \n\n      Votes  Cost  \n0      2415  2000  \n1      2363  1500  \n2      5016  2000  \n3      2821  1800  \n4      1094  2000  \n...     ...   ...  \n6588     20   600  \n6589     48  3100  \n6590      1  1100  \n6591      3  1500  \n6592     12  2000  \n\n[6547 rows x 9 columns]",
      "text/html": "<div>\n<style scoped>\n    .dataframe tbody tr th:only-of-type {\n        vertical-align: middle;\n    }\n\n    .dataframe tbody tr th {\n        vertical-align: top;\n    }\n\n    .dataframe thead th {\n        text-align: right;\n    }\n</style>\n<table border=\"1\" class=\"dataframe\">\n  <thead>\n    <tr style=\"text-align: right;\">\n      <th></th>\n      <th>index</th>\n      <th>Name</th>\n      <th>Location</th>\n      <th>Locality</th>\n      <th>City</th>\n      <th>Cuisine</th>\n      <th>Rating</th>\n      <th>Votes</th>\n      <th>Cost</th>\n    </tr>\n  </thead>\n  <tbody>\n    <tr>\n      <th>0</th>\n      <td>0</td>\n      <td>Local</td>\n      <td>Scindia House,Connaught Place, Central Delhi</td>\n      <td>Central Delhi</td>\n      <td>Delhi</td>\n      <td>North Indian,  Finger Food,  Continental</td>\n      <td>4.1</td>\n      <td>2415</td>\n      <td>2000</td>\n    </tr>\n    <tr>\n      <th>1</th>\n      <td>1</td>\n      <td>The G.T. ROAD</td>\n      <td>M-Block,Connaught Place, Central Delhi</td>\n      <td>Central Delhi</td>\n      <td>Delhi</td>\n      <td>North Indian</td>\n      <td>4.3</td>\n      <td>2363</td>\n      <td>1500</td>\n    </tr>\n    <tr>\n      <th>2</th>\n      <td>2</td>\n      <td>Tamasha</td>\n      <td>Connaught Place, Central Delhi</td>\n      <td>Central Delhi</td>\n      <td>Delhi</td>\n      <td>Finger Food,  North Indian,  Italian,  Contine...</td>\n      <td>4.2</td>\n      <td>5016</td>\n      <td>2000</td>\n    </tr>\n    <tr>\n      <th>3</th>\n      <td>3</td>\n      <td>The Junkyard Cafe</td>\n      <td>Connaught Place, Central Delhi</td>\n      <td>Central Delhi</td>\n      <td>Delhi</td>\n      <td>North Indian,  Mediterranean,  Asian,  Italian...</td>\n      <td>4.2</td>\n      <td>2821</td>\n      <td>1800</td>\n    </tr>\n    <tr>\n      <th>4</th>\n      <td>4</td>\n      <td>Chili's American Grill and Bar</td>\n      <td>M-Block,Connaught Place, Central Delhi</td>\n      <td>Central Delhi</td>\n      <td>Delhi</td>\n      <td>Mexican,  American,  Italian</td>\n      <td>4.4</td>\n      <td>1094</td>\n      <td>2000</td>\n    </tr>\n    <tr>\n      <th>...</th>\n      <td>...</td>\n      <td>...</td>\n      <td>...</td>\n      <td>...</td>\n      <td>...</td>\n      <td>...</td>\n      <td>...</td>\n      <td>...</td>\n      <td>...</td>\n    </tr>\n    <tr>\n      <th>6588</th>\n      <td>6588</td>\n      <td>Shree Rathnam</td>\n      <td>Wave Mall,BRS Nagar, West Ludhiana</td>\n      <td>West Ludhiana</td>\n      <td>Ludhiana</td>\n      <td>South Indian</td>\n      <td>4.1</td>\n      <td>20</td>\n      <td>600</td>\n    </tr>\n    <tr>\n      <th>6589</th>\n      <td>6589</td>\n      <td>Cafe Delish</td>\n      <td>Radisson Blu,Rajguru Nagar, West Ludhiana</td>\n      <td>West Ludhiana</td>\n      <td>Ludhiana</td>\n      <td>Multi-Cuisine,  North Indian,  Continental,  A...</td>\n      <td>4.4</td>\n      <td>48</td>\n      <td>3100</td>\n    </tr>\n    <tr>\n      <th>6590</th>\n      <td>6590</td>\n      <td>3 K Resorts</td>\n      <td>BRS Nagar, West Ludhiana</td>\n      <td>West Ludhiana</td>\n      <td>Ludhiana</td>\n      <td>North Indian</td>\n      <td>1.0</td>\n      <td>1</td>\n      <td>1100</td>\n    </tr>\n    <tr>\n      <th>6591</th>\n      <td>6591</td>\n      <td>Dovka Bar</td>\n      <td>Nirvana Hotel Banquets Club,PAU, Central Ludhiana</td>\n      <td>Central Ludhiana</td>\n      <td>Ludhiana</td>\n      <td>North Indian,  Chinese,  Finger Food</td>\n      <td>4.3</td>\n      <td>3</td>\n      <td>1500</td>\n    </tr>\n    <tr>\n      <th>6592</th>\n      <td>6592</td>\n      <td>Urban Vibes</td>\n      <td>Aggar Nagar, West Ludhiana</td>\n      <td>West Ludhiana</td>\n      <td>Ludhiana</td>\n      <td>Multi-Cuisine,  North Indian,  Italian,  Chine...</td>\n      <td>3.8</td>\n      <td>12</td>\n      <td>2000</td>\n    </tr>\n  </tbody>\n</table>\n<p>6547 rows × 9 columns</p>\n</div>"
     },
     "execution_count": 18,
     "metadata": {},
     "output_type": "execute_result"
    }
   ],
   "source": [
    "b.drop_duplicates(subset = [\"Name\", \"Location\", \"City\", \"Cuisine\"])"
   ],
   "metadata": {
    "collapsed": false,
    "ExecuteTime": {
     "end_time": "2023-05-21T12:58:13.056915900Z",
     "start_time": "2023-05-21T12:58:13.027930100Z"
    }
   }
  },
  {
   "cell_type": "code",
   "execution_count": null,
   "outputs": [],
   "source": [],
   "metadata": {
    "collapsed": false
   }
  }
 ],
 "metadata": {
  "kernelspec": {
   "display_name": "Python 3",
   "language": "python",
   "name": "python3"
  },
  "language_info": {
   "codemirror_mode": {
    "name": "ipython",
    "version": 2
   },
   "file_extension": ".py",
   "mimetype": "text/x-python",
   "name": "python",
   "nbconvert_exporter": "python",
   "pygments_lexer": "ipython2",
   "version": "2.7.6"
  }
 },
 "nbformat": 4,
 "nbformat_minor": 0
}

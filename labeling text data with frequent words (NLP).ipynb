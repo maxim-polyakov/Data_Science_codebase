{
 "cells": [
  {
   "cell_type": "code",
   "execution_count": 1,
   "metadata": {
    "collapsed": true,
    "ExecuteTime": {
     "end_time": "2023-05-21T09:01:27.147703600Z",
     "start_time": "2023-05-21T09:01:27.023704900Z"
    }
   },
   "outputs": [
    {
     "name": "stdout",
     "output_type": "stream",
     "text": [
      "DataSets/Twitter Jan Mar/Twitter Jan Mar.csv\n"
     ]
    }
   ],
   "source": [
    "# This Python 3 environment comes with many helpful analytics libraries installed\n",
    "# It is defined by the kaggle/python Docker image: https://github.com/kaggle/docker-python\n",
    "# For example, here's several helpful packages to load\n",
    "\n",
    "import numpy as np # linear algebra\n",
    "import pandas as pd # data processing, CSV file I/O (e.g. pd.read_csv)\n",
    "\n",
    "# Input data files are available in the read-only \"../input/\" directory\n",
    "# For example, running this (by clicking run or pressing Shift+Enter) will list all files under the input directory\n",
    "\n",
    "import os\n",
    "for dirname, _, filenames in os.walk('../DataSets/Twitter Jan Mar/'):\n",
    "    for filename in filenames:\n",
    "        print(os.path.join(dirname, filename))\n",
    "\n",
    "# You can write up to 20GB to the current directory (/kaggle/working/) that gets preserved as output when you create a version using \"Save & Run All\"\n",
    "# You can also write temporary files to /kaggle/temp/, but they won't be saved outside of the current session"
   ]
  },
  {
   "cell_type": "markdown",
   "source": [
    "### Goal:"
   ],
   "metadata": {
    "collapsed": false
   }
  },
  {
   "cell_type": "markdown",
   "source": [
    "1) NLP on chatgpt comments\n",
    "2) cluster it with unsuperwised learning\n",
    "3) find out clusters domain (that means which cluster is belonging to which domain)\n",
    "4) finally label text data with its cluster domain"
   ],
   "metadata": {
    "collapsed": false
   }
  },
  {
   "cell_type": "markdown",
   "source": [
    "### 1) NLP on chatgpt comments"
   ],
   "metadata": {
    "collapsed": false
   }
  },
  {
   "cell_type": "code",
   "execution_count": 2,
   "outputs": [
    {
     "data": {
      "text/plain": "                        date                   id  \\\n0  2023-03-29 22:58:21+00:00  1641213230730051584   \n1  2023-03-29 22:58:18+00:00  1641213218520481805   \n2  2023-03-29 22:57:53+00:00  1641213115684536323   \n3  2023-03-29 22:57:52+00:00  1641213110915571715   \n4  2023-03-29 22:57:26+00:00  1641213003260633088   \n\n                                             content        username  \\\n0  Free AI marketing and automation tools, strate...  RealProfitPros   \n1           @MecoleHardman4 Chat GPT says it’s 15. 😂    AmyLouWho321   \n2  https://t.co/FjJSprt0te - Chat with any PDF!\\n...      yjleon1976   \n3  AI muses: \"In the court of life, we must all f...  ChatGPT_Thinks   \n4  Most people haven't heard of Chat GPT yet.\\nFi...   nikocosmonaut   \n\n   like_count  retweet_count  \n0         0.0            0.0  \n1         0.0            0.0  \n2         0.0            0.0  \n3         0.0            0.0  \n4         0.0            0.0  ",
      "text/html": "<div>\n<style scoped>\n    .dataframe tbody tr th:only-of-type {\n        vertical-align: middle;\n    }\n\n    .dataframe tbody tr th {\n        vertical-align: top;\n    }\n\n    .dataframe thead th {\n        text-align: right;\n    }\n</style>\n<table border=\"1\" class=\"dataframe\">\n  <thead>\n    <tr style=\"text-align: right;\">\n      <th></th>\n      <th>date</th>\n      <th>id</th>\n      <th>content</th>\n      <th>username</th>\n      <th>like_count</th>\n      <th>retweet_count</th>\n    </tr>\n  </thead>\n  <tbody>\n    <tr>\n      <th>0</th>\n      <td>2023-03-29 22:58:21+00:00</td>\n      <td>1641213230730051584</td>\n      <td>Free AI marketing and automation tools, strate...</td>\n      <td>RealProfitPros</td>\n      <td>0.0</td>\n      <td>0.0</td>\n    </tr>\n    <tr>\n      <th>1</th>\n      <td>2023-03-29 22:58:18+00:00</td>\n      <td>1641213218520481805</td>\n      <td>@MecoleHardman4 Chat GPT says it’s 15. 😂</td>\n      <td>AmyLouWho321</td>\n      <td>0.0</td>\n      <td>0.0</td>\n    </tr>\n    <tr>\n      <th>2</th>\n      <td>2023-03-29 22:57:53+00:00</td>\n      <td>1641213115684536323</td>\n      <td>https://t.co/FjJSprt0te - Chat with any PDF!\\n...</td>\n      <td>yjleon1976</td>\n      <td>0.0</td>\n      <td>0.0</td>\n    </tr>\n    <tr>\n      <th>3</th>\n      <td>2023-03-29 22:57:52+00:00</td>\n      <td>1641213110915571715</td>\n      <td>AI muses: \"In the court of life, we must all f...</td>\n      <td>ChatGPT_Thinks</td>\n      <td>0.0</td>\n      <td>0.0</td>\n    </tr>\n    <tr>\n      <th>4</th>\n      <td>2023-03-29 22:57:26+00:00</td>\n      <td>1641213003260633088</td>\n      <td>Most people haven't heard of Chat GPT yet.\\nFi...</td>\n      <td>nikocosmonaut</td>\n      <td>0.0</td>\n      <td>0.0</td>\n    </tr>\n  </tbody>\n</table>\n</div>"
     },
     "execution_count": 2,
     "metadata": {},
     "output_type": "execute_result"
    }
   ],
   "source": [
    "df = pd.read_csv(\"DataSets/Twitter Jan Mar/Twitter Jan Mar.csv\")\n",
    "df.head()"
   ],
   "metadata": {
    "collapsed": false,
    "ExecuteTime": {
     "end_time": "2023-05-21T09:01:35.721707Z",
     "start_time": "2023-05-21T09:01:27.079711500Z"
    }
   }
  },
  {
   "cell_type": "code",
   "execution_count": 3,
   "outputs": [
    {
     "name": "stdout",
     "output_type": "stream",
     "text": [
      "<class 'pandas.core.frame.DataFrame'>\n",
      "RangeIndex: 500036 entries, 0 to 500035\n",
      "Data columns (total 6 columns):\n",
      " #   Column         Non-Null Count   Dtype  \n",
      "---  ------         --------------   -----  \n",
      " 0   date           500036 non-null  object \n",
      " 1   id             500030 non-null  object \n",
      " 2   content        500030 non-null  object \n",
      " 3   username       500002 non-null  object \n",
      " 4   like_count     499974 non-null  float64\n",
      " 5   retweet_count  499974 non-null  float64\n",
      "dtypes: float64(2), object(4)\n",
      "memory usage: 22.9+ MB\n"
     ]
    }
   ],
   "source": [
    "df.info()"
   ],
   "metadata": {
    "collapsed": false,
    "ExecuteTime": {
     "end_time": "2023-05-21T09:01:36.491712800Z",
     "start_time": "2023-05-21T09:01:35.717705900Z"
    }
   }
  },
  {
   "cell_type": "code",
   "execution_count": 4,
   "outputs": [
    {
     "data": {
      "text/plain": "(date              0\n id                6\n content           6\n username         34\n like_count       62\n retweet_count    62\n dtype: int64,\n (500036, 6))"
     },
     "execution_count": 4,
     "metadata": {},
     "output_type": "execute_result"
    }
   ],
   "source": [
    "df.isnull().sum(),df.shape"
   ],
   "metadata": {
    "collapsed": false,
    "ExecuteTime": {
     "end_time": "2023-05-21T09:01:37.259708300Z",
     "start_time": "2023-05-21T09:01:36.493706500Z"
    }
   }
  },
  {
   "cell_type": "code",
   "execution_count": 5,
   "outputs": [
    {
     "data": {
      "text/plain": "                                                  content\n456786  Microsoft's sexy GenAI 'rebrand' (thanks to as...\n335995  Chat GPT said it going to take 92 years to min...\n358239  @ElijahSchaffer Not saying right or wrong but ...",
      "text/html": "<div>\n<style scoped>\n    .dataframe tbody tr th:only-of-type {\n        vertical-align: middle;\n    }\n\n    .dataframe tbody tr th {\n        vertical-align: top;\n    }\n\n    .dataframe thead th {\n        text-align: right;\n    }\n</style>\n<table border=\"1\" class=\"dataframe\">\n  <thead>\n    <tr style=\"text-align: right;\">\n      <th></th>\n      <th>content</th>\n    </tr>\n  </thead>\n  <tbody>\n    <tr>\n      <th>456786</th>\n      <td>Microsoft's sexy GenAI 'rebrand' (thanks to as...</td>\n    </tr>\n    <tr>\n      <th>335995</th>\n      <td>Chat GPT said it going to take 92 years to min...</td>\n    </tr>\n    <tr>\n      <th>358239</th>\n      <td>@ElijahSchaffer Not saying right or wrong but ...</td>\n    </tr>\n  </tbody>\n</table>\n</div>"
     },
     "execution_count": 5,
     "metadata": {},
     "output_type": "execute_result"
    }
   ],
   "source": [
    "df.dropna(inplace=True)\n",
    "not_used_cols = ['date','id','username','like_count','retweet_count']\n",
    "df.drop(not_used_cols,axis='columns',inplace=True)\n",
    "df.sample(3)"
   ],
   "metadata": {
    "collapsed": false,
    "ExecuteTime": {
     "end_time": "2023-05-21T09:01:38.599705200Z",
     "start_time": "2023-05-21T09:01:37.262704900Z"
    }
   }
  },
  {
   "cell_type": "code",
   "execution_count": 6,
   "outputs": [
    {
     "name": "stdout",
     "output_type": "stream",
     "text": [
      "df.shape (24998, 1)\n"
     ]
    },
    {
     "data": {
      "text/plain": "                                             content\n0  Free AI marketing and automation tools, strate...\n1           @MecoleHardman4 Chat GPT says it’s 15. 😂\n2  https://t.co/FjJSprt0te - Chat with any PDF!\\n...\n3  AI muses: \"In the court of life, we must all f...\n4  Most people haven't heard of Chat GPT yet.\\nFi...",
      "text/html": "<div>\n<style scoped>\n    .dataframe tbody tr th:only-of-type {\n        vertical-align: middle;\n    }\n\n    .dataframe tbody tr th {\n        vertical-align: top;\n    }\n\n    .dataframe thead th {\n        text-align: right;\n    }\n</style>\n<table border=\"1\" class=\"dataframe\">\n  <thead>\n    <tr style=\"text-align: right;\">\n      <th></th>\n      <th>content</th>\n    </tr>\n  </thead>\n  <tbody>\n    <tr>\n      <th>0</th>\n      <td>Free AI marketing and automation tools, strate...</td>\n    </tr>\n    <tr>\n      <th>1</th>\n      <td>@MecoleHardman4 Chat GPT says it’s 15. 😂</td>\n    </tr>\n    <tr>\n      <th>2</th>\n      <td>https://t.co/FjJSprt0te - Chat with any PDF!\\n...</td>\n    </tr>\n    <tr>\n      <th>3</th>\n      <td>AI muses: \"In the court of life, we must all f...</td>\n    </tr>\n    <tr>\n      <th>4</th>\n      <td>Most people haven't heard of Chat GPT yet.\\nFi...</td>\n    </tr>\n  </tbody>\n</table>\n</div>"
     },
     "execution_count": 6,
     "metadata": {},
     "output_type": "execute_result"
    }
   ],
   "source": [
    "df = df[:len(df)//20]\n",
    "print(\"df.shape\",df.shape)\n",
    "df.head()"
   ],
   "metadata": {
    "collapsed": false,
    "ExecuteTime": {
     "end_time": "2023-05-21T09:01:38.604707300Z",
     "start_time": "2023-05-21T09:01:38.594704700Z"
    }
   }
  },
  {
   "cell_type": "code",
   "execution_count": 7,
   "outputs": [
    {
     "name": "stderr",
     "output_type": "stream",
     "text": [
      "[nltk_data] Downloading package omw-1.4 to\n",
      "[nltk_data]     C:\\Users\\maxim\\AppData\\Roaming\\nltk_data...\n",
      "[nltk_data]   Package omw-1.4 is already up-to-date!\n",
      "[nltk_data] Downloading package stopwords to\n",
      "[nltk_data]     C:\\Users\\maxim\\AppData\\Roaming\\nltk_data...\n",
      "[nltk_data]   Package stopwords is already up-to-date!\n",
      "[nltk_data] Downloading package wordnet to\n",
      "[nltk_data]     C:\\Users\\maxim\\AppData\\Roaming\\nltk_data...\n",
      "[nltk_data]   Package wordnet is already up-to-date!\n",
      "[nltk_data] Downloading package wordnet2022 to\n",
      "[nltk_data]     C:\\Users\\maxim\\AppData\\Roaming\\nltk_data...\n",
      "[nltk_data]   Package wordnet2022 is already up-to-date!\n",
      "[nltk_data] Downloading package punkt to\n",
      "[nltk_data]     C:\\Users\\maxim\\AppData\\Roaming\\nltk_data...\n",
      "[nltk_data]   Package punkt is already up-to-date!\n",
      "'cp' is not recognized as an internal or external command,\n",
      "operable program or batch file.\n"
     ]
    }
   ],
   "source": [
    "import re\n",
    "import nltk\n",
    "import warnings\n",
    "from nltk.corpus import stopwords\n",
    "from nltk.stem import WordNetLemmatizer\n",
    "from spacy import load\n",
    "from nltk.tokenize import word_tokenize\n",
    "from urllib.parse import urlparse\n",
    "warnings.filterwarnings('ignore')\n",
    "\n",
    "nltk.download(\"omw-1.4\") # Open Multilingual WordNet\n",
    "nltk.download(\"stopwords\")\n",
    "nltk.download(\"wordnet\")\n",
    "nltk.download(\"wordnet2022\")\n",
    "nltk.download(\"punkt\")"
   ],
   "metadata": {
    "collapsed": false,
    "ExecuteTime": {
     "end_time": "2023-05-21T09:02:12.429712Z",
     "start_time": "2023-05-21T09:01:38.618703700Z"
    }
   }
  },
  {
   "cell_type": "code",
   "execution_count": 8,
   "outputs": [
    {
     "name": "stdout",
     "output_type": "stream",
     "text": [
      "['i', 'me', 'my', 'myself', 'we', 'our', 'ours', 'ourselves', 'you', \"you're\", \"you've\", \"you'll\", \"you'd\", 'your', 'yours', 'yourself', 'yourselves', 'he', 'him', 'his', 'himself', 'she', \"she's\", 'her', 'hers', 'herself', 'it', \"it's\", 'its', 'itself', 'they', 'them', 'their', 'theirs', 'themselves', 'what', 'which', 'who', 'whom', 'this', 'that', \"that'll\", 'these', 'those', 'am', 'is', 'are', 'was', 'were', 'be', 'been', 'being', 'have', 'has', 'had', 'having', 'do', 'does', 'did', 'doing', 'a', 'an', 'the', 'and', 'but', 'if', 'or', 'because', 'as', 'until', 'while', 'of', 'at', 'by', 'for', 'with', 'about', 'against', 'between', 'into', 'through', 'during', 'before', 'after', 'above', 'below', 'to', 'from', 'up', 'down', 'in', 'out', 'on', 'off', 'over', 'under', 'again', 'further', 'then', 'once', 'here', 'there', 'when', 'where', 'why', 'how', 'all', 'any', 'both', 'each', 'few', 'more', 'most', 'other', 'some', 'such', 'no', 'nor', 'not', 'only', 'own', 'same', 'so', 'than', 'too', 'very', 's', 't', 'can', 'will', 'just', 'don', \"don't\", 'should', \"should've\", 'now', 'd', 'll', 'm', 'o', 're', 've', 'y', 'ain', 'aren', \"aren't\", 'couldn', \"couldn't\", 'didn', \"didn't\", 'doesn', \"doesn't\", 'hadn', \"hadn't\", 'hasn', \"hasn't\", 'haven', \"haven't\", 'isn', \"isn't\", 'ma', 'mightn', \"mightn't\", 'mustn', \"mustn't\", 'needn', \"needn't\", 'shan', \"shan't\", 'shouldn', \"shouldn't\", 'wasn', \"wasn't\", 'weren', \"weren't\", 'won', \"won't\", 'wouldn', \"wouldn't\"]\n"
     ]
    }
   ],
   "source": [
    "lemmatier = WordNetLemmatizer()\n",
    "stop_words = stopwords.words(\"english\")\n",
    "print(stop_words)"
   ],
   "metadata": {
    "collapsed": false,
    "ExecuteTime": {
     "end_time": "2023-05-21T09:02:12.451705Z",
     "start_time": "2023-05-21T09:02:12.394705800Z"
    }
   }
  },
  {
   "cell_type": "code",
   "execution_count": 9,
   "outputs": [],
   "source": [
    "def txt_process(text):\n",
    "    try:\n",
    "        # removing brackets\n",
    "        text = re.sub(\"[][)(]\",\" \",text)\n",
    "\n",
    "        # urls removing from text\n",
    "        text = [word for word in text.split() if not urlparse(word).scheme]\n",
    "        text = ' '.join(text)\n",
    "\n",
    "        # removing escap characters\n",
    "        text = re.sub(r'\\@\\w+','',text)\n",
    "\n",
    "        # removing html tags from text\n",
    "        text = re.sub(re.compile(\"<.*?>\"),'',text)\n",
    "\n",
    "        # remove words and numbers together form\n",
    "        text = re.sub(r'\\w*[0-9]\\w*','',text)\n",
    "\n",
    "        # lemmatization text\n",
    "        text = [lemmatier.lemmatize(word) for word in text.split()]\n",
    "        text = \" \".join(text)\n",
    "\n",
    "        # lower the text\n",
    "        text = text.lower()\n",
    "\n",
    "        # getting characters and numbers only\n",
    "        text = re.sub('[^a-z0-9]',' ',text)\n",
    "\n",
    "        # stripping all words from sentences\n",
    "        text = [word.strip() for word in text.split()]\n",
    "        text = ' '.join(text)\n",
    "\n",
    "        # removing stopwords from text\n",
    "        tokens = word_tokenize(text)\n",
    "        text = []\n",
    "        for word in tokens:\n",
    "            if word.strip() in stop_words:\n",
    "                pass\n",
    "            else:\n",
    "                text.append(word)\n",
    "        text = ' '.join(text)\n",
    "\n",
    "        return text\n",
    "    except Exception as e:\n",
    "        print(\"text \",text)\n",
    "        print(\"Error \",e)"
   ],
   "metadata": {
    "collapsed": false,
    "ExecuteTime": {
     "end_time": "2023-05-21T09:02:12.508704600Z",
     "start_time": "2023-05-21T09:02:12.454705600Z"
    }
   }
  },
  {
   "cell_type": "code",
   "execution_count": 10,
   "outputs": [
    {
     "name": "stdout",
     "output_type": "stream",
     "text": [
      "Free AI marketing and automation tools, strategies, and collaboration launching new week https://t.co/Qwti8LfBpb   #ChatGPT\n"
     ]
    },
    {
     "data": {
      "text/plain": "'free ai marketing automation tools strategies collaboration launching new week chatgpt'"
     },
     "execution_count": 10,
     "metadata": {},
     "output_type": "execute_result"
    }
   ],
   "source": [
    "print(df['content'].iloc[0])\n",
    "txt_process(df['content'].iloc[0])"
   ],
   "metadata": {
    "collapsed": false,
    "ExecuteTime": {
     "end_time": "2023-05-21T09:02:17.326705600Z",
     "start_time": "2023-05-21T09:02:12.487707100Z"
    }
   }
  },
  {
   "cell_type": "code",
   "execution_count": 11,
   "outputs": [
    {
     "data": {
      "text/plain": "                                             content  \\\n0  Free AI marketing and automation tools, strate...   \n1           @MecoleHardman4 Chat GPT says it’s 15. 😂   \n2  https://t.co/FjJSprt0te - Chat with any PDF!\\n...   \n3  AI muses: \"In the court of life, we must all f...   \n4  Most people haven't heard of Chat GPT yet.\\nFi...   \n\n                                             cleaned  \n0  free ai marketing automation tools strategies ...  \n1                                       chat gpt say  \n2  chat pdf check new ai quickly answer question ...  \n3  ai court life must face judge destiny jury act...  \n4  people heard chat gpt yet first elite faction ...  ",
      "text/html": "<div>\n<style scoped>\n    .dataframe tbody tr th:only-of-type {\n        vertical-align: middle;\n    }\n\n    .dataframe tbody tr th {\n        vertical-align: top;\n    }\n\n    .dataframe thead th {\n        text-align: right;\n    }\n</style>\n<table border=\"1\" class=\"dataframe\">\n  <thead>\n    <tr style=\"text-align: right;\">\n      <th></th>\n      <th>content</th>\n      <th>cleaned</th>\n    </tr>\n  </thead>\n  <tbody>\n    <tr>\n      <th>0</th>\n      <td>Free AI marketing and automation tools, strate...</td>\n      <td>free ai marketing automation tools strategies ...</td>\n    </tr>\n    <tr>\n      <th>1</th>\n      <td>@MecoleHardman4 Chat GPT says it’s 15. 😂</td>\n      <td>chat gpt say</td>\n    </tr>\n    <tr>\n      <th>2</th>\n      <td>https://t.co/FjJSprt0te - Chat with any PDF!\\n...</td>\n      <td>chat pdf check new ai quickly answer question ...</td>\n    </tr>\n    <tr>\n      <th>3</th>\n      <td>AI muses: \"In the court of life, we must all f...</td>\n      <td>ai court life must face judge destiny jury act...</td>\n    </tr>\n    <tr>\n      <th>4</th>\n      <td>Most people haven't heard of Chat GPT yet.\\nFi...</td>\n      <td>people heard chat gpt yet first elite faction ...</td>\n    </tr>\n  </tbody>\n</table>\n</div>"
     },
     "execution_count": 11,
     "metadata": {},
     "output_type": "execute_result"
    }
   ],
   "source": [
    "df['cleaned'] = df['content'].apply(lambda text:txt_process(text))\n",
    "df.head()"
   ],
   "metadata": {
    "collapsed": false,
    "ExecuteTime": {
     "end_time": "2023-05-21T09:02:47.817707200Z",
     "start_time": "2023-05-21T09:02:17.342705400Z"
    }
   }
  },
  {
   "cell_type": "code",
   "execution_count": 12,
   "outputs": [],
   "source": [
    "from sklearn.feature_extraction.text import CountVectorizer\n",
    "from sklearn.feature_extraction.text import TfidfVectorizer\n",
    "\n",
    "MIN_DF = 30"
   ],
   "metadata": {
    "collapsed": false,
    "ExecuteTime": {
     "end_time": "2023-05-21T09:02:47.883704800Z",
     "start_time": "2023-05-21T09:02:47.819708Z"
    }
   }
  },
  {
   "cell_type": "code",
   "execution_count": 13,
   "outputs": [
    {
     "data": {
      "text/plain": "array([[0, 0, 0, ..., 0, 0, 0],\n       [0, 0, 0, ..., 0, 0, 0],\n       [0, 0, 0, ..., 0, 0, 0],\n       ...,\n       [0, 0, 0, ..., 0, 0, 0],\n       [0, 0, 0, ..., 0, 0, 0],\n       [0, 0, 0, ..., 0, 0, 0]], dtype=int64)"
     },
     "execution_count": 13,
     "metadata": {},
     "output_type": "execute_result"
    }
   ],
   "source": [
    "cv = CountVectorizer(min_df=MIN_DF)\n",
    "df_bow = cv.fit_transform(df['cleaned'])\n",
    "df_bow.toarray()"
   ],
   "metadata": {
    "collapsed": false,
    "ExecuteTime": {
     "end_time": "2023-05-21T09:02:49.389706200Z",
     "start_time": "2023-05-21T09:02:47.849708900Z"
    }
   }
  },
  {
   "cell_type": "code",
   "execution_count": 14,
   "outputs": [
    {
     "data": {
      "text/plain": "   ability  able  absolutely  abuse  academia  academic  accepting  access  \\\n0        0     0           0      0         0         0          0       0   \n1        0     0           0      0         0         0          0       0   \n2        0     0           0      0         0         0          0       0   \n3        0     0           0      0         0         0          0       0   \n4        0     0           0      0         0         0          0       0   \n\n   according  account  ...  years  yes  yesterday  yet  yolo  youtube  \\\n0          0        0  ...      0    0          0    0     0        0   \n1          0        0  ...      0    0          0    0     0        0   \n2          0        0  ...      0    0          0    0     0        0   \n3          0        0  ...      0    0          0    0     0        0   \n4          0        0  ...      0    0          0    1     0        0   \n\n   yuhanito  zero  zksync  zoom  \n0         0     0       0     0  \n1         0     0       0     0  \n2         0     0       0     0  \n3         0     0       0     0  \n4         0     0       0     0  \n\n[5 rows x 1689 columns]",
      "text/html": "<div>\n<style scoped>\n    .dataframe tbody tr th:only-of-type {\n        vertical-align: middle;\n    }\n\n    .dataframe tbody tr th {\n        vertical-align: top;\n    }\n\n    .dataframe thead th {\n        text-align: right;\n    }\n</style>\n<table border=\"1\" class=\"dataframe\">\n  <thead>\n    <tr style=\"text-align: right;\">\n      <th></th>\n      <th>ability</th>\n      <th>able</th>\n      <th>absolutely</th>\n      <th>abuse</th>\n      <th>academia</th>\n      <th>academic</th>\n      <th>accepting</th>\n      <th>access</th>\n      <th>according</th>\n      <th>account</th>\n      <th>...</th>\n      <th>years</th>\n      <th>yes</th>\n      <th>yesterday</th>\n      <th>yet</th>\n      <th>yolo</th>\n      <th>youtube</th>\n      <th>yuhanito</th>\n      <th>zero</th>\n      <th>zksync</th>\n      <th>zoom</th>\n    </tr>\n  </thead>\n  <tbody>\n    <tr>\n      <th>0</th>\n      <td>0</td>\n      <td>0</td>\n      <td>0</td>\n      <td>0</td>\n      <td>0</td>\n      <td>0</td>\n      <td>0</td>\n      <td>0</td>\n      <td>0</td>\n      <td>0</td>\n      <td>...</td>\n      <td>0</td>\n      <td>0</td>\n      <td>0</td>\n      <td>0</td>\n      <td>0</td>\n      <td>0</td>\n      <td>0</td>\n      <td>0</td>\n      <td>0</td>\n      <td>0</td>\n    </tr>\n    <tr>\n      <th>1</th>\n      <td>0</td>\n      <td>0</td>\n      <td>0</td>\n      <td>0</td>\n      <td>0</td>\n      <td>0</td>\n      <td>0</td>\n      <td>0</td>\n      <td>0</td>\n      <td>0</td>\n      <td>...</td>\n      <td>0</td>\n      <td>0</td>\n      <td>0</td>\n      <td>0</td>\n      <td>0</td>\n      <td>0</td>\n      <td>0</td>\n      <td>0</td>\n      <td>0</td>\n      <td>0</td>\n    </tr>\n    <tr>\n      <th>2</th>\n      <td>0</td>\n      <td>0</td>\n      <td>0</td>\n      <td>0</td>\n      <td>0</td>\n      <td>0</td>\n      <td>0</td>\n      <td>0</td>\n      <td>0</td>\n      <td>0</td>\n      <td>...</td>\n      <td>0</td>\n      <td>0</td>\n      <td>0</td>\n      <td>0</td>\n      <td>0</td>\n      <td>0</td>\n      <td>0</td>\n      <td>0</td>\n      <td>0</td>\n      <td>0</td>\n    </tr>\n    <tr>\n      <th>3</th>\n      <td>0</td>\n      <td>0</td>\n      <td>0</td>\n      <td>0</td>\n      <td>0</td>\n      <td>0</td>\n      <td>0</td>\n      <td>0</td>\n      <td>0</td>\n      <td>0</td>\n      <td>...</td>\n      <td>0</td>\n      <td>0</td>\n      <td>0</td>\n      <td>0</td>\n      <td>0</td>\n      <td>0</td>\n      <td>0</td>\n      <td>0</td>\n      <td>0</td>\n      <td>0</td>\n    </tr>\n    <tr>\n      <th>4</th>\n      <td>0</td>\n      <td>0</td>\n      <td>0</td>\n      <td>0</td>\n      <td>0</td>\n      <td>0</td>\n      <td>0</td>\n      <td>0</td>\n      <td>0</td>\n      <td>0</td>\n      <td>...</td>\n      <td>0</td>\n      <td>0</td>\n      <td>0</td>\n      <td>1</td>\n      <td>0</td>\n      <td>0</td>\n      <td>0</td>\n      <td>0</td>\n      <td>0</td>\n      <td>0</td>\n    </tr>\n  </tbody>\n</table>\n<p>5 rows × 1689 columns</p>\n</div>"
     },
     "execution_count": 14,
     "metadata": {},
     "output_type": "execute_result"
    }
   ],
   "source": [
    "df_bow = pd.DataFrame(df_bow.toarray(),columns=cv.get_feature_names_out())\n",
    "df_bow.head()"
   ],
   "metadata": {
    "collapsed": false,
    "ExecuteTime": {
     "end_time": "2023-05-21T09:02:49.635703800Z",
     "start_time": "2023-05-21T09:02:49.401705900Z"
    }
   }
  },
  {
   "cell_type": "code",
   "execution_count": 15,
   "outputs": [
    {
     "data": {
      "text/plain": "array([[0., 0., 0., ..., 0., 0., 0.],\n       [0., 0., 0., ..., 0., 0., 0.],\n       [0., 0., 0., ..., 0., 0., 0.],\n       ...,\n       [0., 0., 0., ..., 0., 0., 0.],\n       [0., 0., 0., ..., 0., 0., 0.],\n       [0., 0., 0., ..., 0., 0., 0.]])"
     },
     "execution_count": 15,
     "metadata": {},
     "output_type": "execute_result"
    }
   ],
   "source": [
    "tfv = TfidfVectorizer(min_df = MIN_DF)\n",
    "df_tfv = tfv.fit_transform(df['cleaned'])\n",
    "df_tfv.toarray()"
   ],
   "metadata": {
    "collapsed": false,
    "ExecuteTime": {
     "end_time": "2023-05-21T09:02:51.390704600Z",
     "start_time": "2023-05-21T09:02:49.640704300Z"
    }
   }
  },
  {
   "cell_type": "code",
   "execution_count": 16,
   "outputs": [
    {
     "data": {
      "text/plain": "   ability  able  absolutely  abuse  academia  academic  accepting  access  \\\n0      0.0   0.0         0.0    0.0       0.0       0.0        0.0     0.0   \n1      0.0   0.0         0.0    0.0       0.0       0.0        0.0     0.0   \n2      0.0   0.0         0.0    0.0       0.0       0.0        0.0     0.0   \n3      0.0   0.0         0.0    0.0       0.0       0.0        0.0     0.0   \n4      0.0   0.0         0.0    0.0       0.0       0.0        0.0     0.0   \n\n   according  account  ...  years  yes  yesterday       yet  yolo  youtube  \\\n0        0.0      0.0  ...    0.0  0.0        0.0  0.000000   0.0      0.0   \n1        0.0      0.0  ...    0.0  0.0        0.0  0.000000   0.0      0.0   \n2        0.0      0.0  ...    0.0  0.0        0.0  0.000000   0.0      0.0   \n3        0.0      0.0  ...    0.0  0.0        0.0  0.000000   0.0      0.0   \n4        0.0      0.0  ...    0.0  0.0        0.0  0.229159   0.0      0.0   \n\n   yuhanito  zero  zksync  zoom  \n0       0.0   0.0     0.0   0.0  \n1       0.0   0.0     0.0   0.0  \n2       0.0   0.0     0.0   0.0  \n3       0.0   0.0     0.0   0.0  \n4       0.0   0.0     0.0   0.0  \n\n[5 rows x 1689 columns]",
      "text/html": "<div>\n<style scoped>\n    .dataframe tbody tr th:only-of-type {\n        vertical-align: middle;\n    }\n\n    .dataframe tbody tr th {\n        vertical-align: top;\n    }\n\n    .dataframe thead th {\n        text-align: right;\n    }\n</style>\n<table border=\"1\" class=\"dataframe\">\n  <thead>\n    <tr style=\"text-align: right;\">\n      <th></th>\n      <th>ability</th>\n      <th>able</th>\n      <th>absolutely</th>\n      <th>abuse</th>\n      <th>academia</th>\n      <th>academic</th>\n      <th>accepting</th>\n      <th>access</th>\n      <th>according</th>\n      <th>account</th>\n      <th>...</th>\n      <th>years</th>\n      <th>yes</th>\n      <th>yesterday</th>\n      <th>yet</th>\n      <th>yolo</th>\n      <th>youtube</th>\n      <th>yuhanito</th>\n      <th>zero</th>\n      <th>zksync</th>\n      <th>zoom</th>\n    </tr>\n  </thead>\n  <tbody>\n    <tr>\n      <th>0</th>\n      <td>0.0</td>\n      <td>0.0</td>\n      <td>0.0</td>\n      <td>0.0</td>\n      <td>0.0</td>\n      <td>0.0</td>\n      <td>0.0</td>\n      <td>0.0</td>\n      <td>0.0</td>\n      <td>0.0</td>\n      <td>...</td>\n      <td>0.0</td>\n      <td>0.0</td>\n      <td>0.0</td>\n      <td>0.000000</td>\n      <td>0.0</td>\n      <td>0.0</td>\n      <td>0.0</td>\n      <td>0.0</td>\n      <td>0.0</td>\n      <td>0.0</td>\n    </tr>\n    <tr>\n      <th>1</th>\n      <td>0.0</td>\n      <td>0.0</td>\n      <td>0.0</td>\n      <td>0.0</td>\n      <td>0.0</td>\n      <td>0.0</td>\n      <td>0.0</td>\n      <td>0.0</td>\n      <td>0.0</td>\n      <td>0.0</td>\n      <td>...</td>\n      <td>0.0</td>\n      <td>0.0</td>\n      <td>0.0</td>\n      <td>0.000000</td>\n      <td>0.0</td>\n      <td>0.0</td>\n      <td>0.0</td>\n      <td>0.0</td>\n      <td>0.0</td>\n      <td>0.0</td>\n    </tr>\n    <tr>\n      <th>2</th>\n      <td>0.0</td>\n      <td>0.0</td>\n      <td>0.0</td>\n      <td>0.0</td>\n      <td>0.0</td>\n      <td>0.0</td>\n      <td>0.0</td>\n      <td>0.0</td>\n      <td>0.0</td>\n      <td>0.0</td>\n      <td>...</td>\n      <td>0.0</td>\n      <td>0.0</td>\n      <td>0.0</td>\n      <td>0.000000</td>\n      <td>0.0</td>\n      <td>0.0</td>\n      <td>0.0</td>\n      <td>0.0</td>\n      <td>0.0</td>\n      <td>0.0</td>\n    </tr>\n    <tr>\n      <th>3</th>\n      <td>0.0</td>\n      <td>0.0</td>\n      <td>0.0</td>\n      <td>0.0</td>\n      <td>0.0</td>\n      <td>0.0</td>\n      <td>0.0</td>\n      <td>0.0</td>\n      <td>0.0</td>\n      <td>0.0</td>\n      <td>...</td>\n      <td>0.0</td>\n      <td>0.0</td>\n      <td>0.0</td>\n      <td>0.000000</td>\n      <td>0.0</td>\n      <td>0.0</td>\n      <td>0.0</td>\n      <td>0.0</td>\n      <td>0.0</td>\n      <td>0.0</td>\n    </tr>\n    <tr>\n      <th>4</th>\n      <td>0.0</td>\n      <td>0.0</td>\n      <td>0.0</td>\n      <td>0.0</td>\n      <td>0.0</td>\n      <td>0.0</td>\n      <td>0.0</td>\n      <td>0.0</td>\n      <td>0.0</td>\n      <td>0.0</td>\n      <td>...</td>\n      <td>0.0</td>\n      <td>0.0</td>\n      <td>0.0</td>\n      <td>0.229159</td>\n      <td>0.0</td>\n      <td>0.0</td>\n      <td>0.0</td>\n      <td>0.0</td>\n      <td>0.0</td>\n      <td>0.0</td>\n    </tr>\n  </tbody>\n</table>\n<p>5 rows × 1689 columns</p>\n</div>"
     },
     "execution_count": 16,
     "metadata": {},
     "output_type": "execute_result"
    }
   ],
   "source": [
    "df_tfv = pd.DataFrame(df_tfv.toarray(),columns=tfv.get_feature_names_out())\n",
    "df_tfv.head()"
   ],
   "metadata": {
    "collapsed": false,
    "ExecuteTime": {
     "end_time": "2023-05-21T09:02:51.820703200Z",
     "start_time": "2023-05-21T09:02:51.391705Z"
    }
   }
  },
  {
   "cell_type": "markdown",
   "source": [
    "### 2) Cluster it with unsuperwised learning"
   ],
   "metadata": {
    "collapsed": false
   }
  },
  {
   "cell_type": "code",
   "execution_count": 17,
   "outputs": [],
   "source": [
    "from sklearn.cluster import KMeans\n",
    "from yellowbrick.cluster import KElbowVisualizer\n",
    "import matplotlib.pyplot as plt"
   ],
   "metadata": {
    "collapsed": false,
    "ExecuteTime": {
     "end_time": "2023-05-21T09:02:52.298704600Z",
     "start_time": "2023-05-21T09:02:51.822705600Z"
    }
   }
  },
  {
   "cell_type": "code",
   "execution_count": 18,
   "outputs": [
    {
     "data": {
      "text/plain": "<Figure size 800x550 with 2 Axes>",
      "image/png": "[encoded data removed]"
     },
     "metadata": {},
     "output_type": "display_data"
    },
    {
     "data": {
      "text/plain": "<AxesSubplot:title={'center':'Distortion Score Elbow for KMeans Clustering'}, xlabel='k', ylabel='distortion score'>"
     },
     "execution_count": 18,
     "metadata": {},
     "output_type": "execute_result"
    }
   ],
   "source": [
    "model_test = KMeans()\n",
    "visualizer = KElbowVisualizer(model_test,K=(1,7))\n",
    "visualizer.fit(df_bow)\n",
    "visualizer.show()"
   ],
   "metadata": {
    "collapsed": false,
    "ExecuteTime": {
     "start_time": "2023-05-21T09:02:52.301703600Z"
    }
   }
  },
  {
   "cell_type": "markdown",
   "source": [
    "According to BOW dataframe ---> cluster number 4\n",
    "According to TF-IDF dataframe ---> cluster number 5\n",
    "\n",
    "Here we are going to take **5 as cluster numbers**\n",
    "\n",
    "- Term frequency adjusted for the length of the document (raw count of occurences divided by number of words in the document).\n",
    "\n",
    "**What is IDF (inverse document frequency)?**"
   ],
   "metadata": {
    "collapsed": false
   }
  },
  {
   "cell_type": "markdown",
   "source": [
    "Inverse document frequency looks at how common (or uncommon) a word is amongst the corpus. IDF is calculated as follows where t is the term (word) we are looking to measure the commonness of and N is the number of documents (d) in the corpus (D).. The denominator is simply the number of documents in which the term, t, appears in."
   ],
   "metadata": {
    "collapsed": false
   }
  },
  {
   "cell_type": "code",
   "execution_count": 19,
   "outputs": [
    {
     "ename": "AttributeError",
     "evalue": "'NoneType' object has no attribute 'split'",
     "output_type": "error",
     "traceback": [
      "\u001B[1;31m---------------------------------------------------------------------------\u001B[0m",
      "\u001B[1;31mAttributeError\u001B[0m                            Traceback (most recent call last)",
      "\u001B[1;32m~\\AppData\\Local\\Temp\\ipykernel_11016\\3696993181.py\u001B[0m in \u001B[0;36m<module>\u001B[1;34m\u001B[0m\n\u001B[0;32m      1\u001B[0m \u001B[0mmodel\u001B[0m \u001B[1;33m=\u001B[0m \u001B[0mKMeans\u001B[0m\u001B[1;33m(\u001B[0m\u001B[0mn_clusters\u001B[0m\u001B[1;33m=\u001B[0m\u001B[1;36m5\u001B[0m\u001B[1;33m,\u001B[0m\u001B[0minit\u001B[0m\u001B[1;33m=\u001B[0m\u001B[1;34m'k-means++'\u001B[0m\u001B[1;33m,\u001B[0m\u001B[0mrandom_state\u001B[0m\u001B[1;33m=\u001B[0m\u001B[1;36m42\u001B[0m\u001B[1;33m)\u001B[0m\u001B[1;33m\u001B[0m\u001B[1;33m\u001B[0m\u001B[0m\n\u001B[0;32m      2\u001B[0m \u001B[0mmodel\u001B[0m\u001B[1;33m.\u001B[0m\u001B[0mfit\u001B[0m\u001B[1;33m(\u001B[0m\u001B[0mdf_tfv\u001B[0m\u001B[1;33m)\u001B[0m\u001B[1;33m\u001B[0m\u001B[1;33m\u001B[0m\u001B[0m\n\u001B[1;32m----> 3\u001B[1;33m \u001B[0mlabels\u001B[0m \u001B[1;33m=\u001B[0m \u001B[0mmodel\u001B[0m\u001B[1;33m.\u001B[0m\u001B[0mpredict\u001B[0m\u001B[1;33m(\u001B[0m\u001B[0mdf_tfv\u001B[0m\u001B[1;33m)\u001B[0m\u001B[1;33m\u001B[0m\u001B[1;33m\u001B[0m\u001B[0m\n\u001B[0m\u001B[0;32m      4\u001B[0m \u001B[0mprint\u001B[0m\u001B[1;33m(\u001B[0m\u001B[0mlabels\u001B[0m\u001B[1;33m)\u001B[0m\u001B[1;33m\u001B[0m\u001B[1;33m\u001B[0m\u001B[0m\n",
      "\u001B[1;32mD:\\Anaconda\\lib\\site-packages\\sklearn\\cluster\\_kmeans.py\u001B[0m in \u001B[0;36mpredict\u001B[1;34m(self, X, sample_weight)\u001B[0m\n\u001B[0;32m   1332\u001B[0m         \u001B[0msample_weight\u001B[0m \u001B[1;33m=\u001B[0m \u001B[0m_check_sample_weight\u001B[0m\u001B[1;33m(\u001B[0m\u001B[0msample_weight\u001B[0m\u001B[1;33m,\u001B[0m \u001B[0mX\u001B[0m\u001B[1;33m,\u001B[0m \u001B[0mdtype\u001B[0m\u001B[1;33m=\u001B[0m\u001B[0mX\u001B[0m\u001B[1;33m.\u001B[0m\u001B[0mdtype\u001B[0m\u001B[1;33m)\u001B[0m\u001B[1;33m\u001B[0m\u001B[1;33m\u001B[0m\u001B[0m\n\u001B[0;32m   1333\u001B[0m \u001B[1;33m\u001B[0m\u001B[0m\n\u001B[1;32m-> 1334\u001B[1;33m         return _labels_inertia_threadpool_limit(\n\u001B[0m\u001B[0;32m   1335\u001B[0m             \u001B[0mX\u001B[0m\u001B[1;33m,\u001B[0m \u001B[0msample_weight\u001B[0m\u001B[1;33m,\u001B[0m \u001B[0mx_squared_norms\u001B[0m\u001B[1;33m,\u001B[0m \u001B[0mself\u001B[0m\u001B[1;33m.\u001B[0m\u001B[0mcluster_centers_\u001B[0m\u001B[1;33m,\u001B[0m \u001B[0mself\u001B[0m\u001B[1;33m.\u001B[0m\u001B[0m_n_threads\u001B[0m\u001B[1;33m\u001B[0m\u001B[1;33m\u001B[0m\u001B[0m\n\u001B[0;32m   1336\u001B[0m         )[0]\n",
      "\u001B[1;32mD:\\Anaconda\\lib\\site-packages\\sklearn\\cluster\\_kmeans.py\u001B[0m in \u001B[0;36m_labels_inertia_threadpool_limit\u001B[1;34m(X, sample_weight, x_squared_norms, centers, n_threads)\u001B[0m\n\u001B[0;32m    753\u001B[0m ):\n\u001B[0;32m    754\u001B[0m     \u001B[1;34m\"\"\"Same as _labels_inertia but in a threadpool_limits context.\"\"\"\u001B[0m\u001B[1;33m\u001B[0m\u001B[1;33m\u001B[0m\u001B[0m\n\u001B[1;32m--> 755\u001B[1;33m     \u001B[1;32mwith\u001B[0m \u001B[0mthreadpool_limits\u001B[0m\u001B[1;33m(\u001B[0m\u001B[0mlimits\u001B[0m\u001B[1;33m=\u001B[0m\u001B[1;36m1\u001B[0m\u001B[1;33m,\u001B[0m \u001B[0muser_api\u001B[0m\u001B[1;33m=\u001B[0m\u001B[1;34m\"blas\"\u001B[0m\u001B[1;33m)\u001B[0m\u001B[1;33m:\u001B[0m\u001B[1;33m\u001B[0m\u001B[1;33m\u001B[0m\u001B[0m\n\u001B[0m\u001B[0;32m    756\u001B[0m         labels, inertia = _labels_inertia(\n\u001B[0;32m    757\u001B[0m             \u001B[0mX\u001B[0m\u001B[1;33m,\u001B[0m \u001B[0msample_weight\u001B[0m\u001B[1;33m,\u001B[0m \u001B[0mx_squared_norms\u001B[0m\u001B[1;33m,\u001B[0m \u001B[0mcenters\u001B[0m\u001B[1;33m,\u001B[0m \u001B[0mn_threads\u001B[0m\u001B[1;33m\u001B[0m\u001B[1;33m\u001B[0m\u001B[0m\n",
      "\u001B[1;32mD:\\Anaconda\\lib\\site-packages\\sklearn\\utils\\fixes.py\u001B[0m in \u001B[0;36mthreadpool_limits\u001B[1;34m(limits, user_api)\u001B[0m\n\u001B[0;32m    312\u001B[0m         \u001B[1;32mreturn\u001B[0m \u001B[0mcontroller\u001B[0m\u001B[1;33m.\u001B[0m\u001B[0mlimit\u001B[0m\u001B[1;33m(\u001B[0m\u001B[0mlimits\u001B[0m\u001B[1;33m=\u001B[0m\u001B[0mlimits\u001B[0m\u001B[1;33m,\u001B[0m \u001B[0muser_api\u001B[0m\u001B[1;33m=\u001B[0m\u001B[0muser_api\u001B[0m\u001B[1;33m)\u001B[0m\u001B[1;33m\u001B[0m\u001B[1;33m\u001B[0m\u001B[0m\n\u001B[0;32m    313\u001B[0m     \u001B[1;32melse\u001B[0m\u001B[1;33m:\u001B[0m\u001B[1;33m\u001B[0m\u001B[1;33m\u001B[0m\u001B[0m\n\u001B[1;32m--> 314\u001B[1;33m         \u001B[1;32mreturn\u001B[0m \u001B[0mthreadpoolctl\u001B[0m\u001B[1;33m.\u001B[0m\u001B[0mthreadpool_limits\u001B[0m\u001B[1;33m(\u001B[0m\u001B[0mlimits\u001B[0m\u001B[1;33m=\u001B[0m\u001B[0mlimits\u001B[0m\u001B[1;33m,\u001B[0m \u001B[0muser_api\u001B[0m\u001B[1;33m=\u001B[0m\u001B[0muser_api\u001B[0m\u001B[1;33m)\u001B[0m\u001B[1;33m\u001B[0m\u001B[1;33m\u001B[0m\u001B[0m\n\u001B[0m\u001B[0;32m    315\u001B[0m \u001B[1;33m\u001B[0m\u001B[0m\n\u001B[0;32m    316\u001B[0m \u001B[1;33m\u001B[0m\u001B[0m\n",
      "\u001B[1;32mD:\\Anaconda\\lib\\site-packages\\threadpoolctl.py\u001B[0m in \u001B[0;36m__init__\u001B[1;34m(self, limits, user_api)\u001B[0m\n\u001B[0;32m    169\u001B[0m             \u001B[0mself\u001B[0m\u001B[1;33m.\u001B[0m\u001B[0m_check_params\u001B[0m\u001B[1;33m(\u001B[0m\u001B[0mlimits\u001B[0m\u001B[1;33m,\u001B[0m \u001B[0muser_api\u001B[0m\u001B[1;33m)\u001B[0m\u001B[1;33m\u001B[0m\u001B[1;33m\u001B[0m\u001B[0m\n\u001B[0;32m    170\u001B[0m \u001B[1;33m\u001B[0m\u001B[0m\n\u001B[1;32m--> 171\u001B[1;33m         \u001B[0mself\u001B[0m\u001B[1;33m.\u001B[0m\u001B[0m_original_info\u001B[0m \u001B[1;33m=\u001B[0m \u001B[0mself\u001B[0m\u001B[1;33m.\u001B[0m\u001B[0m_set_threadpool_limits\u001B[0m\u001B[1;33m(\u001B[0m\u001B[1;33m)\u001B[0m\u001B[1;33m\u001B[0m\u001B[1;33m\u001B[0m\u001B[0m\n\u001B[0m\u001B[0;32m    172\u001B[0m \u001B[1;33m\u001B[0m\u001B[0m\n\u001B[0;32m    173\u001B[0m     \u001B[1;32mdef\u001B[0m \u001B[0m__enter__\u001B[0m\u001B[1;33m(\u001B[0m\u001B[0mself\u001B[0m\u001B[1;33m)\u001B[0m\u001B[1;33m:\u001B[0m\u001B[1;33m\u001B[0m\u001B[1;33m\u001B[0m\u001B[0m\n",
      "\u001B[1;32mD:\\Anaconda\\lib\\site-packages\\threadpoolctl.py\u001B[0m in \u001B[0;36m_set_threadpool_limits\u001B[1;34m(self)\u001B[0m\n\u001B[0;32m    266\u001B[0m             \u001B[1;32mreturn\u001B[0m \u001B[1;32mNone\u001B[0m\u001B[1;33m\u001B[0m\u001B[1;33m\u001B[0m\u001B[0m\n\u001B[0;32m    267\u001B[0m \u001B[1;33m\u001B[0m\u001B[0m\n\u001B[1;32m--> 268\u001B[1;33m         modules = _ThreadpoolInfo(prefixes=self._prefixes,\n\u001B[0m\u001B[0;32m    269\u001B[0m                                   user_api=self._user_api)\n\u001B[0;32m    270\u001B[0m         \u001B[1;32mfor\u001B[0m \u001B[0mmodule\u001B[0m \u001B[1;32min\u001B[0m \u001B[0mmodules\u001B[0m\u001B[1;33m:\u001B[0m\u001B[1;33m\u001B[0m\u001B[1;33m\u001B[0m\u001B[0m\n",
      "\u001B[1;32mD:\\Anaconda\\lib\\site-packages\\threadpoolctl.py\u001B[0m in \u001B[0;36m__init__\u001B[1;34m(self, user_api, prefixes, modules)\u001B[0m\n\u001B[0;32m    338\u001B[0m \u001B[1;33m\u001B[0m\u001B[0m\n\u001B[0;32m    339\u001B[0m             \u001B[0mself\u001B[0m\u001B[1;33m.\u001B[0m\u001B[0mmodules\u001B[0m \u001B[1;33m=\u001B[0m \u001B[1;33m[\u001B[0m\u001B[1;33m]\u001B[0m\u001B[1;33m\u001B[0m\u001B[1;33m\u001B[0m\u001B[0m\n\u001B[1;32m--> 340\u001B[1;33m             \u001B[0mself\u001B[0m\u001B[1;33m.\u001B[0m\u001B[0m_load_modules\u001B[0m\u001B[1;33m(\u001B[0m\u001B[1;33m)\u001B[0m\u001B[1;33m\u001B[0m\u001B[1;33m\u001B[0m\u001B[0m\n\u001B[0m\u001B[0;32m    341\u001B[0m             \u001B[0mself\u001B[0m\u001B[1;33m.\u001B[0m\u001B[0m_warn_if_incompatible_openmp\u001B[0m\u001B[1;33m(\u001B[0m\u001B[1;33m)\u001B[0m\u001B[1;33m\u001B[0m\u001B[1;33m\u001B[0m\u001B[0m\n\u001B[0;32m    342\u001B[0m         \u001B[1;32melse\u001B[0m\u001B[1;33m:\u001B[0m\u001B[1;33m\u001B[0m\u001B[1;33m\u001B[0m\u001B[0m\n",
      "\u001B[1;32mD:\\Anaconda\\lib\\site-packages\\threadpoolctl.py\u001B[0m in \u001B[0;36m_load_modules\u001B[1;34m(self)\u001B[0m\n\u001B[0;32m    371\u001B[0m             \u001B[0mself\u001B[0m\u001B[1;33m.\u001B[0m\u001B[0m_find_modules_with_dyld\u001B[0m\u001B[1;33m(\u001B[0m\u001B[1;33m)\u001B[0m\u001B[1;33m\u001B[0m\u001B[1;33m\u001B[0m\u001B[0m\n\u001B[0;32m    372\u001B[0m         \u001B[1;32melif\u001B[0m \u001B[0msys\u001B[0m\u001B[1;33m.\u001B[0m\u001B[0mplatform\u001B[0m \u001B[1;33m==\u001B[0m \u001B[1;34m\"win32\"\u001B[0m\u001B[1;33m:\u001B[0m\u001B[1;33m\u001B[0m\u001B[1;33m\u001B[0m\u001B[0m\n\u001B[1;32m--> 373\u001B[1;33m             \u001B[0mself\u001B[0m\u001B[1;33m.\u001B[0m\u001B[0m_find_modules_with_enum_process_module_ex\u001B[0m\u001B[1;33m(\u001B[0m\u001B[1;33m)\u001B[0m\u001B[1;33m\u001B[0m\u001B[1;33m\u001B[0m\u001B[0m\n\u001B[0m\u001B[0;32m    374\u001B[0m         \u001B[1;32melse\u001B[0m\u001B[1;33m:\u001B[0m\u001B[1;33m\u001B[0m\u001B[1;33m\u001B[0m\u001B[0m\n\u001B[0;32m    375\u001B[0m             \u001B[0mself\u001B[0m\u001B[1;33m.\u001B[0m\u001B[0m_find_modules_with_dl_iterate_phdr\u001B[0m\u001B[1;33m(\u001B[0m\u001B[1;33m)\u001B[0m\u001B[1;33m\u001B[0m\u001B[1;33m\u001B[0m\u001B[0m\n",
      "\u001B[1;32mD:\\Anaconda\\lib\\site-packages\\threadpoolctl.py\u001B[0m in \u001B[0;36m_find_modules_with_enum_process_module_ex\u001B[1;34m(self)\u001B[0m\n\u001B[0;32m    483\u001B[0m \u001B[1;33m\u001B[0m\u001B[0m\n\u001B[0;32m    484\u001B[0m                 \u001B[1;31m# Store the module if it is supported and selected\u001B[0m\u001B[1;33m\u001B[0m\u001B[1;33m\u001B[0m\u001B[0m\n\u001B[1;32m--> 485\u001B[1;33m                 \u001B[0mself\u001B[0m\u001B[1;33m.\u001B[0m\u001B[0m_make_module_from_path\u001B[0m\u001B[1;33m(\u001B[0m\u001B[0mfilepath\u001B[0m\u001B[1;33m)\u001B[0m\u001B[1;33m\u001B[0m\u001B[1;33m\u001B[0m\u001B[0m\n\u001B[0m\u001B[0;32m    486\u001B[0m         \u001B[1;32mfinally\u001B[0m\u001B[1;33m:\u001B[0m\u001B[1;33m\u001B[0m\u001B[1;33m\u001B[0m\u001B[0m\n\u001B[0;32m    487\u001B[0m             \u001B[0mkernel_32\u001B[0m\u001B[1;33m.\u001B[0m\u001B[0mCloseHandle\u001B[0m\u001B[1;33m(\u001B[0m\u001B[0mh_process\u001B[0m\u001B[1;33m)\u001B[0m\u001B[1;33m\u001B[0m\u001B[1;33m\u001B[0m\u001B[0m\n",
      "\u001B[1;32mD:\\Anaconda\\lib\\site-packages\\threadpoolctl.py\u001B[0m in \u001B[0;36m_make_module_from_path\u001B[1;34m(self, filepath)\u001B[0m\n\u001B[0;32m    513\u001B[0m             \u001B[1;32mif\u001B[0m \u001B[0mprefix\u001B[0m \u001B[1;32min\u001B[0m \u001B[0mself\u001B[0m\u001B[1;33m.\u001B[0m\u001B[0mprefixes\u001B[0m \u001B[1;32mor\u001B[0m \u001B[0muser_api\u001B[0m \u001B[1;32min\u001B[0m \u001B[0mself\u001B[0m\u001B[1;33m.\u001B[0m\u001B[0muser_api\u001B[0m\u001B[1;33m:\u001B[0m\u001B[1;33m\u001B[0m\u001B[1;33m\u001B[0m\u001B[0m\n\u001B[0;32m    514\u001B[0m                 \u001B[0mmodule_class\u001B[0m \u001B[1;33m=\u001B[0m \u001B[0mglobals\u001B[0m\u001B[1;33m(\u001B[0m\u001B[1;33m)\u001B[0m\u001B[1;33m[\u001B[0m\u001B[0mmodule_class\u001B[0m\u001B[1;33m]\u001B[0m\u001B[1;33m\u001B[0m\u001B[1;33m\u001B[0m\u001B[0m\n\u001B[1;32m--> 515\u001B[1;33m                 \u001B[0mmodule\u001B[0m \u001B[1;33m=\u001B[0m \u001B[0mmodule_class\u001B[0m\u001B[1;33m(\u001B[0m\u001B[0mfilepath\u001B[0m\u001B[1;33m,\u001B[0m \u001B[0mprefix\u001B[0m\u001B[1;33m,\u001B[0m \u001B[0muser_api\u001B[0m\u001B[1;33m,\u001B[0m \u001B[0minternal_api\u001B[0m\u001B[1;33m)\u001B[0m\u001B[1;33m\u001B[0m\u001B[1;33m\u001B[0m\u001B[0m\n\u001B[0m\u001B[0;32m    516\u001B[0m                 \u001B[0mself\u001B[0m\u001B[1;33m.\u001B[0m\u001B[0mmodules\u001B[0m\u001B[1;33m.\u001B[0m\u001B[0mappend\u001B[0m\u001B[1;33m(\u001B[0m\u001B[0mmodule\u001B[0m\u001B[1;33m)\u001B[0m\u001B[1;33m\u001B[0m\u001B[1;33m\u001B[0m\u001B[0m\n\u001B[0;32m    517\u001B[0m \u001B[1;33m\u001B[0m\u001B[0m\n",
      "\u001B[1;32mD:\\Anaconda\\lib\\site-packages\\threadpoolctl.py\u001B[0m in \u001B[0;36m__init__\u001B[1;34m(self, filepath, prefix, user_api, internal_api)\u001B[0m\n\u001B[0;32m    604\u001B[0m         \u001B[0mself\u001B[0m\u001B[1;33m.\u001B[0m\u001B[0minternal_api\u001B[0m \u001B[1;33m=\u001B[0m \u001B[0minternal_api\u001B[0m\u001B[1;33m\u001B[0m\u001B[1;33m\u001B[0m\u001B[0m\n\u001B[0;32m    605\u001B[0m         \u001B[0mself\u001B[0m\u001B[1;33m.\u001B[0m\u001B[0m_dynlib\u001B[0m \u001B[1;33m=\u001B[0m \u001B[0mctypes\u001B[0m\u001B[1;33m.\u001B[0m\u001B[0mCDLL\u001B[0m\u001B[1;33m(\u001B[0m\u001B[0mfilepath\u001B[0m\u001B[1;33m,\u001B[0m \u001B[0mmode\u001B[0m\u001B[1;33m=\u001B[0m\u001B[0m_RTLD_NOLOAD\u001B[0m\u001B[1;33m)\u001B[0m\u001B[1;33m\u001B[0m\u001B[1;33m\u001B[0m\u001B[0m\n\u001B[1;32m--> 606\u001B[1;33m         \u001B[0mself\u001B[0m\u001B[1;33m.\u001B[0m\u001B[0mversion\u001B[0m \u001B[1;33m=\u001B[0m \u001B[0mself\u001B[0m\u001B[1;33m.\u001B[0m\u001B[0mget_version\u001B[0m\u001B[1;33m(\u001B[0m\u001B[1;33m)\u001B[0m\u001B[1;33m\u001B[0m\u001B[1;33m\u001B[0m\u001B[0m\n\u001B[0m\u001B[0;32m    607\u001B[0m         \u001B[0mself\u001B[0m\u001B[1;33m.\u001B[0m\u001B[0mnum_threads\u001B[0m \u001B[1;33m=\u001B[0m \u001B[0mself\u001B[0m\u001B[1;33m.\u001B[0m\u001B[0mget_num_threads\u001B[0m\u001B[1;33m(\u001B[0m\u001B[1;33m)\u001B[0m\u001B[1;33m\u001B[0m\u001B[1;33m\u001B[0m\u001B[0m\n\u001B[0;32m    608\u001B[0m         \u001B[0mself\u001B[0m\u001B[1;33m.\u001B[0m\u001B[0m_get_extra_info\u001B[0m\u001B[1;33m(\u001B[0m\u001B[1;33m)\u001B[0m\u001B[1;33m\u001B[0m\u001B[1;33m\u001B[0m\u001B[0m\n",
      "\u001B[1;32mD:\\Anaconda\\lib\\site-packages\\threadpoolctl.py\u001B[0m in \u001B[0;36mget_version\u001B[1;34m(self)\u001B[0m\n\u001B[0;32m    644\u001B[0m                              lambda: None)\n\u001B[0;32m    645\u001B[0m         \u001B[0mget_config\u001B[0m\u001B[1;33m.\u001B[0m\u001B[0mrestype\u001B[0m \u001B[1;33m=\u001B[0m \u001B[0mctypes\u001B[0m\u001B[1;33m.\u001B[0m\u001B[0mc_char_p\u001B[0m\u001B[1;33m\u001B[0m\u001B[1;33m\u001B[0m\u001B[0m\n\u001B[1;32m--> 646\u001B[1;33m         \u001B[0mconfig\u001B[0m \u001B[1;33m=\u001B[0m \u001B[0mget_config\u001B[0m\u001B[1;33m(\u001B[0m\u001B[1;33m)\u001B[0m\u001B[1;33m.\u001B[0m\u001B[0msplit\u001B[0m\u001B[1;33m(\u001B[0m\u001B[1;33m)\u001B[0m\u001B[1;33m\u001B[0m\u001B[1;33m\u001B[0m\u001B[0m\n\u001B[0m\u001B[0;32m    647\u001B[0m         \u001B[1;32mif\u001B[0m \u001B[0mconfig\u001B[0m\u001B[1;33m[\u001B[0m\u001B[1;36m0\u001B[0m\u001B[1;33m]\u001B[0m \u001B[1;33m==\u001B[0m \u001B[1;34mb\"OpenBLAS\"\u001B[0m\u001B[1;33m:\u001B[0m\u001B[1;33m\u001B[0m\u001B[1;33m\u001B[0m\u001B[0m\n\u001B[0;32m    648\u001B[0m             \u001B[1;32mreturn\u001B[0m \u001B[0mconfig\u001B[0m\u001B[1;33m[\u001B[0m\u001B[1;36m1\u001B[0m\u001B[1;33m]\u001B[0m\u001B[1;33m.\u001B[0m\u001B[0mdecode\u001B[0m\u001B[1;33m(\u001B[0m\u001B[1;34m\"utf-8\"\u001B[0m\u001B[1;33m)\u001B[0m\u001B[1;33m\u001B[0m\u001B[1;33m\u001B[0m\u001B[0m\n",
      "\u001B[1;31mAttributeError\u001B[0m: 'NoneType' object has no attribute 'split'"
     ]
    }
   ],
   "source": [
    "model = KMeans(n_clusters=5,init='k-means++',random_state=42)\n",
    "model.fit(df_tfv)\n",
    "labels = model.predict(df_tfv)\n",
    "print(labels)"
   ],
   "metadata": {
    "collapsed": false
   }
  },
  {
   "cell_type": "code",
   "execution_count": null,
   "outputs": [],
   "source": [
    "df['labels'] = labels\n",
    "df.head()"
   ],
   "metadata": {
    "collapsed": false
   }
  },
  {
   "cell_type": "markdown",
   "source": [
    "### 3) Find out cluster domains\n",
    "\n",
    "   - cluster 2 = chatgpt will take future jobs\n",
    "- cluster 3 = some companies are in lose due to chatgpt etc."
   ],
   "metadata": {
    "collapsed": false
   }
  },
  {
   "cell_type": "code",
   "execution_count": null,
   "outputs": [],
   "source": [
    "label_0 = df[df['labels']==0]\n",
    "label_1 = df[df['labels']==1]\n",
    "label_2 = df[df['labels']==2]\n",
    "label_3 = df[df['labels']==3]\n",
    "label_4 = df[df['labels']==4]\n",
    "\n",
    "labels = [label_0,label_1,label_2,label_3,label_4]\n",
    "for i,label in enumerate(labels):\n",
    "    print(\"label\",i,len(label))"
   ],
   "metadata": {
    "collapsed": false
   }
  },
  {
   "cell_type": "code",
   "execution_count": null,
   "outputs": [],
   "source": [
    "def count_producer(df):\n",
    "    word_count = {}\n",
    "    for col in df.columns:\n",
    "        word_count[col] = sum(df[col])\n",
    "    return word_count\n",
    "\n",
    "def word_occurance(df,col):\n",
    "    vectored = cv.transform(df[col])\n",
    "    word_occurance = pd.DataFrame(vectored.toarray(),columns=cv.get_feature_names_out())\n",
    "    return count_producer(word_occurance)"
   ],
   "metadata": {
    "collapsed": false
   }
  },
  {
   "cell_type": "code",
   "execution_count": null,
   "outputs": [],
   "source": [
    "word_counts = []\n",
    "for label in labels:\n",
    "    word_count = word_occurance(label,'cleaned')\n",
    "    word_count = sorted(word_count.items(),key=lambda x:x[1],reverse=True)\n",
    "    word_counts.append(word_count)\n",
    "len(word_counts)"
   ],
   "metadata": {
    "collapsed": false
   }
  },
  {
   "cell_type": "code",
   "execution_count": null,
   "outputs": [],
   "source": [
    "import matplotlib.pyplot as plt\n",
    "import seaborn as sns\n",
    "\n",
    "WORD_COUNT_TO_CONSIDER = 50"
   ],
   "metadata": {
    "collapsed": false
   }
  },
  {
   "cell_type": "code",
   "execution_count": null,
   "outputs": [],
   "source": [
    "words = []\n",
    "counts = []\n",
    "\n",
    "for word_count in word_counts:\n",
    "    lis1 = []\n",
    "    lis2 = []\n",
    "    for word in word_count:\n",
    "        lis1.append(word[0])\n",
    "        lis2.append(word[1])\n",
    "    words.append(lis1)\n",
    "    counts.append(lis2)\n",
    "len(words),len(counts)"
   ],
   "metadata": {
    "collapsed": false
   }
  },
  {
   "cell_type": "code",
   "execution_count": null,
   "outputs": [],
   "source": [
    "sns.barplot(x=words[0][:WORD_COUNT_TO_CONSIDER],y=counts[0][:WORD_COUNT_TO_CONSIDER])\n",
    "plt.title(f\"Most frequent {WORD_COUNT_TO_CONSIDER} words at label 0 \")\n",
    "plt.xticks(rotation=90)\n",
    "plt.xlabel(\"Words occured\")\n",
    "plt.ylabel(\"frequency of words\")\n",
    "plt.show()"
   ],
   "metadata": {
    "collapsed": false
   }
  },
  {
   "cell_type": "code",
   "execution_count": null,
   "outputs": [],
   "source": [
    "sns.barplot(x=words[1][:WORD_COUNT_TO_CONSIDER],y=counts[1][:WORD_COUNT_TO_CONSIDER])\n",
    "plt.title(f\"Most frequent {WORD_COUNT_TO_CONSIDER} words at label 1 \")\n",
    "plt.xticks(rotation=90)\n",
    "plt.xlabel(\"Words occured\")\n",
    "plt.ylabel(\"frequency of words\")\n",
    "plt.show()"
   ],
   "metadata": {
    "collapsed": false
   }
  },
  {
   "cell_type": "code",
   "execution_count": null,
   "outputs": [],
   "source": [
    "sns.barplot(x=words[2][:WORD_COUNT_TO_CONSIDER],y=counts[2][:WORD_COUNT_TO_CONSIDER])\n",
    "plt.title(f\"Most frequent {WORD_COUNT_TO_CONSIDER} words at label 2 \")\n",
    "plt.xticks(rotation=90)\n",
    "plt.xlabel(\"Words occured\")\n",
    "plt.ylabel(\"frequency of words\")\n",
    "plt.show()"
   ],
   "metadata": {
    "collapsed": false
   }
  },
  {
   "cell_type": "code",
   "execution_count": null,
   "outputs": [],
   "source": [
    "sns.barplot(x=words[3][:WORD_COUNT_TO_CONSIDER],y=counts[3][:WORD_COUNT_TO_CONSIDER])\n",
    "plt.title(f\"Most frequent {WORD_COUNT_TO_CONSIDER} words at label 3\")\n",
    "plt.xticks(rotation=90)\n",
    "plt.xlabel(\"Words occured\")\n",
    "plt.ylabel(\"frequency of words\")\n",
    "plt.show()"
   ],
   "metadata": {
    "collapsed": false
   }
  },
  {
   "cell_type": "code",
   "execution_count": null,
   "outputs": [],
   "source": [
    "sns.barplot(x=words[4][:WORD_COUNT_TO_CONSIDER],y=counts[4][:WORD_COUNT_TO_CONSIDER])\n",
    "plt.title(f\"Most frequent {WORD_COUNT_TO_CONSIDER} words at label 4\")\n",
    "plt.xticks(rotation=90)\n",
    "plt.xlabel(\"Words occured\")\n",
    "plt.ylabel(\"frequency of words\")\n",
    "plt.show()"
   ],
   "metadata": {
    "collapsed": false
   }
  },
  {
   "cell_type": "code",
   "execution_count": null,
   "outputs": [],
   "source": [],
   "metadata": {
    "collapsed": false
   }
  }
 ],
 "metadata": {
  "kernelspec": {
   "display_name": "Python 3",
   "language": "python",
   "name": "python3"
  },
  "language_info": {
   "codemirror_mode": {
    "name": "ipython",
    "version": 2
   },
   "file_extension": ".py",
   "mimetype": "text/x-python",
   "name": "python",
   "nbconvert_exporter": "python",
   "pygments_lexer": "ipython2",
   "version": "2.7.6"
  }
 },
 "nbformat": 4,
 "nbformat_minor": 0
}
